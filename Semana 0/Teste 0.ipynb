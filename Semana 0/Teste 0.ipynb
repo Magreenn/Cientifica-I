{
 "cells": [
  {
   "cell_type": "markdown",
   "metadata": {
    "deletable": false,
    "editable": false,
    "nbgrader": {
     "cell_type": "markdown",
     "checksum": "b4f7750809392f73bfc4ec79fa333a18",
     "grade": false,
     "grade_id": "cell-bb6dcf392808a471",
     "locked": true,
     "schema_version": 3,
     "solution": false
    }
   },
   "source": [
    "# Teste 0\n",
    "\n",
    "Este teste servirá como \"teste\" da plataforma de testes e provas para o curso de Computação Científica I.\n",
    "Assim, você poderá ter uma ideia de como serão corrigidas\n",
    "- as listas de exercícios\n",
    "- as provas"
   ]
  },
  {
   "cell_type": "markdown",
   "metadata": {
    "deletable": false,
    "editable": false,
    "nbgrader": {
     "cell_type": "markdown",
     "checksum": "dfe2f76c4c261ade26ba6462207f6edd",
     "grade": false,
     "grade_id": "cell-174c760a712d7675",
     "locked": true,
     "schema_version": 3,
     "solution": false
    }
   },
   "source": [
    "## Questão 1\n",
    "\n",
    "Escreva uma função `cubes` que retorna a lista de todos os cubos da lista passada em argumento."
   ]
  },
  {
   "cell_type": "code",
   "execution_count": 1,
   "metadata": {
    "deletable": false,
    "nbgrader": {
     "cell_type": "code",
     "checksum": "23eb01c6785b82df8a4550b54cb61913",
     "grade": false,
     "grade_id": "cell-f0b9d04bcf0176e9",
     "locked": false,
     "schema_version": 3,
     "solution": true
    }
   },
   "outputs": [],
   "source": [
    "def cubes(l):\n",
    "    \"\"\" Essa função retorna uma lista dos cubos dos elementos da lista. \"\"\"\n",
    "    k = []\n",
    "    for i in l:\n",
    "        k.append(i**3)\n",
    "    return k\n",
    "    raise NotImplementedError()"
   ]
  },
  {
   "cell_type": "code",
   "execution_count": 2,
   "metadata": {},
   "outputs": [
    {
     "data": {
      "text/plain": [
       "[1, 8, 125]"
      ]
     },
     "execution_count": 2,
     "metadata": {},
     "output_type": "execute_result"
    }
   ],
   "source": [
    "# Teste aqui a sua função antes de passar para a parte dos \"asserts\" abaixo.\n",
    "cubes([1,2,5]) # Deveria produzir a lista [1, 8, 125]"
   ]
  },
  {
   "cell_type": "markdown",
   "metadata": {
    "deletable": false,
    "editable": false,
    "nbgrader": {
     "cell_type": "markdown",
     "checksum": "9fe904e10d8e9bee49892c8bf3b00265",
     "grade": false,
     "grade_id": "cell-a37f25224785dddf",
     "locked": true,
     "schema_version": 3,
     "solution": false
    }
   },
   "source": [
    "A caixa a seguir contém testes que serão efetuados sobre a sua função.\n",
    "- Se algum teste falhar, você verá uma mensagem com `Assertion Error`.\n",
    "- Senão, você verá a mensagem \"Tudo ok\". (por causa do \"print\"; em geral, será apenas vazio como nas seguintes)\n",
    "\n",
    "Não apague: é ela que conta os pontos da questão!"
   ]
  },
  {
   "cell_type": "code",
   "execution_count": 3,
   "metadata": {
    "deletable": false,
    "editable": false,
    "nbgrader": {
     "cell_type": "code",
     "checksum": "717ce8eca56eece9ae3b36b6f9cc4f9e",
     "grade": true,
     "grade_id": "squares_test",
     "locked": true,
     "points": 3,
     "schema_version": 3,
     "solution": false
    }
   },
   "outputs": [
    {
     "name": "stdout",
     "output_type": "stream",
     "text": [
      "Tudo ok\n"
     ]
    }
   ],
   "source": [
    "assert(cubes([0]) == [0])\n",
    "assert(cubes([1,2,5]) == [1, 8, 125])\n",
    "assert(cubes([3, -10, 11]) == [27, -1000, 1331])\n",
    "\n",
    "print(\"Tudo ok\")"
   ]
  },
  {
   "cell_type": "markdown",
   "metadata": {
    "deletable": false,
    "editable": false,
    "nbgrader": {
     "cell_type": "markdown",
     "checksum": "0d23501eaa661621cf668a16678ef78b",
     "grade": false,
     "grade_id": "cell-eb071293961f4e15",
     "locked": true,
     "schema_version": 3,
     "solution": false
    }
   },
   "source": [
    "**Observação**:\n",
    "Você pode criar novas caixas no notebook, em especial para testar suas funções.\n",
    "Isso é útil, em particular, porque as caixas de `assert` não devem ser alteradas\n",
    "(e o notebook protege para não alterar)."
   ]
  },
  {
   "cell_type": "markdown",
   "metadata": {
    "deletable": false,
    "editable": false,
    "nbgrader": {
     "cell_type": "markdown",
     "checksum": "d41deb2e9ccabf5abe45fbe2d7641c38",
     "grade": false,
     "grade_id": "cell-a54a87b529897009",
     "locked": true,
     "schema_version": 3,
     "solution": false
    }
   },
   "source": [
    "## Questão 2\n",
    "\n",
    "Escreva uma função que calcula o máximo das diferenças consecutivas entre os elementos de uma lista.\n",
    "Em \"fórmulas\":\n",
    "\n",
    "$$ g(l) = \\max_{i} (l_i - l_{i-1}). $$"
   ]
  },
  {
   "cell_type": "code",
   "execution_count": 4,
   "metadata": {
    "deletable": false,
    "nbgrader": {
     "cell_type": "code",
     "checksum": "d1c7614bcb4e2dc8279db477edcdf190",
     "grade": false,
     "grade_id": "cell-ffb7646c93c15d6d",
     "locked": false,
     "schema_version": 3,
     "solution": true
    }
   },
   "outputs": [],
   "source": [
    "def g(l):\n",
    "    \"\"\" Calcula a maior diferença entre elementos consecutivos da lista  l. \"\"\"\n",
    "    k=l[1]-l[0]\n",
    "    for i in range(1,len(l)):\n",
    "        if l[i]-l[i-1]>k:\n",
    "            k=l[i]-l[i-1]\n",
    "    return k\n",
    "    raise NotImplementedError()"
   ]
  },
  {
   "cell_type": "code",
   "execution_count": 5,
   "metadata": {
    "deletable": false,
    "editable": false,
    "nbgrader": {
     "cell_type": "code",
     "checksum": "0918af72c8fea58352d2c7ae61c94487",
     "grade": true,
     "grade_id": "cell-a459c206ee62e94b",
     "locked": true,
     "points": 3,
     "schema_version": 3,
     "solution": false
    }
   },
   "outputs": [],
   "source": [
    "assert g([0,1,2,3,4,5,6]) == 1\n",
    "assert g([0,2,3,-1,0]) == 2\n",
    "assert g([6,5,4,3,2,1,0]) == -1"
   ]
  },
  {
   "cell_type": "markdown",
   "metadata": {
    "deletable": false,
    "editable": false,
    "nbgrader": {
     "cell_type": "markdown",
     "checksum": "69cbdd96d9ab6243c04b1f2654f11380",
     "grade": false,
     "grade_id": "cell-74a334af8b1896d8",
     "locked": true,
     "schema_version": 3,
     "solution": false
    }
   },
   "source": [
    "A caixa a seguir também contém testes, mas agora eu não digo quais serão.\n",
    "\n",
    "Vale lembrar, mais uma vez, a mesma observação de antes: mantenha esta caixa: ela contém os pontos referentes aos testes, mesmo que você não os possa ver."
   ]
  },
  {
   "cell_type": "code",
   "execution_count": null,
   "metadata": {
    "deletable": false,
    "editable": false,
    "nbgrader": {
     "cell_type": "code",
     "checksum": "1c8a04f1e3d12a6632bc06af0de70e61",
     "grade": true,
     "grade_id": "cell-558c38603d84d3ca",
     "locked": true,
     "points": 2,
     "schema_version": 3,
     "solution": false
    }
   },
   "outputs": [],
   "source": []
  },
  {
   "cell_type": "markdown",
   "metadata": {
    "deletable": false,
    "editable": false,
    "nbgrader": {
     "cell_type": "markdown",
     "checksum": "19aee9a8bafe2b7d730c9d033ae5b003",
     "grade": false,
     "grade_id": "cell-bfd90c3889f3817e",
     "locked": true,
     "schema_version": 3,
     "solution": false
    }
   },
   "source": [
    "### Observação\n",
    "\n",
    "Para ter certeza que este notebook será corrigido corretamente, o melhor é rodar tudo \"de uma vez só, do zero\".\n",
    "Para simular isto, use o menu: `Kernel -> Restart & Run All`."
   ]
  }
 ],
 "metadata": {
  "kernelspec": {
   "display_name": "Python 3",
   "language": "python",
   "name": "python3"
  },
  "language_info": {
   "codemirror_mode": {
    "name": "ipython",
    "version": 3
   },
   "file_extension": ".py",
   "mimetype": "text/x-python",
   "name": "python",
   "nbconvert_exporter": "python",
   "pygments_lexer": "ipython3",
   "version": "3.8.3"
  }
 },
 "nbformat": 4,
 "nbformat_minor": 1
}
