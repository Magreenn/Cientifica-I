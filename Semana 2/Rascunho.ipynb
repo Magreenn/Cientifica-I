{
 "cells": [
  {
   "cell_type": "markdown",
   "metadata": {},
   "source": [
    "&nbsp;\n",
    "\n",
    "&nbsp;\n",
    "\n",
    "# Exemplos de erros numéricos\n",
    "\n",
    "&nbsp;\n",
    "\n",
    "&nbsp;"
   ]
  },
  {
   "cell_type": "code",
   "execution_count": 1,
   "metadata": {},
   "outputs": [],
   "source": [
    "import numpy as np\n",
    "from funcionario import bissecao"
   ]
  },
  {
   "cell_type": "markdown",
   "metadata": {},
   "source": [
    "&nbsp;\n",
    "### Raíz quadrada de 5\n",
    "$$f\\left(x\\right) = x^2 - 5$$"
   ]
  },
  {
   "cell_type": "code",
   "execution_count": 2,
   "metadata": {},
   "outputs": [],
   "source": [
    "def r5(x):\n",
    "    return x**2 - 5"
   ]
  },
  {
   "cell_type": "code",
   "execution_count": 3,
   "metadata": {},
   "outputs": [
    {
     "name": "stdout",
     "output_type": "stream",
     "text": [
      "bisseção (10x):      2.2353515625\n",
      "numpy sqrt:          2.23606797749979\n",
      "erro:               -0.000716414999789805\n"
     ]
    }
   ],
   "source": [
    "N_biss = 10\n",
    "x_chapeu = bissecao(r5, 2, 3, N_biss)\n",
    "x = np.sqrt(5)\n",
    "\n",
    "print(f\"bisseção ({N_biss}x):     {x_chapeu: }\")\n",
    "print(f\"numpy sqrt:         {x: }\")\n",
    "print(f\"erro:               {x_chapeu - x: }\")"
   ]
  },
  {
   "cell_type": "markdown",
   "metadata": {},
   "source": [
    "&nbsp;\n",
    "### Erro relativo\n",
    "$$\\mbox{erro absoluto} = {\\widehat x}^* - x^*;\\qquad\\qquad\n",
    "\\mbox{erro relativo} = \\frac{{\\widehat x}^* - x^*}{x^*}$$\n",
    "&nbsp;\n",
    "$${\\hat x}^* = x^* + \\underbrace{\\left[{\\widehat x}^* - x^*\\right]}_{\\mbox{erro absoluto}};\\qquad\\qquad\n",
    "{\\widehat x}^* = x^* \\cdot\n",
    "\\left[1 + \\underbrace{\\frac{{\\widehat x}^* - x^*}{x^*}}_{\\mbox{erro relativo}}\\right]$$"
   ]
  },
  {
   "cell_type": "code",
   "execution_count": 4,
   "metadata": {},
   "outputs": [
    {
     "name": "stdout",
     "output_type": "stream",
     "text": [
      "erro relativo:      -0.00032039052792610034\n",
      "erro relativo (%):  -0.032039%\n"
     ]
    }
   ],
   "source": [
    "err_relativo = (x_chapeu - x)/x\n",
    "print(f\"erro relativo:      {err_relativo: }\")\n",
    "print(f\"erro relativo (%):  {err_relativo: %}\")"
   ]
  },
  {
   "cell_type": "markdown",
   "metadata": {},
   "source": [
    "&nbsp;\n",
    "### Tentando aproximar $\\pi$\n",
    "$$\\frac{\\pi}{4} = 1 - \\frac{1}{3} + \\frac{1}{5} - \\frac{1}{7} + \\cdots$$"
   ]
  },
  {
   "cell_type": "code",
   "execution_count": 5,
   "metadata": {},
   "outputs": [
    {
     "name": "stdout",
     "output_type": "stream",
     "text": [
      "madhava-leibniz:     3.0418396189294032\n",
      "numpy pi:            3.141592653589793\n",
      "erro absoluto:      -0.09975303466038987\n",
      "erro relativo:      -0.03175237710923643\n",
      "erro relativo (%):  -3.175238%\n"
     ]
    }
   ],
   "source": [
    "N_pi = 10\n",
    "\n",
    "soma = 0\n",
    "for n in range(N_pi):\n",
    "    n_esimo_termo = 1/(2*n + 1)\n",
    "    if n % 2 == 0:  # se `n' for *par*\n",
    "        soma += n_esimo_termo\n",
    "    else:  # se `n' for *ímpar*\n",
    "        soma -= n_esimo_termo\n",
    "pi = 4 * soma\n",
    "\n",
    "print(f\"madhava-leibniz:    {pi: }\")\n",
    "print(f\"numpy pi:           {np.pi: }\")\n",
    "print(f\"erro absoluto:      {pi - np.pi: }\")\n",
    "err_relativo = (pi - np.pi)/np.pi\n",
    "print(f\"erro relativo:      {err_relativo: }\")\n",
    "print(f\"erro relativo (%):  {err_relativo: %}\")"
   ]
  }
 ],
 "metadata": {
  "kernelspec": {
   "display_name": "Python 3",
   "language": "python",
   "name": "python3"
  },
  "language_info": {
   "codemirror_mode": {
    "name": "ipython",
    "version": 3
   },
   "file_extension": ".py",
   "mimetype": "text/x-python",
   "name": "python",
   "nbconvert_exporter": "python",
   "pygments_lexer": "ipython3",
   "version": "3.8.3"
  }
 },
 "nbformat": 4,
 "nbformat_minor": 4
}
