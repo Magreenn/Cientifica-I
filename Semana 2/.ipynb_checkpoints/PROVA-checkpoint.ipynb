{
 "cells": [
  {
   "cell_type": "code",
   "execution_count": null,
   "metadata": {
    "deletable": false,
    "editable": false,
    "nbgrader": {
     "cell_type": "code",
     "checksum": "c417c37d4968a6ae42f638c446bff357",
     "grade": false,
     "grade_id": "cell-e27497b3e66fd068",
     "locked": true,
     "schema_version": 3,
     "solution": false
    }
   },
   "outputs": [],
   "source": [
    "import numpy as np\n",
    "import matplotlib.pyplot as plt"
   ]
  },
  {
   "cell_type": "markdown",
   "metadata": {
    "deletable": false,
    "editable": false,
    "nbgrader": {
     "cell_type": "markdown",
     "checksum": "7866e85797a36516290b0020225cb0e7",
     "grade": false,
     "grade_id": "cell-8b6cd8ba15535c82",
     "locked": true,
     "schema_version": 3,
     "solution": false
    }
   },
   "source": [
    "# Teste 2\n",
    "\n",
    "Neste teste, iremos fazer alguns gráficos do erro ao chamar a função arcoseno,\n",
    "implementanda no teste anterior.\n",
    "\n",
    "$$ $$\n",
    "\n",
    "Este teste será muito mais \"discursivo\":\n",
    "- ele contém diversas caixas para você comentar seus gráficos;\n",
    "- os próprios gráficos permitem muito mais variações do que `assert`s.\n",
    "\n",
    "Este momento de \"análise\" é muito importante nesta disciplina.\n",
    "Mais do que fazer (o seu computador fazer) muitas contas,\n",
    "queremos **entender o que estas contas nos dizem**."
   ]
  },
  {
   "cell_type": "code",
   "execution_count": null,
   "metadata": {
    "deletable": false,
    "nbgrader": {
     "cell_type": "code",
     "checksum": "c34abc209dd10daea3be2e0ab682216e",
     "grade": false,
     "grade_id": "cell-19d15434eaa23416",
     "locked": false,
     "schema_version": 3,
     "solution": true
    }
   },
   "outputs": [],
   "source": [
    "def arcoseno(y, xtol=1e-8, ytol=1e-8):\n",
    "    \"\"\"Arco seno, via bisseção, dadas as tolerâncias (absolutas) em x e em y.\n",
    "    Retorna um par  (x,n)  tal que  sin(x) ~ y, e onde  n  é o número de bisseções realizadas.\"\"\"\n",
    "    # YOUR CODE HERE\n",
    "    raise NotImplementedError()"
   ]
  },
  {
   "cell_type": "markdown",
   "metadata": {
    "deletable": false,
    "editable": false,
    "nbgrader": {
     "cell_type": "markdown",
     "checksum": "b9ed748f56874473f08b7c11efe53888",
     "grade": false,
     "grade_id": "cell-1306f1b54687fa1e",
     "locked": true,
     "schema_version": 3,
     "solution": false
    }
   },
   "source": [
    "## Questão 1: Erros com relação à raiz correta\n",
    "\n",
    "Faça um gráfico do erro absoluto do arcoseno de 0.5,\n",
    "ao variar a tolerância em $x$, em escala \"natural\".\n",
    "\n",
    "Obs: Você pode usar `np.arcsin()` para saber o valor \"exato\" (para seu computador) do arco seno."
   ]
  },
  {
   "cell_type": "code",
   "execution_count": null,
   "metadata": {
    "deletable": false,
    "nbgrader": {
     "cell_type": "code",
     "checksum": "6ffe5ee1c0739c02324266505f634c55",
     "grade": true,
     "grade_id": "cell-a946f40aea05081a",
     "locked": false,
     "points": 2,
     "schema_version": 3,
     "solution": true
    }
   },
   "outputs": [],
   "source": [
    "tols = np.linspace(0.0001, 0.1, num=250)\n",
    "# YOUR CODE HERE\n",
    "raise NotImplementedError()"
   ]
  },
  {
   "cell_type": "markdown",
   "metadata": {
    "deletable": false,
    "editable": false,
    "nbgrader": {
     "cell_type": "markdown",
     "checksum": "410470538260b626b1835c8906e94c7c",
     "grade": false,
     "grade_id": "cell-21d1056c06be6009",
     "locked": true,
     "schema_version": 3,
     "solution": false
    }
   },
   "source": [
    "Porque este comportamento é esperado?"
   ]
  },
  {
   "cell_type": "markdown",
   "metadata": {
    "deletable": false,
    "nbgrader": {
     "cell_type": "markdown",
     "checksum": "be2a186e82917c283adb7255a9c0ad6e",
     "grade": true,
     "grade_id": "cell-e742aa7b073ce309",
     "locked": false,
     "points": 2,
     "schema_version": 3,
     "solution": true
    }
   },
   "source": [
    "YOUR ANSWER HERE"
   ]
  },
  {
   "cell_type": "markdown",
   "metadata": {
    "deletable": false,
    "editable": false,
    "nbgrader": {
     "cell_type": "markdown",
     "checksum": "7e8ddbc619b915e77b8c8daa26bcd1ef",
     "grade": false,
     "grade_id": "cell-06d8ad8dbd231a96",
     "locked": true,
     "schema_version": 3,
     "solution": false
    }
   },
   "source": [
    "Refaça este gráfico, em outra escala."
   ]
  },
  {
   "cell_type": "code",
   "execution_count": null,
   "metadata": {
    "deletable": false,
    "nbgrader": {
     "cell_type": "code",
     "checksum": "fe79ca418a795dcd36b21a71513b5172",
     "grade": true,
     "grade_id": "cell-580e65ac3361c01c",
     "locked": false,
     "points": 1,
     "schema_version": 3,
     "solution": true
    }
   },
   "outputs": [],
   "source": [
    "# YOUR CODE HERE\n",
    "raise NotImplementedError()"
   ]
  },
  {
   "cell_type": "markdown",
   "metadata": {
    "deletable": false,
    "editable": false,
    "nbgrader": {
     "cell_type": "markdown",
     "checksum": "b73c88bff1bc23265c5962c8826fce56",
     "grade": false,
     "grade_id": "cell-7c60cb0a2ff1618f",
     "locked": true,
     "schema_version": 3,
     "solution": false
    }
   },
   "source": [
    "Explique porque você escolheu esta combinação de escalas para $x$ e $y$."
   ]
  },
  {
   "cell_type": "markdown",
   "metadata": {
    "deletable": false,
    "nbgrader": {
     "cell_type": "markdown",
     "checksum": "8d1eebf9ac781ae2b9be92bc0899bb30",
     "grade": true,
     "grade_id": "cell-4ab18ca83811b76d",
     "locked": false,
     "points": 2,
     "schema_version": 3,
     "solution": true
    }
   },
   "source": [
    "YOUR ANSWER HERE"
   ]
  },
  {
   "cell_type": "markdown",
   "metadata": {
    "deletable": false,
    "editable": false,
    "nbgrader": {
     "cell_type": "markdown",
     "checksum": "900d6ea6d8f8023c9d93d75d907d27c8",
     "grade": false,
     "grade_id": "cell-56465efc5c9d99a5",
     "locked": true,
     "schema_version": 3,
     "solution": false
    }
   },
   "source": [
    "## Questão 2: Erros em função da tolerância em $y$\n",
    "\n",
    "Refaça um dos gráficos de erro, agora variando a tolerância em $y$."
   ]
  },
  {
   "cell_type": "code",
   "execution_count": null,
   "metadata": {
    "deletable": false,
    "nbgrader": {
     "cell_type": "code",
     "checksum": "9141d4f58d266bbd0538807a23ebac67",
     "grade": true,
     "grade_id": "cell-f6417b8cb49d372f",
     "locked": false,
     "points": 1,
     "schema_version": 3,
     "solution": true
    }
   },
   "outputs": [],
   "source": [
    "tols = np.linspace(0.0001, 0.1, num=250)\n",
    "# YOUR CODE HERE\n",
    "raise NotImplementedError()"
   ]
  },
  {
   "cell_type": "markdown",
   "metadata": {
    "deletable": false,
    "editable": false,
    "nbgrader": {
     "cell_type": "markdown",
     "checksum": "a94285b2d3eee294719e48ad45fbca16",
     "grade": false,
     "grade_id": "cell-31f0205cf9086e9d",
     "locked": true,
     "schema_version": 3,
     "solution": false
    }
   },
   "source": [
    "Faça agora um gráfico mudando para o arco seno de 0.9."
   ]
  },
  {
   "cell_type": "code",
   "execution_count": null,
   "metadata": {
    "deletable": false,
    "nbgrader": {
     "cell_type": "code",
     "checksum": "98d5cb36a259cff43949ec39a9e48dc0",
     "grade": true,
     "grade_id": "cell-2c1e71b0db230812",
     "locked": false,
     "points": 1,
     "schema_version": 3,
     "solution": true
    }
   },
   "outputs": [],
   "source": [
    "tols = np.linspace(0.0001, 0.1, num=250)\n",
    "# YOUR CODE HERE\n",
    "raise NotImplementedError()"
   ]
  },
  {
   "cell_type": "markdown",
   "metadata": {
    "deletable": false,
    "editable": false,
    "nbgrader": {
     "cell_type": "markdown",
     "checksum": "2e28807990eea6e115e240977d8579ed",
     "grade": false,
     "grade_id": "cell-95160aad692f8eaa",
     "locked": true,
     "schema_version": 3,
     "solution": false
    }
   },
   "source": [
    "O que aconteceu?\n",
    "Comente."
   ]
  },
  {
   "cell_type": "markdown",
   "metadata": {
    "deletable": false,
    "nbgrader": {
     "cell_type": "markdown",
     "checksum": "048fa51b2d7b9552329677ce461c8bc5",
     "grade": true,
     "grade_id": "cell-9a9a3c8c32c0c3f0",
     "locked": false,
     "points": 2,
     "schema_version": 3,
     "solution": true
    }
   },
   "source": [
    "YOUR ANSWER HERE"
   ]
  },
  {
   "cell_type": "markdown",
   "metadata": {
    "deletable": false,
    "editable": false,
    "nbgrader": {
     "cell_type": "markdown",
     "checksum": "7ad99f2604e9b361dd9baeaf2c077561",
     "grade": false,
     "grade_id": "cell-e3960ee5abab7543",
     "locked": true,
     "schema_version": 3,
     "solution": false
    }
   },
   "source": [
    "### Bônus\n",
    "\n",
    "Nos gráficos e nos testes, começamos com tolerância `1e-4`, e não de zero.\n",
    "Explique o que aconteceria se começássemos em zero."
   ]
  },
  {
   "cell_type": "markdown",
   "metadata": {
    "deletable": false,
    "nbgrader": {
     "cell_type": "markdown",
     "checksum": "a1d70fb1afac226cea94316f407cf7a4",
     "grade": true,
     "grade_id": "cell-67516b08ba6eb3d6",
     "locked": false,
     "points": 2,
     "schema_version": 3,
     "solution": true
    }
   },
   "source": [
    "YOUR ANSWER HERE"
   ]
  },
  {
   "cell_type": "markdown",
   "metadata": {
    "deletable": false,
    "editable": false,
    "nbgrader": {
     "cell_type": "markdown",
     "checksum": "846396a37bae8ad1ec9770aa93a578b3",
     "grade": false,
     "grade_id": "cell-fe8ec9d28035b2d4",
     "locked": true,
     "schema_version": 3,
     "solution": false
    }
   },
   "source": [
    "## Questão 3: Erros em função do valor de $y$\n",
    "\n",
    "Faça o gráfico do erro da resposta,\n",
    "ao variar $y$ no intervalo $[0.1, 0.9]$, com as tolerâncias fixas."
   ]
  },
  {
   "cell_type": "code",
   "execution_count": null,
   "metadata": {
    "deletable": false,
    "nbgrader": {
     "cell_type": "code",
     "checksum": "f2b412a2d9d38bb77a762171714704e7",
     "grade": true,
     "grade_id": "cell-c78580abf2ed31a2",
     "locked": false,
     "points": 2,
     "schema_version": 3,
     "solution": true
    }
   },
   "outputs": [],
   "source": [
    "ys = np.linspace(0.1, 0.9, num=150)\n",
    "# YOUR CODE HERE\n",
    "raise NotImplementedError()"
   ]
  },
  {
   "cell_type": "markdown",
   "metadata": {
    "deletable": false,
    "editable": false,
    "nbgrader": {
     "cell_type": "markdown",
     "checksum": "7a13cd31321202701160712cefb5ebca",
     "grade": false,
     "grade_id": "cell-60811640f6d21a5f",
     "locked": true,
     "schema_version": 3,
     "solution": false
    }
   },
   "source": [
    "Há valores cujo erro é maior do que `1e-8`.\n",
    "Porquê?"
   ]
  },
  {
   "cell_type": "markdown",
   "metadata": {
    "deletable": false,
    "nbgrader": {
     "cell_type": "markdown",
     "checksum": "1f11a5adf22cd2ba0f9526affad34ad8",
     "grade": true,
     "grade_id": "cell-7c0325a609b27db2",
     "locked": false,
     "points": 2,
     "schema_version": 3,
     "solution": true
    }
   },
   "source": [
    "YOUR ANSWER HERE"
   ]
  },
  {
   "cell_type": "markdown",
   "metadata": {
    "deletable": false,
    "editable": false,
    "nbgrader": {
     "cell_type": "markdown",
     "checksum": "ab6da5b47a6ae08d40c37d2006bf6448",
     "grade": false,
     "grade_id": "cell-62dfbcbfc15b76ac",
     "locked": true,
     "schema_version": 3,
     "solution": false
    }
   },
   "source": [
    "Repita para o intervalo $[0.9, 0.999]$"
   ]
  },
  {
   "cell_type": "code",
   "execution_count": null,
   "metadata": {
    "deletable": false,
    "nbgrader": {
     "cell_type": "code",
     "checksum": "7e0609ceb4f038786f7a3bd53a54134f",
     "grade": true,
     "grade_id": "cell-9c56cb1e5a527083",
     "locked": false,
     "points": 1,
     "schema_version": 3,
     "solution": true
    }
   },
   "outputs": [],
   "source": [
    "# YOUR CODE HERE\n",
    "raise NotImplementedError()"
   ]
  },
  {
   "cell_type": "markdown",
   "metadata": {
    "deletable": false,
    "editable": false,
    "nbgrader": {
     "cell_type": "markdown",
     "checksum": "6b2b8995f64cc18bd438704a57348499",
     "grade": false,
     "grade_id": "cell-2af60da215ab8374",
     "locked": true,
     "schema_version": 3,
     "solution": false
    }
   },
   "source": [
    "## Questão 4: Número de iterações\n",
    "\n",
    "Faça o gráfico com o número de iterações da bisseção no intervalo $[0.9, 0.999]$."
   ]
  },
  {
   "cell_type": "code",
   "execution_count": null,
   "metadata": {
    "deletable": false,
    "nbgrader": {
     "cell_type": "code",
     "checksum": "53d825820d35cc831ae293d7c1e2dce8",
     "grade": true,
     "grade_id": "cell-735842c00fd7951d",
     "locked": false,
     "points": 2,
     "schema_version": 3,
     "solution": true
    }
   },
   "outputs": [],
   "source": [
    "# YOUR CODE HERE\n",
    "raise NotImplementedError()"
   ]
  },
  {
   "cell_type": "markdown",
   "metadata": {
    "deletable": false,
    "editable": false,
    "nbgrader": {
     "cell_type": "markdown",
     "checksum": "2ac592f6d680c3b918a594e238f5ae0d",
     "grade": false,
     "grade_id": "cell-aecb8fc9ad94ed2b",
     "locked": true,
     "schema_version": 3,
     "solution": false
    }
   },
   "source": [
    "Como esse gráfico ajuda a explicar o aumento do erro observado na questão 3?"
   ]
  },
  {
   "cell_type": "markdown",
   "metadata": {
    "deletable": false,
    "nbgrader": {
     "cell_type": "markdown",
     "checksum": "966c77e012b20949f25696b395b43020",
     "grade": true,
     "grade_id": "cell-3bccda84a0713c0b",
     "locked": false,
     "points": 2,
     "schema_version": 3,
     "solution": true
    }
   },
   "source": [
    "YOUR ANSWER HERE"
   ]
  }
 ],
 "metadata": {
  "@webio": {
   "lastCommId": null,
   "lastKernelId": null
  },
  "hide_input": false,
  "kernelspec": {
   "display_name": "Python 3",
   "language": "python",
   "name": "python3"
  },
  "language_info": {
   "codemirror_mode": {
    "name": "ipython",
    "version": 3
   },
   "file_extension": ".py",
   "mimetype": "text/x-python",
   "name": "python",
   "nbconvert_exporter": "python",
   "pygments_lexer": "ipython3",
   "version": "3.8.3"
  }
 },
 "nbformat": 4,
 "nbformat_minor": 4
}
