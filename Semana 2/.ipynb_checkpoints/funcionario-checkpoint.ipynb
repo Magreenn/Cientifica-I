{
 "cells": [
  {
   "cell_type": "markdown",
   "metadata": {},
   "source": [
    "# Curso de Computação Científica I\n",
    "<h4><font COLOR=\"grey\">Treinado o uso do Jupyter e seus comandos</font></h4>"
   ]
  },
  {
   "cell_type": "markdown",
   "metadata": {},
   "source": [
    "## Bisseção"
   ]
  },
  {
   "cell_type": "code",
   "execution_count": 2,
   "metadata": {},
   "outputs": [],
   "source": [
    "def bissecao(f, a, b, xtol=1e-8, ytol=1e-8):\n",
    "    niters=0\n",
    "    while abs((a-b)/2)>=xtol and abs(f((a+b)/2))>ytol:\n",
    "        m = (a+b)/2\n",
    "        if f(m)*f(a)<0:\n",
    "            b = m\n",
    "        else:\n",
    "            a = m\n",
    "        niters+=1\n",
    "    return (a+b)/2, niters"
   ]
  },
  {
   "cell_type": "markdown",
   "metadata": {},
   "source": [
    "## Inversa"
   ]
  },
  {
   "cell_type": "code",
   "execution_count": null,
   "metadata": {},
   "outputs": [],
   "source": [
    "def inv(f, a=0, b=1, xtol=1e-8, ytol=1e-8):\n",
    "    \"\"\"Retorna a função inversa de  f  no intervalo [a,b].\n",
    "    A função inversa é garantida apenas para valores de  y  entre  f(a) e f(b).\"\"\"\n",
    "    def y0(y):\n",
    "        return inversa(f, y, a, b, xtol, ytol)[0]\n",
    "    return y0"
   ]
  }
 ],
 "metadata": {
  "kernelspec": {
   "display_name": "Python 3",
   "language": "python",
   "name": "python3"
  },
  "language_info": {
   "codemirror_mode": {
    "name": "ipython",
    "version": 3
   },
   "file_extension": ".py",
   "mimetype": "text/x-python",
   "name": "python",
   "nbconvert_exporter": "python",
   "pygments_lexer": "ipython3",
   "version": "3.8.3"
  }
 },
 "nbformat": 4,
 "nbformat_minor": 4
}
