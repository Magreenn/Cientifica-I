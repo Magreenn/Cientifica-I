{
 "cells": [
  {
   "cell_type": "code",
   "execution_count": 1,
   "metadata": {
    "deletable": false,
    "editable": false,
    "nbgrader": {
     "cell_type": "code",
     "checksum": "29a25c06b5d6ec5d5d3f525e2a139151",
     "grade": false,
     "grade_id": "cell-6d08b486e1923f0d",
     "locked": true,
     "schema_version": 3,
     "solution": false
    }
   },
   "outputs": [],
   "source": [
    "import numpy as np\n",
    "import matplotlib.pyplot as plt"
   ]
  },
  {
   "cell_type": "markdown",
   "metadata": {
    "deletable": false,
    "editable": false,
    "nbgrader": {
     "cell_type": "markdown",
     "checksum": "65336b4793469c234208c8a06e5e9ea4",
     "grade": false,
     "grade_id": "cell-62b458175fb87c08",
     "locked": true,
     "schema_version": 3,
     "solution": false
    }
   },
   "source": [
    "# Teste 3: O Método de Newton"
   ]
  },
  {
   "cell_type": "markdown",
   "metadata": {
    "deletable": false,
    "editable": false,
    "nbgrader": {
     "cell_type": "markdown",
     "checksum": "876436ca4d4e5ba3bb63a7494d371388",
     "grade": false,
     "grade_id": "cell-09c3e576dd3a7253",
     "locked": true,
     "schema_version": 3,
     "solution": false,
     "task": false
    }
   },
   "source": [
    "## Questão 1: Quantidade de iterações\n",
    "\n",
    "Neste teste, vamos comparar o método de Newton com o algoritmo da\n",
    "bisseção.\n",
    "\n",
    "Para isso, reescreva aqui a sua implementação do algoritmo\n",
    "da bisseção. Lembre-se de que o critério de parada é retornar o último\n",
    "ponto médio calculado quando você tiver certeza de que o erro em\n",
    "$x$ é menor do que `xtol`, ou então de que o erro em $y$ é menor do\n",
    "que `ytol`. Também não se esqueça de, além do resultado, retornar a\n",
    "quantidade de iterações."
   ]
  },
  {
   "cell_type": "code",
   "execution_count": 2,
   "metadata": {
    "deletable": false,
    "nbgrader": {
     "cell_type": "code",
     "checksum": "6398948aa0775e05f2e2030dc935a137",
     "grade": false,
     "grade_id": "cell-562f059eeb09fa54",
     "locked": false,
     "schema_version": 3,
     "solution": true,
     "task": false
    }
   },
   "outputs": [],
   "source": [
    "def bissecao(f, a, b, xtol=1e-8, ytol=1e-8):\n",
    "    \"\"\"Algoritmo da bisseção para encontrar o zero de f.\n",
    "    \n",
    "    Retorna (m, niter), onde `m' é (uma aproximação para) o zero da\n",
    "    função `f' no intervalo [a,b], e `n_iter' é a quantidade de vezes\n",
    "    que o algoritmo calculou um ponto médio.\"\"\"\n",
    "    n_iter=0\n",
    "    while abs(a-b)>xtol and abs(f((a+b)/2))>ytol:\n",
    "        m = (a+b)/2\n",
    "        if f(m)*f(a)<0:\n",
    "            b = m\n",
    "        else:\n",
    "            a = m\n",
    "        n_iter+=1\n",
    "    m = (a+b)/2\n",
    "    return m, n_iter"
   ]
  },
  {
   "cell_type": "markdown",
   "metadata": {
    "deletable": false,
    "editable": false,
    "nbgrader": {
     "cell_type": "markdown",
     "checksum": "51801eeb6c67235d5be6e3bd2c7296cd",
     "grade": false,
     "grade_id": "cell-c8643682469cfdc3",
     "locked": true,
     "schema_version": 3,
     "solution": false,
     "task": false
    }
   },
   "source": [
    "Agora, implemente o método de Newton com o seguinte critério de parada.\n",
    "Após cada passo, você verifica o tamanho desse passo, e o valor da\n",
    "função, e:\n",
    "* se o tamanho do passo que você deu foi menor do que `prec`, você\n",
    "  retorna o resultado;\n",
    "* se o resultado é um ponto $p$ tal que $|f(p)|<$ `ytol`, você retorna\n",
    "  esse ponto;\n",
    "* se ao dar esse passo você completou um total de `maxsteps` passos,\n",
    "  você retorna o resultado.\n",
    "\n",
    "Além de retornar o ponto $p$, a sua implementação também deve\n",
    "retornar a quantidade de passos que foram dados até atingirmos $p$."
   ]
  },
  {
   "cell_type": "code",
   "execution_count": 3,
   "metadata": {
    "deletable": false,
    "nbgrader": {
     "cell_type": "code",
     "checksum": "8ee4eaaf518ef05bb22d69083311dbdc",
     "grade": false,
     "grade_id": "newton_nsteps",
     "locked": false,
     "schema_version": 3,
     "solution": true
    }
   },
   "outputs": [],
   "source": [
    "def newton(f, df, x0, prec=1e-8, ytol=1e-8, maxsteps=100):\n",
    "    \"\"\"Método de Newton para encontrar o zero de f.\n",
    "    \n",
    "    Retorna (x, n_iter), onde `x' é (uma aproximação para) o zero da\n",
    "    função `f', e `n_iter' é a quantidade de passos\n",
    "    que o algoritmo executou.\n",
    "    \n",
    "    `df' é uma função que retorna a derivada de f, e `x0' é o valor\n",
    "    inicial da iteração.\"\"\"\n",
    "    for i in range(maxsteps):\n",
    "        n_iter = i+1 \n",
    "        passo = f(x0)/df(x0)\n",
    "        x = x0 - passo\n",
    "        if abs(passo) < prec or abs(f(x)) < ytol:\n",
    "            return x,n_iter\n",
    "        x0 = x\n",
    "    raise \"O Número Máximo de Iterações foi atingido\""
   ]
  },
  {
   "cell_type": "markdown",
   "metadata": {
    "deletable": false,
    "editable": false,
    "nbgrader": {
     "cell_type": "markdown",
     "checksum": "401b9c2bbd8978fe9b397b5db6cc03d3",
     "grade": false,
     "grade_id": "cell-b22413c01cbb1930",
     "locked": true,
     "schema_version": 3,
     "solution": false,
     "task": false
    }
   },
   "source": [
    "### 1.1. Testando com uma função simples\n",
    "Vamos verificar que as duas funções estão funcionando corretamente.\n",
    "A célula abaixo define uma função $$f(x)=e^x-1,$$ que tem derivada\n",
    "$f'(x) = e^x$, e um único zero em $x=0$."
   ]
  },
  {
   "cell_type": "code",
   "execution_count": 4,
   "metadata": {
    "deletable": false,
    "editable": false,
    "nbgrader": {
     "cell_type": "code",
     "checksum": "ce00c3ffb6efecaffa22255c1caa8c51",
     "grade": true,
     "grade_id": "cell-5e1a0a692ed392d8",
     "locked": true,
     "points": 2,
     "schema_version": 3,
     "solution": false,
     "task": false
    }
   },
   "outputs": [],
   "source": [
    "def f(x):\n",
    "    return np.exp(x) - 1\n",
    "\n",
    "zero, n_iter = bissecao(f, -1, 0.5, xtol=1e-2)\n",
    "assert np.abs(zero) <= 1e-2\n",
    "assert 6 <= n_iter <= 10\n",
    "\n",
    "zero, n_iter = newton(f, np.exp, 1, prec=1e-2)\n",
    "assert np.abs(zero) <= 1e-2\n",
    "assert 3 <= n_iter <= 5"
   ]
  },
  {
   "cell_type": "markdown",
   "metadata": {
    "deletable": false,
    "editable": false,
    "nbgrader": {
     "cell_type": "markdown",
     "checksum": "ea2081b1beb888a83f008b28a99fa4be",
     "grade": false,
     "grade_id": "cell-c78ba8d94e2025e3",
     "locked": true,
     "schema_version": 3,
     "solution": false,
     "task": false
    }
   },
   "source": [
    "Repare na diferença na quantidade de iterações entre os algoritmos!"
   ]
  },
  {
   "cell_type": "code",
   "execution_count": 5,
   "metadata": {
    "deletable": false,
    "editable": false,
    "nbgrader": {
     "cell_type": "code",
     "checksum": "c09a9a392e0c9bbd828c8d1c0c6b6612",
     "grade": true,
     "grade_id": "cell-513f6e2ca516ad73",
     "locked": true,
     "points": 1,
     "schema_version": 3,
     "solution": false,
     "task": false
    }
   },
   "outputs": [],
   "source": [
    "zero, n_iter = bissecao(f, -1, 0.5, xtol=1e-12, ytol=1e-12)\n",
    "assert np.abs(f(zero)) <= 1e-12\n",
    "assert 37 <= n_iter <= 41\n",
    "\n",
    "zero, n_iter = newton(f, np.exp, 1, prec=1e-12, ytol=1e-12)\n",
    "assert np.abs(f(zero)) <= 1e-12\n",
    "assert 5 <= n_iter <= 7"
   ]
  },
  {
   "cell_type": "markdown",
   "metadata": {
    "deletable": false,
    "editable": false,
    "nbgrader": {
     "cell_type": "markdown",
     "checksum": "ef8af08b7319ce5c72fd77efbbe69bb6",
     "grade": false,
     "grade_id": "cell-dca54c04f0da20fc",
     "locked": true,
     "schema_version": 3,
     "solution": false,
     "task": false
    }
   },
   "source": [
    "### 1.2. Comparando os algoritmos\n",
    "Agora, considere o seguinte código:"
   ]
  },
  {
   "cell_type": "code",
   "execution_count": 6,
   "metadata": {
    "deletable": false,
    "editable": false,
    "nbgrader": {
     "cell_type": "code",
     "checksum": "3d0da4f022fcb837d6f58c28a6e43aac",
     "grade": false,
     "grade_id": "cell-22ec73a23d129843",
     "locked": true,
     "schema_version": 3,
     "solution": false,
     "task": false
    }
   },
   "outputs": [
    {
     "name": "stdout",
     "output_type": "stream",
     "text": [
      "xtol = 1.0e+00 --> #iter biss =   1; #iter newt =   1\n",
      "xtol = 1.0e-01 --> #iter biss =   4; #iter newt =   3\n",
      "xtol = 1.0e-02 --> #iter biss =   8; #iter newt =   4\n",
      "xtol = 1.0e-03 --> #iter biss =  11; #iter newt =   5\n",
      "xtol = 1.0e-04 --> #iter biss =  14; #iter newt =   5\n",
      "xtol = 1.0e-05 --> #iter biss =  18; #iter newt =   5\n",
      "xtol = 1.0e-06 --> #iter biss =  21; #iter newt =   6\n",
      "xtol = 1.0e-07 --> #iter biss =  24; #iter newt =   6\n",
      "xtol = 1.0e-08 --> #iter biss =  28; #iter newt =   6\n",
      "xtol = 1.0e-09 --> #iter biss =  31; #iter newt =   6\n",
      "xtol = 1.0e-10 --> #iter biss =  34; #iter newt =   6\n",
      "xtol = 1.0e-11 --> #iter biss =  38; #iter newt =   6\n",
      "xtol = 1.0e-12 --> #iter biss =  41; #iter newt =   7\n"
     ]
    }
   ],
   "source": [
    "for err in reversed(np.logspace(-12, 0, num=13)):\n",
    "    r_biss, n_biss = bissecao(f, -1, 0.5, xtol=err, ytol=0)\n",
    "    r_newt, n_newt = newton(f, np.exp, 1, prec=err, ytol=0)\n",
    "    print(f\"xtol = {err:.1e} --> #iter biss = {n_biss:3d};\"\n",
    "          f\" #iter newt = {n_newt:3d}\")"
   ]
  },
  {
   "cell_type": "markdown",
   "metadata": {
    "deletable": false,
    "editable": false,
    "nbgrader": {
     "cell_type": "markdown",
     "checksum": "59c2729e99cb7cfe3801d05b04ea4a54",
     "grade": false,
     "grade_id": "cell-44e04aa3efbda3c3",
     "locked": true,
     "schema_version": 3,
     "solution": false,
     "task": false
    }
   },
   "source": [
    "Explique o que o código acima está fazendo, e comente o resultado."
   ]
  },
  {
   "cell_type": "markdown",
   "metadata": {
    "deletable": false,
    "nbgrader": {
     "cell_type": "markdown",
     "checksum": "628f52f51d12dc2022a1e83aba8f92b1",
     "grade": true,
     "grade_id": "cell-dc228f8d203289de",
     "locked": false,
     "points": 2,
     "schema_version": 3,
     "solution": true,
     "task": false
    }
   },
   "source": [
    "O código acima compara o número de iterações entre o método da bisseção e o método de newton para vários valores de tolerância em $x$. Para isso foi utilizado o logspace para criar uma lista igualmente espaçada em potências de 10 começando em $10^{-12}$ e terminando em $10^{0}$ mas para a comparação é escolhido ler essa lista em reverso para explicitar melhor a ideia de que quanto mais restrito a tolerância do erro mais iterações são necessárias para cumprir o critério."
   ]
  },
  {
   "cell_type": "markdown",
   "metadata": {
    "deletable": false,
    "editable": false,
    "nbgrader": {
     "cell_type": "markdown",
     "checksum": "3710705957aa5c35e9aed2004d18842d",
     "grade": false,
     "grade_id": "cell-3cc0e568d23bcbdf",
     "locked": true,
     "schema_version": 3,
     "solution": false,
     "task": false
    }
   },
   "source": [
    "Faça um gráfico que mostre de forma visual a informação que está\n",
    "em forma de \"tabela\" acima. Faça uma curva que mostre no eixo $y$\n",
    "a quantidade de iterações que a bisseção fez em função do `xtol` no\n",
    "eixo $x$ (um ponto para cada linha da tabela acima),\n",
    "e outra curva que faz o mesmo para o método Newton.\n",
    "\n",
    "Repare que `xtol` varia de forma\n",
    "exponencial; isto é, cada linha tem um `xtol` diferente, e\n",
    "o valor de `xtol` em cada linha\n",
    "é sempre um décimo do valor de `xtol` na linha anterior. Portanto,\n",
    "para que seja possível visualizar todos os pontos de uma vez só,\n",
    "será necessário usar uma escala logarítmica no eixo $x$. Você acha que\n",
    "usar uma escala log no eixo $y$ também seria útil?"
   ]
  },
  {
   "cell_type": "code",
   "execution_count": 7,
   "metadata": {
    "deletable": false,
    "nbgrader": {
     "cell_type": "code",
     "checksum": "e033bfe8861927be50ee374d2aa59a65",
     "grade": true,
     "grade_id": "cell-92c9bfdea4e79ea0",
     "locked": false,
     "points": 2,
     "schema_version": 3,
     "solution": true,
     "task": false
    }
   },
   "outputs": [
    {
     "data": {
      "image/png": "[encoded data removed]",
      "text/plain": [
       "<Figure size 432x288 with 1 Axes>"
      ]
     },
     "metadata": {
      "needs_background": "light"
     },
     "output_type": "display_data"
    }
   ],
   "source": [
    "xtol = np.logspace(-12, 0, num=13)\n",
    "y1=[bissecao(f, -1, 0.5,xtol=err, ytol=0)[1] for err in xtol]\n",
    "y2=[newton(f, np.exp, 1,prec=err, ytol=0)[1] for err in xtol]\n",
    "plt.plot(xtol,y1,label=\"Bisseção\",marker=\"v\")\n",
    "plt.plot(xtol,y2,label=\"Newton\",marker=\"o\")\n",
    "plt.title(\"Número de Iterações pela tolerância do Erro em X\")\n",
    "plt.gca().set_xlabel(\"xtol\")\n",
    "plt.gca().set_xscale('log')\n",
    "plt.gca().set_ylabel(\"n_iters\")\n",
    "#plt.gca().set_yscale('log') não é necessário pois os pontos inicial e final tem ordens de grandeza proximas 10^0 e 10^2 \n",
    "plt.gca().invert_xaxis()\n",
    "plt.grid()\n",
    "plt.legend();"
   ]
  },
  {
   "cell_type": "markdown",
   "metadata": {
    "deletable": false,
    "editable": false,
    "nbgrader": {
     "cell_type": "markdown",
     "checksum": "7537f9ee46acb209deacc79ccd95339a",
     "grade": false,
     "grade_id": "cell-c06fa1d169df225e",
     "locked": true,
     "schema_version": 3,
     "solution": false,
     "task": false
    }
   },
   "source": [
    "### 1.3. Outro gráfico\n",
    "Reescreva a sua implementação do algoritmo da bisseção para que ele\n",
    "retorne uma lista de todos os pontos médios usados, ao invés de retornar\n",
    "somente o último. Como você está retornando a lista inteira, não\n",
    "precisa mais retornar a quantidade de iterações, pois essa quantidade é\n",
    "simplesmente o comprimento da lista."
   ]
  },
  {
   "cell_type": "code",
   "execution_count": 8,
   "metadata": {
    "deletable": false,
    "nbgrader": {
     "cell_type": "code",
     "checksum": "11e9467d1aacfa7e0c011d143ab5a14d",
     "grade": false,
     "grade_id": "cell-373fda53c1e40951",
     "locked": false,
     "schema_version": 3,
     "solution": true,
     "task": false
    }
   },
   "outputs": [],
   "source": [
    "def bissecao_lista(f, a, b, xtol=1e-8, ytol=1e-8):\n",
    "    \"\"\"Algoritmo da bisseção para encontrar o zero de f.\n",
    "    \n",
    "    Retorna uma lista dos pontos médios encontrados ao longo da\n",
    "    execução do algoritmo.\"\"\"\n",
    "    m_list=[]\n",
    "    while abs(a-b)>xtol and abs(f((a+b)/2))>ytol:\n",
    "        m = (a+b)/2\n",
    "        m_list.append(m)\n",
    "        if f(m)*f(a)<0:\n",
    "            b = m\n",
    "        else:\n",
    "            a = m\n",
    "    m = (a+b)/2\n",
    "    m_list.append(m)\n",
    "    return m_list"
   ]
  },
  {
   "cell_type": "code",
   "execution_count": 9,
   "metadata": {
    "deletable": false,
    "editable": false,
    "nbgrader": {
     "cell_type": "code",
     "checksum": "7b0f463c8c053fd5c248f851ce7972ba",
     "grade": true,
     "grade_id": "cell-472ab22248f552f4",
     "locked": true,
     "points": 2,
     "schema_version": 3,
     "solution": false,
     "task": false
    }
   },
   "outputs": [],
   "source": [
    "m_list = bissecao_lista(f, -1, 0.5, xtol=1e-12, ytol=1e-12)\n",
    "assert np.allclose(np.diff(np.log(np.abs(np.diff(m_list)))), -np.log(2))\n",
    "assert np.abs(f(m_list[-1])) <= 1e-12\n",
    "assert 37 <= len(m_list) <= 41, n_iter"
   ]
  },
  {
   "cell_type": "markdown",
   "metadata": {
    "deletable": false,
    "editable": false,
    "nbgrader": {
     "cell_type": "markdown",
     "checksum": "bddb6ab7ba3a48a7b04efafbf81279d5",
     "grade": false,
     "grade_id": "cell-376131b665c7f65e",
     "locked": true,
     "schema_version": 3,
     "solution": false,
     "task": false
    }
   },
   "source": [
    "Bônus: o que exatamente o primeiro `assert` acima está verificando?\n",
    "Lembre-se de que você pode descobrir o que a função `np.diff` faz\n",
    "colocando o cursor do teclado logo após o parênteses que segue o nome\n",
    "da função, e digitando Shift-Tab."
   ]
  },
  {
   "cell_type": "markdown",
   "metadata": {
    "deletable": false,
    "nbgrader": {
     "cell_type": "markdown",
     "checksum": "a08328d478aa820ff215d78b475d40ba",
     "grade": true,
     "grade_id": "cell-8db7ca47bfdd55c5",
     "locked": false,
     "points": 2,
     "schema_version": 3,
     "solution": true,
     "task": false
    }
   },
   "source": [
    "O primeiro assert busca aferir se o tamanho do intervalo, neste caso o tamanho entre o $m_{k}$ e $m_{k-1}$, segue o decaimento exponencial esperado já que a cada iteração este intervalo é dividido pela metade, então o tamanho deste intervalo deveria ser da forma $$|m_{k} - m_{k-1}| = |\\frac{\\frac{a-b}{2}}{2^{k}}|$$\n",
    "\n",
    "E para checar se isso ocorre foi-se tirado a diferenças absolutas entre os pontos médios consecutivos (np.abs(np.diff(m_list))) já que os pontos médios oscilam seu sinal causando a mesma oscilação na diferença. Depois é feito a diferença consecutiva entre os logs dos valores dessa lista pois:\n",
    "$$\\log _{e}{|m_{k+1}-m_{k}|} -  \\log _{e}{|m_{k}-m_{k-1}|} = \\ln{|m_{k+1}-m_{k}|} -  \\ln{|m_{k}-m_{k-1}|}$$\n",
    "\n",
    "$$\\ln{|m_{k+1}-m_{k}|} -  \\ln{|m_{k}-m_{k-1}|} = \\ln{\\frac{|m_{k+1}-m_{k}|}{|m_{k}-m_{k-1}|}}$$\n",
    "\n",
    "$$\\ln{\\frac{|m_{k+1}-m_{k}|}{|m_{k}-m_{k-1}|}} = \\ln{\\frac{|\\frac{\\frac{a-b}{2}}{2^{k+1}}|}{|\\frac{\\frac{a-b}{2}}{2^{k}}|}}$$\n",
    "\n",
    "$$\\ln{\\frac{|\\frac{\\frac{a-b}{2}}{2^{k+1}}|}{|\\frac{\\frac{a-b}{2}}{2^{k}}|}} = \\ln{\\frac{2^{k}}{2^{k+1}}}$$\n",
    " \n",
    "$$\\ln{\\frac{2^{k}}{2^{k+1}} = \\ln{\\frac{1}{2}} = -\\ln{2}}$$\n",
    "sendo assim, o esperado é a lista final ser uma lista de repetições de $-\\ln{2}$ com uma certa margem de erro de operações e para isso se usa o np.allclose() para comparar se todos os termos de fato se são proximos o bastante de $-\\ln{2}$."
   ]
  },
  {
   "cell_type": "markdown",
   "metadata": {},
   "source": [
    "Faça o mesmo para o método de Newton: a função agora deve retornar\n",
    "a lista de todos os pontos considerados ao longo da execução do\n",
    "algoritmo.\n",
    "\n",
    "Observação: a princípio, o primeiro elemento dessa lista deveria\n",
    "ser o ponto inicial `x0`. Porém, o algoritmo da bisseção não tem um\n",
    "\"ponto inicial\", isto é, o primeiro item da lista `m_list` acima\n",
    "já é o resultado do primeiro passo do algoritmo. Para que a comparação\n",
    "fique mais justa, não inclua o `x0` inicial na lista retornada pela nova\n",
    "implementação do método de Newton."
   ]
  },
  {
   "cell_type": "code",
   "execution_count": 10,
   "metadata": {
    "deletable": false,
    "nbgrader": {
     "cell_type": "code",
     "checksum": "b9ad982bc7e9e6f61ca0ecec206eeba0",
     "grade": false,
     "grade_id": "newton_lista",
     "locked": false,
     "schema_version": 3,
     "solution": true
    }
   },
   "outputs": [],
   "source": [
    "def newton_lista(f, df, x0, prec=1e-8, ytol=1e-8, maxsteps=100):\n",
    "    \"\"\"Método de Newton para encontrar o zero de f.\n",
    "    \n",
    "    Retorna uma lista dos pontos considerados, exceto o ponto inicial.\n",
    "    \n",
    "    `df' é uma função que retorna a derivada de f, e `x0' é o valor\n",
    "    inicial da iteração.\"\"\"\n",
    "    x_list=[]\n",
    "    for i in range(maxsteps):\n",
    "        passo = f(x0)/df(x0)\n",
    "        x = x0 - passo\n",
    "        x_list.append(x)\n",
    "        if abs(passo) < prec or abs(f(x)) < ytol:\n",
    "            return x_list\n",
    "        x0 = x\n",
    "    raise \"O Número Máximo de Iterações foi atingido\""
   ]
  },
  {
   "cell_type": "code",
   "execution_count": 11,
   "metadata": {
    "deletable": false,
    "editable": false,
    "nbgrader": {
     "cell_type": "code",
     "checksum": "43b6d59a61aaaa54a40c2106ee11cae0",
     "grade": true,
     "grade_id": "cell-a6d5bfbfe89a40de",
     "locked": true,
     "points": 2,
     "schema_version": 3,
     "solution": false,
     "task": false
    }
   },
   "outputs": [],
   "source": [
    "x_list = newton_lista(f, np.exp, 1, prec=1e-12, ytol=1e-12)\n",
    "ganho = np.diff(np.log(-np.log(np.abs(np.diff(x_list[-4:])))))\n",
    "assert np.all(0.5 <= ganho)\n",
    "assert np.all(ganho <= 0.9)\n",
    "assert np.abs(f(x_list[-1])) <= 1e-12\n",
    "assert 5 <= len(x_list) <= 7"
   ]
  },
  {
   "cell_type": "markdown",
   "metadata": {
    "deletable": false,
    "editable": false,
    "nbgrader": {
     "cell_type": "markdown",
     "checksum": "7d2e4197f1b4f0da9f800a687b17c522",
     "grade": false,
     "grade_id": "cell-bf880c36610cec83",
     "locked": true,
     "schema_version": 3,
     "solution": false,
     "task": false
    }
   },
   "source": [
    "Faça um gráfico comparando a evolução dos erros de cada algoritmo\n",
    "à medida que as iterações vão avançando. A equação cujo zero queremos\n",
    "encontrar é:\n",
    "$$e^x - 1 = 0.$$\n",
    "O algoritmo da bisseção deve procurar este zero no intervalo $[-1,1/2]$,\n",
    "e o método de Newton deve ser inicializado no ponto $x_0=1$.\n",
    "Use `xtol` e `ytol` ambos iguais a $10^{-12}$ (no caso do método de\n",
    "Newton, `prec` ao invés de `xtol`).\n",
    "\n",
    "Para isso, comece com uma\n",
    "curva que indica o erro da bisseção em função da quantidade de\n",
    "iterações. Isto é, para cada ponto médio calculado pela bisseção,\n",
    "haverá um ponto na curva. Então, no mesmo gráfico, faça a curva análoga\n",
    "para o método de Newton.\n",
    "\n",
    "O eixo horizontal do gráfico deve indicar o índice da iteração do\n",
    "algoritmo.\n",
    "O eixo vertical do gráfico deve indicar o \"erro em $x$\" que obteríamos\n",
    "se o algoritmo fosse interrompido naquela iteração. Para calcular este\n",
    "\"erro em $x$\", lembre-se de que a resposta correta é $x=0$, e portanto\n",
    "o erro é $|\\hat{x}^* - 0|$, onde ${\\hat x}^*$ é o resultado que o\n",
    "algoritmo retornaria se fosse interrompido.\n",
    "\n",
    "Repare que o tamanho do passo dado pelo algoritmo da bisseção é sempre\n",
    "metade do passo anterior (e o algoritmo de Newton é mais rápido ainda!),\n",
    "e portanto para que todos os pontos apareçam no gráfico, precisamos\n",
    "usar uma escala log -- mas em qual eixo?"
   ]
  },
  {
   "cell_type": "code",
   "execution_count": 12,
   "metadata": {
    "deletable": false,
    "nbgrader": {
     "cell_type": "code",
     "checksum": "656b9ea0b70d522cefb34fe311034264",
     "grade": true,
     "grade_id": "cell-3e40a818c08e8f59",
     "locked": false,
     "points": 2,
     "schema_version": 3,
     "solution": true,
     "task": false
    }
   },
   "outputs": [
    {
     "data": {
      "image/png": "[encoded data removed]",
      "text/plain": [
       "<Figure size 432x288 with 1 Axes>"
      ]
     },
     "metadata": {
      "needs_background": "light"
     },
     "output_type": "display_data"
    }
   ],
   "source": [
    "y1=np.abs(bissecao_lista(f, -1, 0.5,xtol=1e-12, ytol=1e-12))\n",
    "y2=np.abs(newton_lista(f, np.exp, 1,prec=1e-12, ytol=1e-12))\n",
    "x1=np.arange(len(y1))+1\n",
    "x2=np.arange(len(y2))+1\n",
    "#Plot\n",
    "plt.plot(x1,y1,label=\"Bisseção\",marker=\".\")\n",
    "plt.plot(x2,y2,label=\"Newton\",marker=\".\")\n",
    "plt.title(\"Progressão do Erro Absoluto\")\n",
    "#Eixos\n",
    "plt.gca().set_xlabel(\"iterações\")\n",
    "#plt.gca().set_xscale('log')\n",
    "plt.gca().set_ylabel(\"erro em $x$\")\n",
    "plt.gca().set_yscale('log')\n",
    "plt.legend();"
   ]
  },
  {
   "cell_type": "markdown",
   "metadata": {
    "deletable": false,
    "editable": false,
    "nbgrader": {
     "cell_type": "markdown",
     "checksum": "41ab49007b6c797073e03da496057947",
     "grade": false,
     "grade_id": "cell-9501ad0a691a105d",
     "locked": true,
     "schema_version": 3,
     "solution": false,
     "task": false
    }
   },
   "source": [
    "### 1.4. Bônus\n",
    "No primeiro gráfico, os eixos eram:\n",
    "* eixo horizontal: `xtol`\n",
    "* eixo vertical: `n_iters`\n",
    "\n",
    "Já no segundo:\n",
    "* eixo horizontal: número de iterações\n",
    "* eixo vertical: erro em `x`\n",
    "\n",
    "Qual a relação entre o `xtol` do primeiro gráfico, e o \"erro em $x$\"\n",
    "do segundo? Qual a relação entre o `n_iters` do primeiro gráfico,\n",
    "e o \"número de iterações\" do segundo?\n",
    "\n",
    "Se as respostas às perguntas acima podem ser resumidas em \"são\n",
    "parecidos, mas talvez não exatamente a mesma coisa\", isso significa\n",
    "que os gráficos \"não são exatamente\" inversos um do outro, mas \"quase\".\n",
    "Explique em que sentido os gráficos são \"quase\" o inverso um do outro."
   ]
  },
  {
   "cell_type": "markdown",
   "metadata": {
    "deletable": false,
    "nbgrader": {
     "cell_type": "markdown",
     "checksum": "282f2089927d8ba7833d258ccb705586",
     "grade": true,
     "grade_id": "cell-134ecf63d49dc789",
     "locked": false,
     "points": 2,
     "schema_version": 3,
     "solution": true,
     "task": false
    }
   },
   "source": [
    "Eles são \"quase\" o inverso um do outro porque a diferença esta entre o que xtol e erro em x representam. Eles geralmente são próximos porem é raro que eles tenham o mesmo valor já que o xtol é a tolerância que se admite a incerteza da resposta dada em relação ao valor de x e sendo assim existem varios cenários onde os métodos aplicados podem parar por causa do valor de y já ser menor que a tolerância do erro de y, e neste caso, o erro em x seria maior que a tolerancia. Ou podem parar porque o próprio valor de x já é menor que a tolerancia e então este é menor que a tolerância. Sendo assim os graficos \"são parecidos, mas não exatamente a mesma coisa\"."
   ]
  },
  {
   "cell_type": "markdown",
   "metadata": {},
   "source": [
    "## Questão 2: Função inversa"
   ]
  },
  {
   "cell_type": "markdown",
   "metadata": {
    "deletable": false,
    "editable": false,
    "nbgrader": {
     "cell_type": "markdown",
     "checksum": "00d0629c71aa851f69449675af57b795",
     "grade": false,
     "grade_id": "cell-61c6e286e98dd9d7",
     "locked": true,
     "schema_version": 3,
     "solution": false,
     "task": false
    }
   },
   "source": [
    "Use o método de Newton para implementar a função arco-seno. Você\n",
    "pode assumir que `-1 <= y <= 1`. A função `arcoseno` deve retornar\n",
    "o resultado e a quantidade de iterações do método de Newton que foram\n",
    "necessárias. Você pode usar as funções trigonométricas do NumPy (seno,\n",
    "cosseno, tangente), mas, obviamente, não pode usar as funções \n",
    "trigonométricas inversas! (arco-seno, arco-cosseno, arco-tangente, etc).\n",
    "Comece o método de Newton sempre em $x=0$."
   ]
  },
  {
   "cell_type": "code",
   "execution_count": 13,
   "metadata": {
    "deletable": false,
    "nbgrader": {
     "cell_type": "code",
     "checksum": "907f2bcd32ca41959b0907523167e34e",
     "grade": false,
     "grade_id": "arcoseno",
     "locked": false,
     "schema_version": 3,
     "solution": true
    }
   },
   "outputs": [],
   "source": [
    "def arcoseno(y, prec=1e-12, ytol=1e-12, maxsteps=100):\n",
    "    def aux(x): return np.sin(x)-y\n",
    "    return newton(aux,np.cos,0,prec,ytol,maxsteps)"
   ]
  },
  {
   "cell_type": "code",
   "execution_count": 14,
   "metadata": {
    "deletable": false,
    "editable": false,
    "nbgrader": {
     "cell_type": "code",
     "checksum": "b173dc963b31d2b9bb08def6e3bec528",
     "grade": true,
     "grade_id": "cell-6b87f54077db701d",
     "locked": true,
     "points": 1,
     "schema_version": 3,
     "solution": false,
     "task": false
    }
   },
   "outputs": [
    {
     "name": "stdout",
     "output_type": "stream",
     "text": [
      "arcsen(1/2) = 0.16666666666666669 * pi;\n",
      "n = 5\n"
     ]
    }
   ],
   "source": [
    "x, n = arcoseno(0.5, prec=0, ytol=5e-17)\n",
    "print(f\"arcsen(1/2) = {x/np.pi} * pi;\\nn = {n}\")\n",
    "assert x == np.arcsin(0.5)"
   ]
  },
  {
   "cell_type": "code",
   "execution_count": 15,
   "metadata": {
    "deletable": false,
    "editable": false,
    "nbgrader": {
     "cell_type": "code",
     "checksum": "41994d4a1ee500c6d01e483e4f00290b",
     "grade": true,
     "grade_id": "cell-aeea0b22a6e3f7f5",
     "locked": true,
     "points": 1,
     "schema_version": 3,
     "solution": false,
     "task": false
    }
   },
   "outputs": [
    {
     "name": "stdout",
     "output_type": "stream",
     "text": [
      "arcsen(.9) = 0.3564337068712937 * pi;\n",
      "n = 6\n"
     ]
    }
   ],
   "source": [
    "x, n = arcoseno(0.9, prec=0, ytol=1e-16)\n",
    "print(f\"arcsen(.9) = {x/np.pi} * pi;\\nn = {n}\")\n",
    "assert np.sin(x) == 0.9"
   ]
  },
  {
   "cell_type": "code",
   "execution_count": 16,
   "metadata": {
    "deletable": false,
    "editable": false,
    "nbgrader": {
     "cell_type": "code",
     "checksum": "3698a929a032cefd043f0b466cb2f1dd",
     "grade": true,
     "grade_id": "cell-d2355343021d4564",
     "locked": true,
     "points": 1,
     "schema_version": 3,
     "solution": false,
     "task": false
    }
   },
   "outputs": [
    {
     "name": "stdout",
     "output_type": "stream",
     "text": [
      "arcsen(.99) = 0.45494658635558793 * pi;\n",
      "n = 8\n",
      "arcsen(.9999) = 0.4954983809051919 * pi;\n",
      "n = 11\n"
     ]
    }
   ],
   "source": [
    "x, n = arcoseno(0.99, prec=0, ytol=1e-16)\n",
    "print(f\"arcsen(.99) = {x/np.pi} * pi;\\nn = {n}\")\n",
    "assert np.sin(x) == 0.99\n",
    "\n",
    "x, n = arcoseno(0.9999, prec=0, ytol=1e-16)\n",
    "print(f\"arcsen(.9999) = {x/np.pi} * pi;\\nn = {n}\")\n",
    "assert np.sin(x) == 0.9999"
   ]
  },
  {
   "cell_type": "markdown",
   "metadata": {
    "deletable": false,
    "editable": false,
    "nbgrader": {
     "cell_type": "markdown",
     "checksum": "7d17d403f2419fb3d73e3bfc44b16e41",
     "grade": false,
     "grade_id": "cell-aaed245b98a6190a",
     "locked": true,
     "schema_version": 3,
     "solution": false,
     "task": false
    }
   },
   "source": [
    "Vamos agora fazer um gráfico da função arco-seno. Para isso, criamos abaixo um array `x` de números igualmente espaçados no intervalo $[0,1]$, e para cada um dos valores de $x$, calculamos o seu arco-seno. Além disso, também anotamos em outro array `n_iters` a quantidade de passos necessários para cada valor de $x$."
   ]
  },
  {
   "cell_type": "code",
   "execution_count": 17,
   "metadata": {
    "deletable": false,
    "editable": false,
    "nbgrader": {
     "cell_type": "code",
     "checksum": "2367bfd16aac33bd5ed5e09c5ce0bdd0",
     "grade": false,
     "grade_id": "cell-e9e96849d4257eff",
     "locked": true,
     "schema_version": 3,
     "solution": false,
     "task": false
    }
   },
   "outputs": [],
   "source": [
    "x = np.linspace(0, 1, num=10001)\n",
    "y = np.empty(x.shape)\n",
    "n_iters = np.empty(x.shape, dtype=int)\n",
    "for i, x_i in enumerate(x):\n",
    "    y[i], n_iters[i] = arcoseno(x_i, prec=1e-8, ytol=1e-8)\n",
    "assert np.max(np.abs(y - np.arcsin(x))[:-1]) < 1e-6"
   ]
  },
  {
   "cell_type": "markdown",
   "metadata": {
    "deletable": false,
    "editable": false,
    "nbgrader": {
     "cell_type": "markdown",
     "checksum": "ee0e7d6ee6ec0f11ffb66858b62a01bb",
     "grade": false,
     "grade_id": "cell-a12414fb27d3aab9",
     "locked": true,
     "schema_version": 3,
     "solution": false,
     "task": false
    }
   },
   "source": [
    "Desenhe o gráfico do arcoseno em função de x. Na mesma imagem,\n",
    "também mostre uma outra curva para o mesmo gráfico, mas dessa vez\n",
    "usando a função `np.arcsin`. Não se esqueça de legendar o gráfico!"
   ]
  },
  {
   "cell_type": "code",
   "execution_count": 18,
   "metadata": {
    "deletable": false,
    "nbgrader": {
     "cell_type": "code",
     "checksum": "948d8e0b2c702f80ffdb420dc77bfe7c",
     "grade": true,
     "grade_id": "cell-2dbec59a4c1113fc",
     "locked": false,
     "points": 1,
     "schema_version": 3,
     "solution": true,
     "task": false
    }
   },
   "outputs": [
    {
     "data": {
      "image/png": "[encoded data removed]",
      "text/plain": [
       "<Figure size 432x288 with 1 Axes>"
      ]
     },
     "metadata": {
      "needs_background": "light"
     },
     "output_type": "display_data"
    }
   ],
   "source": [
    "plt.plot(x,y,label=\"Método de Newton\",)\n",
    "plt.plot(x,[np.arcsin(i) for i in x],label=\"Biblioteca NumPy\")\n",
    "plt.title(\"Arcoseno\")\n",
    "plt.gca().set_xlabel('$x$')\n",
    "plt.gca().set_ylabel('Arcoseno')\n",
    "plt.legend();"
   ]
  },
  {
   "cell_type": "markdown",
   "metadata": {
    "deletable": false,
    "editable": false,
    "nbgrader": {
     "cell_type": "markdown",
     "checksum": "df0a89fcc1b07832636919e85f43763b",
     "grade": false,
     "grade_id": "cell-a283e4e1a034c4e9",
     "locked": true,
     "schema_version": 3,
     "solution": false,
     "task": false
    }
   },
   "source": [
    "Se a sua implementação `arcoseno` estiver correta, as duas curvas\n",
    "no gráfico acima devem estar indistinguíveis \"a olho nu\".\n",
    "Mas isso não significa que\n",
    "elas sejam completamente idênticas! O código abaixo mostra o erro entre\n",
    "as duas curvas, em função de $x$:"
   ]
  },
  {
   "cell_type": "code",
   "execution_count": 19,
   "metadata": {
    "deletable": false,
    "editable": false,
    "nbgrader": {
     "cell_type": "code",
     "checksum": "7157edc117467f4e02b2f11d95f8971a",
     "grade": false,
     "grade_id": "cell-8a49bdbf62c519e9",
     "locked": true,
     "schema_version": 3,
     "solution": false,
     "task": false
    }
   },
   "outputs": [
    {
     "data": {
      "image/png": "[encoded data removed]",
      "text/plain": [
       "<Figure size 432x288 with 1 Axes>"
      ]
     },
     "metadata": {
      "needs_background": "light"
     },
     "output_type": "display_data"
    }
   ],
   "source": [
    "plt.plot(x, np.abs(y - np.arcsin(x)))\n",
    "plt.gca().set_xlabel('$x$')\n",
    "plt.gca().set_ylabel('erro')\n",
    "plt.gca().set_yscale('log')\n",
    "plt.grid()"
   ]
  },
  {
   "cell_type": "markdown",
   "metadata": {
    "deletable": false,
    "editable": false,
    "nbgrader": {
     "cell_type": "markdown",
     "checksum": "4aa3d46c804b78503240f0a7c6b1dbcb",
     "grade": false,
     "grade_id": "cell-28c186f6c8c0bd60",
     "locked": true,
     "schema_version": 3,
     "solution": false,
     "task": false
    }
   },
   "source": [
    "Como você pode ver, o erro fica maior quando $x$ chega perto de $1$.\n",
    "Faça um gráfico parecido com o acima, mas que mostre somente a parte\n",
    "com $x\\in[0.99, 1.00]$."
   ]
  },
  {
   "cell_type": "code",
   "execution_count": 20,
   "metadata": {
    "deletable": false,
    "nbgrader": {
     "cell_type": "code",
     "checksum": "f316191f398cf527179e2a176a0ef1f2",
     "grade": true,
     "grade_id": "cell-a71f3ebd5eca4d83",
     "locked": false,
     "points": 1,
     "schema_version": 3,
     "solution": true,
     "task": false
    }
   },
   "outputs": [
    {
     "data": {
      "image/png": "[encoded data removed]",
      "text/plain": [
       "<Figure size 432x288 with 1 Axes>"
      ]
     },
     "metadata": {
      "needs_background": "light"
     },
     "output_type": "display_data"
    }
   ],
   "source": [
    "x2 = np.linspace(0.99, 1.00, num=10001)\n",
    "plt.plot(x2, np.abs(y - np.arcsin(x2)))\n",
    "plt.gca().set_xlabel('$x$')\n",
    "plt.gca().set_ylabel('erro')\n",
    "plt.gca().set_yscale('log')\n",
    "plt.title(\"Erro da Implementação do Arcoseno pelo método de Newton\")\n",
    "plt.grid()"
   ]
  }
 ],
 "metadata": {
  "kernelspec": {
   "display_name": "Python 3",
   "language": "python",
   "name": "python3"
  },
  "language_info": {
   "codemirror_mode": {
    "name": "ipython",
    "version": 3
   },
   "file_extension": ".py",
   "mimetype": "text/x-python",
   "name": "python",
   "nbconvert_exporter": "python",
   "pygments_lexer": "ipython3",
   "version": "3.8.3"
  }
 },
 "nbformat": 4,
 "nbformat_minor": 4
}
