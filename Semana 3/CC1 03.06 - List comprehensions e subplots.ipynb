{
 "cells": [
  {
   "cell_type": "markdown",
   "metadata": {
    "toc": true
   },
   "source": [
    "<h1>Table of Contents<span class=\"tocSkip\"></span></h1>\n",
    "<div class=\"toc\"><ul class=\"toc-item\"><li><span><a href=\"#List-comprehensions\" data-toc-modified-id=\"List-comprehensions-1\"><span class=\"toc-item-num\">1&nbsp;&nbsp;</span>List comprehensions</a></span><ul class=\"toc-item\"><li><span><a href=\"#Exemplos-simples\" data-toc-modified-id=\"Exemplos-simples-1.1\"><span class=\"toc-item-num\">1.1&nbsp;&nbsp;</span>Exemplos simples</a></span></li></ul></li><li><span><a href=\"#Plots-e-list-comprehensions\" data-toc-modified-id=\"Plots-e-list-comprehensions-2\"><span class=\"toc-item-num\">2&nbsp;&nbsp;</span>Plots e list comprehensions</a></span></li></ul></div>"
   ]
  },
  {
   "cell_type": "markdown",
   "metadata": {},
   "source": [
    "$$ $$\n",
    "\n",
    "$$ $$\n",
    "\n",
    "$$ $$\n",
    "\n",
    "$$ $$\n",
    "\n",
    "# List comprehensions\n",
    "\n",
    "$$ $$\n",
    "\n",
    "$$ $$\n",
    "\n",
    "$$ $$"
   ]
  },
  {
   "cell_type": "markdown",
   "metadata": {},
   "source": [
    "Uma expressão da forma\n",
    "\n",
    "    [f(x) for x in <...>]\n",
    "\n",
    "Por exemplo:"
   ]
  },
  {
   "cell_type": "code",
   "execution_count": 1,
   "metadata": {},
   "outputs": [
    {
     "data": {
      "text/plain": [
       "[0, 1, 4, 9, 16, 25, 36, 49, 64, 81]"
      ]
     },
     "execution_count": 1,
     "metadata": {},
     "output_type": "execute_result"
    }
   ],
   "source": [
    "[x**2 for x in range(10)]"
   ]
  },
  {
   "cell_type": "code",
   "execution_count": 2,
   "metadata": {},
   "outputs": [
    {
     "data": {
      "text/plain": [
       "[(0, 0),\n",
       " (1, 1),\n",
       " (4, 8),\n",
       " (9, 27),\n",
       " (16, 64),\n",
       " (25, 125),\n",
       " (36, 216),\n",
       " (49, 343),\n",
       " (64, 512),\n",
       " (81, 729)]"
      ]
     },
     "execution_count": 2,
     "metadata": {},
     "output_type": "execute_result"
    }
   ],
   "source": [
    "[(x**2, x**3) for x in range(10)]"
   ]
  },
  {
   "cell_type": "markdown",
   "metadata": {},
   "source": [
    "$$ $$\n",
    "\n",
    "$$ $$\n",
    "\n",
    "$$ $$\n",
    "\n",
    "\n",
    "## Exemplos simples\n",
    "\n",
    "$$ $$\n",
    "\n",
    "$$ $$"
   ]
  },
  {
   "cell_type": "code",
   "execution_count": 3,
   "metadata": {},
   "outputs": [],
   "source": [
    "from rootfinding import newton"
   ]
  },
  {
   "cell_type": "code",
   "execution_count": 4,
   "metadata": {},
   "outputs": [],
   "source": [
    "def f(x): return x**2 - 2\n",
    "def df(x): return 2*x"
   ]
  },
  {
   "cell_type": "code",
   "execution_count": 5,
   "metadata": {},
   "outputs": [],
   "source": [
    "raizes = [newton(f, df, 1, xtol=10**(-n), ytol=0) for n in range(10)]"
   ]
  },
  {
   "cell_type": "code",
   "execution_count": 6,
   "metadata": {},
   "outputs": [
    {
     "data": {
      "text/plain": [
       "[1.5,\n",
       " 1.4166666666666667,\n",
       " 1.4142156862745099,\n",
       " 1.4142135623746899,\n",
       " 1.4142135623746899,\n",
       " 1.4142135623746899,\n",
       " 1.4142135623730951,\n",
       " 1.4142135623730951,\n",
       " 1.4142135623730951,\n",
       " 1.4142135623730951]"
      ]
     },
     "execution_count": 6,
     "metadata": {},
     "output_type": "execute_result"
    }
   ],
   "source": [
    "raizes"
   ]
  },
  {
   "cell_type": "code",
   "execution_count": 7,
   "metadata": {},
   "outputs": [
    {
     "data": {
      "text/plain": [
       "[0.25,\n",
       " 0.006944444444444642,\n",
       " 6.007304882871267e-06,\n",
       " 4.510614104447086e-12,\n",
       " 4.510614104447086e-12,\n",
       " 4.510614104447086e-12,\n",
       " 4.440892098500626e-16,\n",
       " 4.440892098500626e-16,\n",
       " 4.440892098500626e-16,\n",
       " 4.440892098500626e-16]"
      ]
     },
     "execution_count": 7,
     "metadata": {},
     "output_type": "execute_result"
    }
   ],
   "source": [
    "[raiz**2 - 2 for raiz in raizes]"
   ]
  },
  {
   "cell_type": "code",
   "execution_count": 8,
   "metadata": {},
   "outputs": [],
   "source": [
    "raizes = [newton(f, df, 1, xtol=0, ytol=0, maxiter=n) for n in range(10)]"
   ]
  },
  {
   "cell_type": "code",
   "execution_count": 9,
   "metadata": {},
   "outputs": [
    {
     "data": {
      "text/plain": [
       "[1.5,\n",
       " 1.4166666666666667,\n",
       " 1.4142156862745099,\n",
       " 1.4142135623746899,\n",
       " 1.4142135623730951,\n",
       " 1.414213562373095,\n",
       " 1.4142135623730951,\n",
       " 1.414213562373095,\n",
       " 1.4142135623730951,\n",
       " 1.414213562373095]"
      ]
     },
     "execution_count": 9,
     "metadata": {},
     "output_type": "execute_result"
    }
   ],
   "source": [
    "raizes"
   ]
  },
  {
   "cell_type": "code",
   "execution_count": 10,
   "metadata": {},
   "outputs": [
    {
     "data": {
      "text/plain": [
       "[0.25,\n",
       " 0.006944444444444642,\n",
       " 6.007304882871267e-06,\n",
       " 4.510614104447086e-12,\n",
       " 4.440892098500626e-16,\n",
       " -4.440892098500626e-16,\n",
       " 4.440892098500626e-16,\n",
       " -4.440892098500626e-16,\n",
       " 4.440892098500626e-16,\n",
       " -4.440892098500626e-16]"
      ]
     },
     "execution_count": 10,
     "metadata": {},
     "output_type": "execute_result"
    }
   ],
   "source": [
    "[r**2 - 2 for r in raizes]"
   ]
  },
  {
   "cell_type": "markdown",
   "metadata": {},
   "source": [
    "# Plots e list comprehensions"
   ]
  },
  {
   "cell_type": "code",
   "execution_count": 11,
   "metadata": {},
   "outputs": [],
   "source": [
    "import matplotlib.pyplot as plt"
   ]
  },
  {
   "cell_type": "code",
   "execution_count": 12,
   "metadata": {},
   "outputs": [],
   "source": [
    "def f1(x):  return x**5 + x - 3\n",
    "def df1(x): return 5*x**4 + 1"
   ]
  },
  {
   "cell_type": "code",
   "execution_count": 13,
   "metadata": {},
   "outputs": [
    {
     "data": {
      "image/png": "[encoded data removed]",
      "text/plain": [
       "<Figure size 432x288 with 1 Axes>"
      ]
     },
     "metadata": {
      "needs_background": "light"
     },
     "output_type": "display_data"
    }
   ],
   "source": [
    "pts = newton(f1, df1, 1, xtol=1e-12, reltol=0, ytol=0, trace=True)\n",
    "plt.plot(pts, 'o:')\n",
    "plt.title(\"Pontos construídos\");"
   ]
  },
  {
   "cell_type": "code",
   "execution_count": 16,
   "metadata": {},
   "outputs": [
    {
     "data": {
      "image/png": "[encoded data removed]",
      "text/plain": [
       "<Figure size 432x288 with 1 Axes>"
      ]
     },
     "metadata": {
      "needs_background": "light"
     },
     "output_type": "display_data"
    }
   ],
   "source": [
    "pts = newton(f1, df1, 1, xtol=1e-12, reltol=0, ytol=0, trace=True)\n",
    "plt.plot([f1(p) for p in pts], 'o:')\n",
    "plt.title(\"Pontos construídos\");"
   ]
  },
  {
   "cell_type": "code",
   "execution_count": 14,
   "metadata": {},
   "outputs": [],
   "source": [
    "import numpy as np\n",
    "def f2(x):  return np.cos(x)\n",
    "def df2(x): return -np.sin(x)"
   ]
  },
  {
   "cell_type": "code",
   "execution_count": 15,
   "metadata": {},
   "outputs": [
    {
     "data": {
      "image/png": "[encoded data removed]",
      "text/plain": [
       "<Figure size 432x288 with 1 Axes>"
      ]
     },
     "metadata": {
      "needs_background": "light"
     },
     "output_type": "display_data"
    }
   ],
   "source": [
    "pts = newton(f2, df2, 1, xtol=1e-12, reltol=0, ytol=0, trace=True)\n",
    "plt.plot(pts, 'o:')\n",
    "plt.title(\"Pontos construídos\");"
   ]
  },
  {
   "cell_type": "code",
   "execution_count": 17,
   "metadata": {},
   "outputs": [
    {
     "data": {
      "image/png": "[encoded data removed]",
      "text/plain": [
       "<Figure size 432x288 with 1 Axes>"
      ]
     },
     "metadata": {
      "needs_background": "light"
     },
     "output_type": "display_data"
    }
   ],
   "source": [
    "pts = newton(f2, df2, 1, xtol=1e-12, reltol=0, ytol=0, trace=True)\n",
    "plt.plot([f2(p) for p in pts], 'o:')\n",
    "plt.title(\"Pontos construídos\");"
   ]
  },
  {
   "cell_type": "code",
   "execution_count": 23,
   "metadata": {},
   "outputs": [
    {
     "data": {
      "image/png": "[encoded data removed]",
      "text/plain": [
       "<Figure size 432x288 with 1 Axes>"
      ]
     },
     "metadata": {
      "needs_background": "light"
     },
     "output_type": "display_data"
    }
   ],
   "source": [
    "lista_f_df = [(f1, df1), (f2, df2)]\n",
    "for f, df in lista_f_df:\n",
    "    pts = newton(f, df, 1, xtol=1e-12, reltol=0, ytol=0, trace=True)\n",
    "    plt.semilogy([abs(f(p)) for p in pts], 'o:')\n",
    "\n",
    "plt.grid()\n",
    "plt.xlabel(\"# iter\")\n",
    "plt.title(\"Erro\");"
   ]
  }
 ],
 "metadata": {
  "@webio": {
   "lastCommId": null,
   "lastKernelId": null
  },
  "hide_input": false,
  "kernelspec": {
   "display_name": "Python 3",
   "language": "python",
   "name": "python3"
  },
  "language_info": {
   "codemirror_mode": {
    "name": "ipython",
    "version": 3
   },
   "file_extension": ".py",
   "mimetype": "text/x-python",
   "name": "python",
   "nbconvert_exporter": "python",
   "pygments_lexer": "ipython3",
   "version": "3.8.2"
  },
  "toc": {
   "base_numbering": 1,
   "nav_menu": {},
   "number_sections": true,
   "sideBar": true,
   "skip_h1_title": false,
   "title_cell": "Table of Contents",
   "title_sidebar": "Contents",
   "toc_cell": true,
   "toc_position": {},
   "toc_section_display": true,
   "toc_window_display": true
  }
 },
 "nbformat": 4,
 "nbformat_minor": 4
}
