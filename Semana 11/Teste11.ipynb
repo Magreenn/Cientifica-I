{
 "cells": [
  {
   "cell_type": "markdown",
   "metadata": {},
   "source": [
    "![CC-BY-SA](https://mirrors.creativecommons.org/presskit/buttons/88x31/svg/by-sa.svg)\n",
    "\n",
    "\n",
    "This notebook was created by [Bernardo Freitas Paulo da Costa](http://www.im.ufrj.br/bernardofpc),\n",
    "and Pedro Angelo Medeiros Fonini\n",
    "and is licensed under Creative Commons BY-SA."
   ]
  },
  {
   "cell_type": "markdown",
   "metadata": {},
   "source": [
    "Antes de enviar este Teste, verifique que tudo está funcionando como esperado.\n",
    "Por exemplo, **rode o código inteiro, do zero**.\n",
    "Para isso, vá no menu, escolha _Kernel_, depois _Restart & Run All_.\n",
    "\n",
    "Verifique, também, que você respondeu todas as questões:\n",
    "* as questões de código têm `YOUR CODE HERE` (e você pode apagar o `raise NotImplemented` ao incluir sua resposta)\n",
    "* as questões discursivas têm \"YOUR ANSWER HERE\"."
   ]
  },
  {
   "cell_type": "markdown",
   "metadata": {},
   "source": [
    "---"
   ]
  },
  {
   "cell_type": "code",
   "execution_count": 1,
   "metadata": {
    "deletable": false,
    "editable": false,
    "nbgrader": {
     "cell_type": "code",
     "checksum": "328804812cca21cbb421dbea9c07b45d",
     "grade": false,
     "grade_id": "cell-df173a9fe036316c",
     "locked": true,
     "schema_version": 3,
     "solution": false,
     "task": false
    }
   },
   "outputs": [],
   "source": [
    "import numpy as np\n",
    "import matplotlib.pyplot as plt"
   ]
  },
  {
   "cell_type": "markdown",
   "metadata": {
    "deletable": false,
    "editable": false,
    "nbgrader": {
     "cell_type": "markdown",
     "checksum": "1dbc932e5a28df5a3e4a67e9025cf5ea",
     "grade": false,
     "grade_id": "cell-570a548dddeee97f",
     "locked": true,
     "schema_version": 3,
     "solution": false,
     "task": false
    }
   },
   "source": [
    "# Encontrando os 2 maiores autovalores de uma matriz"
   ]
  },
  {
   "cell_type": "markdown",
   "metadata": {
    "deletable": false,
    "editable": false,
    "nbgrader": {
     "cell_type": "markdown",
     "checksum": "5f9d79b3256e6e2fedf697c6d1f5755a",
     "grade": false,
     "grade_id": "cell-a48f10ac8ad960d0",
     "locked": true,
     "schema_version": 3,
     "solution": false,
     "task": false
    }
   },
   "source": [
    "## Questão 1: Iterando\n",
    "\n",
    "Escreva abaixo a função `power_iter2`, que itera um **par** de vetores $u$ e $v$ pela matriz $A$,\n",
    "para calcular os 2 maiores autovalores (em módulo) de $A$, e retorna:\n",
    "- a lista de estimativas do maior autovalor $\\lambda_1$;\n",
    "- a lista de estimativas do segundo maior autovalor $\\lambda_2$;\n",
    "- a lista de estimativas do autovetor correspondente a $\\lambda_1$; e\n",
    "- a lista de estimativas do autovetor correspondente a $\\lambda_2$."
   ]
  },
  {
   "cell_type": "code",
   "execution_count": 2,
   "metadata": {
    "deletable": false,
    "nbgrader": {
     "cell_type": "code",
     "checksum": "3b884340e42aa5525106f91db4618cb1",
     "grade": false,
     "grade_id": "cell-8c588c74a722e9b3",
     "locked": false,
     "schema_version": 3,
     "solution": true,
     "task": false
    }
   },
   "outputs": [],
   "source": [
    "def power_iter2(A, tol=1e-6, maxiter=1000):\n",
    "    n,m = np.shape(A)\n",
    "    assert n==m, 'A must be square'\n",
    "    est_aut1 = []\n",
    "    est_aut2 = []\n",
    "    est_vec1 = []\n",
    "    est_vec2 = []\n",
    "    #chutes iniciais\n",
    "    chute_vec1 = np.ones(n)\n",
    "    chute_vec2 = np.arange(-1,n-1,1)\n",
    "    err_abs_vec1 = 1\n",
    "    err_abs_vec2 = 1\n",
    "    #autovetor1\n",
    "    new_vec1 = A @ chute_vec1\n",
    "    vec1_i = np.true_divide(new_vec1,np.linalg.norm(new_vec1))\n",
    "    est_vec1.append(np.true_divide(vec1_i,np.max(vec1_i)))\n",
    "    #autovetor2\n",
    "    new_vec2 = (A @ chute_vec2 - (np.dot(A @ chute_vec2,vec1_i) * vec1_i))\n",
    "    vec2_i = np.true_divide(new_vec2,np.linalg.norm(new_vec2))\n",
    "    est_vec2.append(np.true_divide(vec2_i,np.max(vec2_i)))\n",
    "    #Maior autovalor1\n",
    "    aut_ant_vec1 = np.dot(new_vec1,chute_vec1)\n",
    "    est_aut1.append(aut_ant_vec1)\n",
    "    #Segundo maior autovalor2\n",
    "    aut_ant_vec2 = np.dot(new_vec2,chute_vec2)\n",
    "    est_aut2.append(aut_ant_vec2)\n",
    "    i = 1\n",
    "    while i < maxiter and (err_abs_vec1 > tol or err_abs_vec2 > tol):\n",
    "        #autovetor1\n",
    "        new_vec1 = A @ vec1_i\n",
    "        est_vec1.append(np.true_divide(new_vec1,np.max(np.abs(new_vec1))))\n",
    "        #Maior autovalor1\n",
    "        aut_vec1 = np.dot(new_vec1,vec1_i)\n",
    "        est_aut1.append(aut_vec1)\n",
    "        #erro\n",
    "        err_abs_vec1 = np.abs((aut_vec1-aut_ant_vec1)/aut_vec1)\n",
    "        #final iterativo\n",
    "        aut_ant_vec1 = aut_vec1\n",
    "        vec1_i = np.true_divide(new_vec1,np.linalg.norm(new_vec1))\n",
    "        \n",
    "        #autovetor2\n",
    "        aux = A @ vec2_i\n",
    "        new_vec2 = (aux - (np.dot(aux,vec1_i) * vec1_i))\n",
    "        est_vec2.append(np.true_divide(new_vec2,np.max(np.abs(new_vec2))))\n",
    "        #Segundo maior autovalor2\n",
    "        aut_vec2 = np.dot(new_vec2,vec2_i)\n",
    "        est_aut2.append(aut_vec2)\n",
    "        #erro\n",
    "        err_abs_vec2 = np.abs((aut_vec2-aut_ant_vec2)/aut_vec2)\n",
    "        #final iterativo\n",
    "        aut_ant_vec2 = aut_vec2\n",
    "        vec2_i = np.true_divide(new_vec2,np.linalg.norm(new_vec2))       \n",
    "        i += 1\n",
    "    return est_aut1, est_aut2,est_vec1,est_vec2   \n",
    "    "
   ]
  },
  {
   "cell_type": "markdown",
   "metadata": {},
   "source": [
    "Testando que tudo está funcionando corretamente:"
   ]
  },
  {
   "cell_type": "code",
   "execution_count": 3,
   "metadata": {
    "deletable": false,
    "editable": false,
    "nbgrader": {
     "cell_type": "code",
     "checksum": "72def6b62aa260a7a87a0eac761abf5a",
     "grade": true,
     "grade_id": "cell-447e44dceedac2d7",
     "locked": true,
     "points": 1,
     "schema_version": 3,
     "solution": false,
     "task": false
    }
   },
   "outputs": [],
   "source": [
    "A = [[1,2],[3,9]]\n",
    "l1s, l2s, v1s, v2s = power_iter2(A)\n",
    "\n",
    "assert len(l1s) == len(l2s)\n",
    "assert len(l1s) == len(v1s)\n",
    "assert len(l2s) == len(v2s)"
   ]
  },
  {
   "cell_type": "code",
   "execution_count": 4,
   "metadata": {
    "deletable": false,
    "editable": false,
    "nbgrader": {
     "cell_type": "code",
     "checksum": "37bc1b189c2381f8e95dd66a3c5ab3ec",
     "grade": true,
     "grade_id": "cell-f09b1018a972ca2c",
     "locked": true,
     "points": 1,
     "schema_version": 3,
     "solution": false,
     "task": false
    }
   },
   "outputs": [],
   "source": [
    "A = [[1,2],[3,9]]\n",
    "l1s, l2s, v1s, v2s = power_iter2(A, tol=1e-9)\n",
    "\n",
    "l2, l1 = sorted(np.linalg.eigvals(A))\n",
    "assert np.isclose(l1s[-1], l1)\n",
    "assert np.isclose(l2s[-1], l2)"
   ]
  },
  {
   "cell_type": "code",
   "execution_count": 5,
   "metadata": {
    "deletable": false,
    "editable": false,
    "nbgrader": {
     "cell_type": "code",
     "checksum": "16ffdd78adfc09a8d21a3421d83c8d55",
     "grade": true,
     "grade_id": "cell-51e6f0951b5e596a",
     "locked": true,
     "points": 1,
     "schema_version": 3,
     "solution": false,
     "task": false
    }
   },
   "outputs": [],
   "source": [
    "A = [[1,2,3],[4,5,6],[7,8,9]]\n",
    "l1s, l2s, v1s, v2s = power_iter2(A, tol=1e-9)\n",
    "\n",
    "l2, l3, l1 = sorted(np.linalg.eigvals(A))\n",
    "assert np.isclose(l1s[-1], l1)\n",
    "assert np.isclose(l2s[-1], l2)"
   ]
  },
  {
   "cell_type": "code",
   "execution_count": 6,
   "metadata": {
    "deletable": false,
    "editable": false,
    "nbgrader": {
     "cell_type": "code",
     "checksum": "17388ba3bdbabd958fa8457be89baff2",
     "grade": true,
     "grade_id": "cell-cb2f4b2ce1f02567",
     "locked": true,
     "points": 2,
     "schema_version": 3,
     "solution": false,
     "task": false
    }
   },
   "outputs": [],
   "source": [
    "np.random.seed(4321)\n",
    "A = np.random.rand(6,6)\n",
    "\n",
    "r = power_iter2(A, tol=1e-6)\n",
    "lens_6 = [len(x) for x in r]\n",
    "r = power_iter2(A, tol=1e-10)\n",
    "lens_10 = [len(x) for x in r]\n",
    "\n",
    "assert np.all(lens_6 < lens_10)\n",
    "assert np.all(np.equal(lens_6, lens_6[0]))\n",
    "assert np.all(np.equal(lens_10, lens_10[0]))"
   ]
  },
  {
   "cell_type": "markdown",
   "metadata": {},
   "source": [
    "## Questão 2: Mais testes"
   ]
  },
  {
   "cell_type": "markdown",
   "metadata": {
    "deletable": false,
    "editable": false,
    "nbgrader": {
     "cell_type": "markdown",
     "checksum": "cc5b2ec7f3ecb1514d9cac1df6d40173",
     "grade": false,
     "grade_id": "cell-59c688a1a32da724",
     "locked": true,
     "schema_version": 3,
     "solution": false,
     "task": false
    }
   },
   "source": [
    "Que outro teste pode ser feito com os valores de retorno de `power_iter2`,\n",
    "válidos para matrizes simétricas quaisquer (ou seja, geradas a partir de `np.random`)?\n",
    "\n",
    "Explique a ideia do seu teste abaixo, e dê um exemplo de uso na caixa seguinte."
   ]
  },
  {
   "cell_type": "markdown",
   "metadata": {
    "deletable": false,
    "nbgrader": {
     "cell_type": "markdown",
     "checksum": "d6ce6a644c84b5bbca175ceb4e388061",
     "grade": true,
     "grade_id": "cell-41ba87562eb08503",
     "locked": false,
     "points": 2,
     "schema_version": 3,
     "solution": true,
     "task": false
    }
   },
   "source": [
    "Pode ser feito um teste para ver se realmente o primeiro retorno da função power_iter2 é o maior retorno,em módulo, e se o segundo retorno é o segundo maior retorno,em módulo."
   ]
  },
  {
   "cell_type": "code",
   "execution_count": 7,
   "metadata": {
    "deletable": false,
    "nbgrader": {
     "cell_type": "code",
     "checksum": "3030f43f46622d35ee49112968342678",
     "grade": true,
     "grade_id": "cell-7e5ef20f3e4b1eee",
     "locked": false,
     "points": 2,
     "schema_version": 3,
     "solution": true,
     "task": false
    },
    "scrolled": true
   },
   "outputs": [],
   "source": [
    "A1 = [[1,2,3],[4,5,6],[7,8,9]]\n",
    "l1s, l2s, v1s, v2s = power_iter2(A1, tol=1e-9)\n",
    "np.abs(l1s[-1])\n",
    "np.abs(l2s[-1])\n",
    "l3, l2, l1 = sorted(np.abs(np.linalg.eigvals(A1)))\n",
    "assert np.abs(l1s[-1])>np.abs(l2s[-1])>np.abs(l2)"
   ]
  },
  {
   "cell_type": "markdown",
   "metadata": {
    "deletable": false,
    "editable": false,
    "nbgrader": {
     "cell_type": "markdown",
     "checksum": "7ad14e1b76596ceb87362b15e882c4c1",
     "grade": false,
     "grade_id": "cell-73be551ef9077a30",
     "locked": true,
     "schema_version": 3,
     "solution": false,
     "task": false
    }
   },
   "source": [
    "## Questão 3: Gráficos\n",
    "\n",
    "Considere a matriz $M$ abaixo."
   ]
  },
  {
   "cell_type": "code",
   "execution_count": 8,
   "metadata": {
    "deletable": false,
    "editable": false,
    "nbgrader": {
     "cell_type": "code",
     "checksum": "8efb3d2732350a4cc13e310748dbfe1d",
     "grade": false,
     "grade_id": "cell-5b97076072e4b45c",
     "locked": true,
     "schema_version": 3,
     "solution": false,
     "task": false
    }
   },
   "outputs": [],
   "source": [
    "np.random.seed(123)\n",
    "M = np.random.rand(6,6)"
   ]
  },
  {
   "cell_type": "markdown",
   "metadata": {
    "deletable": false,
    "editable": false,
    "nbgrader": {
     "cell_type": "markdown",
     "checksum": "06b0b90d6949fe73b1e6f74a6512f487",
     "grade": false,
     "grade_id": "cell-c14990e9a9b59a1f",
     "locked": true,
     "schema_version": 3,
     "solution": false,
     "task": false
    }
   },
   "source": [
    "Faça um gráfico do erro (absoluto) das estimativas dos dois maiores autovalores de $M$,\n",
    "em função do número de iterações feitas."
   ]
  },
  {
   "cell_type": "code",
   "execution_count": 9,
   "metadata": {
    "deletable": false,
    "nbgrader": {
     "cell_type": "code",
     "checksum": "df13586c8626f22fa7afa732bca9acb0",
     "grade": false,
     "grade_id": "cell-032315af3a690572",
     "locked": false,
     "schema_version": 3,
     "solution": true,
     "task": false
    }
   },
   "outputs": [
    {
     "data": {
      "image/png": "[encoded data removed]",
      "text/plain": [
       "<Figure size 1584x432 with 1 Axes>"
      ]
     },
     "metadata": {
      "needs_background": "light"
     },
     "output_type": "display_data"
    }
   ],
   "source": [
    "a1,a2,_,_ = power_iter2(M,tol=1e-14)\n",
    "ans = sorted(np.linalg.eigvals(M))\n",
    "plt.figure(figsize=(22,6))\n",
    "eixo_x=np.arange(1,len(a1)+1)\n",
    "for j,aux in enumerate([a1,a2],start=1):\n",
    "    err_abs = []\n",
    "    for i in range(len(a1)):\n",
    "        err_abs.append(np.abs(aux[i] - ans[-j]))\n",
    "    plt.semilogy(eixo_x,err_abs,label=f\"{j}º maior autovalor\")\n",
    "plt.title(\"Erro Absoluto dos Autovalores\")\n",
    "plt.legend()\n",
    "plt.xlabel(\"Nº Iterações\")\n",
    "plt.ylabel(\"Erro Absoluto\")\n",
    "plt.legend()\n",
    "plt.grid()\n",
    "\n",
    "ax = plt.gca()\n",
    "plt.show();"
   ]
  },
  {
   "cell_type": "code",
   "execution_count": 10,
   "metadata": {
    "deletable": false,
    "editable": false,
    "nbgrader": {
     "cell_type": "code",
     "checksum": "fef439bc830be935ee5c7ac009585559",
     "grade": true,
     "grade_id": "cell-e988fe335a061f68",
     "locked": true,
     "points": 2,
     "schema_version": 3,
     "solution": false,
     "task": false
    }
   },
   "outputs": [],
   "source": [
    "assert ax.title.get_text() != \"\"\n",
    "assert len(ax.lines) == 2\n",
    "assert len(ax.get_legend().get_texts()) == 2"
   ]
  },
  {
   "cell_type": "code",
   "execution_count": 11,
   "metadata": {
    "deletable": false,
    "editable": false,
    "nbgrader": {
     "cell_type": "code",
     "checksum": "afc6633a8fa5255f9f7c427507f94196",
     "grade": true,
     "grade_id": "cell-dad2d51409dffbef",
     "locked": true,
     "points": 1,
     "schema_version": 3,
     "solution": false,
     "task": false
    }
   },
   "outputs": [],
   "source": [
    "for l in ax.lines:\n",
    "    ymin = min(l.get_ydata())\n",
    "    assert 0 <= ymin < 1e-14"
   ]
  },
  {
   "cell_type": "code",
   "execution_count": 12,
   "metadata": {
    "deletable": false,
    "editable": false,
    "nbgrader": {
     "cell_type": "code",
     "checksum": "2378354d7413763c3d7eae403fc68747",
     "grade": false,
     "grade_id": "cell-fa83a32c1e6f149b",
     "locked": true,
     "schema_version": 3,
     "solution": false,
     "task": false
    }
   },
   "outputs": [],
   "source": [
    "ax = None"
   ]
  },
  {
   "cell_type": "markdown",
   "metadata": {
    "deletable": false,
    "editable": false,
    "nbgrader": {
     "cell_type": "markdown",
     "checksum": "6e22234fed3831b917b80969a88271d4",
     "grade": false,
     "grade_id": "cell-a33f3b0b42865aab",
     "locked": true,
     "schema_version": 3,
     "solution": false,
     "task": false
    }
   },
   "source": [
    "Qual autovalor converge mais rápido?\n",
    "Porque?\n",
    "\n",
    "Use a primeira caixa para fazer cálculos que julgar necessário, e a segunda para a resposta e explicação."
   ]
  },
  {
   "cell_type": "code",
   "execution_count": 13,
   "metadata": {
    "deletable": false,
    "nbgrader": {
     "cell_type": "code",
     "checksum": "0a0e34d6f76510de635c6f5331c8bdc9",
     "grade": true,
     "grade_id": "cell-5e0c61d859e7fbdd",
     "locked": false,
     "points": 1,
     "schema_version": 3,
     "solution": true,
     "task": false
    }
   },
   "outputs": [],
   "source": [
    "#não foi necessária"
   ]
  },
  {
   "cell_type": "markdown",
   "metadata": {
    "deletable": false,
    "nbgrader": {
     "cell_type": "markdown",
     "checksum": "7a76aa1a041a41d82e9d3eac006890f1",
     "grade": true,
     "grade_id": "cell-e6004c892e8347a4",
     "locked": false,
     "points": 2,
     "schema_version": 3,
     "solution": true,
     "task": false
    }
   },
   "source": [
    "O Maior Autovelor converge mais rápido, o que faz sentido já que para o segundo autovalor convergir, o primeiro já tem que ter convergido, pois no algorítimo do método da potência, o cálculo do segundo autovetor depende do primeiro autovetor. e sendo assim é necessário que o primeiro já tenha convergido tornando a velocidade de convergencia do segundo autovetor dependente do passo anterior, tornando essa velocidade no mínimo linear com o número de iterações."
   ]
  },
  {
   "cell_type": "markdown",
   "metadata": {
    "deletable": false,
    "editable": false,
    "nbgrader": {
     "cell_type": "markdown",
     "checksum": "59afe117faed7f2f87a87ce0bcd2d48f",
     "grade": false,
     "grade_id": "cell-dd958c1b6b585456",
     "locked": true,
     "schema_version": 3,
     "solution": false,
     "task": false
    }
   },
   "source": [
    "## Questão 4: Falhas do método da potência\n",
    "\n",
    "Dê uma matriz $M$ para a qual o método da potência\n",
    "- converge para o maior autovalor\n",
    "- mas não converge para o segundo maior autovalor, em 1000 iterações,\n",
    "\n",
    "e faça gráficos que deixem isso claro.\n",
    "\n",
    "Não esqueça de título, legenda, etc. ;-)"
   ]
  },
  {
   "cell_type": "markdown",
   "metadata": {},
   "source": [
    "Matriz que faz o 2º maior autovalor oscilar entre -4 e $\\approx$ 0"
   ]
  },
  {
   "cell_type": "code",
   "execution_count": 14,
   "metadata": {},
   "outputs": [
    {
     "data": {
      "text/plain": [
       "[-0.008944266319827471, 0.008944266319827468, 11.121314151617183]"
      ]
     },
     "execution_count": 14,
     "metadata": {},
     "output_type": "execute_result"
    }
   ],
   "source": [
    "Mteste =[[0,0,7.99999],[0,11.1213141516171819,0],[0.00001,0,0]] \n",
    "sorted(np.linalg.eigvals(Mteste))"
   ]
  },
  {
   "cell_type": "code",
   "execution_count": 15,
   "metadata": {
    "deletable": false,
    "nbgrader": {
     "cell_type": "code",
     "checksum": "370cef6ac9fd0bc1f811dd41438f13cd",
     "grade": true,
     "grade_id": "cell-1088f588b9f52df8",
     "locked": false,
     "points": 2,
     "schema_version": 3,
     "solution": true,
     "task": false
    },
    "scrolled": false
   },
   "outputs": [
    {
     "data": {
      "image/png": "[encoded data removed]",
      "text/plain": [
       "<Figure size 1584x864 with 2 Axes>"
      ]
     },
     "metadata": {
      "needs_background": "light"
     },
     "output_type": "display_data"
    }
   ],
   "source": [
    "a_1,a_2,v1,v2=power_iter2(Mteste,tol=1e-14)\n",
    "ans = sorted(np.linalg.eigvals(Mteste))\n",
    "fig, (ax1,ax2) = plt.subplots(nrows=2,figsize=(22,12))\n",
    "eixo_x=np.arange(1,len(a_1)+1)\n",
    "\n",
    "ax1.plot(eixo_x,a_1,label=f\"1º maior autovalor\")\n",
    "ax1.plot(eixo_x,a_2,label=f\"2º maior autovalor\")\n",
    "for j,aux in enumerate([a_1,a_2],start=1):\n",
    "    err_abs = []\n",
    "    for i in range(len(a_1)):\n",
    "        err_abs.append(np.abs(aux[i] - ans[-j]))\n",
    "    ax2.semilogy(eixo_x,err_abs,label=f\"{i}º maior autovalor\")\n",
    "\n",
    "ax1.set_title(\"Candidato a Autovalor\")\n",
    "ax1.set_xlabel(\"Nº Iterações\")\n",
    "ax1.set_ylabel(\"Autovalor\")\n",
    "ax1.legend()\n",
    "ax1.grid()\n",
    "ax2.set_title(\"Candidato a Autovalor\")\n",
    "ax2.set_xlabel(\"Nº Iterações\")\n",
    "ax2.set_ylabel(\"Erro Absoluto\")\n",
    "ax2.grid()\n",
    "ax2.legend();"
   ]
  },
  {
   "cell_type": "markdown",
   "metadata": {
    "deletable": false,
    "editable": false,
    "nbgrader": {
     "cell_type": "markdown",
     "checksum": "ea6d5afa4b1aa2fb3381b818ee7b7fdc",
     "grade": false,
     "grade_id": "cell-cf1735263ae0d4aa",
     "locked": true,
     "schema_version": 3,
     "solution": false,
     "task": false
    }
   },
   "source": [
    "Agora, explique porque isso aconteceu.\n",
    "Se fossem realizadas mais iterações, o seu exemplo convirgiria?"
   ]
  },
  {
   "cell_type": "markdown",
   "metadata": {
    "deletable": false,
    "nbgrader": {
     "cell_type": "markdown",
     "checksum": "57040364b65b9896a75fca79c2643c6c",
     "grade": true,
     "grade_id": "cell-178c8d320772f357",
     "locked": false,
     "points": 2,
     "schema_version": 3,
     "solution": true,
     "task": false
    }
   },
   "source": [
    "O que aconteceu é que os outros autovalores são iguais mas de módulo diferente e muito menores que o maior autovalor, e por isso o método da potência não consegue achar o segundo maior autovalor, oscilando entre os dois valores ditos acima. Pode ser explicado por, no meio do método, os autovetores oscilarem entre $[-1,0,1]$ e um outro vetor que, ao ser iterado retorne $[-1,0,1]$, tornando assim impossível o método convergir já que o Maior autovetor já convergiu e não inlfuência mais na mudança do segundo maior autovetor."
   ]
  },
  {
   "cell_type": "markdown",
   "metadata": {},
   "source": [
    "Agora, dê uma matriz que tenha o comportamento oposto:\n",
    "- convergindo, com uma quantidade suficiente de iterações (ou seja, só \"faltou tempo\")\n",
    "- não convergindo, independente do número de iterações feitas (ou seja, tem algo \"a mais\")"
   ]
  },
  {
   "cell_type": "code",
   "execution_count": 16,
   "metadata": {},
   "outputs": [],
   "source": [
    "Mteste2 = [[1.03,0.0,0.0],[1.0,1.0,0.0],[0.0,0.0,2.0]]"
   ]
  },
  {
   "cell_type": "code",
   "execution_count": 17,
   "metadata": {
    "deletable": false,
    "nbgrader": {
     "cell_type": "code",
     "checksum": "c5656947d205a1fde500ac173fba1a7e",
     "grade": true,
     "grade_id": "cell-a7f78b40b55e1e62",
     "locked": false,
     "points": 2,
     "schema_version": 3,
     "solution": true,
     "task": false
    }
   },
   "outputs": [
    {
     "data": {
      "image/png": "[encoded data removed]",
      "text/plain": [
       "<Figure size 1584x864 with 2 Axes>"
      ]
     },
     "metadata": {
      "needs_background": "light"
     },
     "output_type": "display_data"
    }
   ],
   "source": [
    "a_3,a_4,_,_=power_iter2(Mteste2,tol=1e-14,maxiter=1000)\n",
    "ans = sorted(np.linalg.eigvals(Mteste2))\n",
    "fig, (ax1,ax2) = plt.subplots(nrows=2,figsize=(22,12))\n",
    "eixo_x=np.arange(1,len(a_3)+1)\n",
    "\n",
    "ax1.plot(eixo_x,a_3,label=f\"1º maior autovalor\")\n",
    "ax1.plot(eixo_x,a_4,label=f\"2º maior autovalor\")\n",
    "for j,aux in enumerate([a_3,a_4],start=1):\n",
    "    err_abs = []\n",
    "    for i in range(len(a_3)):\n",
    "        err_abs.append(np.abs(aux[i] - ans[-j]))\n",
    "    ax2.semilogy(eixo_x,err_abs,label=f\"{i}º maior autovalor\")\n",
    "\n",
    "ax1.set_title(\"Candidato a Autovalor\")\n",
    "ax1.set_xlabel(\"Nº Iterações\")\n",
    "ax1.set_ylabel(\"Autovalor\")\n",
    "ax1.legend()\n",
    "ax1.grid()\n",
    "ax2.set_title(\"Candidato a Autovalor\")\n",
    "ax2.set_xlabel(\"Nº Iterações\")\n",
    "ax2.set_ylabel(\"Erro Absoluto\")\n",
    "ax2.grid()\n",
    "ax2.legend();"
   ]
  }
 ],
 "metadata": {
  "kernelspec": {
   "display_name": "Python 3",
   "language": "python",
   "name": "python3"
  },
  "language_info": {
   "codemirror_mode": {
    "name": "ipython",
    "version": 3
   },
   "file_extension": ".py",
   "mimetype": "text/x-python",
   "name": "python",
   "nbconvert_exporter": "python",
   "pygments_lexer": "ipython3",
   "version": "3.8.5"
  },
  "toc": {
   "base_numbering": 1,
   "nav_menu": {},
   "number_sections": true,
   "sideBar": true,
   "skip_h1_title": true,
   "title_cell": "Table of Contents",
   "title_sidebar": "Contents",
   "toc_cell": false,
   "toc_position": {},
   "toc_section_display": true,
   "toc_window_display": false
  },
  "varInspector": {
   "cols": {
    "lenName": 16,
    "lenType": 16,
    "lenVar": 40
   },
   "kernels_config": {
    "python": {
     "delete_cmd_postfix": "",
     "delete_cmd_prefix": "del ",
     "library": "var_list.py",
     "varRefreshCmd": "print(var_dic_list())"
    },
    "r": {
     "delete_cmd_postfix": ") ",
     "delete_cmd_prefix": "rm(",
     "library": "var_list.r",
     "varRefreshCmd": "cat(var_dic_list()) "
    }
   },
   "types_to_exclude": [
    "module",
    "function",
    "builtin_function_or_method",
    "instance",
    "_Feature"
   ],
   "window_display": false
  }
 },
 "nbformat": 4,
 "nbformat_minor": 4
}
