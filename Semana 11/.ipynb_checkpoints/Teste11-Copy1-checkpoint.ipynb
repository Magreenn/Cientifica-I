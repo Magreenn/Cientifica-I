{
 "cells": [
  {
   "cell_type": "markdown",
   "metadata": {},
   "source": [
    "![CC-BY-SA](https://mirrors.creativecommons.org/presskit/buttons/88x31/svg/by-sa.svg)\n",
    "\n",
    "\n",
    "This notebook was created by [Bernardo Freitas Paulo da Costa](http://www.im.ufrj.br/bernardofpc),\n",
    "and Pedro Angelo Medeiros Fonini\n",
    "and is licensed under Creative Commons BY-SA."
   ]
  },
  {
   "cell_type": "markdown",
   "metadata": {},
   "source": [
    "Antes de enviar este Teste, verifique que tudo está funcionando como esperado.\n",
    "Por exemplo, **rode o código inteiro, do zero**.\n",
    "Para isso, vá no menu, escolha _Kernel_, depois _Restart & Run All_.\n",
    "\n",
    "Verifique, também, que você respondeu todas as questões:\n",
    "* as questões de código têm `YOUR CODE HERE` (e você pode apagar o `raise NotImplemented` ao incluir sua resposta)\n",
    "* as questões discursivas têm \"YOUR ANSWER HERE\"."
   ]
  },
  {
   "cell_type": "markdown",
   "metadata": {},
   "source": [
    "---"
   ]
  },
  {
   "cell_type": "code",
   "execution_count": 1,
   "metadata": {
    "deletable": false,
    "editable": false,
    "nbgrader": {
     "cell_type": "code",
     "checksum": "328804812cca21cbb421dbea9c07b45d",
     "grade": false,
     "grade_id": "cell-df173a9fe036316c",
     "locked": true,
     "schema_version": 3,
     "solution": false,
     "task": false
    }
   },
   "outputs": [],
   "source": [
    "import numpy as np\n",
    "import matplotlib.pyplot as plt"
   ]
  },
  {
   "cell_type": "code",
   "execution_count": 2,
   "metadata": {},
   "outputs": [],
   "source": [
    "from jupyterthemes import jtplot as jt\n",
    "jt.style(theme=\"gruvboxd\")"
   ]
  },
  {
   "cell_type": "markdown",
   "metadata": {
    "deletable": false,
    "editable": false,
    "nbgrader": {
     "cell_type": "markdown",
     "checksum": "1dbc932e5a28df5a3e4a67e9025cf5ea",
     "grade": false,
     "grade_id": "cell-570a548dddeee97f",
     "locked": true,
     "schema_version": 3,
     "solution": false,
     "task": false
    }
   },
   "source": [
    "# Encontrando os 2 maiores autovalores de uma matriz"
   ]
  },
  {
   "cell_type": "markdown",
   "metadata": {
    "deletable": false,
    "editable": false,
    "nbgrader": {
     "cell_type": "markdown",
     "checksum": "5f9d79b3256e6e2fedf697c6d1f5755a",
     "grade": false,
     "grade_id": "cell-a48f10ac8ad960d0",
     "locked": true,
     "schema_version": 3,
     "solution": false,
     "task": false
    }
   },
   "source": [
    "## Questão 1: Iterando\n",
    "\n",
    "Escreva abaixo a função `power_iter2`, que itera um **par** de vetores $u$ e $v$ pela matriz $A$,\n",
    "para calcular os 2 maiores autovalores (em módulo) de $A$, e retorna:\n",
    "- a lista de estimativas do maior autovalor $\\lambda_1$;\n",
    "- a lista de estimativas do segundo maior autovalor $\\lambda_2$;\n",
    "- a lista de estimativas do autovetor correspondente a $\\lambda_1$; e\n",
    "- a lista de estimativas do autovetor correspondente a $\\lambda_2$."
   ]
  },
  {
   "cell_type": "code",
   "execution_count": 3,
   "metadata": {
    "deletable": false,
    "nbgrader": {
     "cell_type": "code",
     "checksum": "3b884340e42aa5525106f91db4618cb1",
     "grade": false,
     "grade_id": "cell-8c588c74a722e9b3",
     "locked": false,
     "schema_version": 3,
     "solution": true,
     "task": false
    }
   },
   "outputs": [],
   "source": [
    "def power_iter2(A, tol=1e-6, maxiter=1000):\n",
    "    n,m = np.shape(A)\n",
    "    assert n==m, 'A must be square'\n",
    "    lista_aut1 = []\n",
    "    lista_aut2 = []\n",
    "    lista_v1 = []\n",
    "    lista_v2 = [] \n",
    "    err_abs_va = 10*tol\n",
    "    err_abs_vb = 10*tol\n",
    "    M = np.copy(A)\n",
    "    vetor_a = np.ones(n)\n",
    "    vetor_b = np.arange(-1,n-1,1)\n",
    "    new_va = M @ vetor_a\n",
    "    va_it = np.true_divide(new_va,np.linalg.norm(new_va))\n",
    "    new_vb = (M @ vetor_b - (np.dot(M @ vetor_b,va_it) * va_it))\n",
    "    aut_ant_va = np.dot(new_va,vetor_a)\n",
    "    aut_ant_vb = np.dot(new_vb,vetor_b)\n",
    "    lista_aut1.append(aut_ant_va)\n",
    "    lista_aut2.append(aut_ant_vb)\n",
    "    va_it = np.true_divide(new_va,np.linalg.norm(new_va))\n",
    "    vb_it = np.true_divide(new_vb,np.linalg.norm(new_vb))\n",
    "    lista_v1.append(np.true_divide(va_it,np.max(va_it)))\n",
    "    lista_v2.append(np.true_divide(vb_it,np.max(vb_it)))\n",
    "    i = 1\n",
    "    while i < maxiter and (err_abs_va > tol or err_abs_vb > tol):\n",
    "        #iterando para maior autovalor\n",
    "        new_va = M @ va_it\n",
    "        lista_v1.append(np.true_divide(new_va,np.max(np.abs(new_va))))\n",
    "        aut_va = np.dot(new_va,va_it)\n",
    "        lista_aut1.append(aut_va)\n",
    "        err_abs_va = np.abs((aut_va-aut_ant_va)/aut_va)\n",
    "        aut_ant_va = aut_va\n",
    "        va_it = np.true_divide(new_va,np.linalg.norm(new_va))\n",
    "        #iterando para segundo maior autovalor\n",
    "        aux = M @ vb_it\n",
    "        new_vb = (aux - (np.dot(aux,va_it) * va_it))\n",
    "        lista_v2.append(np.true_divide(new_vb,np.max(np.abs(new_vb))))\n",
    "        aut_vb = np.dot(new_vb,vb_it)\n",
    "        lista_aut2.append(aut_vb)\n",
    "        err_abs_vb = np.abs((aut_vb-aut_ant_vb)/aut_vb)\n",
    "        aut_ant_vb = aut_vb\n",
    "        vb_it = np.true_divide(new_vb,np.linalg.norm(new_vb))       \n",
    "        i += 1\n",
    "    return lista_aut1, lista_aut2,lista_v1,lista_v2\n"
   ]
  },
  {
   "cell_type": "markdown",
   "metadata": {},
   "source": [
    "Testando que tudo está funcionando corretamente:"
   ]
  },
  {
   "cell_type": "code",
   "execution_count": 5,
   "metadata": {
    "deletable": false,
    "editable": false,
    "nbgrader": {
     "cell_type": "code",
     "checksum": "72def6b62aa260a7a87a0eac761abf5a",
     "grade": true,
     "grade_id": "cell-447e44dceedac2d7",
     "locked": true,
     "points": 1,
     "schema_version": 3,
     "solution": false,
     "task": false
    }
   },
   "outputs": [],
   "source": [
    "A = [[1,2],[3,9]]\n",
    "l1s, l2s, v1s, v2s = power_iter2(A)\n",
    "\n",
    "assert len(l1s) == len(l2s)\n",
    "assert len(l1s) == len(v1s)\n",
    "assert len(l2s) == len(v2s)"
   ]
  },
  {
   "cell_type": "code",
   "execution_count": 6,
   "metadata": {
    "deletable": false,
    "editable": false,
    "nbgrader": {
     "cell_type": "code",
     "checksum": "37bc1b189c2381f8e95dd66a3c5ab3ec",
     "grade": true,
     "grade_id": "cell-f09b1018a972ca2c",
     "locked": true,
     "points": 1,
     "schema_version": 3,
     "solution": false,
     "task": false
    }
   },
   "outputs": [],
   "source": [
    "A = [[1,2],[3,9]]\n",
    "l1s, l2s, v1s, v2s = power_iter2(A, tol=1e-9)\n",
    "\n",
    "l2, l1 = sorted(np.linalg.eigvals(A))\n",
    "assert np.isclose(l1s[-1], l1)\n",
    "assert np.isclose(l2s[-1], l2)"
   ]
  },
  {
   "cell_type": "code",
   "execution_count": 7,
   "metadata": {
    "deletable": false,
    "editable": false,
    "nbgrader": {
     "cell_type": "code",
     "checksum": "16ffdd78adfc09a8d21a3421d83c8d55",
     "grade": true,
     "grade_id": "cell-51e6f0951b5e596a",
     "locked": true,
     "points": 1,
     "schema_version": 3,
     "solution": false,
     "task": false
    }
   },
   "outputs": [],
   "source": [
    "A = [[1,2,3],[4,5,6],[7,8,9]]\n",
    "l1s, l2s, v1s, v2s = power_iter2(A, tol=1e-9)\n",
    "\n",
    "l2, l3, l1 = sorted(np.linalg.eigvals(A))\n",
    "assert np.isclose(l1s[-1], l1)\n",
    "assert np.isclose(l2s[-1], l2)"
   ]
  },
  {
   "cell_type": "code",
   "execution_count": 8,
   "metadata": {
    "deletable": false,
    "editable": false,
    "nbgrader": {
     "cell_type": "code",
     "checksum": "17388ba3bdbabd958fa8457be89baff2",
     "grade": true,
     "grade_id": "cell-cb2f4b2ce1f02567",
     "locked": true,
     "points": 2,
     "schema_version": 3,
     "solution": false,
     "task": false
    }
   },
   "outputs": [],
   "source": [
    "np.random.seed(4321)\n",
    "A = np.random.rand(6,6)\n",
    "\n",
    "r = power_iter2(A, tol=1e-6)\n",
    "lens_6 = [len(x) for x in r]\n",
    "r = power_iter2(A, tol=1e-10)\n",
    "lens_10 = [len(x) for x in r]\n",
    "\n",
    "assert np.all(lens_6 < lens_10)\n",
    "assert np.all(np.equal(lens_6, lens_6[0]))\n",
    "assert np.all(np.equal(lens_10, lens_10[0]))"
   ]
  },
  {
   "cell_type": "markdown",
   "metadata": {},
   "source": [
    "## Questão 2: Mais testes"
   ]
  },
  {
   "cell_type": "markdown",
   "metadata": {
    "deletable": false,
    "editable": false,
    "nbgrader": {
     "cell_type": "markdown",
     "checksum": "cc5b2ec7f3ecb1514d9cac1df6d40173",
     "grade": false,
     "grade_id": "cell-59c688a1a32da724",
     "locked": true,
     "schema_version": 3,
     "solution": false,
     "task": false
    }
   },
   "source": [
    "Que outro teste pode ser feito com os valores de retorno de `power_iter2`,\n",
    "válidos para matrizes simétricas quaisquer (ou seja, geradas a partir de `np.random`)?\n",
    "\n",
    "Explique a ideia do seu teste abaixo, e dê um exemplo de uso na caixa seguinte."
   ]
  },
  {
   "cell_type": "markdown",
   "metadata": {
    "deletable": false,
    "nbgrader": {
     "cell_type": "markdown",
     "checksum": "d6ce6a644c84b5bbca175ceb4e388061",
     "grade": true,
     "grade_id": "cell-41ba87562eb08503",
     "locked": false,
     "points": 2,
     "schema_version": 3,
     "solution": true,
     "task": false
    }
   },
   "source": [
    "YOUR ANSWER HERE"
   ]
  },
  {
   "cell_type": "code",
   "execution_count": 9,
   "metadata": {
    "deletable": false,
    "nbgrader": {
     "cell_type": "code",
     "checksum": "3030f43f46622d35ee49112968342678",
     "grade": true,
     "grade_id": "cell-7e5ef20f3e4b1eee",
     "locked": false,
     "points": 2,
     "schema_version": 3,
     "solution": true,
     "task": false
    }
   },
   "outputs": [
    {
     "ename": "NotImplementedError",
     "evalue": "",
     "output_type": "error",
     "traceback": [
      "\u001b[1;31m---------------------------------------------------------------------------\u001b[0m",
      "\u001b[1;31mNotImplementedError\u001b[0m                       Traceback (most recent call last)",
      "\u001b[1;32m<ipython-input-9-15b94d1fa268>\u001b[0m in \u001b[0;36m<module>\u001b[1;34m\u001b[0m\n\u001b[0;32m      1\u001b[0m \u001b[1;31m# YOUR CODE HERE\u001b[0m\u001b[1;33m\u001b[0m\u001b[1;33m\u001b[0m\u001b[1;33m\u001b[0m\u001b[0m\n\u001b[1;32m----> 2\u001b[1;33m \u001b[1;32mraise\u001b[0m \u001b[0mNotImplementedError\u001b[0m\u001b[1;33m(\u001b[0m\u001b[1;33m)\u001b[0m\u001b[1;33m\u001b[0m\u001b[1;33m\u001b[0m\u001b[0m\n\u001b[0m",
      "\u001b[1;31mNotImplementedError\u001b[0m: "
     ]
    }
   ],
   "source": [
    "# YOUR CODE HERE\n",
    "raise NotImplementedError()"
   ]
  },
  {
   "cell_type": "markdown",
   "metadata": {
    "deletable": false,
    "editable": false,
    "nbgrader": {
     "cell_type": "markdown",
     "checksum": "7ad14e1b76596ceb87362b15e882c4c1",
     "grade": false,
     "grade_id": "cell-73be551ef9077a30",
     "locked": true,
     "schema_version": 3,
     "solution": false,
     "task": false
    }
   },
   "source": [
    "## Questão 3: Gráficos\n",
    "\n",
    "Considere a matriz $M$ abaixo."
   ]
  },
  {
   "cell_type": "code",
   "execution_count": 10,
   "metadata": {
    "deletable": false,
    "editable": false,
    "nbgrader": {
     "cell_type": "code",
     "checksum": "8efb3d2732350a4cc13e310748dbfe1d",
     "grade": false,
     "grade_id": "cell-5b97076072e4b45c",
     "locked": true,
     "schema_version": 3,
     "solution": false,
     "task": false
    }
   },
   "outputs": [],
   "source": [
    "np.random.seed(123)\n",
    "M = np.random.rand(6,6)"
   ]
  },
  {
   "cell_type": "markdown",
   "metadata": {
    "deletable": false,
    "editable": false,
    "nbgrader": {
     "cell_type": "markdown",
     "checksum": "06b0b90d6949fe73b1e6f74a6512f487",
     "grade": false,
     "grade_id": "cell-c14990e9a9b59a1f",
     "locked": true,
     "schema_version": 3,
     "solution": false,
     "task": false
    }
   },
   "source": [
    "Faça um gráfico do erro (absoluto) das estimativas dos dois maiores autovalores de $M$,\n",
    "em função do número de iterações feitas."
   ]
  },
  {
   "cell_type": "code",
   "execution_count": 12,
   "metadata": {
    "deletable": false,
    "nbgrader": {
     "cell_type": "code",
     "checksum": "df13586c8626f22fa7afa732bca9acb0",
     "grade": false,
     "grade_id": "cell-032315af3a690572",
     "locked": false,
     "schema_version": 3,
     "solution": true,
     "task": false
    }
   },
   "outputs": [
    {
     "name": "stdout",
     "output_type": "stream",
     "text": [
      "[(2.877023741965862+0j), (0.4368880124264166+0j), (-0.2787402714691582+0j), (0.06024649981241774+0j), (0.06966613010835121+0.17023908608507513j), (0.06966613010835121-0.17023908608507513j)]\n"
     ]
    },
    {
     "data": {
      "image/png": "[encoded data removed]",
      "text/plain": [
       "<Figure size 1440x432 with 1 Axes>"
      ]
     },
     "metadata": {},
     "output_type": "display_data"
    }
   ],
   "source": [
    "# YOUR CODE HERE\n",
    "aut1,aut2,_,_ = power_iter2(M, tol=1e-14)\n",
    "estimativa = [aut1,aut2]\n",
    "aut_real = list(np.linalg.eigvals(M))\n",
    "\n",
    "plt.figure(figsize=(20,6))\n",
    "Eixo_x = np.arange(1,len(aut1)+1)\n",
    "\n",
    "w = 0\n",
    "for aut in estimativa:\n",
    "    err_abs = []\n",
    "    w +=1\n",
    "    for x in range(len(aut1)):\n",
    "        err_abs.append(np.abs(aut[x] - aut_real[w-1]))\n",
    "    plt.semilogy(Eixo_x,err_abs,label=f\"{w}º maior autovalor\")\n",
    "    \n",
    "plt.title(\"Diferença Absoluta dos autovalores\")\n",
    "plt.legend();\n",
    "plt.xlabel(\"Iterações\")\n",
    "plt.ylabel(\"Erro Absoluto\")\n",
    "\n",
    "    \n",
    "ax = plt.gca()\n",
    "plt.show()"
   ]
  },
  {
   "cell_type": "code",
   "execution_count": 13,
   "metadata": {
    "deletable": false,
    "editable": false,
    "nbgrader": {
     "cell_type": "code",
     "checksum": "fef439bc830be935ee5c7ac009585559",
     "grade": true,
     "grade_id": "cell-e988fe335a061f68",
     "locked": true,
     "points": 2,
     "schema_version": 3,
     "solution": false,
     "task": false
    }
   },
   "outputs": [],
   "source": [
    "assert ax.title.get_text() != \"\"\n",
    "assert len(ax.lines) == 2\n",
    "assert len(ax.get_legend().get_texts()) == 2"
   ]
  },
  {
   "cell_type": "code",
   "execution_count": 14,
   "metadata": {
    "deletable": false,
    "editable": false,
    "nbgrader": {
     "cell_type": "code",
     "checksum": "afc6633a8fa5255f9f7c427507f94196",
     "grade": true,
     "grade_id": "cell-dad2d51409dffbef",
     "locked": true,
     "points": 1,
     "schema_version": 3,
     "solution": false,
     "task": false
    }
   },
   "outputs": [],
   "source": [
    "for l in ax.lines:\n",
    "    ymin = min(l.get_ydata())\n",
    "    assert 0 <= ymin < 1e-14"
   ]
  },
  {
   "cell_type": "code",
   "execution_count": 15,
   "metadata": {
    "deletable": false,
    "editable": false,
    "nbgrader": {
     "cell_type": "code",
     "checksum": "2378354d7413763c3d7eae403fc68747",
     "grade": false,
     "grade_id": "cell-fa83a32c1e6f149b",
     "locked": true,
     "schema_version": 3,
     "solution": false,
     "task": false
    }
   },
   "outputs": [],
   "source": [
    "ax = None"
   ]
  },
  {
   "cell_type": "markdown",
   "metadata": {
    "deletable": false,
    "editable": false,
    "nbgrader": {
     "cell_type": "markdown",
     "checksum": "6e22234fed3831b917b80969a88271d4",
     "grade": false,
     "grade_id": "cell-a33f3b0b42865aab",
     "locked": true,
     "schema_version": 3,
     "solution": false,
     "task": false
    }
   },
   "source": [
    "Qual autovalor converge mais rápido?\n",
    "Porque?\n",
    "\n",
    "Use a primeira caixa para fazer cálculos que julgar necessário, e a segunda para a resposta e explicação."
   ]
  },
  {
   "cell_type": "code",
   "execution_count": null,
   "metadata": {
    "deletable": false,
    "nbgrader": {
     "cell_type": "code",
     "checksum": "0a0e34d6f76510de635c6f5331c8bdc9",
     "grade": true,
     "grade_id": "cell-5e0c61d859e7fbdd",
     "locked": false,
     "points": 1,
     "schema_version": 3,
     "solution": true,
     "task": false
    }
   },
   "outputs": [],
   "source": [
    "# YOUR CODE HERE\n",
    "raise NotImplementedError()"
   ]
  },
  {
   "cell_type": "markdown",
   "metadata": {
    "deletable": false,
    "nbgrader": {
     "cell_type": "markdown",
     "checksum": "7a76aa1a041a41d82e9d3eac006890f1",
     "grade": true,
     "grade_id": "cell-e6004c892e8347a4",
     "locked": false,
     "points": 2,
     "schema_version": 3,
     "solution": true,
     "task": false
    }
   },
   "source": [
    "Podemos observar que o maior autovalor possui uma convergêcia mais rápida, convergendo para a mesma ordem de tolerância desejada antes da 20ª iteração.\n",
    "\n",
    "Para o segundo o maior autovalor, pode-se observar uma velocidade linear até a precisão desejada. Isto se dá pois....."
   ]
  },
  {
   "cell_type": "markdown",
   "metadata": {
    "deletable": false,
    "editable": false,
    "nbgrader": {
     "cell_type": "markdown",
     "checksum": "59afe117faed7f2f87a87ce0bcd2d48f",
     "grade": false,
     "grade_id": "cell-dd958c1b6b585456",
     "locked": true,
     "schema_version": 3,
     "solution": false,
     "task": false
    }
   },
   "source": [
    "## Questão 4: Falhas do método da potência\n",
    "\n",
    "Dê uma matriz $M$ para a qual o método da potência\n",
    "- converge para o maior autovalor\n",
    "- mas não converge para o segundo maior autovalor, em 1000 iterações,\n",
    "\n",
    "e faça gráficos que deixem isso claro.\n",
    "\n",
    "Não esqueça de título, legenda, etc. ;-)"
   ]
  },
  {
   "cell_type": "code",
   "execution_count": null,
   "metadata": {
    "deletable": false,
    "nbgrader": {
     "cell_type": "code",
     "checksum": "370cef6ac9fd0bc1f811dd41438f13cd",
     "grade": true,
     "grade_id": "cell-1088f588b9f52df8",
     "locked": false,
     "points": 2,
     "schema_version": 3,
     "solution": true,
     "task": false
    }
   },
   "outputs": [],
   "source": [
    "# YOUR CODE HERE\n",
    "raise NotImplementedError()"
   ]
  },
  {
   "cell_type": "markdown",
   "metadata": {
    "deletable": false,
    "editable": false,
    "nbgrader": {
     "cell_type": "markdown",
     "checksum": "ea6d5afa4b1aa2fb3381b818ee7b7fdc",
     "grade": false,
     "grade_id": "cell-cf1735263ae0d4aa",
     "locked": true,
     "schema_version": 3,
     "solution": false,
     "task": false
    }
   },
   "source": [
    "Agora, explique porque isso aconteceu.\n",
    "Se fossem realizadas mais iterações, o seu exemplo convirgiria?"
   ]
  },
  {
   "cell_type": "markdown",
   "metadata": {
    "deletable": false,
    "nbgrader": {
     "cell_type": "markdown",
     "checksum": "57040364b65b9896a75fca79c2643c6c",
     "grade": true,
     "grade_id": "cell-178c8d320772f357",
     "locked": false,
     "points": 2,
     "schema_version": 3,
     "solution": true,
     "task": false
    }
   },
   "source": [
    "YOUR ANSWER HERE"
   ]
  },
  {
   "cell_type": "markdown",
   "metadata": {},
   "source": [
    "Agora, dê uma matriz que tenha o comportamento oposto:\n",
    "- convergindo, com uma quantidade suficiente de iterações (ou seja, só \"faltou tempo\")\n",
    "- não convergindo, independente do número de iterações feitas (ou seja, tem algo \"a mais\")"
   ]
  },
  {
   "cell_type": "code",
   "execution_count": 21,
   "metadata": {
    "deletable": false,
    "nbgrader": {
     "cell_type": "code",
     "checksum": "c5656947d205a1fde500ac173fba1a7e",
     "grade": true,
     "grade_id": "cell-a7f78b40b55e1e62",
     "locked": false,
     "points": 2,
     "schema_version": 3,
     "solution": true,
     "task": false
    }
   },
   "outputs": [
    {
     "name": "stdout",
     "output_type": "stream",
     "text": [
      "2.0\n",
      "1.0006668886663947\n",
      "1500\n",
      "[2.8888888888888893, 1.6741654571843252, 1.4935085623257667, 1.3358384910109051, 1.2403169103681881, 1.186211749589375, 1.1537157522601926, 1.1321075143243022, 1.1163856757990274, 1.104214874410479, 1.0944135931557335, 1.0863132637627255, 1.079493974448794, 1.0736706338821593, 1.0686392771859103, 1.0642487680975534, 1.0603842813328066, 1.0569568804919152, 1.0538965782231344, 1.0511475413660123, 1.0486646885324513, 1.0464112250692639, 1.044356826030522, 1.0424762765498061, 1.0407484407490182, 1.0391554702496764, 1.0376821898329607, 1.0363156157147688, 1.035044574239167, 1.0338593974175048, 1.0327516778523493, 1.0317140699723133, 1.0307401276897612, 1.029824170932562, 1.0289611752360963, 1.0281466798810708, 1.0273767110444403, 1.026647717178895, 1.0259565144109217, 1.0253002401921538, 1.0246763137852246, 1.0240824024372555, 1.0235163923087562, 1.022976363396276, 1.022460567823344, 1.0219674109837056, 1.0214954351092103, 1.021043304906413, 1.020609794964411, 1.0201937786843447, 1.0197942185203333, 1.0194101573541883, 1.0190407108532051, 1.0186850606827904, 1.0183424484644512, 1.0180121703853957, 1.0176935723792373, 1.0173860458084514, 1.017089023588695, 1.0168019767031418, 1.0165244110617955, 1.0162558646666224, 1.0159959050483074, 1.0157441269447716, 1.0155001501952539, 1.0152636178269736, 1.0150341943141354, 1.0148115639914421, 1.0145954296063493, 1.014385510996119, 1.0141815438772945, 1.0139832787366159, 1.0137904798135908, 1.0136029241660112, 1.0134204008106285, 1.0132427099320322, 1.0130696621535042, 1.0129010778642475, 1.0127367865979797, 1.0125766264583747, 1.0124204435872712, 1.0122680916719982, 1.0121194314884865, 1.0119743304771807, 1.0118326623490286, 1.011694306719097, 1.0115591487655766, 1.0114270789121425, 1.0112979925318353, 1.0111717896707757, 1.0110483747901724, 1.010927656525244, 1.0108095474597563, 1.0106939639150203, 1.0105808257522744, 1.0104700561874744, 1.0103615816175875, 1.010255331457572, 1.010151237987272, 1.0100492362075495, 1.009949263704987, 1.0098512605245915, 1.0097551690499416, 1.009660933890276, 1.0095685017740643, 1.0094778214486242, 1.009388843585392, 1.0093015206904754, 1.0092158070201513, 1.0091316585009904, 1.0090490326543144, 1.008967888524722, 1.0088881866124157, 1.0088098888091124, 1.008732958337306, 1.0086573596926822, 1.008583058589505, 1.0085100219087797, 1.0084382176490483, 1.0083676148796499, 1.0082981836963067, 1.0082298951789073, 1.008162721351347, 1.00809663514333, 1.0080316103540037, 1.0079676216173317, 1.0079046443691126, 1.0078426548155441, 1.0077816299032591, 1.0077215472907501, 1.007662385321101, 1.0076041229959667, 1.0075467399507323, 1.0074902164307857, 1.007434533268845, 1.007379671863299, 1.0073256141574873, 1.0072723426198944, 1.0072198402251966, 1.007168090436123, 1.0071170771860953, 1.0070667848625967, 1.0070171982912508, 1.0069683027205514, 1.0069200838072432, 1.0068725276022905, 1.0068256205374304, 1.0067793494122648, 1.0067337013818825, 1.006688663944969, 1.006644224932399, 1.0066003724962695, 1.0065570950993776, 1.0065143815050979, 1.00647222076766, 1.0064306022227967, 1.006389515478754, 1.006348950407643, 1.0063088971371141, 1.0062693460423522, 1.0062302877383664, 1.0061917130725655, 1.0061536131176099, 1.0061159791645236, 1.006078802716061, 1.006042075480308, 1.0060057893645225, 1.0059699364691836, 1.0059345090822642, 1.0058994996737003, 1.0058649008900544, 1.00583070554937, 1.0057969066361976, 1.0057634972968037, 1.0057304708345307, 1.0056978207053286, 1.0056655405134296, 1.005633624007173, 1.005602065074969, 1.0055708577413973, 1.0055399961634373, 1.0055094746268203, 1.005479287542502, 1.0054494294432526, 1.0054198949803546, 1.0053906789204112, 1.0053617761422522, 1.0053331816339446, 1.0053048904898931, 1.005276897908037, 1.005249199187132, 1.0052217897241176, 1.0051946650115702, 1.005167820635228, 1.005141252271601, 1.005114955685646, 1.0050889267285188, 1.0050631613353929, 1.005037655523339, 1.0050124053892782, 1.004987407107988, 1.0049626569301717, 1.0049381511805837, 1.0049138862562101, 1.0048898586245034, 1.0048660648216663, 1.0048425014509916, 1.0048191651812413, 1.0047960527450788, 1.0047731609375443, 1.0047504866145733, 1.0047280266915548, 1.0047057781419377, 1.0046837379958646, 1.0046619033388575, 1.004640271310527, 1.0046188391033262, 1.004597603961338, 1.004576563179088, 1.0045557141004025, 1.0045350541172842, 1.0045145806688307, 1.0044942912401722, 1.004474183361443, 1.0044542546067805, 1.004434502593348, 1.0044149249803864, 1.0043955194682872, 1.004376283797695, 1.0043572157486294, 1.0043383131396308, 1.0043195738269282, 1.0043009957036289, 1.004282576698931, 1.004264314777351, 1.004246207937975, 1.004228254213728, 1.0042104516706631, 1.004192798407264, 1.0041752925537717, 1.0041579322715188, 1.0041407157522941, 1.004123641217707, 1.0041067069185785, 1.0040899111343435, 1.0040732521724705, 1.0040567283678865, 1.0040403380824312, 1.0040240797043067, 1.0040079516475573, 1.0039919523515466, 1.0039760802804598, 1.0039603339228087, 1.0039447117909537, 1.0039292124206345, 1.0039138343705123, 1.0038985762217252, 1.0038834365774485, 1.0038684140624707, 1.0038535073227774, 1.0038387150251435, 1.0038240358567336, 1.0038094685247199, 1.0037950117558947, 1.003780664296307, 1.0037664249108933, 1.003752292383128, 1.0037382655146754, 1.0037243431250498, 1.0037105240512862, 1.003696807147616, 1.003683191285149, 1.003669675351565, 1.0036562582508115, 1.0036429389028054, 1.0036297162431447, 1.0036165892228257, 1.0036035568079629, 1.00359061797952, 1.0035777717330432, 1.0035650170784018, 1.0035523530395336, 1.0035397786541949, 1.0035272929737193, 1.003514895062777, 1.003502583999141, 1.003490358873461, 1.0034782187890354, 1.003466162861597, 1.0034541902190934, 1.0034423000014812, 1.0034304913605163, 1.0034187634595548, 1.003407115473354, 1.003395546587879, 1.0033840560001146, 1.0033726429178762, 1.0033613065596323, 1.0033500461543212, 1.00333886094118, 1.0033277501695712, 1.0033167130988168, 1.0033057489980302, 1.0032948571459588, 1.003284036830824, 1.0032732873501637, 1.0032626080106875, 1.0032519981281185, 1.0032414570270534, 1.0032309840408176, 1.003220578511325, 1.0032102397889384, 1.0031999672323355, 1.0031897602083775, 1.0031796180919768, 1.0031695402659702, 1.0031595261209953, 1.0031495750553658, 1.0031396864749504, 1.0031298597930574, 1.0031200944303154, 1.0031103898145617, 1.0031007453807308, 1.0030911605707415, 1.0030816348333949, 1.0030721676242613, 1.0030627584055833, 1.003053406646171, 1.0030441118213007, 1.0030348734126207, 1.0030256909080504, 1.0030165638016895, 1.003007491593722, 1.0029984737903272, 1.0029895099035895, 1.0029805994514094, 1.00297174195742, 1.0029629369508963, 1.0029541839666791, 1.002945482545088, 1.0029368322318417, 1.002928232577981, 1.002919683139789, 1.0029111834787159, 1.0029027331613036, 1.0028943317591132, 1.0028859788486482, 1.0028776740112912, 1.0028694168332257, 1.002861206905373, 1.0028530438233232, 1.0028449271872655, 1.002836856601929, 1.0028288316765126, 1.0028208520246276, 1.0028129172642302, 1.002805027017564, 1.0027971809110987, 1.0027893785754716, 1.0027816196454309, 1.0027739037597747, 1.0027662305612999, 1.002758599696744, 1.0027510108167326, 1.0027434635757226, 1.0027359576319557, 1.0027284926474012, 1.0027210682877075, 1.002713684222154, 1.002706340123598, 1.0026990356684302, 1.0026917705365246, 1.0026845444111931, 1.0026773569791385, 1.0026702079304106, 1.00266309695836, 1.0026560237595963, 1.002648988033942, 1.0026419894843932, 1.0026350278170755, 1.0026281027412043, 1.0026212139690438, 1.002614361215866, 1.0026075441999138, 1.0026007626423614, 1.0025940162672746, 1.0025873048015759, 1.002580627975006, 1.0025739855200893, 1.0025673771720949, 1.0025608026690054, 1.0025542617514798, 1.0025477541628196, 1.0025412796489352, 1.0025348379583152, 1.0025284288419891, 1.0025220520535003, 1.002515707348872, 1.0025093944865735, 1.0025031132274966, 1.0024968633349178, 1.0024906445744735, 1.0024844567141284, 1.0024782995241481, 1.0024721727770691, 1.0024660762476716, 1.0024600097129535, 1.0024539729520994, 1.0024479657464571, 1.0024419878795103, 1.002436039136853, 1.0024301193061609, 1.0024242281771716, 1.0024183655416536, 1.0024125311933878, 1.0024067249281385, 1.0024009465436312, 1.0023951958395305, 1.0023894726174145, 1.0023837766807548, 1.00237810783489, 1.0023724658870077, 1.0023668506461227, 1.0023612619230486, 1.002355699530386, 1.002350163282496, 1.0023446529954798, 1.0023391684871599, 1.0023337095770588, 1.0023282760863825, 1.0023228678379927, 1.0023174846563985, 1.0023121263677293, 1.0023067927997202, 1.00230148378169, 1.0022961991445274, 1.0022909387206693, 1.002285702344086, 1.0022804898502602, 1.0022753010761731, 1.0022701358602875, 1.0022649940425268, 1.0022598754642642, 1.002254779968301, 1.002249707398855, 1.0022446576015414, 1.0022396304233607, 1.002234625712677, 1.0022296433192108, 1.002224683094017, 1.0022197448894743, 1.00221482855927, 1.0022099339583825, 1.002205060943071, 1.0022002093708584, 1.0021953791005211, 1.0021905699920703, 1.0021857819067423, 1.0021810147069843, 1.00217626825644, 1.0021715424199376, 1.002166837063478, 1.0021621520542194, 1.0021574872604682, 1.0021528425516633, 1.0021482177983652, 1.0021436128722458, 1.0021390276460747, 1.0021344619937058, 1.0021299157900705, 1.0021253889111617, 1.0021208812340248, 1.0021163926367456, 1.00211192299844, 1.002107472199244, 1.0021030401203004, 1.0020986266437495, 1.0020942316527217, 1.0020898550313204, 1.0020854966646184, 1.0020811564386456, 1.0020768342403754, 1.0020725299577224, 1.0020682434795256, 1.0020639746955424, 1.0020597234964388, 1.00205548977378, 1.0020512734200198, 1.0020470743284935, 1.002042892393408, 1.0020387275098321, 1.002034579573691, 1.0020304484817506, 1.0020263341316171, 1.0020222364217253, 1.0020181552513276, 1.0020140905204895, 1.0020100421300793, 1.002006009981761, 1.002001993977986, 1.001997994021986, 1.0019940100177631, 1.001990041870085, 1.0019860894844745, 1.0019821527672053, 1.0019782316252905, 1.0019743259664795, 1.0019704356992472, 1.0019665607327901, 1.0019627009770171, 1.0019588563425408, 1.001955026740676, 1.0019512120834282, 1.001947412283488, 1.0019436272542248, 1.001939856909682, 1.0019361011645658, 1.0019323599342433, 1.001928633134736, 1.0019249206827074, 1.001921222495467, 1.0019175384909542, 1.001913868587739, 1.001910212705013, 1.0019065707625827, 1.0019029426808677, 1.00189932838089, 1.0018957277842715, 1.0018921408132266, 1.0018885673905582, 1.0018850074396504, 1.0018814608844635, 1.0018779276495313, 1.0018744076599506, 1.0018709008413804, 1.0018674071200342, 1.001863926422677, 1.0018604586766162, 1.001857003809703, 1.001853561750319, 1.001850132427379, 1.0018467157703217, 1.0018433117091068, 1.0018399201742085, 1.0018365410966124, 1.00183317440781, 1.0018298200397941, 1.0018264779250545, 1.0018231479965731, 1.00181983018782, 1.0018165244327488, 1.0018132306657908, 1.0018099488218544, 1.0018066788363162, 1.0018034206450195, 1.001800174184271, 1.0017969393908328, 1.0017937162019224, 1.0017905045552074, 1.0017873043887986, 1.001784115641251, 1.0017809382515566, 1.0017777721591399, 1.0017746173038573, 1.0017714736259897, 1.0017683410662424, 1.0017652195657374, 1.0017621090660123, 1.0017590095090168, 1.001755920837107, 1.0017528429930445, 1.0017497759199907, 1.0017467195615046, 1.0017436738615386, 1.0017406387644345, 1.0017376142149221, 1.0017346001581149, 1.0017315965395055, 1.0017286033049642, 1.001725620400734, 1.0017226477734296, 1.001719685370032, 1.0017167331378862, 1.0017137910246983, 1.0017108589785337, 1.0017079369478101, 1.0017050248812989, 1.0017021227281189, 1.0016992304377361, 1.001696347959958, 1.0016934752449338, 1.0016906122431481, 1.001687758905421, 1.0016849151829028, 1.0016820810270737, 1.0016792563897399, 1.001676441223029, 1.0016736354793916, 1.0016708391115936, 1.0016680520727181, 1.0016652743161594, 1.001662505795622, 1.001659746465119, 1.001656996278966, 1.001654255191782, 1.0016515231584866, 1.0016488001342967, 1.0016460860747214, 1.001643380935566, 1.0016406846729227, 1.0016379972431741, 1.001635318602986, 1.0016326487093077, 1.0016299875193702, 1.001627334990682, 1.0016246910810265, 1.0016220557484643, 1.001619428951325, 1.0016168106482077, 1.0016142007979807, 1.0016115993597756, 1.001609006292988, 1.0016064215572742, 1.0016038451125489, 1.0016012769189844, 1.0015987169370064, 1.001596165127295, 1.0015936214507797, 1.0015910858686388, 1.0015885583422974, 1.0015860388334248, 1.001583527303935, 1.0015810237159808, 1.0015785280319545, 1.0015760402144853, 1.001573560226439, 1.0015710880309132, 1.0015686235912376, 1.0015661668709719, 1.0015637178339023, 1.0015612764440436, 1.001558842665633, 1.0015564164631316, 1.0015539978012196, 1.0015515866447993, 1.001549182958987, 1.0015467867091183, 1.0015443978607406, 1.001542016379614, 1.0015396422317109, 1.001537275383211, 1.0015349158005034, 1.001532563450182, 1.0015302182990462, 1.0015278803140966, 1.0015255494625377, 1.0015232257117717, 1.0015209090293997, 1.00151859938322, 1.0015162967412266, 1.0015140010716055, 1.0015117123427368, 1.0015094305231913, 1.0015071555817288, 1.0015048874872965, 1.0015026262090294, 1.0015003717162485, 1.0014981239784562, 1.0014958829653386, 1.0014936486467645, 1.0014914209927792, 1.001489199973609, 1.0014869855596562, 1.0014847777215, 1.0014825764298925, 1.0014803816557591, 1.0014781933701988, 1.0014760115444803, 1.0014738361500402, 1.0014716671584853, 1.0014695045415896, 1.0014673482712904, 1.0014651983196912, 1.0014630546590586, 1.0014609172618205, 1.0014587861005668, 1.0014566611480464, 1.0014545423771666, 1.0014524297609924, 1.0014503232727454, 1.0014482228858015, 1.0014461285736915, 1.0014440403100984, 1.0014419580688574, 1.001439881823954, 1.0014378115495233, 1.00143574721985, 1.0014336888093651, 1.001431636292646, 1.0014295896444163, 1.0014275488395432, 1.0014255138530377, 1.0014234846600532, 1.0014214612358836, 1.0014194435559627, 1.0014174315958664, 1.0014154253313052, 1.0014134247381292, 1.0014114297923242, 1.0014094404700118, 1.0014074567474476, 1.0014054786010202, 1.001403506007252, 1.0014015389427957, 1.001399577384436, 1.0013976213090856, 1.0013956706937888, 1.0013937255157148, 1.0013917857521626, 1.0013898513805553, 1.0013879223784425, 1.0013859987234979, 1.0013840803935192, 1.0013821673664267, 1.0013802596202621, 1.0013783571331882, 1.001376459883489, 1.0013745678495667, 1.001372681009943, 1.0013707993432566, 1.001368922828264, 1.0013670514438373, 1.001365185168964, 1.0013633239827457, 1.0013614678644005, 1.0013596167932546, 1.001357770748751, 1.0013559297104424, 1.0013540936579919, 1.0013522625711735, 1.0013504364298687, 1.0013486152140711, 1.001346798903878, 1.0013449874794964, 1.0013431809212383, 1.0013413792095216, 1.001339582324871, 1.0013377902479113, 1.0013360029593763, 1.0013342204400966, 1.0013324426710106, 1.001330669633154, 1.0013289013076656, 1.001327137675783, 1.0013253787188447, 1.0013236244182862, 1.001321874755643, 1.0013201297125471, 1.0013183892707278, 1.0013166534120093, 1.0013149221183124, 1.0013131953716545, 1.0013114731541446, 1.0013097554479866, 1.0013080422354776, 1.001306333499007, 1.0013046292210563, 1.0013029293841982, 1.001301233971096, 1.0012995429645035, 1.001297856347263, 1.0012961741023072, 1.0012944962126558, 1.001292822661418, 1.0012911534317885, 1.0012894885070491, 1.0012878278705686, 1.001286171505801, 1.0012845193962843, 1.0012828715256419, 1.0012812278775816, 1.0012795884358934, 1.0012779531844511, 1.0012763221072098, 1.0012746951882083, 1.0012730724115646, 1.0012714537614784, 1.0012698392222295, 1.001268228778178, 1.0012666224137619, 1.0012650201134996, 1.0012634218619871, 1.001261827643897, 1.0012602374439812, 1.001258651247067, 1.0012570690380573, 1.001255490801934, 1.0012539165237506, 1.001252346188637, 1.001250779781798, 1.0012492172885121, 1.00124765869413, 1.0012461039840779, 1.0012445531438519, 1.001243006159022, 1.0012414630152298, 1.0012399236981862, 1.0012383881936746, 1.0012368564875493, 1.001235328565733, 1.001233804414219, 1.0012322840190684, 1.0012307673664118, 1.0012292544424477, 1.001227745233443, 1.0012262397257314, 1.001224737905713, 1.0012232397598562, 1.0012217452746932, 1.0012202544368236, 1.0012187672329123, 1.0012172836496878, 1.0012158036739442, 1.0012143272925405, 1.0012128544923977, 1.0012113852605014, 1.0012099195838988, 1.0012084574497022, 1.0012069988450836, 1.001205543757278, 1.0012040921735819, 1.0012026440813528, 1.0012011994680097, 1.001199758321029, 1.0011983206279513, 1.0011968863763743, 1.001195455553956, 1.0011940281484117, 1.0011926041475174, 1.0011911835391063, 1.0011897663110698, 1.0011883524513563, 1.0011869419479724, 1.0011855347889809, 1.0011841309625011, 1.0011827304567078, 1.001181333259834, 1.0011799393601666, 1.001178548746047, 1.001177161405873, 1.001175777328096, 1.0011743965012225, 1.0011730189138122, 1.0011716445544787, 1.0011702734118881, 1.001168905474761, 1.00116754073187, 1.0011661791720403, 1.0011648207841473, 1.001163465557122, 1.0011621134799427, 1.0011607645416412, 1.0011594187313, 1.0011580760380525, 1.00115673645108, 1.0011553999596179, 1.0011540665529468, 1.0011527362204005, 1.0011514089513591, 1.0011500847352544, 1.0011487635615628, 1.0011474454198128, 1.00114613029958, 1.001144818190486, 1.0011435090822016, 1.0011422029644441, 1.0011408998269775, 1.0011395996596133, 1.0011383024522091, 1.001137008194668, 1.0011357168769397, 1.001134428489019, 1.0011331430209462, 1.0011318604628074, 1.001130580804732, 1.0011293040368954, 1.0011280301495165, 1.0011267591328588, 1.0011254909772294, 1.0011242256729795, 1.0011229632105019, 1.0011217035802353, 1.0011204467726578, 1.0011191927782943, 1.0011179415877085, 1.0011166931915076, 1.00111544758034, 1.0011142047448982, 1.0011129646759138, 1.001111727364159, 1.001110492800449, 1.0011092609756391, 1.0011080318806247, 1.001106805506342, 1.001105581843767, 1.0011043608839156, 1.0011031426178436, 1.0011019270366448, 1.0011007141314547, 1.0010995038934467, 1.0010982963138317, 1.0010970913838608, 1.0010958890948227, 1.0010946894380446, 1.001093492404891, 1.0010922979867651, 1.0010911061751073, 1.0010899169613945, 1.0010887303371416, 1.0010875462939008, 1.0010863648232589, 1.0010851859168421, 1.0010840095663107, 1.001082835763363, 1.0010816644997302, 1.0010804957671822, 1.0010793295575242, 1.0010781658625953, 1.0010770046742696, 1.0010758459844584, 1.0010746897851053, 1.0010735360681902, 1.0010723848257261, 1.0010712360497611, 1.0010700897323774, 1.0010689458656905, 1.0010678044418497, 1.0010666654530385, 1.0010655288914727, 1.0010643947494016, 1.0010632630191074, 1.0010621336929053, 1.0010610067631442, 1.0010598822222025, 1.0010587600624943, 1.001057640276463, 1.0010565228565853, 1.00105540779537, 1.001054295085357, 1.0010531847191162, 1.0010520766892517, 1.001050970988396, 1.0010498676092145, 1.0010487665444021, 1.0010476677866853, 1.0010465713288201, 1.0010454771635924, 1.0010443852838207, 1.0010432956823505, 1.0010422083520591, 1.0010411232858525, 1.0010400404766662, 1.001038959917466, 1.0010378816012462, 1.00103680552103, 1.001035731669869, 1.0010346600408457, 1.0010335906270689, 1.001032523421677, 1.0010314584178361, 1.0010303956087416, 1.0010293349876156, 1.0010282765477083, 1.0010272202822983, 1.0010261661846918, 1.0010251142482212, 1.0010240644662478, 1.001023016832159, 1.00102197133937, 1.001020927981322, 1.001019886751484, 1.0010188476433506, 1.001017810650443, 1.0010167757663104, 1.0010157429845254, 1.001014712298689, 1.001013683702427, 1.0010126571893916, 1.0010116327532605, 1.0010106103877365, 1.0010095900865492, 1.001008571843451, 1.0010075556522224, 1.0010065415066665, 1.001005529400613, 1.0010045193279156, 1.0010035112824522, 1.001002505258127, 1.0010015012488678, 1.0010004992486246, 1.0009994992513747, 1.0009985012511171, 1.0009975052418778, 1.0009965112177024, 1.0009955191726638, 1.0009945291008562, 1.0009935409963988, 1.000992554853433, 1.0009915706661245, 1.0009905884286614, 1.0009896081352545, 1.0009886297801387, 1.0009876533575701, 1.0009866788618291, 1.0009857062872176, 1.00098473562806, 1.0009837668787034, 1.0009828000335166, 1.0009818350868915, 1.0009808720332405, 1.000979910867, 1.0009789515826266, 1.0009779941745978, 1.000977038637415, 1.0009760849655998, 1.000975133153695, 1.000974183196265, 1.0009732350878955, 1.0009722888231922, 1.0009713443967843, 1.000970401803318, 1.0009694610374644, 1.0009685220939117, 1.0009675849673718, 1.0009666496525738, 1.0009657161442698, 1.000964784437231, 1.0009638545262491, 1.0009629264061357, 1.000962000071722, 1.00096107551786, 1.0009601527394203, 1.0009592317312936, 1.0009583124883916, 1.0009573950056427, 1.0009564792779975, 1.0009555653004245, 1.0009546530679105, 1.0009537425754644, 1.0009528338181102, 1.0009519267908946, 1.0009510214888797, 1.0009501179071496, 1.000949216040805, 1.000948315884966, 1.0009474174347697, 1.0009465206853738, 1.0009456256319542, 1.0009447322697027, 1.0009438405938313, 1.0009429505995697, 1.0009420622821648, 1.0009411756368825, 1.000940290659006, 1.0009394073438358, 1.0009385256866903, 1.0009376456829062, 1.000936767327837, 1.0009358906168537, 1.0009350155453436, 1.0009341421087137, 1.000933270302385, 1.0009324001217992, 1.0009315315624112, 1.0009306646196952, 1.000929799289142, 1.000928935566259, 1.00092807344657, 1.000927212925615, 1.0009263539989508, 1.000925496662152, 1.0009246409108075, 1.0009237867405245, 1.0009229341469237, 1.000922083125645, 1.0009212336723423, 1.0009203857826867, 1.0009195394523647, 1.0009186946770783, 1.000917851452545, 1.0009170097745002, 1.000916169638692, 1.000915331040886, 1.0009144939768633, 1.0009136584424188, 1.0009128244333645, 1.0009119919455265, 1.000911160974747, 1.0009103315168826, 1.000909503567806, 1.0009086771234035, 1.000907852179577, 1.0009070287322435, 1.0009062067773344, 1.0009053863107966, 1.0009045673285912, 1.0009037498266926, 1.0009029338010926, 1.0009021192477945, 1.0009013061628178, 1.0009004945421964, 1.0008996843819769, 1.000898875678222, 1.0008980684270072, 1.0008972626244226, 1.000896458266573, 1.0008956553495756, 1.0008948538695623, 1.0008940538226798, 1.0008932552050869, 1.0008924580129568, 1.000891662242477, 1.0008908678898472, 1.0008900749512828, 1.0008892834230094, 1.0008884933012694, 1.0008877045823172, 1.0008869172624186, 1.0008861313378559, 1.000885346804923, 1.000884563659926, 1.000883781899186, 1.0008830015190353, 1.000882222515821, 1.0008814448859003, 1.000880668625647, 1.0008798937314445, 1.0008791201996896, 1.0008783480267933, 1.0008775772091774, 1.0008768077432768, 1.0008760396255403, 1.000875272852426, 1.0008745074204075, 1.0008737433259698, 1.000872980565608, 1.0008722191358337, 1.0008714590331667, 1.0008707002541406, 1.0008699427953012, 1.0008691866532067, 1.000868431824425, 1.000867678305539, 1.0008669260931413, 1.000866175183837, 1.000865425574243, 1.000864677260988, 1.0008639302407116, 1.0008631845100664, 1.0008624400657151, 1.0008616969043322, 1.000860955022605, 1.0008602144172305, 1.000859475084918, 1.0008587370223876, 1.0008580002263703, 1.0008572646936105, 1.0008565304208612, 1.0008557974048868, 1.0008550656424644, 1.000854335130381, 1.0008536058654345, 1.0008528778444339, 1.000852151064199, 1.0008514255215621, 1.0008507012133618, 1.000849978136453, 1.0008492562876967, 1.0008485356639683, 1.0008478162621508, 1.0008470980791397, 1.0008463811118395, 1.0008456653571665, 1.000844950812047, 1.0008442374734172, 1.0008435253382242, 1.000842814403425, 1.000842104665987, 1.0008413961228877, 1.0008406887711159, 1.000839982607668, 1.0008392776295536, 1.000838573833789, 1.0008378712174035, 1.000837169777435, 1.0008364695109315, 1.0008357704149495, 1.000835072486558, 1.0008343757228337, 1.0008336801208644, 1.0008329856777465, 1.0008322923905857, 1.0008316002564992, 1.0008309092726129, 1.0008302194360605, 1.000829530743989, 1.0008288431935501, 1.0008281567819093, 1.0008274715062395, 1.0008267873637224, 1.00082610435155, 1.000825422466923, 1.0008247417070517, 1.0008240620691564, 1.000823383550464, 1.000822706148214, 1.000822029859652, 1.0008213546820337, 1.0008206806126247, 1.0008200076486977, 1.0008193357875366, 1.0008186650264321, 1.0008179953626857, 1.0008173267936058, 1.0008166593165102, 1.0008159929287272, 1.0008153276275913, 1.0008146634104467, 1.0008140002746464, 1.0008133382175521, 1.000812677236534, 1.0008120173289712, 1.0008113584922491, 1.0008107007237648, 1.000810044020922, 1.0008093883811333, 1.000808733801819, 1.000808080280409, 1.0008074278143397, 1.0008067764010582, 1.0008061260380172, 1.0008054767226797, 1.0008048284525162, 1.0008041812250037, 1.0008035350376303, 1.0008028898878902, 1.0008022457732864, 1.000801602691329, 1.0008009606395365, 1.0008003196154367, 1.000799679616563, 1.0007990406404583, 1.0007984026846728, 1.0007977657467648, 1.0007971298242997, 1.000796494914851, 1.0007958610160008, 1.0007952281253376, 1.0007945962404585, 1.0007939653589666, 1.0007933354784753, 1.0007927065966038, 1.0007920787109792, 1.0007914518192351, 1.0007908259190144, 1.0007902010079666, 1.000789577083749, 1.0007889541440242, 1.000788332186466, 1.0007877112087522, 1.0007870912085692, 1.0007864721836108, 1.000785854131578, 1.0007852370501789, 1.000784620937128, 1.0007840057901485, 1.0007833916069704, 1.0007827783853287, 1.000782166122969, 1.000781554817641, 1.000780944467103, 1.0007803350691196, 1.0007797266214626, 1.000779119121911, 1.0007785125682505, 1.0007779069582734, 1.0007773022897792, 1.0007766985605742, 1.000776095768471, 1.0007754939112903, 1.000774892986858, 1.0007742929930081, 1.0007736939275804, 1.0007730957884209, 1.0007724985733837, 1.0007719022803292, 1.0007713069071233, 1.0007707124516394, 1.000770118911757, 1.0007695262853626, 1.0007689345703492, 1.0007683437646155, 1.0007677538660682, 1.0007671648726182, 1.0007665767821847, 1.000765989592692, 1.000765403302072, 1.0007648179082624, 1.0007642334092064, 1.0007636498028551, 1.0007630670871637, 1.000762485260096, 1.0007619043196203, 1.0007613242637112, 1.000760745090351, 1.0007601667975266, 1.000759589383231, 1.0007590128454642, 1.000758437182232, 1.0007578623915456, 1.0007572884714229, 1.0007567154198875, 1.0007561432349696, 1.0007555719147039, 1.000755001457133, 1.0007544318603034, 1.0007538631222692, 1.0007532952410891, 1.000752728214829, 1.000752162041559, 1.0007515967193552, 1.0007510322463011, 1.0007504686204856, 1.0007499058400005, 1.0007493439029471, 1.000748782807431, 1.0007482225515623, 1.0007476631334575, 1.0007471045512395, 1.0007465468030365, 1.0007459898869817, 1.0007454338012136, 1.0007448785438775, 1.0007443241131235, 1.0007437705071067, 1.0007432177239888, 1.0007426657619367, 1.0007421146191213, 1.000741564293721, 1.000741014783918, 1.0007404660879002, 1.0007399182038628, 1.0007393711300039, 1.0007388248645273, 1.0007382794056432, 1.0007377347515656, 1.0007371909005154, 1.000736647850718, 1.0007361056004034, 1.000735564147808, 1.0007350234911725, 1.0007344836287428, 1.0007339445587708, 1.000733406279512, 1.000732868789229, 1.0007323320861878, 1.0007317961686601, 1.0007312610349228, 1.0007307266832575, 1.0007301931119514, 1.0007296603192963, 1.0007291283035888, 1.0007285970631299, 1.000728066596228, 1.0007275369011928, 1.0007270079763426, 1.0007264798199975, 1.0007259524304846, 1.0007254258061353, 1.0007248999452847, 1.0007243748462733, 1.0007238505074487, 1.0007233269271596, 1.0007228041037612, 1.0007222820356143, 1.0007217607210834, 1.0007212401585375, 1.000720720346351, 1.0007202012829022, 1.000719682966575, 1.0007191653957574, 1.000718648568842, 1.0007181324842265, 1.0007176171403125, 1.0007171025355062, 1.0007165886682194, 1.0007160755368674, 1.0007155631398708, 1.0007150514756535, 1.0007145405426447, 1.000714030339279, 1.0007135208639941, 1.0007130121152323, 1.0007125040914409, 1.0007119967910718, 1.0007114902125802, 1.0007109843544266, 1.0007104792150758, 1.0007099747929964, 1.0007094710866622, 1.0007089680945513, 1.0007084658151444, 1.0007079642469285, 1.000707463388394, 1.0007069632380365, 1.0007064637943546, 1.000705965055851, 1.0007054670210345, 1.0007049696884156, 1.000704473056511, 1.000703977123841, 1.000703481888929, 1.0007029873503046, 1.0007024935065003, 1.0007020003560516, 1.0007015078975, 1.000701016129391, 1.0007005250502732, 1.000700034658699, 1.000699544953226, 1.0006990559324151, 1.0006985675948328, 1.0006980799390466, 1.0006975929636304, 1.0006971066671606, 1.0006966210482193, 1.000696136105391, 1.000695651837265, 1.0006951682424334, 1.0006946853194947, 1.0006942030670476, 1.0006937214836977, 1.0006932405680533, 1.0006927603187274, 1.0006922807343346, 1.0006918018134974, 1.0006913235548365, 1.0006908459569823, 1.0006903690185642, 1.0006898927382184, 1.0006894171145837, 1.0006889421463028, 1.000688467832022, 1.0006879941703914, 1.000687521160065, 1.0006870487997002, 1.000686577087958, 1.0006861060235048, 1.0006856356050073, 1.000685165831139, 1.0006846967005754, 1.0006842282119952, 1.000683760364083, 1.0006832931555247, 1.0006828265850103, 1.0006823606512343, 1.0006818953528935, 1.0006814306886895, 1.0006809666573264, 1.0006805032575123, 1.0006800404879594, 1.0006795783473823, 1.0006791168344995, 1.0006786559480323, 1.0006781956867077, 1.0006777360492536, 1.0006772770344028, 1.000676818640891, 1.0006763608674574, 1.0006759037128448, 1.0006754471757993, 1.0006749912550699, 1.0006745359494105, 1.0006740812575763, 1.0006736271783268, 1.0006731737104253, 1.0006727208526383, 1.0006722686037344, 1.0006718169624869, 1.0006713659276727, 1.0006709154980689, 1.000670465672461, 1.0006700164496334, 1.0006695678283757, 1.0006691198074797, 1.000668672385742, 1.000668225561961, 1.0006677793349386, 1.0006673337034808, 1.0006668886663947]\n"
     ]
    }
   ],
   "source": [
    "#converge com muitas iterações, matriz não diagonalizável\n",
    "M = [[1.0,0.0,0.0],[1.0,1.0,0.0],[0.0,0.0,2.0]]\n",
    "\n",
    "aut1, aut2, _,_ = power_iter2(M, tol=1e-14,maxiter=1500)\n",
    "print(aut1[-1])\n",
    "print(aut2[-1])\n",
    "print(len(aut2))\n",
    "\n",
    "print(aut2)"
   ]
  }
 ],
 "metadata": {
  "kernelspec": {
   "display_name": "Python 3",
   "language": "python",
   "name": "python3"
  },
  "language_info": {
   "codemirror_mode": {
    "name": "ipython",
    "version": 3
   },
   "file_extension": ".py",
   "mimetype": "text/x-python",
   "name": "python",
   "nbconvert_exporter": "python",
   "pygments_lexer": "ipython3",
   "version": "3.8.3"
  }
 },
 "nbformat": 4,
 "nbformat_minor": 4
}
