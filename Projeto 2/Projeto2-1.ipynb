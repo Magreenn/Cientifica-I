{
 "cells": [
  {
   "cell_type": "markdown",
   "metadata": {
    "deletable": false,
    "editable": false,
    "id": "DceoTYc4B-QY",
    "nbgrader": {
     "cell_type": "markdown",
     "checksum": "bb27cc215bed80fa6fdde9534b833245",
     "grade": false,
     "grade_id": "cell-281706b5e048e21a",
     "locked": true,
     "schema_version": 3,
     "solution": false,
     "task": false
    }
   },
   "source": [
    "# Equações diferenciais\n",
    "\n",
    "Uma equação diferencial, de forma bastante abstrata, é dada por\n",
    "$$ \\begin{cases}\n",
    "    y'(t)  & = F(t, y(t)) \\\\\n",
    "    y(t_0) & = y_0.\n",
    "\\end{cases} $$\n",
    "Uma solução é **uma função** $y(t)$ satisfazendo tanto a _condição inicial_ $y(t_0) = y_0$\n",
    "quanto a _dinâmica_ $y'(t) = F(t, y(t))$.\n",
    "\n",
    "Por questões práticas, também é comum dar um _intervalo de solução_, ou seja,\n",
    "pedir que $y$ seja definida (pelo menos) num intervalo $[a,b]$ onde $t_0 \\in [a,b]$.\n",
    "Aqui, vamos usar $a = t_0$,\n",
    "pensando \"fisicamente\" que a equação diferencial modela\n",
    "a evolução de alguma quantidade $y$ que conhecemos agora ($t_0$)\n",
    "e que queremos saber o quanto restará num momento futuro ($t_f = b$)."
   ]
  },
  {
   "cell_type": "markdown",
   "metadata": {
    "deletable": false,
    "editable": false,
    "id": "j-xLhbB0B-Qc",
    "nbgrader": {
     "cell_type": "markdown",
     "checksum": "4c41e58daaf454cb952d648096796120",
     "grade": false,
     "grade_id": "cell-23b0642fa9898b07",
     "locked": true,
     "schema_version": 3,
     "solution": false,
     "task": false
    }
   },
   "source": [
    "## Parte 1: O método de Euler\n",
    "\n",
    "Continuando nesta linha, é razoável discretizar o problema da seguinte forma:\n",
    "\n",
    "1. Definimos uma sequência de pontos $a = t_0 < t_1 < t_2 < \\cdots < t_n = t_f = b$ no intervalo $[a,b]$.\n",
    "2. Como $f$ é derivável, temos a aproximação $y(t_{i+1}) \\sim y(t_i) + (t_{i+1} - t_i)y'(t_i)$.\n",
    "3. A equação diferencial permide calcular $y'(t_i) = F(t_i, y(t_i))$.\n",
    "4. Isso define (recursivamente) uma sequência de aproximações $y_i$ para $y(t_i)$ pela fórmula\n",
    "$$ y_{i+1} = y_i + (t_{i+1} - t_i) F(t_i, y_i).$$\n",
    "\n",
    "A sequência mais simples de ser usada é, claro, a de $n+1$ pontos igualmente espaçados no intervalo $[a,b]$."
   ]
  },
  {
   "cell_type": "code",
   "execution_count": 1,
   "metadata": {
    "deletable": false,
    "editable": false,
    "executionInfo": {
     "elapsed": 2001,
     "status": "ok",
     "timestamp": 1602124451351,
     "user": {
      "displayName": "Ademir Castro",
      "photoUrl": "",
      "userId": "18309129921806844914"
     },
     "user_tz": 180
    },
    "id": "4G-7d9htB-Qe",
    "nbgrader": {
     "cell_type": "code",
     "checksum": "53a06d2146f278f346b1cf5add9110a5",
     "grade": false,
     "grade_id": "pylab",
     "locked": true,
     "schema_version": 3,
     "solution": false
    }
   },
   "outputs": [],
   "source": [
    "import numpy as np\n",
    "import matplotlib.pyplot as plt"
   ]
  },
  {
   "cell_type": "markdown",
   "metadata": {
    "deletable": false,
    "editable": false,
    "id": "IKevbo4hB-Qm",
    "nbgrader": {
     "cell_type": "markdown",
     "checksum": "eabf41cab3117189c9fe35c1494e23a3",
     "grade": false,
     "grade_id": "cell-9a13a38e62cdef90",
     "locked": true,
     "schema_version": 3,
     "solution": false,
     "task": false
    }
   },
   "source": [
    "### 1. Implemente o método de Euler\n",
    "\n",
    "Escreva a função `euler` que divide o intervalo $[t_0, t_f]$ em `nsteps` intervalos de mesmo comprimento,\n",
    "e retorna\n",
    "- as `nsteps+1` extremidades `t_i`,\n",
    "- as `nsteps+1` aproximações `y_i` de $y$ nestes pontos.\n",
    "\n",
    "Dica: use `append` para construir os valores de `y_i`, mas retorne um `np.array()` para simplificar as contas."
   ]
  },
  {
   "cell_type": "code",
   "execution_count": 2,
   "metadata": {
    "deletable": false,
    "executionInfo": {
     "elapsed": 1686,
     "status": "ok",
     "timestamp": 1602124457577,
     "user": {
      "displayName": "Ademir Castro",
      "photoUrl": "",
      "userId": "18309129921806844914"
     },
     "user_tz": 180
    },
    "id": "4Qh_X07vB-Qn",
    "nbgrader": {
     "cell_type": "code",
     "checksum": "d591747af908332cb12cfe65e1994982",
     "grade": false,
     "grade_id": "euler_rec",
     "locked": false,
     "schema_version": 3,
     "solution": true
    }
   },
   "outputs": [],
   "source": [
    "def euler(F, t0, tf, y0, nsteps=100):\n",
    "    ts,h = np.linspace(t0,tf,num=(nsteps+1),retstep=True)\n",
    "    ys = [y0]\n",
    "    for t in ts[:-1]:\n",
    "        ys.append(ys[-1] + h*F(t,ys[-1]))\n",
    "    \n",
    "    return ts, np.array(ys)"
   ]
  },
  {
   "cell_type": "markdown",
   "metadata": {
    "deletable": false,
    "editable": false,
    "id": "UQWOoqQiB-Qt",
    "nbgrader": {
     "cell_type": "markdown",
     "checksum": "95e431f20bde61ceccd32077d6fb6719",
     "grade": false,
     "grade_id": "cell-82475f980e69d7b3",
     "locked": true,
     "schema_version": 3,
     "solution": false,
     "task": false
    }
   },
   "source": [
    "Resolvendo uma EDO simples: $f' = f$."
   ]
  },
  {
   "cell_type": "code",
   "execution_count": 3,
   "metadata": {
    "deletable": false,
    "editable": false,
    "executionInfo": {
     "elapsed": 1068,
     "status": "ok",
     "timestamp": 1602124463110,
     "user": {
      "displayName": "Ademir Castro",
      "photoUrl": "",
      "userId": "18309129921806844914"
     },
     "user_tz": 180
    },
    "id": "zQtx9gVaB-Qu",
    "nbgrader": {
     "cell_type": "code",
     "checksum": "241e9786a653a5a2abf7119a597f2be4",
     "grade": true,
     "grade_id": "euler_test1",
     "locked": true,
     "points": 2,
     "schema_version": 3,
     "solution": false
    }
   },
   "outputs": [],
   "source": [
    "def F1(t,y):\n",
    "    return y\n",
    " \n",
    "t_100, y_100 = euler(F1, 0, 1, 1)\n",
    "assert len(t_100) == 101\n",
    "assert t_100[0] == 0\n",
    "assert t_100[-1] == 1"
   ]
  },
  {
   "cell_type": "code",
   "execution_count": 4,
   "metadata": {
    "deletable": false,
    "editable": false,
    "executionInfo": {
     "elapsed": 1285,
     "status": "ok",
     "timestamp": 1602124465850,
     "user": {
      "displayName": "Ademir Castro",
      "photoUrl": "",
      "userId": "18309129921806844914"
     },
     "user_tz": 180
    },
    "id": "bYUTjRQvB-Qz",
    "nbgrader": {
     "cell_type": "code",
     "checksum": "b78083627e8d8457a484281483b2164b",
     "grade": true,
     "grade_id": "euler_test2",
     "locked": true,
     "points": 2,
     "schema_version": 3,
     "solution": false
    }
   },
   "outputs": [],
   "source": [
    "t_100, y_100 = euler(F1, 0, 1, 1)\n",
    "assert len(y_100) == 101\n",
    "assert y_100[0] == 1\n",
    "assert( abs(y_100[-1] - 2.704813829421526) < 5e-15 )"
   ]
  },
  {
   "cell_type": "markdown",
   "metadata": {
    "deletable": false,
    "editable": false,
    "id": "dWwfzjdCB-Q4",
    "nbgrader": {
     "cell_type": "markdown",
     "checksum": "7c46e1ec8651f9a934310ccdfc7abe19",
     "grade": false,
     "grade_id": "cell-200bba0594f3e280",
     "locked": true,
     "schema_version": 3,
     "solution": false,
     "task": false
    }
   },
   "source": [
    "O que é melhor é que o método de Euler permite resolver equações diferenciais bastante (arbitrariamente!) complicadas:"
   ]
  },
  {
   "cell_type": "code",
   "execution_count": 5,
   "metadata": {
    "deletable": false,
    "editable": false,
    "executionInfo": {
     "elapsed": 1040,
     "status": "ok",
     "timestamp": 1602124468531,
     "user": {
      "displayName": "Ademir Castro",
      "photoUrl": "",
      "userId": "18309129921806844914"
     },
     "user_tz": 180
    },
    "id": "3m9nMCmfB-Q5",
    "nbgrader": {
     "cell_type": "code",
     "checksum": "2465797877a7da192b2443ed6da14d87",
     "grade": true,
     "grade_id": "euler_test_3",
     "locked": true,
     "points": 2,
     "schema_version": 3,
     "solution": false
    }
   },
   "outputs": [],
   "source": [
    "def F_dificil(t, y):\n",
    "    return t*np.sin(y) - t**2*np.cos(y)\n",
    " \n",
    "_, y_dificil = euler(F_dificil, 0, 2, 1, nsteps=100)\n",
    "assert( abs(y_dificil[-1] - 3.553673725510754) < 5e-15 )"
   ]
  },
  {
   "cell_type": "markdown",
   "metadata": {
    "id": "_cJHP3yFB-Q-"
   },
   "source": [
    "### 2. Qualidade da aproximação\n",
    "\n",
    "Agora, faça um gráfico da solução numérica com mil pontos $f_{1000}$ para $f' = f$,\n",
    "e da solução exata $f(t) = e^t$ no intervalo $[0,1]$.\n",
    "Faça também um gráfico da diferença entre estas soluções."
   ]
  },
  {
   "cell_type": "code",
   "execution_count": 6,
   "metadata": {
    "colab": {
     "base_uri": "https://localhost:8080/",
     "height": 246
    },
    "deletable": false,
    "executionInfo": {
     "elapsed": 1527,
     "status": "ok",
     "timestamp": 1602124472541,
     "user": {
      "displayName": "Ademir Castro",
      "photoUrl": "",
      "userId": "18309129921806844914"
     },
     "user_tz": 180
    },
    "id": "7KX4YnZtB-Q-",
    "nbgrader": {
     "cell_type": "code",
     "checksum": "bc899190b6e200a928943ddb42d9fa4d",
     "grade": true,
     "grade_id": "euler_graph1",
     "locked": false,
     "points": 3,
     "schema_version": 3,
     "solution": true
    },
    "outputId": "dcf3cdd1-d7ab-434a-c894-d5704e10a9df",
    "scrolled": false
   },
   "outputs": [
    {
     "data": {
      "image/png": "[encoded data removed]",
      "text/plain": [
       "<Figure size 432x288 with 1 Axes>"
      ]
     },
     "metadata": {
      "needs_background": "light"
     },
     "output_type": "display_data"
    }
   ],
   "source": [
    "#Dados\n",
    "t_mil, y_mil = euler(F1, 0, 1, 1,1000)\n",
    "y_real = np.exp(t_mil)\n",
    "#Plot\n",
    "fig, ax = plt.subplots()\n",
    "ax.plot(t_mil, y_mil, label=\"Solução Numérica\")\n",
    "ax.plot(t_mil, y_real, label=\"Solução Exata\")\n",
    "#Eixos\n",
    "ax.set_title(\"Método de Euler com 1000 Pontos\")\n",
    "ax.set_xlabel(\"Eixo x\")\n",
    "ax.set_ylabel(\"Eixo y\")\n",
    "ax.legend()\n",
    "ax.grid()\n",
    "ax = plt.gca()\n",
    "plt.show();"
   ]
  },
  {
   "cell_type": "code",
   "execution_count": 7,
   "metadata": {
    "colab": {
     "base_uri": "https://localhost:8080/",
     "height": 234
    },
    "executionInfo": {
     "elapsed": 1559,
     "status": "ok",
     "timestamp": 1602124477356,
     "user": {
      "displayName": "Ademir Castro",
      "photoUrl": "",
      "userId": "18309129921806844914"
     },
     "user_tz": 180
    },
    "id": "oEIXtHTpB-RE",
    "outputId": "88cbdad6-8e7f-4e74-b7c1-dfa69c599f11",
    "scrolled": false
   },
   "outputs": [
    {
     "data": {
      "image/png": "[encoded data removed]",
      "text/plain": [
       "<Figure size 432x288 with 1 Axes>"
      ]
     },
     "metadata": {
      "needs_background": "light"
     },
     "output_type": "display_data"
    }
   ],
   "source": [
    "#Dados\n",
    "Err = (y_mil - y_real)\n",
    "#Plot\n",
    "fig, ax = plt.subplots()\n",
    "ax.plot(t_mil,Err)\n",
    "#Eixos\n",
    "ax.invert_yaxis()\n",
    "ax.set_title(\"Diferença entre as Soluções Numérica e Exata\")\n",
    "ax.set_xlabel(\"Eixo x\")\n",
    "ax.set_ylabel(\"$\\Delta y$\")\n",
    "ax.grid()\n",
    "\n",
    "ax = plt.gca()\n",
    "plt.show();"
   ]
  },
  {
   "cell_type": "markdown",
   "metadata": {
    "deletable": false,
    "editable": false,
    "id": "tHG5u3CdB-RJ",
    "nbgrader": {
     "cell_type": "markdown",
     "checksum": "7b6c86f85c3fa6447cd5b370018df717",
     "grade": false,
     "grade_id": "cell-b8a6fd336716010d",
     "locked": true,
     "schema_version": 3,
     "solution": false,
     "task": false
    }
   },
   "source": [
    "Faça o gráfico agora do erro **relativo**."
   ]
  },
  {
   "cell_type": "code",
   "execution_count": 8,
   "metadata": {
    "colab": {
     "base_uri": "https://localhost:8080/",
     "height": 239
    },
    "deletable": false,
    "executionInfo": {
     "elapsed": 1045,
     "status": "ok",
     "timestamp": 1602124481772,
     "user": {
      "displayName": "Ademir Castro",
      "photoUrl": "",
      "userId": "18309129921806844914"
     },
     "user_tz": 180
    },
    "id": "27xkDAGPB-RJ",
    "nbgrader": {
     "cell_type": "code",
     "checksum": "8216836a9436dd11e33be43c63363e0b",
     "grade": false,
     "grade_id": "euler_graph11",
     "locked": false,
     "schema_version": 3,
     "solution": true,
     "task": false
    },
    "outputId": "3e9b9489-4f02-4bb2-c566-0313c57af33f",
    "scrolled": true
   },
   "outputs": [
    {
     "data": {
      "image/png": "[encoded data removed]",
      "text/plain": [
       "<Figure size 432x288 with 1 Axes>"
      ]
     },
     "metadata": {
      "needs_background": "light"
     },
     "output_type": "display_data"
    }
   ],
   "source": [
    "#Dados\n",
    "Err_rel= np.abs((y_mil - y_real)/y_real)\n",
    "#Plot\n",
    "fig, ax = plt.subplots()\n",
    "ax.plot(t_mil,Err_rel)\n",
    "#Eixos\n",
    "ax.set_title(\"Erro Relativo do Método de Euler\")\n",
    "ax.set_xlabel(\"Eixo x\")\n",
    "ax.set_ylabel(\"Erro Relativo\")\n",
    "ax.grid()\n",
    "\n",
    "ax = plt.gca()\n",
    "plt.show();"
   ]
  },
  {
   "cell_type": "code",
   "execution_count": 9,
   "metadata": {
    "deletable": false,
    "editable": false,
    "executionInfo": {
     "elapsed": 1348,
     "status": "ok",
     "timestamp": 1602124485330,
     "user": {
      "displayName": "Ademir Castro",
      "photoUrl": "",
      "userId": "18309129921806844914"
     },
     "user_tz": 180
    },
    "id": "5n4q0x9-B-RN",
    "nbgrader": {
     "cell_type": "code",
     "checksum": "4d3d0371f8954d18fde3811405bef618",
     "grade": true,
     "grade_id": "cell-0e8233679e6d3a4c",
     "locked": true,
     "points": 1,
     "schema_version": 3,
     "solution": false,
     "task": false
    }
   },
   "outputs": [],
   "source": [
    "assert ax.title.get_text() != \"\"\n",
    "assert len(ax.lines) == 1"
   ]
  },
  {
   "cell_type": "code",
   "execution_count": 10,
   "metadata": {
    "deletable": false,
    "editable": false,
    "executionInfo": {
     "elapsed": 1337,
     "status": "ok",
     "timestamp": 1602124488986,
     "user": {
      "displayName": "Ademir Castro",
      "photoUrl": "",
      "userId": "18309129921806844914"
     },
     "user_tz": 180
    },
    "id": "IC55Kxk1B-RT",
    "nbgrader": {
     "cell_type": "code",
     "checksum": "6616694312475a5c39da2ece44544da3",
     "grade": true,
     "grade_id": "cell-fb4c204f97462e9a",
     "locked": true,
     "points": 1,
     "schema_version": 3,
     "solution": false,
     "task": false
    }
   },
   "outputs": [],
   "source": [
    "xdata = ax.lines[0].get_xdata()\n",
    "assert min(xdata) == 0.0\n",
    "assert max(xdata) == 1.0\n",
    " \n",
    "ydata = ax.lines[0].get_ydata()\n",
    "assert min(ydata) > -0.001\n",
    "assert max(ydata) <  0.001"
   ]
  },
  {
   "cell_type": "code",
   "execution_count": 11,
   "metadata": {
    "deletable": false,
    "editable": false,
    "executionInfo": {
     "elapsed": 1639,
     "status": "ok",
     "timestamp": 1602124492156,
     "user": {
      "displayName": "Ademir Castro",
      "photoUrl": "",
      "userId": "18309129921806844914"
     },
     "user_tz": 180
    },
    "id": "wgSZThMNB-Rj",
    "nbgrader": {
     "cell_type": "code",
     "checksum": "0359d4a29931f117750527c41d258c7e",
     "grade": false,
     "grade_id": "cell-a5463b25f2c49231",
     "locked": true,
     "schema_version": 3,
     "solution": false,
     "task": false
    }
   },
   "outputs": [],
   "source": [
    "ax = None"
   ]
  },
  {
   "cell_type": "markdown",
   "metadata": {
    "deletable": false,
    "editable": false,
    "id": "sVgebbEWB-Rn",
    "nbgrader": {
     "cell_type": "markdown",
     "checksum": "fe3c16d0f29edbe95768e89b6d635f13",
     "grade": false,
     "grade_id": "cell-6f1b673d3ae4dcea",
     "locked": true,
     "schema_version": 3,
     "solution": false,
     "task": false
    }
   },
   "source": [
    "### 3. Medindo erros\n",
    "\n",
    "Suponha que conhecemos a solução exata da EDO, que chamaremos aqui de $g(t)$ para evitar confundir com $y_i$.\n",
    "Mesmo que em muitos casos seja bastante razoável usar o \"erro final\" $g(t_n) - y_n$,\n",
    "onde $g$ é a solução exata e $y_n$ a aproximação,\n",
    "vamos nos concentrar no \"erro total\".\n",
    "E, para ficar relativamente simples, vamos usar a **média dos valores absolutos das diferenças** entre $g(t_j)$ e $y_j$.\n",
    "Usamos a média, e não a soma, porque ao variar o número de passos esta quantidade se mantém homogênea."
   ]
  },
  {
   "cell_type": "code",
   "execution_count": 12,
   "metadata": {
    "deletable": false,
    "executionInfo": {
     "elapsed": 610,
     "status": "ok",
     "timestamp": 1602124494374,
     "user": {
      "displayName": "Ademir Castro",
      "photoUrl": "",
      "userId": "18309129921806844914"
     },
     "user_tz": 180
    },
    "id": "Klqrom7HB-Ro",
    "nbgrader": {
     "cell_type": "code",
     "checksum": "b799db7fc07e5b724e2f3300d711e472",
     "grade": false,
     "grade_id": "def_erro",
     "locked": false,
     "schema_version": 3,
     "solution": true,
     "task": false
    }
   },
   "outputs": [],
   "source": [
    "def erro(g, ys, ts):\n",
    "    \"\"\" Calcula o erro entre os valores de ys e g(ts).  ys e ts  devem ser vetores numpy, e  g uma função. \"\"\"\n",
    "    return np.mean(np.abs(np.subtract(g(ts),ys)))"
   ]
  },
  {
   "cell_type": "markdown",
   "metadata": {
    "deletable": false,
    "editable": false,
    "id": "AmSHscrsB-Rr",
    "nbgrader": {
     "cell_type": "markdown",
     "checksum": "4888a4b9f5c2ce4ac57cee6f5ba83ba7",
     "grade": false,
     "grade_id": "cell-e380e8c4261dd41d",
     "locked": true,
     "schema_version": 3,
     "solution": false,
     "task": false
    }
   },
   "source": [
    "Como o erro total diminui ao aumentar o número de passos efetuados?\n",
    "Faça um gráfico."
   ]
  },
  {
   "cell_type": "code",
   "execution_count": 13,
   "metadata": {
    "colab": {
     "base_uri": "https://localhost:8080/",
     "height": 0
    },
    "deletable": false,
    "executionInfo": {
     "elapsed": 2479,
     "status": "ok",
     "timestamp": 1602124496263,
     "user": {
      "displayName": "Ademir Castro",
      "photoUrl": "",
      "userId": "18309129921806844914"
     },
     "user_tz": 180
    },
    "id": "PU__qkY3B-Rs",
    "nbgrader": {
     "cell_type": "code",
     "checksum": "0d21fad656723dcdb975091678a6d8c1",
     "grade": true,
     "grade_id": "graf_erro",
     "locked": false,
     "points": 1,
     "schema_version": 3,
     "solution": true
    },
    "outputId": "2967365f-8eff-4967-a22d-51cb94ef3f78"
   },
   "outputs": [
    {
     "data": {
      "image/png": "[encoded data removed]",
      "text/plain": [
       "<Figure size 432x288 with 1 Axes>"
      ]
     },
     "metadata": {
      "needs_background": "light"
     },
     "output_type": "display_data"
    },
    {
     "name": "stdout",
     "output_type": "stream",
     "text": [
      "Wall time: 1.02 s\n"
     ]
    }
   ],
   "source": [
    "%%time\n",
    "#Dados\n",
    "ns = np.logspace(1,5,num=21, dtype=int)\n",
    "Err = np.empty(ns.shape)\n",
    "for i,ns_i in enumerate(ns):\n",
    "    ts,ys= euler(F1, 0, 1, 1,ns_i)\n",
    "    Err[i]= erro(np.exp,ys,ts)\n",
    "#Plot\n",
    "fig, ax = plt.subplots()\n",
    "ax.loglog(ns,Err)\n",
    "#Eixos\n",
    "ax.set_title(\"Média dos Valores Absolutos das Diferenças\")\n",
    "ax.set_xlabel(\"Número de Passos\")\n",
    "ax.set_ylabel(\"Erro\")\n",
    "ax.grid();\n",
    "ax = plt.gca()\n",
    "plt.show()"
   ]
  },
  {
   "cell_type": "code",
   "execution_count": 14,
   "metadata": {
    "deletable": false,
    "editable": false,
    "executionInfo": {
     "elapsed": 2474,
     "status": "ok",
     "timestamp": 1602124496265,
     "user": {
      "displayName": "Ademir Castro",
      "photoUrl": "",
      "userId": "18309129921806844914"
     },
     "user_tz": 180
    },
    "id": "_ks3fqHnB-Rw",
    "nbgrader": {
     "cell_type": "code",
     "checksum": "7e40434eb92dc1ed8de8dfc0be70db63",
     "grade": true,
     "grade_id": "cell-778ea7cac84cbd0f",
     "locked": true,
     "points": 2,
     "schema_version": 3,
     "solution": false,
     "task": false
    }
   },
   "outputs": [],
   "source": [
    "assert ax.title.get_text() != \"\"\n",
    "assert len(ax.lines) == 1\n",
    "\n",
    "ydata = ax.lines[0].get_ydata()\n",
    "assert 1e-6 < min(ydata) < 1e-4\n",
    "assert 1e-2 < max(ydata) < 1e-1"
   ]
  },
  {
   "cell_type": "markdown",
   "metadata": {
    "deletable": false,
    "editable": false,
    "id": "xjF-ie--B-Rz",
    "nbgrader": {
     "cell_type": "markdown",
     "checksum": "211c610f27966f991a7cfaec035fd53d",
     "grade": false,
     "grade_id": "cell-27c7f2fbee5ec51a",
     "locked": true,
     "schema_version": 3,
     "solution": false,
     "task": false
    }
   },
   "source": [
    "E comente o resultado."
   ]
  },
  {
   "cell_type": "markdown",
   "metadata": {
    "deletable": false,
    "id": "zZaOGT1UB-R0",
    "nbgrader": {
     "cell_type": "markdown",
     "checksum": "9993a1f157f4dbfae0d8ff6f2068b968",
     "grade": true,
     "grade_id": "coment_erro",
     "locked": false,
     "points": 2,
     "schema_version": 3,
     "solution": true
    }
   },
   "source": [
    "Podemos ver que o erro é proporcional a $O(h)$ já que $h$ é inversamente proporcional ao número de passos, o que significa que um aumento em 10 vezes no número de subdivisões acarretará numa diminuição do erro da ordem de $10^{1}$"
   ]
  },
  {
   "cell_type": "markdown",
   "metadata": {
    "deletable": false,
    "editable": false,
    "id": "-kxpx3glB-R1",
    "nbgrader": {
     "cell_type": "markdown",
     "checksum": "1cd883fef751fd04de908313104da172",
     "grade": false,
     "grade_id": "cell-b7a9adb2cb70f486",
     "locked": true,
     "schema_version": 3,
     "solution": false,
     "task": false
    }
   },
   "source": [
    "### 4. Sistemas de Equações\n",
    "\n",
    "Se você usar funções \"vetorizadas\" para `F`,\n",
    "o seu método de Euler é capaz de resolver (aproximar) até _sistemas_ de equações diferenciais.\n",
    "\n",
    "Por exemplo, o sistema\n",
    "$$ \\begin{align}\n",
    "v_0' & =  v_1 \\\\\n",
    "v_1' & = -v_0\n",
    "\\end{align} $$\n",
    "que é equivalente à equação diferencial trigonométrica básica $y'' = -y$,\n",
    "pode ser simulado assim:"
   ]
  },
  {
   "cell_type": "code",
   "execution_count": 15,
   "metadata": {
    "deletable": false,
    "editable": false,
    "executionInfo": {
     "elapsed": 1117,
     "status": "ok",
     "timestamp": 1602124498902,
     "user": {
      "displayName": "Ademir Castro",
      "photoUrl": "",
      "userId": "18309129921806844914"
     },
     "user_tz": 180
    },
    "id": "uwJs8g3DB-R2",
    "nbgrader": {
     "cell_type": "code",
     "checksum": "d2dfe31ff4845f111a9e6971c14220ad",
     "grade": true,
     "grade_id": "euler_2d",
     "locked": true,
     "points": 2,
     "schema_version": 3,
     "solution": false
    }
   },
   "outputs": [],
   "source": [
    "def F2(t, v):\n",
    "    return np.array([v[1],-v[0]])\n",
    "\n",
    "ans = np.array([-1.0505597866729235, -0.0010851561020816455])\n",
    "ts, vs = euler(F2, 0, np.pi, np.array([1.0,0.0]), nsteps=100)\n",
    "\n",
    "assert( all(abs(vs[-1]/ans - 1) < 1e-15) )"
   ]
  },
  {
   "cell_type": "markdown",
   "metadata": {
    "id": "_Si3Dt0GB-R6"
   },
   "source": [
    "Dependendo de como você tenha implementado `euler()`, os valores de `vs` serão todos iguais,\n",
    "pois você terá construído uma lista com `nsteps+1` vezes o mesmo `array`.\n",
    "Para corrigir isso, modifique sua função `euler` para criar uma cópia de cada valor de $f_i$ antes de incluir na lista."
   ]
  },
  {
   "cell_type": "code",
   "execution_count": 16,
   "metadata": {
    "deletable": false,
    "executionInfo": {
     "elapsed": 1113,
     "status": "ok",
     "timestamp": 1602124498905,
     "user": {
      "displayName": "Ademir Castro",
      "photoUrl": "",
      "userId": "18309129921806844914"
     },
     "user_tz": 180
    },
    "id": "DJezBeCyB-R7",
    "nbgrader": {
     "cell_type": "code",
     "checksum": "fcad7bcd423ce611193dafe839ac396d",
     "grade": false,
     "grade_id": "new_euler",
     "locked": false,
     "schema_version": 3,
     "solution": true
    }
   },
   "outputs": [],
   "source": [
    "#não foi necessário modificação"
   ]
  },
  {
   "cell_type": "markdown",
   "metadata": {
    "deletable": false,
    "editable": false,
    "id": "0wreKTIOB-R_",
    "nbgrader": {
     "cell_type": "markdown",
     "checksum": "a6cc495f6f6791d12e5d481217801fd9",
     "grade": false,
     "grade_id": "cell-36f3cde562ae5124",
     "locked": true,
     "schema_version": 3,
     "solution": false,
     "task": false
    }
   },
   "source": [
    "Para usar as coordenadas da solução separadamente, ou seja, $f_1$ e $f_2$,\n",
    "temos que transpor `v`.\n",
    "(Note que os métodos constróem ao longo do tempo, e não por coordenadas)"
   ]
  },
  {
   "cell_type": "code",
   "execution_count": 17,
   "metadata": {
    "colab": {
     "base_uri": "https://localhost:8080/"
    },
    "deletable": false,
    "editable": false,
    "executionInfo": {
     "elapsed": 1100,
     "status": "ok",
     "timestamp": 1602124498907,
     "user": {
      "displayName": "Ademir Castro",
      "photoUrl": "",
      "userId": "18309129921806844914"
     },
     "user_tz": 180
    },
    "id": "1w-jNPQyB-R_",
    "nbgrader": {
     "cell_type": "code",
     "checksum": "907d0d1691711336da5146571e2c8c06",
     "grade": false,
     "grade_id": "cell-8dac5a478f3c96c0",
     "locked": true,
     "schema_version": 3,
     "solution": false
    },
    "outputId": "6c858685-9274-4246-821c-e9e312644ad9"
   },
   "outputs": [
    {
     "data": {
      "text/plain": [
       "array([[ 1.        ,  1.        ,  0.99901304,  0.99703912,  0.99407921,\n",
       "         0.99013527,  0.9852102 ,  0.97930792,  0.97243327,  0.96459208],\n",
       "       [ 0.        , -0.03141593, -0.06283185, -0.09421677, -0.12553968,\n",
       "        -0.1567696 , -0.18787562, -0.21882691, -0.24959277, -0.28014267]])"
      ]
     },
     "execution_count": 17,
     "metadata": {},
     "output_type": "execute_result"
    }
   ],
   "source": [
    "ts, vs = euler(F2, 0, np.pi, np.array([1.0,0.0]), nsteps=100)\n",
    "vs = np.transpose(vs)\n",
    "vs[:,:10]"
   ]
  },
  {
   "cell_type": "markdown",
   "metadata": {
    "deletable": false,
    "editable": false,
    "id": "TYOG_VjKB-SD",
    "nbgrader": {
     "cell_type": "markdown",
     "checksum": "6632c9c26b8d36edf4d9c630cff86923",
     "grade": false,
     "grade_id": "cell-84306ae405eea007",
     "locked": true,
     "schema_version": 3,
     "solution": false,
     "task": false
    }
   },
   "source": [
    "### 5. Mais gráficos\n",
    "\n",
    "Observe que a sua solução numérica realmente está próxima da solução analítica,\n",
    "fazendo um gráfico para a função e sua derivada,\n",
    "tanto numéricas como analíticas."
   ]
  },
  {
   "cell_type": "code",
   "execution_count": 18,
   "metadata": {
    "colab": {
     "base_uri": "https://localhost:8080/",
     "height": 0
    },
    "deletable": false,
    "executionInfo": {
     "elapsed": 1264,
     "status": "ok",
     "timestamp": 1602124502126,
     "user": {
      "displayName": "Ademir Castro",
      "photoUrl": "",
      "userId": "18309129921806844914"
     },
     "user_tz": 180
    },
    "id": "3KeYRoYfB-SE",
    "nbgrader": {
     "cell_type": "code",
     "checksum": "a9ed687549e6871fe9d4f09e0ef5385f",
     "grade": false,
     "grade_id": "cos_sin_graf",
     "locked": false,
     "schema_version": 3,
     "solution": true,
     "task": false
    },
    "outputId": "22c7ba94-7c7f-4a0d-cb37-3879bbe5990d"
   },
   "outputs": [
    {
     "data": {
      "image/png": "[encoded data removed]",
      "text/plain": [
       "<Figure size 1008x432 with 1 Axes>"
      ]
     },
     "metadata": {
      "needs_background": "light"
     },
     "output_type": "display_data"
    }
   ],
   "source": [
    "#Dados\n",
    "ts, vs1 = euler(F2, 0, np.pi, np.array([1.0,0.0]), nsteps=100)\n",
    "vs1 = np.transpose(vs1)\n",
    "#Plot\n",
    "fig, ax = plt.subplots(figsize=(14,6))\n",
    "ax.plot(ts, vs1[0,:], label=\"Solução Numérica do $Cos(x)$\")\n",
    "ax.plot(ts, vs1[1,:], label=\"Solução Numérica do $-Sen(x)$\")\n",
    "ax.plot(ts, np.cos(ts), label=\"Solução Exata do $Cos(x)$\")\n",
    "ax.plot(ts, -np.sin(ts), label=\"Solução Exata do $-Sen(x)$\")\n",
    "#Eixos\n",
    "ax.set_xlabel(\"Eixo x\")\n",
    "ax.set_ylabel(\"Eixo y\")\n",
    "ax.set_title(\"Método de Euler para Sistemas de EDO\")\n",
    "ax.grid()\n",
    "ax.legend()\n",
    "ax = plt.gca()\n",
    "plt.show()"
   ]
  },
  {
   "cell_type": "code",
   "execution_count": 19,
   "metadata": {
    "deletable": false,
    "editable": false,
    "executionInfo": {
     "elapsed": 2539,
     "status": "ok",
     "timestamp": 1602124503412,
     "user": {
      "displayName": "Ademir Castro",
      "photoUrl": "",
      "userId": "18309129921806844914"
     },
     "user_tz": 180
    },
    "id": "hwbzCFe-B-SH",
    "nbgrader": {
     "cell_type": "code",
     "checksum": "b0ccf113337ecaa3ef3a20b6e387ef52",
     "grade": true,
     "grade_id": "cell-5d346a2441fa9837",
     "locked": true,
     "points": 1,
     "schema_version": 3,
     "solution": false,
     "task": false
    }
   },
   "outputs": [],
   "source": [
    "assert ax.title.get_text() != \"\"\n",
    "assert len(ax.lines) == 4\n",
    "assert len(ax.legend().texts) == 4"
   ]
  },
  {
   "cell_type": "code",
   "execution_count": 20,
   "metadata": {
    "deletable": false,
    "editable": false,
    "executionInfo": {
     "elapsed": 2526,
     "status": "ok",
     "timestamp": 1602124503414,
     "user": {
      "displayName": "Ademir Castro",
      "photoUrl": "",
      "userId": "18309129921806844914"
     },
     "user_tz": 180
    },
    "id": "py0XIj4HB-SL",
    "nbgrader": {
     "cell_type": "code",
     "checksum": "8e98eb64dfc8017f9c6df39032eec8b7",
     "grade": true,
     "grade_id": "cell-faf8107be6af3b1e",
     "locked": true,
     "points": 1,
     "schema_version": 3,
     "solution": false,
     "task": false
    }
   },
   "outputs": [],
   "source": [
    "xdata = ax.lines[0].get_xdata()\n",
    "assert min(xdata) == 0.0\n",
    "assert max(xdata) == np.pi\n",
    "\n",
    "ydata = [l.get_ydata() for l in ax.lines]\n",
    "assert -1.1 < np.min(ydata) < -1.0\n",
    "assert np.max(ydata) == 1.0"
   ]
  },
  {
   "cell_type": "code",
   "execution_count": 21,
   "metadata": {
    "deletable": false,
    "editable": false,
    "executionInfo": {
     "elapsed": 2521,
     "status": "ok",
     "timestamp": 1602124503417,
     "user": {
      "displayName": "Ademir Castro",
      "photoUrl": "",
      "userId": "18309129921806844914"
     },
     "user_tz": 180
    },
    "id": "xAPyqcIYB-SO",
    "nbgrader": {
     "cell_type": "code",
     "checksum": "59d2450d6381a0a7d3adb1856808c5b5",
     "grade": false,
     "grade_id": "cell-3c4123b49a8abb84",
     "locked": true,
     "schema_version": 3,
     "solution": false,
     "task": false
    }
   },
   "outputs": [],
   "source": [
    "ax = None"
   ]
  },
  {
   "cell_type": "markdown",
   "metadata": {
    "deletable": false,
    "editable": false,
    "id": "OoO6-beSB-ST",
    "nbgrader": {
     "cell_type": "markdown",
     "checksum": "b7cb8d8fe956a610975444a91d98202d",
     "grade": false,
     "grade_id": "cell-050d7a51ef47d0ba",
     "locked": true,
     "schema_version": 3,
     "solution": false,
     "task": false
    }
   },
   "source": [
    "Agora, aumente o intervalo de integração para $6\\pi$, e use 600 passos."
   ]
  },
  {
   "cell_type": "code",
   "execution_count": 22,
   "metadata": {
    "colab": {
     "base_uri": "https://localhost:8080/",
     "height": 0
    },
    "deletable": false,
    "executionInfo": {
     "elapsed": 2496,
     "status": "ok",
     "timestamp": 1602124503419,
     "user": {
      "displayName": "Ademir Castro",
      "photoUrl": "",
      "userId": "18309129921806844914"
     },
     "user_tz": 180
    },
    "id": "n8XV4wCcB-SU",
    "nbgrader": {
     "cell_type": "code",
     "checksum": "411dea6d90fdd472ada57ea1666cd9cd",
     "grade": true,
     "grade_id": "cos_sin_graf2",
     "locked": false,
     "points": 2,
     "schema_version": 3,
     "solution": true
    },
    "outputId": "4e9129b2-95fe-4a32-8dfa-2f43dcc84be6"
   },
   "outputs": [
    {
     "data": {
      "image/png": "[encoded data removed]",
      "text/plain": [
       "<Figure size 1008x432 with 1 Axes>"
      ]
     },
     "metadata": {
      "needs_background": "light"
     },
     "output_type": "display_data"
    }
   ],
   "source": [
    "#Dados\n",
    "ts, vs1 = euler(F2, 0, 6*np.pi, np.array([1.0,0.0]), nsteps=600)\n",
    "vs1 = np.transpose(vs1)\n",
    "#Plot\n",
    "fig, ax = plt.subplots(figsize=(14,6))\n",
    "ax.plot(ts, vs1[0,:], label=\"Solução Numérica do $cos(x)$\")\n",
    "ax.plot(ts, vs1[1,:], label=\"Solução Numérica do $-sen(x)$\")\n",
    "ax.plot(ts, np.cos(ts), label=\"Solução Exata do $cos(x)$\")\n",
    "ax.plot(ts, -np.sin(ts), label=\"Solução Exata do $-sen(x)$\")\n",
    "#Eixos\n",
    "ax.set_xlabel(\"Eixo x\")\n",
    "ax.set_ylabel(\"Eixo y\")\n",
    "ax.set_title(\"Método de Euler para Sistemas de EDO\")\n",
    "ax.grid()\n",
    "ax.legend(loc=\"upper left\", bbox_to_anchor=(1.0,1.0))\n",
    "ax = plt.gca()\n",
    "plt.show()"
   ]
  },
  {
   "cell_type": "markdown",
   "metadata": {
    "deletable": false,
    "editable": false,
    "id": "-5e2WoM1B-SY",
    "nbgrader": {
     "cell_type": "markdown",
     "checksum": "47405926736c40c1f53f9c56b410f734",
     "grade": false,
     "grade_id": "cell-4724f173ba3937a3",
     "locked": true,
     "schema_version": 3,
     "solution": false,
     "task": false
    }
   },
   "source": [
    "O que aconteceu?"
   ]
  },
  {
   "cell_type": "markdown",
   "metadata": {
    "deletable": false,
    "id": "Z8j9UYHXB-SY",
    "nbgrader": {
     "cell_type": "markdown",
     "checksum": "02f31542260146c622f5e4edddd3aa15",
     "grade": true,
     "grade_id": "cell-91158401ba7356dc",
     "locked": false,
     "points": 2,
     "schema_version": 3,
     "solution": true
    }
   },
   "source": [
    "Podemos ver que conforme vamos progredindo para dentro do intervalo em direção ao outro extremo, a solução numérica vai acumulando erros pois o método utiliza valores préviamente calculados, que contem erro, para encontrar os próximos valores o que vai desviando cada vez mais a solução numérica da exata ao se progredir no intervalo, mesmo que em certos valores a função convirja para a solução exata. Isso é perceptível com o aumento dos picos e vales conforme a função chega próximo de $6\\pi$."
   ]
  },
  {
   "cell_type": "markdown",
   "metadata": {
    "deletable": false,
    "editable": false,
    "id": "-CjF9mkRB-SZ",
    "nbgrader": {
     "cell_type": "markdown",
     "checksum": "7a43287d816e992687488a0eaee07d8a",
     "grade": false,
     "grade_id": "cell-c9328106d8346e75",
     "locked": true,
     "schema_version": 3,
     "solution": false,
     "task": false
    }
   },
   "source": [
    "### 6. Erros multidimensionais\n",
    "\n",
    "Voltemos ao intervalo $[0, \\pi]$.\n",
    "Como se comporta o erro no caso do sistema acima, conforme o número de pontos aumenta?\n",
    "Qual erro é mais importante: o da derivada ($f_2$) ou o da função original ($f_1$)?\n",
    "Você vê uma razão para isso?"
   ]
  },
  {
   "cell_type": "code",
   "execution_count": 23,
   "metadata": {
    "colab": {
     "base_uri": "https://localhost:8080/",
     "height": 0
    },
    "deletable": false,
    "executionInfo": {
     "elapsed": 3913,
     "status": "ok",
     "timestamp": 1602124507226,
     "user": {
      "displayName": "Ademir Castro",
      "photoUrl": "",
      "userId": "18309129921806844914"
     },
     "user_tz": 180
    },
    "id": "Ap_pWVe_B-Sa",
    "nbgrader": {
     "cell_type": "code",
     "checksum": "7c1b30062a3f6fd547adfceba016085e",
     "grade": false,
     "grade_id": "erros_sin_cos",
     "locked": false,
     "schema_version": 3,
     "solution": true,
     "task": false
    },
    "outputId": "c817befc-1e40-4a8c-f4e0-1dbc72924ea5",
    "scrolled": true
   },
   "outputs": [
    {
     "data": {
      "image/png": "[encoded data removed]",
      "text/plain": [
       "<Figure size 432x288 with 1 Axes>"
      ]
     },
     "metadata": {
      "needs_background": "light"
     },
     "output_type": "display_data"
    },
    {
     "name": "stdout",
     "output_type": "stream",
     "text": [
      "Wall time: 3.5 s\n"
     ]
    }
   ],
   "source": [
    "%%time\n",
    "#Dados\n",
    "\n",
    "fig, ax = plt.subplots()\n",
    "ns = np.logspace(1,5,num=21, dtype=int)\n",
    "Err_f1 = np.empty(ns.shape)\n",
    "Err_f2 = np.empty(ns.shape)\n",
    "for i,ns_i in enumerate(ns):\n",
    "    ts,vs= euler(F2, 0, np.pi, np.array([1.0,0.0]), nsteps=ns_i)\n",
    "    vs = np.transpose(vs)\n",
    "    Err_f1[i]= erro(np.cos,vs[0,:],ts)\n",
    "    Err_f2[i]= erro(lambda x: -np.sin(x),vs[1,:],ts)\n",
    "#Plot\n",
    "ax.loglog(ns,Err_f1,label=\"$f_{1}$\")\n",
    "ax.loglog(ns,Err_f2,label=\"$f_{2}$\")\n",
    "#Eixos\n",
    "ax.set_title(\"Média dos Valores Absolutos das Diferenças\")\n",
    "ax.set_xlabel(\"Número de Passos\")\n",
    "ax.set_ylabel(\"Erro\")\n",
    "ax.grid()\n",
    "ax.legend()\n",
    "\n",
    "ax = plt.gca()\n",
    "plt.show();"
   ]
  },
  {
   "cell_type": "code",
   "execution_count": 24,
   "metadata": {
    "deletable": false,
    "editable": false,
    "executionInfo": {
     "elapsed": 3907,
     "status": "ok",
     "timestamp": 1602124507229,
     "user": {
      "displayName": "Ademir Castro",
      "photoUrl": "",
      "userId": "18309129921806844914"
     },
     "user_tz": 180
    },
    "id": "o8Etaj4PB-Sf",
    "nbgrader": {
     "cell_type": "code",
     "checksum": "a4691d51d38286fda6a72f257a18a938",
     "grade": true,
     "grade_id": "cell-49e83e9d5f3391f3",
     "locked": true,
     "points": 1,
     "schema_version": 3,
     "solution": false,
     "task": false
    }
   },
   "outputs": [],
   "source": [
    "assert ax.title.get_text() != \"\"\n",
    "assert len(ax.lines) == 2\n",
    "assert len(ax.legend().texts) == 2"
   ]
  },
  {
   "cell_type": "code",
   "execution_count": 25,
   "metadata": {
    "deletable": false,
    "editable": false,
    "executionInfo": {
     "elapsed": 3902,
     "status": "ok",
     "timestamp": 1602124507231,
     "user": {
      "displayName": "Ademir Castro",
      "photoUrl": "",
      "userId": "18309129921806844914"
     },
     "user_tz": 180
    },
    "id": "4Bh7mXtaB-Si",
    "nbgrader": {
     "cell_type": "code",
     "checksum": "82dfcb62d9e5e48be06470b634c79a49",
     "grade": true,
     "grade_id": "cell-f9dae32dd31988a8",
     "locked": true,
     "points": 1,
     "schema_version": 3,
     "solution": false,
     "task": false
    }
   },
   "outputs": [],
   "source": [
    "xdata = ax.lines[0].get_xdata()\n",
    "assert min(xdata) == 1e1\n",
    "assert max(xdata) == 1e5\n",
    "\n",
    "ydata = [l.get_ydata() for l in ax.lines]\n",
    "assert 1e-5 < np.min(ydata) < 5e-5\n",
    "assert 1e-1 < np.max(ydata) < 5e-1"
   ]
  },
  {
   "cell_type": "markdown",
   "metadata": {
    "id": "9Qr5J-8ZB-Sl"
   },
   "source": [
    "Comente abaixo"
   ]
  },
  {
   "cell_type": "markdown",
   "metadata": {
    "deletable": false,
    "id": "Wr5vJAqyB-Sm",
    "nbgrader": {
     "cell_type": "markdown",
     "checksum": "8a66a1ac0528cf5f1ab7b611b2a8d80b",
     "grade": true,
     "grade_id": "cell-f5fffd6a5fbd6a51",
     "locked": false,
     "points": 1,
     "schema_version": 3,
     "solution": true
    }
   },
   "source": [
    "Os dois erros se comportam de forma semelhante, da ordem $O(h)$ como esperado por utilizar o Método de Euler, e como este Método, para achar os valores da função original($f_{1}$) precisa calcular os valores da derivada($f_{2}$) nos pontos dentro do intervalo, então nesse sentido os erros das derivadas são mais importantes."
   ]
  },
  {
   "cell_type": "markdown",
   "metadata": {
    "id": "XRkr27OZB-Sm"
   },
   "source": [
    "O erro certamente depende do intervalo \"de integração\" da equação diferencial.\n",
    "Será que a importância relativa também depende? Faça o gráfico do erro para o intervalo $[0, \\pi/2]$ e conclua."
   ]
  },
  {
   "cell_type": "code",
   "execution_count": 26,
   "metadata": {
    "colab": {
     "base_uri": "https://localhost:8080/",
     "height": 0
    },
    "deletable": false,
    "executionInfo": {
     "elapsed": 5749,
     "status": "ok",
     "timestamp": 1602124509092,
     "user": {
      "displayName": "Ademir Castro",
      "photoUrl": "",
      "userId": "18309129921806844914"
     },
     "user_tz": 180
    },
    "id": "380fdjAoB-Sn",
    "nbgrader": {
     "cell_type": "code",
     "checksum": "d6043eb00622104a146b4f1a76247612",
     "grade": true,
     "grade_id": "graf_err_sin_cos_2",
     "locked": false,
     "points": 1,
     "schema_version": 3,
     "solution": true
    },
    "outputId": "d29469c1-c4dd-4068-ff12-221a0085e613"
   },
   "outputs": [
    {
     "name": "stdout",
     "output_type": "stream",
     "text": [
      "Wall time: 2.57 s\n"
     ]
    },
    {
     "data": {
      "image/png": "[encoded data removed]",
      "text/plain": [
       "<Figure size 432x288 with 1 Axes>"
      ]
     },
     "metadata": {
      "needs_background": "light"
     },
     "output_type": "display_data"
    }
   ],
   "source": [
    "%%time\n",
    "#Dados\n",
    "ns = np.logspace(1,5,num=21, dtype=int)\n",
    "Err_f1 = np.empty(ns.shape)\n",
    "Err_f2 = np.empty(ns.shape)\n",
    "for i,ns_i in enumerate(ns):\n",
    "    ts,vs= euler(F2, 0, np.pi/2 , np.array([1.0,0.0]), nsteps=ns_i)\n",
    "    vs = np.transpose(vs)\n",
    "    Err_f1[i]= erro(np.cos,vs[0,:],ts)\n",
    "    Err_f2[i]= erro(lambda x: -np.sin(x),vs[1,:],ts)\n",
    "#Plot\n",
    "fig, ax = plt.subplots()\n",
    "ax.loglog(ns,Err_f1,label=\"$f_{1}$\")\n",
    "ax.loglog(ns,Err_f2,label=\"$f_{2}$\")\n",
    "#Eixos\n",
    "ax.set_title(\"Média dos Valores Absolutos das Diferenças\")\n",
    "ax.set_xlabel(\"Número de Passos\")\n",
    "ax.set_ylabel(\"Erro\")\n",
    "ax.legend()\n",
    "ax.grid();"
   ]
  },
  {
   "cell_type": "markdown",
   "metadata": {
    "deletable": false,
    "editable": false,
    "id": "Nb8CWX6IB-Sr",
    "nbgrader": {
     "cell_type": "markdown",
     "checksum": "63b39606c5eeb94692855cbf4bc55a36",
     "grade": false,
     "grade_id": "cell-b6852bcc9eb6cf76",
     "locked": true,
     "schema_version": 3,
     "solution": false,
     "task": false
    }
   },
   "source": [
    "Comente"
   ]
  },
  {
   "cell_type": "markdown",
   "metadata": {
    "deletable": false,
    "id": "EIj_GEoPB-Ss",
    "nbgrader": {
     "cell_type": "markdown",
     "checksum": "7fc5a47b76f4454245ce36849a9034ee",
     "grade": true,
     "grade_id": "cell-488ef29693ca30b8",
     "locked": false,
     "points": 2,
     "schema_version": 3,
     "solution": true
    }
   },
   "source": [
    "Podemos ver que sim,já que a posição relativa do erro da derivada($f_{2}$) e da função original($f_{1}$) diferem entre sí para os intervalos $[0,\\pi]$, $[0,\\frac{\\pi}{2}]$ sendo assim o quanto o o erro de uma depende da outra varia porem a importância ainda é maior para o erro da derivada($f_{2}$). "
   ]
  },
  {
   "cell_type": "markdown",
   "metadata": {
    "deletable": false,
    "editable": false,
    "id": "Mqci5uoMB-Ss",
    "nbgrader": {
     "cell_type": "markdown",
     "checksum": "c4983b683ea11da1520a91d1594025e0",
     "grade": false,
     "grade_id": "cell-5aeab9b3e5ab868f",
     "locked": true,
     "schema_version": 3,
     "solution": false,
     "task": false
    }
   },
   "source": [
    "## Parte 2: Métodos de maior ordem para EDOs\n",
    "\n",
    "### Equações diferenciais e Integrais\n",
    "\n",
    "Calcular a integral $\\int_a^b h(t) \\, dt$ é a mesma coisa que resolver a equação diferencial\n",
    "$$ \\begin{cases}\n",
    "  y'(t) & = h(t) \\\\\n",
    "  f(a)  & = 0,\n",
    "\\end{cases} $$\n",
    "pelo Teorema Fundamental do Cálculo.\n",
    "Portanto, é possível implementar uma função `int_rect` usando a função `euler`.\n",
    "\n",
    "Isso é verdade para vários métodos de integração: muitas vezes existe um método de Equações Diferenciais cujo caso particular é um método de integração quando a ED é \"trivial\"\n",
    "(ou seja, quando a fórmula $F$ para $y'(t)$ não depende de $y(t)$)."
   ]
  },
  {
   "cell_type": "markdown",
   "metadata": {
    "deletable": false,
    "editable": false,
    "id": "U31zRLQSB-St",
    "nbgrader": {
     "cell_type": "markdown",
     "checksum": "04428f1dfc7f4a1e153334ab49310015",
     "grade": false,
     "grade_id": "cell-7b97f72f7f552972",
     "locked": true,
     "schema_version": 3,
     "solution": false,
     "task": false
    }
   },
   "source": [
    "### O método do Trapézio para EDOs: uma equação implícita\n",
    "\n",
    "Inversamente, podemos usar métodos de integração e \"generalizar\" para usar em EDOs.\n",
    "Por exemplo, podemos usar a aproximação do trapézio:\n",
    "$$ y(h) = y(0) + \\int_0^h y'(t) \\, dt \\sim h \\cdot \\frac{y'(0) + y'(h)}{2}.$$\n",
    "\n",
    "Substituindo a EDO $f'(t) = F(t, f(t))$, isto dá uma equação **implícita** para calcular $y(h)$."
   ]
  },
  {
   "cell_type": "markdown",
   "metadata": {
    "deletable": false,
    "editable": false,
    "id": "jiqta3y-B-Su",
    "nbgrader": {
     "cell_type": "markdown",
     "checksum": "b9d0d3f5c2aec42b9d3b29fd54d6e859",
     "grade": false,
     "grade_id": "cell-c4286e9bd138d09d",
     "locked": true,
     "schema_version": 3,
     "solution": false,
     "task": false
    }
   },
   "source": [
    "### Trapézio 1: Equação implícita\n",
    "\n",
    "Escreva a equação implícita que a aproximação $y_1$ de $y(h)$ satisfaz, em função de $y_0$, $h$, $F$, $\\ldots$."
   ]
  },
  {
   "cell_type": "markdown",
   "metadata": {
    "deletable": false,
    "id": "kR_nYGa5B-Su",
    "nbgrader": {
     "cell_type": "markdown",
     "checksum": "30c15b9a5cf643ebac06383c55e60119",
     "grade": true,
     "grade_id": "cell-21e5a9a9fe6bfda0",
     "locked": false,
     "points": 1,
     "schema_version": 3,
     "solution": true
    }
   },
   "source": [
    "$$ y_1 = y (0) + h \\cdot \\frac{F\\big(0,y (0) \\big)+ F\\big(h,y_1\\big)}{2} $$"
   ]
  },
  {
   "cell_type": "markdown",
   "metadata": {
    "deletable": false,
    "editable": false,
    "id": "qTdo4WmUB-Sv",
    "nbgrader": {
     "cell_type": "markdown",
     "checksum": "b968d010d5b719c36485d2a5235da277",
     "grade": false,
     "grade_id": "cell-edeec3a139f779d2",
     "locked": true,
     "schema_version": 3,
     "solution": false,
     "task": false
    }
   },
   "source": [
    "### Trapézio 2: resolvendo a equação implícita de 1 passo\n",
    "\n",
    "Escreva uma função que dá o passo do método do trapézio.\n",
    "\n",
    "Obs: O método da secante precisa de dois pontos para iniciar.\n",
    "Que valor de $y$ deve estar próximo à solução?\n",
    "Se você tiver que \"chutar\" outro valor, este provavelmente estará mais próximo ou mais distante?\n",
    "Qual deles você deve usar como primeiro e qual como segundo valor na secante?"
   ]
  },
  {
   "cell_type": "code",
   "execution_count": 27,
   "metadata": {
    "deletable": false,
    "executionInfo": {
     "elapsed": 1081,
     "status": "ok",
     "timestamp": 1602124580770,
     "user": {
      "displayName": "Ademir Castro",
      "photoUrl": "",
      "userId": "18309129921806844914"
     },
     "user_tz": 180
    },
    "id": "HTusxvh5B-Sw",
    "nbgrader": {
     "cell_type": "code",
     "checksum": "114ef2a4382708065a06b525add1bd47",
     "grade": false,
     "grade_id": "cell-3472403326f99e4f",
     "locked": false,
     "schema_version": 3,
     "solution": true,
     "task": false
    }
   },
   "outputs": [],
   "source": [
    "def secante(f, y0, y1, prec=1e-15, maxsteps=100):\n",
    "    \"\"\"Resolve a raiz de uma função pelo método da secante, retornando os passos. Os inputs são a função, \n",
    "    dois pontos em x, o ponto inicial y, a precisão em x, a precisão em y e o número máximo de iterações \"\"\"\n",
    "    \n",
    "    for iteracao in range(1,maxsteps+1):\n",
    "        f0 = f(y0)\n",
    "        f1 = f(y1)\n",
    "        yn = y0 - (f0*((y0-y1)/(f0-f1)))\n",
    "        if abs(yn-y1)< prec:\n",
    "            return yn\n",
    "        y0 = y1\n",
    "        y1 = yn\n",
    "        \n",
    "    return yn"
   ]
  },
  {
   "cell_type": "markdown",
   "metadata": {},
   "source": [
    "O valor de $y_{1}$ deve estar mais próximo da solução pois no método da secante ele será usado 2 vezes (para a primeira e segunda iteração) sendo assim o \"chute\" é usado como primeiro valor da secante e é escolhido o chute o mais próximo possivel de $y$ e dessa forma o chute $(y+h)$ é o ideal pois fica cada vez melhor com menores valores de $h$"
   ]
  },
  {
   "cell_type": "code",
   "execution_count": 28,
   "metadata": {
    "deletable": false,
    "executionInfo": {
     "elapsed": 1069,
     "status": "ok",
     "timestamp": 1602124580776,
     "user": {
      "displayName": "Ademir Castro",
      "photoUrl": "",
      "userId": "18309129921806844914"
     },
     "user_tz": 180
    },
    "id": "eHJNvpLVB-Sz",
    "nbgrader": {
     "cell_type": "code",
     "checksum": "924142c645cdc91aed79742a04bc9344",
     "grade": false,
     "grade_id": "cell-a2e59b3caa310f1a",
     "locked": false,
     "schema_version": 3,
     "solution": true
    }
   },
   "outputs": [],
   "source": [
    "def trapezoidal_step_sec(F, tcurr, ycurr, h):\n",
    "    \"\"\"Resolve a equação implícita do método trapezoidal pelo método da secante, partindo de (tcurr,ycurr),\n",
    "    retornando uma aproximação de  y  em  tcurr+h.\"\"\"\n",
    "    tnext = tcurr+h\n",
    "    def f_aux(y1, y0 = ycurr, t0 = tcurr, t1 = tnext, pas = h, f = F):\n",
    "        return y0 + (h/2)*((f(t0,y0)+f(t0+h,y1))) - y1\n",
    "            \n",
    "    ys = secante(f_aux, ycurr+h, ycurr)\n",
    "    \n",
    "    return ys\n"
   ]
  },
  {
   "cell_type": "markdown",
   "metadata": {
    "deletable": false,
    "editable": false,
    "id": "oZoYSa21B-S2",
    "nbgrader": {
     "cell_type": "markdown",
     "checksum": "ed4f4f8829f4488258e8e32d31171bfd",
     "grade": false,
     "grade_id": "cell-fdfe9453702c3c87",
     "locked": true,
     "schema_version": 3,
     "solution": false,
     "task": false
    }
   },
   "source": [
    "### Alguns testes simples"
   ]
  },
  {
   "cell_type": "code",
   "execution_count": 29,
   "metadata": {
    "deletable": false,
    "editable": false,
    "executionInfo": {
     "elapsed": 989,
     "status": "ok",
     "timestamp": 1602124587117,
     "user": {
      "displayName": "Ademir Castro",
      "photoUrl": "",
      "userId": "18309129921806844914"
     },
     "user_tz": 180
    },
    "id": "XR2K3iDgB-S2",
    "nbgrader": {
     "cell_type": "code",
     "checksum": "2755c02044cb2e4ec17048be5c57675e",
     "grade": true,
     "grade_id": "cell-fc0e186f42fe6f75",
     "locked": true,
     "points": 2,
     "schema_version": 3,
     "solution": false
    }
   },
   "outputs": [],
   "source": [
    "def G(t,y):\n",
    "    return t - np.cos(y)\n",
    "\n",
    "ynext = trapezoidal_step_sec(G, 0, 1, 0.1)\n",
    "assert abs(ynext - 0.9488541465905801) < 1e-14"
   ]
  },
  {
   "cell_type": "code",
   "execution_count": 30,
   "metadata": {
    "deletable": false,
    "editable": false,
    "executionInfo": {
     "elapsed": 972,
     "status": "ok",
     "timestamp": 1602124587122,
     "user": {
      "displayName": "Ademir Castro",
      "photoUrl": "",
      "userId": "18309129921806844914"
     },
     "user_tz": 180
    },
    "id": "khJTpk8fB-S6",
    "nbgrader": {
     "cell_type": "code",
     "checksum": "31ef0a9ae07be063297474e78db2498a",
     "grade": true,
     "grade_id": "cell-4c6e6b6cbd203ead",
     "locked": true,
     "points": 1,
     "schema_version": 3,
     "solution": false
    }
   },
   "outputs": [],
   "source": [
    "ynext = trapezoidal_step_sec(G, 0, 1, 0.3)\n",
    "assert abs(ynext - 0.8668725901552984) < 1e-14"
   ]
  },
  {
   "cell_type": "markdown",
   "metadata": {
    "deletable": false,
    "editable": false,
    "id": "3se3iMotB-S-",
    "nbgrader": {
     "cell_type": "markdown",
     "checksum": "825dc6517da59d5ddd568b2fe84e4fb5",
     "grade": false,
     "grade_id": "cell-12571dc427d81af9",
     "locked": true,
     "schema_version": 3,
     "solution": false,
     "task": false
    }
   },
   "source": [
    "### Trapézio 3: Resolvendo a EDO\n",
    "\n",
    "Agora, incorporamos o passo do trapézio numa função `trapezoidal_ode`, análoga à `euler`,\n",
    "que resolve a EDO $y' = F(t, y(t))$ pelo método do trapézio."
   ]
  },
  {
   "cell_type": "code",
   "execution_count": 31,
   "metadata": {
    "deletable": false,
    "executionInfo": {
     "elapsed": 948,
     "status": "ok",
     "timestamp": 1602124590790,
     "user": {
      "displayName": "Ademir Castro",
      "photoUrl": "",
      "userId": "18309129921806844914"
     },
     "user_tz": 180
    },
    "id": "yFrNqGgKB-S-",
    "nbgrader": {
     "cell_type": "code",
     "checksum": "fbdd00f70a3d130aa9bf601ff0295c1b",
     "grade": false,
     "grade_id": "cell-53109c937e04b22b",
     "locked": false,
     "schema_version": 3,
     "solution": true,
     "task": false
    }
   },
   "outputs": [],
   "source": [
    "def trapezoidal_ode(F, t0, tf, y0, nsteps=100):\n",
    "    \"\"\"Calcula uma solução aproximada da equação  y' = F(t,y)  pelo método do trapézio,\n",
    "    dividindo o intervalo  [t0, tf]  em  nsteps  passos,\n",
    "    e usando o método da secante para resolver a equação implícita.\"\"\"\n",
    "    ts,h=np.linspace(t0,tf,nsteps+1,retstep=True)\n",
    "    ys = [y0]\n",
    "    for t in ts[:-1]:\n",
    "        ys.append(trapezoidal_step_sec(F, t, ys[-1], h))\n",
    "        \n",
    "    return ts, np.array(ys)"
   ]
  },
  {
   "cell_type": "code",
   "execution_count": 32,
   "metadata": {
    "deletable": false,
    "editable": false,
    "executionInfo": {
     "elapsed": 945,
     "status": "ok",
     "timestamp": 1602124590794,
     "user": {
      "displayName": "Ademir Castro",
      "photoUrl": "",
      "userId": "18309129921806844914"
     },
     "user_tz": 180
    },
    "id": "9VWJ83AkB-TB",
    "nbgrader": {
     "cell_type": "code",
     "checksum": "37a7318dd06b37a667ae942ef34e53bc",
     "grade": true,
     "grade_id": "cell-2636497dc2fecc38",
     "locked": true,
     "points": 1,
     "schema_version": 3,
     "solution": false
    }
   },
   "outputs": [],
   "source": [
    "def F1(t,y):\n",
    "    return y\n",
    "\n",
    "t_100, y_100 = trapezoidal_ode(F1, 0, 1, 1)\n",
    "assert len(t_100) == 101\n",
    "assert t_100[0] == 0\n",
    "assert t_100[-1] == 1"
   ]
  },
  {
   "cell_type": "code",
   "execution_count": 33,
   "metadata": {
    "deletable": false,
    "editable": false,
    "executionInfo": {
     "elapsed": 941,
     "status": "ok",
     "timestamp": 1602124590797,
     "user": {
      "displayName": "Ademir Castro",
      "photoUrl": "",
      "userId": "18309129921806844914"
     },
     "user_tz": 180
    },
    "id": "yentTp_CB-TF",
    "nbgrader": {
     "cell_type": "code",
     "checksum": "a0ef97f6f192c0d741f11eb994b457a5",
     "grade": true,
     "grade_id": "cell-bad899092faf0acd",
     "locked": true,
     "points": 1,
     "schema_version": 3,
     "solution": false
    }
   },
   "outputs": [],
   "source": [
    "t_100, y_100 = trapezoidal_ode(F1, 0, 1, 1)\n",
    "assert len(y_100) == 101\n",
    "assert y_100[0] == 1\n",
    "assert( abs(y_100[-1] - 2.7183044812417965) < 5e-15 )"
   ]
  },
  {
   "cell_type": "code",
   "execution_count": 34,
   "metadata": {
    "deletable": false,
    "editable": false,
    "executionInfo": {
     "elapsed": 939,
     "status": "ok",
     "timestamp": 1602124590800,
     "user": {
      "displayName": "Ademir Castro",
      "photoUrl": "",
      "userId": "18309129921806844914"
     },
     "user_tz": 180
    },
    "id": "-DuhroRcB-TI",
    "nbgrader": {
     "cell_type": "code",
     "checksum": "e9226b0d2ad72f01a50650b1e8668509",
     "grade": true,
     "grade_id": "cell-c13ccd1c6e326e4a",
     "locked": true,
     "points": 1,
     "schema_version": 3,
     "solution": false
    }
   },
   "outputs": [],
   "source": [
    "def F_dificil(t, y):\n",
    "    return t*np.sin(y) - t**2*np.cos(y)\n",
    "\n",
    "_, y_dificil = trapezoidal_ode(F_dificil, 0, 2, 1, nsteps=100)\n",
    "assert( abs(y_dificil[-1] - 3.587544094834753) < 5e-15 )"
   ]
  },
  {
   "cell_type": "code",
   "execution_count": 35,
   "metadata": {
    "deletable": false,
    "editable": false,
    "executionInfo": {
     "elapsed": 935,
     "status": "ok",
     "timestamp": 1602124590802,
     "user": {
      "displayName": "Ademir Castro",
      "photoUrl": "",
      "userId": "18309129921806844914"
     },
     "user_tz": 180
    },
    "id": "9Pf98jNOB-TL",
    "nbgrader": {
     "cell_type": "code",
     "checksum": "4d516688567bba204b38c9df87d57726",
     "grade": true,
     "grade_id": "cell-ec92560fa7645ec4",
     "locked": true,
     "points": 2,
     "schema_version": 3,
     "solution": false
    }
   },
   "outputs": [],
   "source": [
    "t_100, y_100 = trapezoidal_ode(F1, 0, 1, 1)\n",
    "assert np.allclose(y_100, np.exp(t_100))\n",
    "assert 1e-5 < np.max(y_100 - np.exp(t_100)) < 5e-5\n",
    "\n",
    "t_1000, y_1000 = trapezoidal_ode(F1, 0, 1, 1, nsteps=1000)\n",
    "assert np.allclose(y_1000, np.exp(t_1000), rtol=1e-7)\n",
    "assert 1e-7 < np.max(y_1000 - np.exp(t_1000)) < 5e-7"
   ]
  },
  {
   "cell_type": "markdown",
   "metadata": {
    "deletable": false,
    "editable": false,
    "id": "QLvaXsTjB-TS",
    "nbgrader": {
     "cell_type": "markdown",
     "checksum": "8658864b86e7e3bce6f010b02b0f3378",
     "grade": false,
     "grade_id": "cell-09d5d2bf9bdb2361",
     "locked": true,
     "schema_version": 3,
     "solution": false,
     "task": false
    }
   },
   "source": [
    "O que a caixa acima está testando?"
   ]
  },
  {
   "cell_type": "markdown",
   "metadata": {
    "deletable": false,
    "id": "utzJM4vQB-TT",
    "nbgrader": {
     "cell_type": "markdown",
     "checksum": "7a3a8fc879ca3db69e12ba4207280cbd",
     "grade": true,
     "grade_id": "cell-565ac12e85799498",
     "locked": false,
     "points": 2,
     "schema_version": 3,
     "solution": true
    }
   },
   "source": [
    "Nos asserts acima está se testando se o maior valor dentre todos os resultantes da subtração dos valores numéricos e os valores exatos no intervalo para a função, ou seja, se o erro de implementação do método numérico, está dentro do intervalo estipulado, neste caso o intervalo $[1\\times10^{-7}, 5 \\times 10^{-7}]$"
   ]
  },
  {
   "cell_type": "markdown",
   "metadata": {
    "deletable": false,
    "editable": false,
    "id": "m2kRRImlB-TU",
    "nbgrader": {
     "cell_type": "markdown",
     "checksum": "830bbf4dc7c0ae093d4dd52ea377302f",
     "grade": false,
     "grade_id": "cell-5035f1355aeb78e3",
     "locked": true,
     "schema_version": 3,
     "solution": false,
     "task": false
    }
   },
   "source": [
    "### O método do ponto médio para integrais\n",
    "\n",
    "Esse é um método de \"duplo cálculo\", e explícito:\n",
    "\n",
    "- Andamos metade do tempo $h$, usando um passo \"de Euler\"\n",
    "- Recalculamos o passo de Euler, mas usamos a derivada \"no meio do caminho\",\n",
    "  que é uma aproximação melhor (porque simétrica).\n",
    "\n",
    "Em fórmulas:\n",
    "- Passo explícito, $m_i = y_i + F(t_i, y_i) \\cdot h/2$\n",
    "- 2º passo explícito: $y_{i+1} = y_i + F(t_i + h/2, m_i) \\cdot h$"
   ]
  },
  {
   "cell_type": "markdown",
   "metadata": {
    "deletable": false,
    "editable": false,
    "id": "qzMZr7BUB-TV",
    "nbgrader": {
     "cell_type": "markdown",
     "checksum": "fcaf7e9d336694c45d7f9dc60b241cd0",
     "grade": false,
     "grade_id": "cell-ed2fc4d8a461dd0f",
     "locked": true,
     "schema_version": 3,
     "solution": false,
     "task": false
    }
   },
   "source": [
    "### Ponto médio 1:\n",
    "\n",
    "Escreva uma função que dá o novo ponto usando a regra do ponto médio"
   ]
  },
  {
   "cell_type": "code",
   "execution_count": 36,
   "metadata": {
    "deletable": false,
    "executionInfo": {
     "elapsed": 1103,
     "status": "ok",
     "timestamp": 1602124600690,
     "user": {
      "displayName": "Ademir Castro",
      "photoUrl": "",
      "userId": "18309129921806844914"
     },
     "user_tz": 180
    },
    "id": "rFgUJSQpB-TW",
    "nbgrader": {
     "cell_type": "code",
     "checksum": "0549f89929235e1ec82b04158419654e",
     "grade": false,
     "grade_id": "cell-a5d222acf3fcf39c",
     "locked": false,
     "schema_version": 3,
     "solution": true
    }
   },
   "outputs": [],
   "source": [
    "def midpoint_step(F, t, y, h):\n",
    "    m=y+F(t,y)*h/2\n",
    "    return y+F(t+h/2,m)*h"
   ]
  },
  {
   "cell_type": "code",
   "execution_count": 37,
   "metadata": {
    "deletable": false,
    "editable": false,
    "executionInfo": {
     "elapsed": 1228,
     "status": "ok",
     "timestamp": 1602124604415,
     "user": {
      "displayName": "Ademir Castro",
      "photoUrl": "",
      "userId": "18309129921806844914"
     },
     "user_tz": 180
    },
    "id": "Vh671xj5B-TZ",
    "nbgrader": {
     "cell_type": "code",
     "checksum": "b1c9edf2af91c49a09c1d2afab8fa27c",
     "grade": true,
     "grade_id": "cell-02935fb5b443e376",
     "locked": true,
     "points": 1,
     "schema_version": 3,
     "solution": false
    }
   },
   "outputs": [],
   "source": [
    "def G(t,y):\n",
    "    return t - np.cos(y)\n",
    " \n",
    "ynext = midpoint_step(G, 0, 1, 0.1)\n",
    "assert abs(ynext - 0.9487165172210511) < 1e-14"
   ]
  },
  {
   "cell_type": "code",
   "execution_count": 38,
   "metadata": {
    "deletable": false,
    "editable": false,
    "executionInfo": {
     "elapsed": 1021,
     "status": "ok",
     "timestamp": 1602124607803,
     "user": {
      "displayName": "Ademir Castro",
      "photoUrl": "",
      "userId": "18309129921806844914"
     },
     "user_tz": 180
    },
    "id": "uN8Ipr5tB-Tg",
    "nbgrader": {
     "cell_type": "code",
     "checksum": "70ce3e17d9fadc828c789ff573216f5c",
     "grade": true,
     "grade_id": "cell-4b69d6123f624e03",
     "locked": true,
     "points": 1,
     "schema_version": 3,
     "solution": false
    }
   },
   "outputs": [],
   "source": [
    "ynext = midpoint_step(G, 0, 1, 0.3)\n",
    "assert abs(ynext - 0.8630045486909678) < 1e-14"
   ]
  },
  {
   "cell_type": "markdown",
   "metadata": {
    "deletable": false,
    "editable": false,
    "id": "olXi6z83B-Tm",
    "nbgrader": {
     "cell_type": "markdown",
     "checksum": "be9e33c8afbe402ede08974e1238bc31",
     "grade": false,
     "grade_id": "cell-391b5acadb306dfb",
     "locked": true,
     "schema_version": 3,
     "solution": false,
     "task": false
    }
   },
   "source": [
    "### Ponto médio 2: EDO\n",
    "\n",
    "E agora, incorpore este passo num método de resolução de EDOs"
   ]
  },
  {
   "cell_type": "code",
   "execution_count": 39,
   "metadata": {
    "deletable": false,
    "executionInfo": {
     "elapsed": 1087,
     "status": "ok",
     "timestamp": 1602124610346,
     "user": {
      "displayName": "Ademir Castro",
      "photoUrl": "",
      "userId": "18309129921806844914"
     },
     "user_tz": 180
    },
    "id": "fsNnZYoHB-Tn",
    "nbgrader": {
     "cell_type": "code",
     "checksum": "1b18c4df1ef946f3a3efe4c60c078437",
     "grade": false,
     "grade_id": "cell-a6fdf31371abb993",
     "locked": false,
     "schema_version": 3,
     "solution": true
    }
   },
   "outputs": [],
   "source": [
    "def midpoint_ode(F, t0, tf, y0, nsteps=100):\n",
    "    \"\"\"Calcula uma solução aproximada da equação y' = F(t,y) no intervalo  [t0, tf]  usando  nsteps  passos,\n",
    "    usando o passo explícito no ponto médio.\"\"\"\n",
    "    ts,h=np.linspace(t0,tf,nsteps+1,retstep=True)\n",
    "    ys=[y0]\n",
    "    for t in ts[:-1]:\n",
    "        ys.append(midpoint_step(F,t,ys[-1],h))\n",
    "    return ts, np.array(ys)"
   ]
  },
  {
   "cell_type": "code",
   "execution_count": 40,
   "metadata": {
    "deletable": false,
    "editable": false,
    "executionInfo": {
     "elapsed": 1057,
     "status": "ok",
     "timestamp": 1602124613844,
     "user": {
      "displayName": "Ademir Castro",
      "photoUrl": "",
      "userId": "18309129921806844914"
     },
     "user_tz": 180
    },
    "id": "84AY0xnZB-Tr",
    "nbgrader": {
     "cell_type": "code",
     "checksum": "22c64f1ae078fe1658e63bede911df4e",
     "grade": true,
     "grade_id": "cell-0517a2cc6bff6ed6",
     "locked": true,
     "points": 1,
     "schema_version": 3,
     "solution": false
    }
   },
   "outputs": [],
   "source": [
    "def F1(t,y):\n",
    "    return y\n",
    " \n",
    "t_100, y_100 = midpoint_ode(F1, 0, 1, 1)\n",
    "assert len(t_100) == 101\n",
    "assert t_100[0] == 0\n",
    "assert t_100[-1] == 1"
   ]
  },
  {
   "cell_type": "code",
   "execution_count": 41,
   "metadata": {
    "deletable": false,
    "editable": false,
    "executionInfo": {
     "elapsed": 1352,
     "status": "ok",
     "timestamp": 1602124618139,
     "user": {
      "displayName": "Ademir Castro",
      "photoUrl": "",
      "userId": "18309129921806844914"
     },
     "user_tz": 180
    },
    "id": "mpjTlOK7B-Tu",
    "nbgrader": {
     "cell_type": "code",
     "checksum": "6e701b865a6a35e0e86a3dd9a655b763",
     "grade": true,
     "grade_id": "cell-fa1fbe523679c33f",
     "locked": true,
     "points": 1,
     "schema_version": 3,
     "solution": false
    }
   },
   "outputs": [],
   "source": [
    "t_100, y_100 = midpoint_ode(F1, 0, 1, 1)\n",
    "assert len(y_100) == 101\n",
    "assert y_100[0] == 1\n",
    "assert( abs(y_100[-1] - 2.718236862559957) < 5e-15 )"
   ]
  },
  {
   "cell_type": "code",
   "execution_count": 42,
   "metadata": {
    "deletable": false,
    "editable": false,
    "executionInfo": {
     "elapsed": 1041,
     "status": "ok",
     "timestamp": 1602124620906,
     "user": {
      "displayName": "Ademir Castro",
      "photoUrl": "",
      "userId": "18309129921806844914"
     },
     "user_tz": 180
    },
    "id": "kINW2ypmB-Ty",
    "nbgrader": {
     "cell_type": "code",
     "checksum": "878a5b04dfc3ea540e51745122c9de42",
     "grade": true,
     "grade_id": "cell-698ec04dabd58518",
     "locked": true,
     "points": 1,
     "schema_version": 3,
     "solution": false
    }
   },
   "outputs": [],
   "source": [
    "def F_dificil(t, y):\n",
    "    return t*np.sin(y) - t**2*np.cos(y)\n",
    " \n",
    "_, y_dificil = midpoint_ode(F_dificil, 0, 2, 1, nsteps=100)\n",
    "assert( abs(y_dificil[-1] - 3.5874427140529868) < 5e-15 )"
   ]
  },
  {
   "cell_type": "code",
   "execution_count": 43,
   "metadata": {
    "deletable": false,
    "editable": false,
    "executionInfo": {
     "elapsed": 1037,
     "status": "ok",
     "timestamp": 1602124623564,
     "user": {
      "displayName": "Ademir Castro",
      "photoUrl": "",
      "userId": "18309129921806844914"
     },
     "user_tz": 180
    },
    "id": "F3Hw7iZBB-T2",
    "nbgrader": {
     "cell_type": "code",
     "checksum": "b488f4162934fa8c425db677672b777c",
     "grade": true,
     "grade_id": "cell-aa8742504641ae45",
     "locked": true,
     "points": 1,
     "schema_version": 3,
     "solution": false
    }
   },
   "outputs": [],
   "source": [
    "t_100, y_100 = midpoint_ode(F1, 0, 1, 1)\n",
    "assert np.allclose(y_100, np.exp(t_100), rtol=2e-5)\n",
    "assert 2e-5 < np.max(abs(y_100 - np.exp(t_100))) < 10e-5\n",
    " \n",
    "t_1000, y_1000 = midpoint_ode(F1, 0, 1, 1, nsteps=1000)\n",
    "assert np.allclose(y_1000, np.exp(t_1000), rtol=2e-7)\n",
    "assert 2e-7 < np.max(abs(y_1000 - np.exp(t_1000))) < 10e-7"
   ]
  },
  {
   "cell_type": "markdown",
   "metadata": {
    "deletable": false,
    "editable": false,
    "id": "gbUFqytwB-T7",
    "nbgrader": {
     "cell_type": "markdown",
     "checksum": "55b94504d9b2705d50f9cc4f6d6a35cf",
     "grade": false,
     "grade_id": "cell-3d95911937cdea2f",
     "locked": true,
     "schema_version": 3,
     "solution": false,
     "task": false
    }
   },
   "source": [
    "### Gráficos\n",
    "\n",
    "### Gráficos 1: Solução de EDOs\n",
    "\n",
    "Resolva a EDO\n",
    "\n",
    "$$y' = t - \\cos(y)$$\n",
    "\n",
    "com condição inicial $y(0) = 1$ no intervalo $[0,5]$, usando 30 pontos,\n",
    "pelos 3 métodos (Euler, Trapézio, ponto médio).\n",
    "Faça o gráfico das três soluções.\n",
    "Não esqueça do título e da legenda!"
   ]
  },
  {
   "cell_type": "code",
   "execution_count": 44,
   "metadata": {
    "colab": {
     "base_uri": "https://localhost:8080/",
     "height": 261
    },
    "deletable": false,
    "executionInfo": {
     "elapsed": 1596,
     "status": "ok",
     "timestamp": 1602124628716,
     "user": {
      "displayName": "Ademir Castro",
      "photoUrl": "",
      "userId": "18309129921806844914"
     },
     "user_tz": 180
    },
    "id": "U9Bx3lfDB-T7",
    "nbgrader": {
     "cell_type": "code",
     "checksum": "1ae55f10f46a4c3f8d40a2a0ae247e92",
     "grade": false,
     "grade_id": "cell-33a3a84d777bfa52",
     "locked": false,
     "schema_version": 3,
     "solution": true
    },
    "outputId": "3b305a67-46db-4538-cf40-5c2840478739"
   },
   "outputs": [
    {
     "data": {
      "image/png": "[encoded data removed]",
      "text/plain": [
       "<Figure size 432x288 with 1 Axes>"
      ]
     },
     "metadata": {
      "needs_background": "light"
     },
     "output_type": "display_data"
    }
   ],
   "source": [
    "#Função da EDO\n",
    "def F_trig(t,y):return t-np.cos(y)\n",
    "#Dados \n",
    "t_euler, y_euler= euler(F_trig, 0, 5, 1, nsteps=30)\n",
    "t_traps, y_traps= trapezoidal_ode(F_trig, 0, 5, 1, nsteps=30)\n",
    "t_pm, y_pm = midpoint_ode(F_trig, 0, 5, 1, nsteps=30)\n",
    "#Plot\n",
    "fig, ax = plt.subplots()\n",
    "ax.plot(t_euler, y_euler, label=\"Método de Euler\")\n",
    "ax.plot(t_traps, y_traps, label=\"Método do Trapézio\")\n",
    "ax.plot(t_pm, y_pm, label=\"Método do Ponto Médio\")\n",
    "#Eixos\n",
    "ax.set_xlabel(\"Eixo x\")\n",
    "ax.set_ylabel(\"Eixo y\")\n",
    "ax.set_title(\"Solução Numérica da EDO  $y'=t-\\cos(y)$ \")\n",
    "ax.grid()\n",
    "ax.legend()\n",
    " \n",
    "ax = plt.gca()\n",
    "plt.show();"
   ]
  },
  {
   "cell_type": "code",
   "execution_count": 45,
   "metadata": {
    "deletable": false,
    "editable": false,
    "executionInfo": {
     "elapsed": 1120,
     "status": "ok",
     "timestamp": 1602124635261,
     "user": {
      "displayName": "Ademir Castro",
      "photoUrl": "",
      "userId": "18309129921806844914"
     },
     "user_tz": 180
    },
    "id": "3WhDPZKFB-T_",
    "nbgrader": {
     "cell_type": "code",
     "checksum": "e2741c39c125c65bc9778706180c482c",
     "grade": true,
     "grade_id": "cell-ce8a6c701ef30448",
     "locked": true,
     "points": 2,
     "schema_version": 3,
     "solution": false
    }
   },
   "outputs": [],
   "source": [
    "assert ax.title.get_text() != \"\"\n",
    "assert len(ax.lines) == 3\n",
    "assert len(ax.legend().texts) == 3"
   ]
  },
  {
   "cell_type": "code",
   "execution_count": 46,
   "metadata": {
    "deletable": false,
    "editable": false,
    "executionInfo": {
     "elapsed": 1039,
     "status": "ok",
     "timestamp": 1602124640139,
     "user": {
      "displayName": "Ademir Castro",
      "photoUrl": "",
      "userId": "18309129921806844914"
     },
     "user_tz": 180
    },
    "id": "uoGV59GmB-UD",
    "nbgrader": {
     "cell_type": "code",
     "checksum": "dbc69d4820e4980b18d8528e22a609ea",
     "grade": false,
     "grade_id": "cell-658a27a9bd206613",
     "locked": true,
     "schema_version": 3,
     "solution": false
    }
   },
   "outputs": [],
   "source": [
    "ax = None"
   ]
  },
  {
   "cell_type": "markdown",
   "metadata": {
    "deletable": false,
    "editable": false,
    "id": "oRBKDSULB-UI",
    "nbgrader": {
     "cell_type": "markdown",
     "checksum": "49ee1573c1c07ae7bcf7fe9d75d4d984",
     "grade": false,
     "grade_id": "cell-8d47fa9448102f8f",
     "locked": true,
     "schema_version": 3,
     "solution": false
    }
   },
   "source": [
    "Esta EDO não tem \"solução analítica simples\".\n",
    "Como você faria para saber qual das curvas está \"mais correta\"?\n",
    "Explique sua ideia abaixo, e faça contas / gráficos na caixa seguinte"
   ]
  },
  {
   "cell_type": "markdown",
   "metadata": {
    "deletable": false,
    "id": "Ch8YmJK9B-UJ",
    "nbgrader": {
     "cell_type": "markdown",
     "checksum": "7ff68caebbba1fc1f902d123addb6cc6",
     "grade": true,
     "grade_id": "cell-5bab6216c6c3cc36",
     "locked": false,
     "points": 2,
     "schema_version": 3,
     "solution": true
    }
   },
   "source": [
    "Podemos escolher uma EDO que tenha uma solução analítica conhecida e analizar qual método tem uma perfomace melhor para o mesmo numero de passos e o mesmo intervalo e tomar, por exemplo, o erro relativo como parâmetro para essa performace e saber qual dos métodos estaria \"mais correto\" a partir dele."
   ]
  },
  {
   "cell_type": "code",
   "execution_count": 47,
   "metadata": {
    "colab": {
     "base_uri": "https://localhost:8080/",
     "height": 261
    },
    "deletable": false,
    "executionInfo": {
     "elapsed": 1434,
     "status": "ok",
     "timestamp": 1602124642903,
     "user": {
      "displayName": "Ademir Castro",
      "photoUrl": "",
      "userId": "18309129921806844914"
     },
     "user_tz": 180
    },
    "id": "Xgsy_96TB-UL",
    "nbgrader": {
     "cell_type": "code",
     "checksum": "281493f8e70105a374b3bfa617d15ba5",
     "grade": true,
     "grade_id": "cell-f3aaa5eae6c9a1cc",
     "locked": false,
     "points": 2,
     "schema_version": 3,
     "solution": true
    },
    "outputId": "66b57011-dfac-458d-f060-36f246b6ff2b"
   },
   "outputs": [
    {
     "data": {
      "image/png": "[encoded data removed]",
      "text/plain": [
       "<Figure size 1080x288 with 2 Axes>"
      ]
     },
     "metadata": {
      "needs_background": "light"
     },
     "output_type": "display_data"
    }
   ],
   "source": [
    "# Contas / gráfico\n",
    "\n",
    "def F_teste(t,y):return np.sin(t)**2\n",
    "#Dados\n",
    "t_euler, y_euler= euler(F_teste, 0, 5, 1, nsteps=30)\n",
    "t_traps, y_traps= trapezoidal_ode(F_teste, 0, 5, 1, nsteps=30)\n",
    "t_pm, y_pm = midpoint_ode(F_teste, 0, 5, 1, nsteps=30)\n",
    "y_exato = (t_pm - np.sin(t_pm)*np.cos(t_pm)+2)/2\n",
    "\n",
    "#Plot1\n",
    "fig, (ax1, ax2) = plt.subplots(1, 2, figsize=(15,4))\n",
    "ax1.plot(t_euler,y_euler, label=\"Método de Euler\")\n",
    "ax1.plot(t_traps,y_traps, label=\"Método do Trapézio\")\n",
    "ax1.plot(t_pm,y_pm, label=\"Método do Ponto Médio\")\n",
    "ax1.plot(t_traps,y_exato, label=\"Solução (quase) exata\")\n",
    "#Eixos1\n",
    "ax1.set_xlabel(\"Eixo x\")\n",
    "ax1.set_ylabel(\"Eixo y\")\n",
    "ax1.set_title(\"Solução Numérica de EDOs\")\n",
    "ax1.grid()\n",
    "ax1.legend()\n",
    "\n",
    "\n",
    "#Plot2\n",
    "ax2.plot(t_euler, np.abs((y_euler-y_exato)/y_exato), label=\"Euler\")\n",
    "ax2.plot(t_traps, np.abs((y_traps-y_exato)/y_exato), label=\"Trapézio\")\n",
    "ax2.plot(t_pm, np.abs((y_pm-y_exato)/y_exato), label=\"Ponto Médio\")\n",
    "#Eixos2\n",
    "ax2.set_xlabel(\"Eixo x\")\n",
    "ax2.set_ylabel(\"Erro Relativo\")\n",
    "ax2.set_title(\"Erro Relativo da Implementação dos Métodos\")\n",
    "ax2.grid()\n",
    "ax2.legend();"
   ]
  },
  {
   "cell_type": "markdown",
   "metadata": {
    "deletable": false,
    "editable": false,
    "id": "AguU0GauB-UY",
    "nbgrader": {
     "cell_type": "markdown",
     "checksum": "ffd6e8d9fac4fc61f5855d46a63ed13c",
     "grade": false,
     "grade_id": "cell-4780c10bc46f9467",
     "locked": true,
     "schema_version": 3,
     "solution": false,
     "task": false
    }
   },
   "source": [
    "### Gráficos 2: Velocidade de convergência"
   ]
  },
  {
   "cell_type": "code",
   "execution_count": 48,
   "metadata": {
    "deletable": false,
    "editable": false,
    "executionInfo": {
     "elapsed": 1069,
     "status": "ok",
     "timestamp": 1602124647023,
     "user": {
      "displayName": "Ademir Castro",
      "photoUrl": "",
      "userId": "18309129921806844914"
     },
     "user_tz": 180
    },
    "id": "nHH4WG4eB-UZ",
    "nbgrader": {
     "cell_type": "code",
     "checksum": "db0efb40f6c4d5673fa87e8c0b747ccb",
     "grade": false,
     "grade_id": "cell-0f68f9a8c831ab1b",
     "locked": true,
     "schema_version": 3,
     "solution": false
    },
    "scrolled": true
   },
   "outputs": [],
   "source": [
    "methods_3 = [euler, trapezoidal_ode, midpoint_ode]"
   ]
  },
  {
   "cell_type": "markdown",
   "metadata": {
    "deletable": false,
    "editable": false,
    "id": "GwiByWUmB-Uc",
    "nbgrader": {
     "cell_type": "markdown",
     "checksum": "24f9de9583faa08816094c831e920fd1",
     "grade": false,
     "grade_id": "cell-1abb8540789eee82",
     "locked": true,
     "schema_version": 3,
     "solution": false,
     "task": false
    }
   },
   "source": [
    "Faça uma função que desenha o gráfico dos erros de solução de uma EDO, dados\n",
    "- a função $F$ da EDO\n",
    "- o intervalo $[a,b]$\n",
    "- a condição inicial $y_0$\n",
    "- a solução analítica `ysol`\n",
    "- o número de pontos $n$\n"
   ]
  },
  {
   "cell_type": "code",
   "execution_count": 49,
   "metadata": {
    "deletable": false,
    "executionInfo": {
     "elapsed": 556,
     "status": "ok",
     "timestamp": 1602124648255,
     "user": {
      "displayName": "Ademir Castro",
      "photoUrl": "",
      "userId": "18309129921806844914"
     },
     "user_tz": 180
    },
    "id": "oYH5aHAcB-Uc",
    "nbgrader": {
     "cell_type": "code",
     "checksum": "c6e815f2ad75b41a60f2285ba964f6e2",
     "grade": false,
     "grade_id": "cell-f1f6501fa1b5f6ce",
     "locked": false,
     "schema_version": 3,
     "solution": true,
     "task": false
    }
   },
   "outputs": [],
   "source": [
    "def graph_err(F, a,b, y0, ysol, n, methods=methods_3):\n",
    "    fig, ax = plt.subplots()\n",
    "    for m in methods:\n",
    "        t,y= m(F,a,b,y0,n)\n",
    "        ax.plot(t,(y-ysol(t)),label=f\"{m.__name__}\")\n",
    "    ax.set_xlabel(\"Número de Passos\")\n",
    "    ax.set_ylabel(\"Erro\")\n",
    "    ax.set_title(\"Gráficos dos Erros da Solução Numérica de EDOs\")\n",
    "    ax.legend(title=\"Método\",loc=\"upper left\", bbox_to_anchor=(1.0,1.0))"
   ]
  },
  {
   "cell_type": "markdown",
   "metadata": {
    "deletable": false,
    "editable": false,
    "id": "oGHgSV38B-Ug",
    "nbgrader": {
     "cell_type": "markdown",
     "checksum": "81ea113fa0adad50a9b45e552f7c3f02",
     "grade": false,
     "grade_id": "cell-ffe70eecba84bd11",
     "locked": true,
     "schema_version": 3,
     "solution": false,
     "task": false
    }
   },
   "source": [
    "Uma EDO conhecida, para comparar o erro: $$y' = -y.$$"
   ]
  },
  {
   "cell_type": "code",
   "execution_count": 50,
   "metadata": {
    "colab": {
     "base_uri": "https://localhost:8080/",
     "height": 227
    },
    "deletable": false,
    "editable": false,
    "executionInfo": {
     "elapsed": 1121,
     "status": "ok",
     "timestamp": 1602124661993,
     "user": {
      "displayName": "Ademir Castro",
      "photoUrl": "",
      "userId": "18309129921806844914"
     },
     "user_tz": 180
    },
    "id": "UqPNecY2B-Uh",
    "nbgrader": {
     "cell_type": "code",
     "checksum": "d3a19a2534221545ba54caaae651c3a4",
     "grade": false,
     "grade_id": "cell-8fef74752c80b9ce",
     "locked": true,
     "schema_version": 3,
     "solution": false
    },
    "outputId": "6df4b427-17a4-406d-8aff-3540f69ea5f3"
   },
   "outputs": [
    {
     "name": "stderr",
     "output_type": "stream",
     "text": [
      "<ipython-input-50-6966e364aca3>:5: MatplotlibDeprecationWarning: SymmetricalLogScale got an unexpected keyword argument 'linthresh'. In the future this will raise TypeError\n",
      "  plt.yscale('symlog', linthresh=1e-4) # Com \"symlog\", não use valores absolutos\n"
     ]
    },
    {
     "data": {
      "image/png": "[encoded data removed]",
      "text/plain": [
       "<Figure size 432x288 with 1 Axes>"
      ]
     },
     "metadata": {
      "needs_background": "light"
     },
     "output_type": "display_data"
    }
   ],
   "source": [
    "def G2(t,y): return -y\n",
    "def ysol2(t): return np.exp(-t)\n",
    " \n",
    "graph_err(G2, 0,2, 1, ysol2, 30)\n",
    "plt.yscale('symlog', linthresh=1e-4) # Com \"symlog\", não use valores absolutos\n",
    "plt.grid()\n",
    "ax = plt.gca()"
   ]
  },
  {
   "cell_type": "code",
   "execution_count": 51,
   "metadata": {
    "colab": {
     "base_uri": "https://localhost:8080/",
     "height": 188
    },
    "executionInfo": {
     "elapsed": 1282,
     "status": "ok",
     "timestamp": 1602124667017,
     "user": {
      "displayName": "Ademir Castro",
      "photoUrl": "",
      "userId": "18309129921806844914"
     },
     "user_tz": 180
    },
    "id": "iX6jONs4B-Uk",
    "outputId": "90ba1816-8374-4a51-c82e-e6e23e0d0938"
   },
   "outputs": [
    {
     "data": {
      "image/png": "[encoded data removed]",
      "text/plain": [
       "<Figure size 432x288 with 1 Axes>"
      ]
     },
     "metadata": {
      "needs_background": "light"
     },
     "output_type": "display_data"
    }
   ],
   "source": [
    "def G2(t,y): return -y\n",
    "def ysol2(t): return np.exp(-t)\n",
    " \n",
    "graph_err(G2, 0,2, 1, ysol2, 30)\n",
    "plt.yscale('symlog', linthreshy=1e-4) # Com \"symlog\", não use valores absolutos\n",
    "plt.grid()\n",
    "ax = plt.gca()"
   ]
  },
  {
   "cell_type": "code",
   "execution_count": 52,
   "metadata": {
    "deletable": false,
    "editable": false,
    "executionInfo": {
     "elapsed": 988,
     "status": "ok",
     "timestamp": 1602124669995,
     "user": {
      "displayName": "Ademir Castro",
      "photoUrl": "",
      "userId": "18309129921806844914"
     },
     "user_tz": 180
    },
    "id": "tf3zGhS_B-Un",
    "nbgrader": {
     "cell_type": "code",
     "checksum": "81884df73f64130cd041828532683ef6",
     "grade": true,
     "grade_id": "cell-bd1283a1a93cf938",
     "locked": true,
     "points": 1,
     "schema_version": 3,
     "solution": false
    }
   },
   "outputs": [],
   "source": [
    "assert ax.title.get_text() != \"\"\n",
    "assert len(ax.lines) == 3\n",
    "assert len(ax.legend().texts) == 3"
   ]
  },
  {
   "cell_type": "code",
   "execution_count": 53,
   "metadata": {
    "deletable": false,
    "editable": false,
    "executionInfo": {
     "elapsed": 945,
     "status": "ok",
     "timestamp": 1602124672395,
     "user": {
      "displayName": "Ademir Castro",
      "photoUrl": "",
      "userId": "18309129921806844914"
     },
     "user_tz": 180
    },
    "id": "EsYSCJKiB-Uq",
    "nbgrader": {
     "cell_type": "code",
     "checksum": "f92dbac814e34e3627ffded526e4a697",
     "grade": true,
     "grade_id": "cell-833495eb66f83962",
     "locked": true,
     "points": 1,
     "schema_version": 3,
     "solution": false,
     "task": false
    }
   },
   "outputs": [],
   "source": [
    "xdata = ax.lines[0].get_xdata()\n",
    "assert min(xdata) == 0.0\n",
    "assert max(xdata) == 2.0\n",
    " \n",
    "ydata = [l.get_ydata() for l in ax.lines]\n",
    "assert -2e-2 < np.min(ydata) < -1e-2\n",
    "assert  1e-4 < np.max(ydata) <  4e-4"
   ]
  },
  {
   "cell_type": "markdown",
   "metadata": {
    "deletable": false,
    "editable": false,
    "id": "8Rid4lU7B-Ut",
    "nbgrader": {
     "cell_type": "markdown",
     "checksum": "48561125e8cee1ee4272516c5c8acb11",
     "grade": false,
     "grade_id": "cell-5eea6c3a87cdf3e5",
     "locked": true,
     "schema_version": 3,
     "solution": false,
     "task": false
    }
   },
   "source": [
    "### Gráficos 3: Erro em função de $n$\n",
    "\n",
    "Usando a função `erro` definida anteriormente, faça o gráfico do erro, para os 3 métodos,\n",
    "em função de $n$, para a EDO $y' = y$, no intervalo $[0,2]$."
   ]
  },
  {
   "cell_type": "code",
   "execution_count": 54,
   "metadata": {
    "colab": {
     "base_uri": "https://localhost:8080/",
     "height": 248
    },
    "deletable": false,
    "executionInfo": {
     "elapsed": 5049,
     "status": "ok",
     "timestamp": 1602124806760,
     "user": {
      "displayName": "Ademir Castro",
      "photoUrl": "",
      "userId": "18309129921806844914"
     },
     "user_tz": 180
    },
    "id": "ukla70EwB-Ut",
    "nbgrader": {
     "cell_type": "code",
     "checksum": "015d023b4d241c891d8333bc5ddfaef6",
     "grade": false,
     "grade_id": "cell-042badbff1e14e15",
     "locked": false,
     "schema_version": 3,
     "solution": true
    },
    "outputId": "d0711b97-9798-445f-a944-101a726ddcf1"
   },
   "outputs": [
    {
     "data": {
      "image/png": "[encoded data removed]",
      "text/plain": [
       "<Figure size 432x288 with 1 Axes>"
      ]
     },
     "metadata": {
      "needs_background": "light"
     },
     "output_type": "display_data"
    },
    {
     "name": "stdout",
     "output_type": "stream",
     "text": [
      "Wall time: 5.96 s\n"
     ]
    }
   ],
   "source": [
    "%%time\n",
    "ns = np.logspace(1,5,num=21, dtype=int) \n",
    "fig, ax = plt.subplots()\n",
    "for m in methods_3:\n",
    "    Err = []\n",
    "    for ns_i in ns:\n",
    "        ts,ys= m(F1, 0, 2, 1,ns_i)\n",
    "        Err.append(erro(np.exp,ys,ts))\n",
    "    ax.loglog(ns,Err,label=f\"{m.__name__}\")\n",
    " \n",
    "\n",
    "    \n",
    "#Eixos    \n",
    "ax.set_xlabel(\"Número de Passos\")\n",
    "ax.set_ylabel(\"Erro\")\n",
    "ax.set_title(\"Gráficos dos Erros da Solução Numérica de EDOs\")\n",
    "ax.legend(title=\"Método\",loc=\"upper left\", bbox_to_anchor=(1.0,1.0))\n",
    "ax.grid();    \n",
    "\n",
    "ax = plt.gca()\n",
    "plt.show()"
   ]
  },
  {
   "cell_type": "code",
   "execution_count": 55,
   "metadata": {
    "deletable": false,
    "editable": false,
    "executionInfo": {
     "elapsed": 1453,
     "status": "ok",
     "timestamp": 1602124693914,
     "user": {
      "displayName": "Ademir Castro",
      "photoUrl": "",
      "userId": "18309129921806844914"
     },
     "user_tz": 180
    },
    "id": "RnwUxlhaB-Uy",
    "nbgrader": {
     "cell_type": "code",
     "checksum": "d51630a820fc1a0063c818dc6926e0bb",
     "grade": true,
     "grade_id": "cell-6e8eeb4188889f83",
     "locked": true,
     "points": 2,
     "schema_version": 3,
     "solution": false
    }
   },
   "outputs": [],
   "source": [
    "assert ax.title.get_text() != \"\"\n",
    "assert len(ax.lines) == 3\n",
    "assert len(ax.legend().texts) == 3"
   ]
  },
  {
   "cell_type": "markdown",
   "metadata": {
    "deletable": false,
    "editable": false,
    "id": "OhllopZ1B-U1",
    "nbgrader": {
     "cell_type": "markdown",
     "checksum": "2b55b5a7e22c2432057393c6b65380e9",
     "grade": false,
     "grade_id": "cell-41a618f77506e4ef",
     "locked": true,
     "schema_version": 3,
     "solution": false,
     "task": false
    }
   },
   "source": [
    "O que você observa?"
   ]
  },
  {
   "cell_type": "markdown",
   "metadata": {
    "deletable": false,
    "id": "E2efDrpsB-U1",
    "nbgrader": {
     "cell_type": "markdown",
     "checksum": "b6d36c7ab7cf0f90334aa8c7b90f71cb",
     "grade": true,
     "grade_id": "cell-2dc4aff2a203c9c5",
     "locked": false,
     "points": 3,
     "schema_version": 3,
     "solution": true
    }
   },
   "source": [
    "Podemos observar que o Método do Trapézio e o Método do Ponto Médio tem ordem de convergência $O(h^{2})$ enquanto o Método de Euler tem somente convergência $O(h)$. Porém mesmo tendo ordem de convergência iguáis o Método do Trapézio tem erros menores do que o do Método do Ponto Médio."
   ]
  }
 ],
 "metadata": {
  "@webio": {
   "lastCommId": null,
   "lastKernelId": null
  },
  "colab": {
   "collapsed_sections": [
    "sVgebbEWB-Rn",
    "-kxpx3glB-R1",
    "TYOG_VjKB-SD",
    "-CjF9mkRB-SZ",
    "U31zRLQSB-St",
    "m2kRRImlB-TU"
   ],
   "name": "Cópia de Projeto2_pronto.ipynb",
   "provenance": [
    {
     "file_id": "1VdYAdh-YVeG8aGUurYOwidCat08Y9DYP",
     "timestamp": 1602124885415
    }
   ]
  },
  "hide_input": false,
  "kernelspec": {
   "display_name": "Python 3",
   "language": "python",
   "name": "python3"
  },
  "language_info": {
   "codemirror_mode": {
    "name": "ipython",
    "version": 3
   },
   "file_extension": ".py",
   "mimetype": "text/x-python",
   "name": "python",
   "nbconvert_exporter": "python",
   "pygments_lexer": "ipython3",
   "version": "3.8.3"
  }
 },
 "nbformat": 4,
 "nbformat_minor": 1
}
