{
 "cells": [
  {
   "cell_type": "markdown",
   "metadata": {},
   "source": [
    "![CC-BY-SA](https://mirrors.creativecommons.org/presskit/buttons/88x31/svg/by-sa.svg)\n",
    "\n",
    "\n",
    "This notebook was created by [Bernardo Freitas Paulo da Costa](http://www.im.ufrj.br/bernardofpc),\n",
    "and Pedro Angelo Medeiros Fonini\n",
    "and is licensed under Creative Commons BY-SA."
   ]
  },
  {
   "cell_type": "markdown",
   "metadata": {},
   "source": [
    "Antes de enviar este Teste, verifique que tudo está funcionando como esperado.\n",
    "Por exemplo, **rode o código inteiro, do zero**.\n",
    "Para isso, vá no menu, escolha _Kernel_, depois _Restart & Run All_.\n",
    "\n",
    "Verifique, também, que você respondeu todas as questões:\n",
    "* as questões de código têm `YOUR CODE HERE` (e você pode apagar o `raise NotImplemented` ao incluir sua resposta)\n",
    "* as questões discursivas têm \"YOUR ANSWER HERE\"."
   ]
  },
  {
   "cell_type": "markdown",
   "metadata": {},
   "source": [
    "---"
   ]
  },
  {
   "cell_type": "code",
   "execution_count": null,
   "metadata": {
    "deletable": false,
    "editable": false,
    "nbgrader": {
     "cell_type": "code",
     "checksum": "b72958685209fa09e620c606df911e0f",
     "grade": false,
     "grade_id": "cell-9c7cc729981af536",
     "locked": true,
     "schema_version": 3,
     "solution": false,
     "task": false
    }
   },
   "outputs": [],
   "source": [
    "import numpy as np\n",
    "import matplotlib.pyplot as plt"
   ]
  },
  {
   "cell_type": "markdown",
   "metadata": {
    "deletable": false,
    "editable": false,
    "nbgrader": {
     "cell_type": "markdown",
     "checksum": "5450a7f1267848bd044324553e9093cb",
     "grade": false,
     "grade_id": "cell-f1b8175cfecbbe4f",
     "locked": true,
     "schema_version": 3,
     "solution": false,
     "task": false
    }
   },
   "source": [
    "# Matrizes não simétricas e autovalores complexos"
   ]
  },
  {
   "cell_type": "markdown",
   "metadata": {
    "deletable": false,
    "editable": false,
    "nbgrader": {
     "cell_type": "markdown",
     "checksum": "2dee619b4a79775b9c0c024e9a5c99a3",
     "grade": false,
     "grade_id": "cell-3c3fccb1d49e2d9a",
     "locked": true,
     "schema_version": 3,
     "solution": false,
     "task": false
    }
   },
   "source": [
    "## Questão 1: Sub-espaços invariantes\n",
    "\n",
    "Mostre que uma matriz real $M$ com dois autovalores $\\lambda$ e $\\bar\\lambda$ conjugados,\n",
    "também possui dois autovetores \"complexos conjugados\", $u$ e $\\bar u$."
   ]
  },
  {
   "cell_type": "markdown",
   "metadata": {
    "deletable": false,
    "nbgrader": {
     "cell_type": "markdown",
     "checksum": "e2a3ae428a3639d7029c6fc0c42b48a4",
     "grade": true,
     "grade_id": "cell-acdfa31ca03690b8",
     "locked": false,
     "points": 2,
     "schema_version": 3,
     "solution": true,
     "task": false
    }
   },
   "source": [
    "YOUR ANSWER HERE"
   ]
  },
  {
   "cell_type": "markdown",
   "metadata": {
    "deletable": false,
    "editable": false,
    "nbgrader": {
     "cell_type": "markdown",
     "checksum": "ef28413dc5f862894dad42c880110b9b",
     "grade": false,
     "grade_id": "cell-3953aeee5ae6f3ab",
     "locked": true,
     "schema_version": 3,
     "solution": false,
     "task": false
    }
   },
   "source": [
    "De $u$ e $\\bar u$, é possível extrair dois vetores $x$ e $y$, reais.\n",
    "Diga como."
   ]
  },
  {
   "cell_type": "markdown",
   "metadata": {
    "deletable": false,
    "nbgrader": {
     "cell_type": "markdown",
     "checksum": "fb1867bbd0cd06ea4dc75e99a78e9e42",
     "grade": true,
     "grade_id": "cell-e84ded2eafbdcdb4",
     "locked": false,
     "points": 1,
     "schema_version": 3,
     "solution": true,
     "task": false
    }
   },
   "source": [
    "YOUR ANSWER HERE"
   ]
  },
  {
   "cell_type": "markdown",
   "metadata": {
    "deletable": false,
    "editable": false,
    "nbgrader": {
     "cell_type": "markdown",
     "checksum": "87d393f71d128ca8ae62dec9bedbb1fd",
     "grade": false,
     "grade_id": "cell-8846b8910bc426bc",
     "locked": true,
     "schema_version": 3,
     "solution": false,
     "task": false
    }
   },
   "source": [
    "Seja $r e^{i \\theta} = \\lambda$ a forma polar do autovalor $\\lambda$.\n",
    "A partir da equação de autovalor de $u$, separe as partes reais e imaginárias,\n",
    "e dê, apenas em função de $x$, $y$, $r$ e $\\theta$,\n",
    "os valores de $Ax$ e $Ay$.\n",
    "\n",
    "Deduza que, no sub-espaço real gerado por $x$ e $y$,\n",
    "a matriz $A$ age como uma **dilatação e rotação**."
   ]
  },
  {
   "cell_type": "markdown",
   "metadata": {
    "deletable": false,
    "nbgrader": {
     "cell_type": "markdown",
     "checksum": "630a133efa4a42a673e16e3e86c3d681",
     "grade": true,
     "grade_id": "cell-fca9f411b94f5659",
     "locked": false,
     "points": 3,
     "schema_version": 3,
     "solution": true,
     "task": false
    }
   },
   "source": [
    "YOUR ANSWER HERE"
   ]
  },
  {
   "cell_type": "markdown",
   "metadata": {
    "deletable": false,
    "editable": false,
    "nbgrader": {
     "cell_type": "markdown",
     "checksum": "2f6bfe3a8297b24b00aee5a782f8d1b3",
     "grade": false,
     "grade_id": "cell-aa98fc69091c4bad",
     "locked": true,
     "schema_version": 3,
     "solution": false,
     "task": false
    }
   },
   "source": [
    "### Bônus: contra-exemplo\n",
    "\n",
    "Dê uma matriz $3 \\times 3$ tal que o \"maior autovalor\" seja um par complexo conjugado,\n",
    "**e** cujos vetores correspondentes $x$ e $y$ **não sejam ortogonais**"
   ]
  },
  {
   "cell_type": "markdown",
   "metadata": {
    "deletable": false,
    "nbgrader": {
     "cell_type": "markdown",
     "checksum": "f8a0b1b80df6cbd0e139f0646024397e",
     "grade": true,
     "grade_id": "cell-f6e44c14bfa651ae",
     "locked": false,
     "points": 2,
     "schema_version": 3,
     "solution": true,
     "task": false
    }
   },
   "source": [
    "YOUR ANSWER HERE"
   ]
  },
  {
   "cell_type": "markdown",
   "metadata": {
    "deletable": false,
    "editable": false,
    "nbgrader": {
     "cell_type": "markdown",
     "checksum": "c83f1e233df1d8b968ae7d58c3de79bd",
     "grade": false,
     "grade_id": "cell-e5694b639a681f4e",
     "locked": true,
     "schema_version": 3,
     "solution": false,
     "task": false
    }
   },
   "source": [
    "## Questão 2: Iteração de potência 2D\n",
    "\n",
    "Usando as equações da questão 1, mostre que $y$ é uma combinação linear de $x$ e $Ax$\n",
    "(dependendo de $r$ e $\\theta$)."
   ]
  },
  {
   "cell_type": "markdown",
   "metadata": {
    "deletable": false,
    "nbgrader": {
     "cell_type": "markdown",
     "checksum": "3099c44cd4b89825c830cc95fe38aa67",
     "grade": true,
     "grade_id": "cell-a7ffd642d8777c59",
     "locked": false,
     "points": 2,
     "schema_version": 3,
     "solution": true,
     "task": false
    }
   },
   "source": [
    "YOUR ANSWER HERE"
   ]
  },
  {
   "cell_type": "markdown",
   "metadata": {
    "deletable": false,
    "editable": false,
    "nbgrader": {
     "cell_type": "markdown",
     "checksum": "e8e64bbb8d89c1c47d8e2172a8a7203f",
     "grade": false,
     "grade_id": "cell-11eb6c58faccf6a8",
     "locked": true,
     "schema_version": 3,
     "solution": false,
     "task": false
    }
   },
   "source": [
    "A iteração de potência não converge para o maior autovalor (em norma),\n",
    "afinal, $A$ é real e os vetores que estamos usando também são,\n",
    "e o autovalor é complexo.\n",
    "\n",
    "Mostre, entretanto, que a iteração de potência para **2 vetores** (mantidos ortogonais)\n",
    "converge no seguinte sentido:\n",
    "- o espaço gerado pelos vetores $a_n$, $b_n$ converge para o subespaço real gerado por $x$ e $y$."
   ]
  },
  {
   "cell_type": "markdown",
   "metadata": {
    "deletable": false,
    "nbgrader": {
     "cell_type": "markdown",
     "checksum": "86ac556d49baa627c2e302eec971e4c9",
     "grade": true,
     "grade_id": "cell-cab719411c3b5a8c",
     "locked": false,
     "points": 2,
     "schema_version": 3,
     "solution": true,
     "task": false
    }
   },
   "source": [
    "YOUR ANSWER HERE"
   ]
  },
  {
   "cell_type": "markdown",
   "metadata": {
    "deletable": false,
    "editable": false,
    "nbgrader": {
     "cell_type": "markdown",
     "checksum": "f3ea458aac5d2e3a517cd1978b06dc86",
     "grade": false,
     "grade_id": "cell-c1f2d386b06f9e0e",
     "locked": true,
     "schema_version": 3,
     "solution": false,
     "task": false
    }
   },
   "source": [
    "## Questão 3: Iteração 3D\n",
    "\n",
    "O [produto vetorial](https://pt.wikipedia.org/wiki/Produto_vetorial)\n",
    "de dois vetores $x$ e $y$ em $R^3$ aponta na direção ortogonal ao plano gerado por eles."
   ]
  },
  {
   "cell_type": "code",
   "execution_count": null,
   "metadata": {
    "deletable": false,
    "nbgrader": {
     "cell_type": "code",
     "checksum": "5e1b513bb6de5dd944aa16d035e73c71",
     "grade": false,
     "grade_id": "cell-f46e44c064bf52d6",
     "locked": false,
     "schema_version": 3,
     "solution": true,
     "task": false
    }
   },
   "outputs": [],
   "source": [
    "def vector(x,y):\n",
    "    # YOUR CODE HERE\n",
    "    raise NotImplementedError()"
   ]
  },
  {
   "cell_type": "code",
   "execution_count": null,
   "metadata": {
    "deletable": false,
    "editable": false,
    "nbgrader": {
     "cell_type": "code",
     "checksum": "3d2b09e19dec68bdfc38e78a3d03a820",
     "grade": true,
     "grade_id": "cell-61661a04abe40af1",
     "locked": true,
     "points": 1,
     "schema_version": 3,
     "solution": false,
     "task": false
    }
   },
   "outputs": [],
   "source": [
    "u = [1,0,0]\n",
    "v = [0,1,0]\n",
    "assert np.all(vector(u,v) == [0,0,1])"
   ]
  },
  {
   "cell_type": "code",
   "execution_count": null,
   "metadata": {
    "deletable": false,
    "editable": false,
    "nbgrader": {
     "cell_type": "code",
     "checksum": "0ee35a781e44497ffd8005fa3157e99f",
     "grade": true,
     "grade_id": "cell-fca8d57520339f10",
     "locked": true,
     "points": 1,
     "schema_version": 3,
     "solution": false,
     "task": false
    }
   },
   "outputs": [],
   "source": [
    "u = [1,2,3]\n",
    "v = [3,2,1]\n",
    "assert np.all(vector(u,v) == [-4,8,-4])\n",
    "assert np.all(vector(u,v) == -vector(v,u))"
   ]
  },
  {
   "cell_type": "code",
   "execution_count": null,
   "metadata": {
    "deletable": false,
    "editable": false,
    "nbgrader": {
     "cell_type": "code",
     "checksum": "27690867058bd763849bc06e806c8a12",
     "grade": true,
     "grade_id": "cell-b12002bc93c68649",
     "locked": true,
     "points": 2,
     "schema_version": 3,
     "solution": false,
     "task": false
    }
   },
   "outputs": [],
   "source": [
    "np.random.seed(1)\n",
    "for _ in range(10):\n",
    "    u = np.random.randn(3)\n",
    "    v = np.random.randn(3)\n",
    "    z = vector(u,v)\n",
    "    assert np.isclose(np.dot(u,z), 0)\n",
    "    assert np.isclose(np.dot(v,z), 0)"
   ]
  },
  {
   "cell_type": "markdown",
   "metadata": {
    "deletable": false,
    "editable": false,
    "nbgrader": {
     "cell_type": "markdown",
     "checksum": "d114d688d4262bf111b935470dff1616",
     "grade": false,
     "grade_id": "cell-6943c56c197d7d2a",
     "locked": true,
     "schema_version": 3,
     "solution": false,
     "task": false
    }
   },
   "source": [
    "Use a convergência do vetor (normalizado) $z = x \\times y$\n",
    "como critério de parada para a iteração de potência.\n",
    "\n",
    "Não esqueça de normalizar (e ortogonalizar) os vetores $x$ e $y$ a cada iteração ;-)"
   ]
  },
  {
   "cell_type": "code",
   "execution_count": null,
   "metadata": {
    "deletable": false,
    "nbgrader": {
     "cell_type": "code",
     "checksum": "2b9fc44a1ab6d9d511f85ec412a0958b",
     "grade": false,
     "grade_id": "cell-99ce97c04eaa9a6c",
     "locked": false,
     "schema_version": 3,
     "solution": true,
     "task": false
    }
   },
   "outputs": [],
   "source": [
    "def power_iter_vetorial(A, tol=1e-6, maxiter=1000):\n",
    "    \"\"\"Iteração de potência para encontrar um subespaço 2D correspondente a autovalores complexos de uma matriz real.\n",
    "    Retorna as listas de estimativas para\n",
    "    - o vetor  x \\times y  unitário normal ao subespaço.\n",
    "    \"\"\"\n",
    "    n,m = np.shape(A)\n",
    "    assert n == m, 'A must be square'\n",
    "    assert n == 3, 'Only works for 3x3 matrices'\n",
    "\n",
    "    # YOUR CODE HERE\n",
    "    raise NotImplementedError()"
   ]
  },
  {
   "cell_type": "code",
   "execution_count": null,
   "metadata": {
    "deletable": false,
    "editable": false,
    "nbgrader": {
     "cell_type": "code",
     "checksum": "4ea4c683817657888d168ec9cee75ecf",
     "grade": true,
     "grade_id": "cell-73a3e9984aa42970",
     "locked": true,
     "points": 2,
     "schema_version": 3,
     "solution": false,
     "task": false
    }
   },
   "outputs": [],
   "source": [
    "np.random.seed(5)\n",
    "M = np.random.randn(3,3)\n",
    "zs = power_iter_vetorial(M)\n",
    "\n",
    "e,U = np.linalg.eig(M)\n",
    "\n",
    "assert -1e-6 < np.dot(U[:,0].real, zs[-1]) < 1e-6\n",
    "assert -1e-6 < np.dot(U[:,0].imag, zs[-1]) < 1e-6"
   ]
  },
  {
   "cell_type": "code",
   "execution_count": null,
   "metadata": {
    "deletable": false,
    "editable": false,
    "nbgrader": {
     "cell_type": "code",
     "checksum": "b804af42604b9e36f9d72964170c0ff9",
     "grade": true,
     "grade_id": "cell-d3d1c7caa7d2598d",
     "locked": true,
     "points": 1,
     "schema_version": 3,
     "solution": false,
     "task": false
    }
   },
   "outputs": [],
   "source": [
    "np.random.seed(5)\n",
    "M = np.random.randn(3,3)\n",
    "zs = power_iter_vetorial(M, tol=1e-12)\n",
    "\n",
    "e,U = np.linalg.eig(M)\n",
    "\n",
    "assert -1e-12 < np.dot(U[:,0].real, zs[-1]) < 1e-12\n",
    "assert -1e-12 < np.dot(U[:,0].imag, zs[-1]) < 1e-12"
   ]
  },
  {
   "cell_type": "markdown",
   "metadata": {
    "deletable": false,
    "editable": false,
    "nbgrader": {
     "cell_type": "markdown",
     "checksum": "2e4a78b8271dd23c80b15a105a533bed",
     "grade": false,
     "grade_id": "cell-44905572abfc86cf",
     "locked": true,
     "schema_version": 3,
     "solution": false,
     "task": false
    }
   },
   "source": [
    "Faça um gráfico com a distância entre os vetores $z$ sucessivos.\n",
    "Com que velocidade o algoritmo converge?"
   ]
  },
  {
   "cell_type": "code",
   "execution_count": null,
   "metadata": {
    "deletable": false,
    "nbgrader": {
     "cell_type": "code",
     "checksum": "9fe712b95003e0432038b2b58cb04e5f",
     "grade": true,
     "grade_id": "cell-1df16f6d3b2da04a",
     "locked": false,
     "points": 1,
     "schema_version": 3,
     "solution": true,
     "task": false
    }
   },
   "outputs": [],
   "source": [
    "# YOUR CODE HERE\n",
    "raise NotImplementedError()"
   ]
  },
  {
   "cell_type": "markdown",
   "metadata": {
    "deletable": false,
    "nbgrader": {
     "cell_type": "markdown",
     "checksum": "24294f954a86cb2ff7ae9c115d55e050",
     "grade": true,
     "grade_id": "cell-1d85a52bf6f8cf0c",
     "locked": false,
     "points": 2,
     "schema_version": 3,
     "solution": true,
     "task": false
    }
   },
   "source": [
    "YOUR ANSWER HERE"
   ]
  }
 ],
 "metadata": {
  "kernelspec": {
   "display_name": "Python 3",
   "language": "python",
   "name": "python3"
  },
  "language_info": {
   "codemirror_mode": {
    "name": "ipython",
    "version": 3
   },
   "file_extension": ".py",
   "mimetype": "text/x-python",
   "name": "python",
   "nbconvert_exporter": "python",
   "pygments_lexer": "ipython3",
   "version": "3.8.5"
  },
  "toc": {
   "base_numbering": 1,
   "nav_menu": {},
   "number_sections": true,
   "sideBar": true,
   "skip_h1_title": true,
   "title_cell": "Table of Contents",
   "title_sidebar": "Contents",
   "toc_cell": false,
   "toc_position": {},
   "toc_section_display": true,
   "toc_window_display": false
  },
  "varInspector": {
   "cols": {
    "lenName": 16,
    "lenType": 16,
    "lenVar": 40
   },
   "kernels_config": {
    "python": {
     "delete_cmd_postfix": "",
     "delete_cmd_prefix": "del ",
     "library": "var_list.py",
     "varRefreshCmd": "print(var_dic_list())"
    },
    "r": {
     "delete_cmd_postfix": ") ",
     "delete_cmd_prefix": "rm(",
     "library": "var_list.r",
     "varRefreshCmd": "cat(var_dic_list()) "
    }
   },
   "types_to_exclude": [
    "module",
    "function",
    "builtin_function_or_method",
    "instance",
    "_Feature"
   ],
   "window_display": false
  }
 },
 "nbformat": 4,
 "nbformat_minor": 4
}
