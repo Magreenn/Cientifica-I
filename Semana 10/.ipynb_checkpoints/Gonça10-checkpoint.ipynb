{
 "cells": [
  {
   "cell_type": "markdown",
   "metadata": {},
   "source": [
    "![CC-BY-SA](https://mirrors.creativecommons.org/presskit/buttons/88x31/svg/by-sa.svg)\n",
    "\n",
    "\n",
    "This notebook was created by [Bernardo Freitas Paulo da Costa](http://www.im.ufrj.br/bernardofpc),\n",
    "and Pedro Angelo Medeiros Fonini\n",
    "and is licensed under Creative Commons BY-SA."
   ]
  },
  {
   "cell_type": "markdown",
   "metadata": {},
   "source": [
    "Antes de enviar este Teste, verifique que tudo está funcionando como esperado.\n",
    "Por exemplo, **rode o código inteiro, do zero**.\n",
    "Para isso, vá no menu, escolha _Kernel_, depois _Restart & Run All_.\n",
    "\n",
    "Verifique, também, que você respondeu todas as questões:\n",
    "* as questões de código têm `YOUR CODE HERE` (e você pode apagar o `raise NotImplemented` ao incluir sua resposta)\n",
    "* as questões discursivas têm \"YOUR ANSWER HERE\"."
   ]
  },
  {
   "cell_type": "markdown",
   "metadata": {},
   "source": [
    "---"
   ]
  },
  {
   "cell_type": "code",
   "execution_count": 1,
   "metadata": {
    "deletable": false,
    "editable": false,
    "nbgrader": {
     "cell_type": "code",
     "checksum": "1db763a8b13a5d9dbd0ad4bc0f3113ee",
     "grade": false,
     "grade_id": "cell-5b008ca46d420384",
     "locked": true,
     "schema_version": 3,
     "solution": false,
     "task": false
    }
   },
   "outputs": [],
   "source": [
    "import numpy as np\n",
    "import matplotlib.pyplot as plt"
   ]
  },
  {
   "cell_type": "code",
   "execution_count": 2,
   "metadata": {},
   "outputs": [],
   "source": [
    "from fractions import Fraction"
   ]
  },
  {
   "cell_type": "markdown",
   "metadata": {
    "deletable": false,
    "editable": false,
    "nbgrader": {
     "cell_type": "markdown",
     "checksum": "f30a2b04c084f1391b018d6ab2bc1f68",
     "grade": false,
     "grade_id": "cell-ad35d320fd47a0e5",
     "locked": true,
     "schema_version": 3,
     "solution": false,
     "task": false
    }
   },
   "source": [
    "# Pivôs e eliminação\n",
    "\n",
    "## Questão 1: Eliminação pura\n",
    "\n",
    "Comece escrevendo um código de resolução de sistemas lineares que não permuta linhas nem colunas"
   ]
  },
  {
   "cell_type": "code",
   "execution_count": 3,
   "metadata": {
    "deletable": false,
    "nbgrader": {
     "cell_type": "code",
     "checksum": "ab6fa8eeabc75a499f3e26d9ff9fe5b3",
     "grade": false,
     "grade_id": "cell-8ab9502eef2d7f63",
     "locked": false,
     "schema_version": 3,
     "solution": true,
     "task": false
    }
   },
   "outputs": [],
   "source": [
    "def solve(A,b,fracoes=False):\n",
    "    \"\"\"Resolve o sistema  Ax = b,  sem reordenar linhas ou colunas\n",
    "    Saída pode ser em float (padrão) ou em frações\"\"\"\n",
    "    if fracoes == True:\n",
    "        AF = np.array([[Fraction(aij) for aij in ai] for ai in A])\n",
    "        BF = np.array([Fraction(bi) for bi in b])\n",
    "    else:\n",
    "        AF = np.array(A)\n",
    "        BF = np.array(b)\n",
    "        \n",
    "    nlim = len(b)\n",
    "    for i in range(nlim):\n",
    "        for k in range(1+i,nlim):\n",
    "            coef = (AF[k,i]/AF[i,i])\n",
    "            AF[k:k+1] = AF[k:k+1] - AF[i:i+1]*coef\n",
    "            AF[k,i] = 0\n",
    "            BF[k] = BF[k] - BF[i]*coef \n",
    "    resol = []\n",
    "    resol.append(BF[nlim-1]/AF[nlim-1,nlim-1])\n",
    "    for i in range(nlim-1):\n",
    "        x_i = (BF[nlim-i-2] - np.sum(AF[nlim-i-2,nlim-i-1:nlim]*np.flip(resol,0)))/AF[nlim-i-2,nlim-i-2]\n",
    "        resol.append(x_i)\n",
    "    \n",
    "    return np.flip(resol,0)"
   ]
  },
  {
   "cell_type": "markdown",
   "metadata": {
    "deletable": false,
    "editable": false,
    "nbgrader": {
     "cell_type": "markdown",
     "checksum": "7862ce4c3a20495f5979216303f7faf2",
     "grade": false,
     "grade_id": "cell-94b552ef73ead442",
     "locked": true,
     "schema_version": 3,
     "solution": false,
     "task": false
    }
   },
   "source": [
    "Vejamos que está funcionando, dando resultados semelhantes ao que vimos em aula:"
   ]
  },
  {
   "cell_type": "code",
   "execution_count": 4,
   "metadata": {
    "deletable": false,
    "editable": false,
    "nbgrader": {
     "cell_type": "code",
     "checksum": "7da9651c287259ed1d46ee34203d6368",
     "grade": true,
     "grade_id": "cell-9b94f2918665549f",
     "locked": true,
     "points": 1,
     "schema_version": 3,
     "solution": false,
     "task": false
    }
   },
   "outputs": [],
   "source": [
    "np.random.seed(1)\n",
    "\n",
    "M = np.vander(np.arange(11, dtype=np.float64), increasing=True)\n",
    "b = np.random.rand(11)\n",
    "x1 = solve(M,b)\n",
    "\n",
    "b1 = M @ x1\n",
    "assert b1[0] == b[0]\n",
    "assert np.isclose(b1[10], b[10])\n",
    "assert np.linalg.norm(b1 - b) < 1e-8"
   ]
  },
  {
   "cell_type": "code",
   "execution_count": 5,
   "metadata": {
    "deletable": false,
    "editable": false,
    "nbgrader": {
     "cell_type": "code",
     "checksum": "834b9772b2b35043676a977e2571018e",
     "grade": true,
     "grade_id": "cell-3417e6a20b89b026",
     "locked": true,
     "points": 1,
     "schema_version": 3,
     "solution": false,
     "task": false
    }
   },
   "outputs": [],
   "source": [
    "np.random.seed(2)\n",
    "\n",
    "M = np.vander(np.arange(51, dtype=np.float64), increasing=True)\n",
    "b = np.random.rand(51)\n",
    "x1 = solve(M,b)\n",
    "\n",
    "b1 = M @ x1\n",
    "assert b1[0] == b[0]\n",
    "assert np.isclose(b1[4], b[4])\n",
    "assert np.abs(b1[-3] - b[-3]) > 1e10"
   ]
  },
  {
   "cell_type": "markdown",
   "metadata": {
    "deletable": false,
    "editable": false,
    "nbgrader": {
     "cell_type": "markdown",
     "checksum": "8d4ee6ffe184a184dd7a8909685e14fd",
     "grade": false,
     "grade_id": "cell-ea386b2c1f4daddf",
     "locked": true,
     "schema_version": 3,
     "solution": false,
     "task": false
    }
   },
   "source": [
    "Agora, resolva 100 sistemas $51 \\times 51$, com a mesma matriz, mas com diferentes valores de $b$.\n",
    "Mostre, num mesmo gráfico,\n",
    "* o erro absoluto médio\n",
    "* o menor erro absoluto\n",
    "* o maior erro absoluto\n",
    "\n",
    "para cada equação do sistema $Ax = b$."
   ]
  },
  {
   "cell_type": "code",
   "execution_count": 6,
   "metadata": {
    "deletable": false,
    "nbgrader": {
     "cell_type": "code",
     "checksum": "59afdfe550bb5b3ba99d036556faaa16",
     "grade": true,
     "grade_id": "cell-f5de6da4457033f6",
     "locked": false,
     "points": 2,
     "schema_version": 3,
     "solution": true,
     "task": false
    }
   },
   "outputs": [
    {
     "name": "stdout",
     "output_type": "stream",
     "text": [
      "Wall time: 683 ms\n"
     ]
    }
   ],
   "source": [
    "%%time \n",
    "\n",
    "num_sys = 100\n",
    "num_m = 51\n",
    "\n",
    "\n",
    "M = np.vander(np.arange(51, dtype=np.float64), increasing=True)\n",
    "\n",
    "acc_err = np.zeros(51)\n",
    "max_err = np.zeros(51)\n",
    "min_err = np.ones(51) * np.inf\n",
    "\n",
    "mtx_err = np.zeros((51,100))\n",
    "\n",
    "for sistema in range(100):\n",
    "    \n",
    "    np.random.seed(sistema)\n",
    "    b_true = np.random.rand(num_m)\n",
    "    x_solve = solve(M,b_true)\n",
    "    b_solve = M @ x_solve\n",
    "    \n",
    "    for i in range(num_m):\n",
    "        aux= np.zeros(num_m)\n",
    "        err_aij = (np.abs(b_solve[i]-b_true[i]))\n",
    "        mtx_err[i,sistema] = err_aij\n",
    "\n",
    "\n",
    "for linha in range(num_m):\n",
    "    mtx_linha = mtx_err[linha:linha+1]\n",
    "    acc_err[linha] = mtx_linha.mean()\n",
    "    max_err[linha] = mtx_linha.max()\n",
    "    min_err[linha] = mtx_linha.min()\n",
    "    "
   ]
  },
  {
   "cell_type": "code",
   "execution_count": 7,
   "metadata": {
    "deletable": false,
    "nbgrader": {
     "cell_type": "code",
     "checksum": "fbf08595205fb013a27ef61ebfaac474",
     "grade": false,
     "grade_id": "cell-e2678b900b30ae42",
     "locked": false,
     "schema_version": 3,
     "solution": true,
     "task": false
    }
   },
   "outputs": [
    {
     "data": {
      "image/png": "[encoded data removed]",
      "text/plain": [
       "<Figure size 1080x576 with 1 Axes>"
      ]
     },
     "metadata": {
      "needs_background": "light"
     },
     "output_type": "display_data"
    }
   ],
   "source": [
    "plt.figure(figsize=(15,8))\n",
    "ax = plt.gca()\n",
    "ax.semilogy(acc_err,label=\"Erro Médio\");\n",
    "ax.semilogy(max_err,label=\"Erro Máximo\");\n",
    "ax.semilogy(min_err,label=\"Erro Mínimo\");\n",
    "ax.tick_params(labelsize=12)\n",
    "ax.set_title(f\"Erros nos {num_m} coeficientes\",fontdict={'fontsize':15})\n",
    "ax.set_xlabel(\"Coeficientes\")\n",
    "ax.set_ylabel(\"Erro Absoluto\")\n",
    "ax.legend();"
   ]
  },
  {
   "cell_type": "code",
   "execution_count": 8,
   "metadata": {
    "deletable": false,
    "editable": false,
    "nbgrader": {
     "cell_type": "code",
     "checksum": "a7d88942c8b390abb2d1fab2ad3ccfeb",
     "grade": true,
     "grade_id": "cell-e5ade88c7f096239",
     "locked": true,
     "points": 2,
     "schema_version": 3,
     "solution": false,
     "task": false
    }
   },
   "outputs": [],
   "source": [
    "assert ax.title.get_text() != \"\"\n",
    "assert len(ax.lines) == 3\n",
    "assert len(ax.get_legend().get_texts()) == 3"
   ]
  },
  {
   "cell_type": "code",
   "execution_count": 9,
   "metadata": {
    "deletable": false,
    "editable": false,
    "nbgrader": {
     "cell_type": "code",
     "checksum": "8dc1222dfc034ad4b43ada191137560e",
     "grade": false,
     "grade_id": "cell-f4fb3a61d3a4fb62",
     "locked": true,
     "schema_version": 3,
     "solution": false,
     "task": false
    }
   },
   "outputs": [],
   "source": [
    "ax = None"
   ]
  },
  {
   "cell_type": "markdown",
   "metadata": {
    "deletable": false,
    "editable": false,
    "nbgrader": {
     "cell_type": "markdown",
     "checksum": "7a4a79dcf5f623e1d041101f0b87ad3c",
     "grade": false,
     "grade_id": "cell-637c81b78d877440",
     "locked": true,
     "schema_version": 3,
     "solution": false,
     "task": false
    }
   },
   "source": [
    "O que você observa?"
   ]
  },
  {
   "cell_type": "markdown",
   "metadata": {
    "deletable": false,
    "nbgrader": {
     "cell_type": "markdown",
     "checksum": "f19f369ad5c14ae48de85ab4d9228cfc",
     "grade": true,
     "grade_id": "cell-a2546d12eb80b65f",
     "locked": false,
     "points": 1,
     "schema_version": 3,
     "solution": true,
     "task": false
    }
   },
   "source": [
    "YOUR ANSWER HERE"
   ]
  },
  {
   "cell_type": "markdown",
   "metadata": {
    "deletable": false,
    "editable": false,
    "nbgrader": {
     "cell_type": "markdown",
     "checksum": "9903fcb3394da389f680a475baff84ab",
     "grade": false,
     "grade_id": "cell-00ad698bbd50e7f8",
     "locked": true,
     "schema_version": 3,
     "solution": false,
     "task": false
    }
   },
   "source": [
    "## Questão 2: Permutando linhas\n",
    "\n",
    "Re-escreva o código de eliminação para encontrar, a cada coluna, a linha que tem o maior pivô (em valor absoluto).\n",
    "\n",
    "Observações:\n",
    "* Não será necessário alterar a parte de substituição;\n",
    "* Mas lembre-se de também alterar as linhas de `b`.\n",
    "* E cuidado ao mudar as linhas de uma matriz: use `np.copy` para copiar linhas, e `[:]` para substituir todos os valores de um array."
   ]
  },
  {
   "cell_type": "code",
   "execution_count": 10,
   "metadata": {
    "deletable": false,
    "nbgrader": {
     "cell_type": "code",
     "checksum": "0ec34ba4d25ba2bab0e29434b94a3c95",
     "grade": false,
     "grade_id": "cell-bedecb50e9d3b6ab",
     "locked": false,
     "schema_version": 3,
     "solution": true,
     "task": false
    }
   },
   "outputs": [],
   "source": [
    "def solve_pivot_lines(A,b,fracoes = False):\n",
    "    \"\"\"Resolve o sistema  Ax = b,  reordenando apenas linhas, se necessário.\"\"\"\n",
    "    \n",
    "    nlim = len(b)\n",
    "    if fracoes == True:\n",
    "        AF = np.array([[Fraction(aij) for aij in ai] for ai in A])\n",
    "        BF = np.array([Fraction(bi) for bi in b])\n",
    "    else:\n",
    "        AF = np.array(A,dtype=np.float64)\n",
    "        BF = np.array(b,dtype=np.float64)\n",
    "        AF = np.insert(AF,nlim,BF,axis=1)\n",
    "        \n",
    "    \n",
    "    \n",
    "    \n",
    "    \n",
    "    \n",
    "    for i in range(nlim):\n",
    "        max_col = np.max(np.abs(AF[i:nlim,i]))\n",
    "        if max_col != np.abs(AF[i,i]):\n",
    "            col = list(np.abs(AF[i:nlim+1,i]))\n",
    "            linha_a = np.copy(AF[i:i+1, :])\n",
    "            indice = col.index(max_col)+i\n",
    "            AF[i:i+1] = np.copy(AF[indice:indice+1, : ])\n",
    "            AF[indice:indice+1] = linha_a\n",
    "            \n",
    "            \n",
    "            \n",
    "        for k in range(1+i,nlim):\n",
    "            coef = (AF[k,i]/AF[i,i])\n",
    "            AF[k:k+1] = AF[k:k+1] - AF[i:i+1]*coef\n",
    "            \n",
    "    BF = AF[0:nlim,nlim]\n",
    "    AF = np.delete(AF,nlim,1)\n",
    "    \n",
    "    resol = []\n",
    "    resol.append(BF[nlim-1]/AF[nlim-1,nlim-1])\n",
    "    for i in range(nlim-1):\n",
    "        x_i = (BF[nlim-i-2] - np.sum(AF[nlim-i-2,nlim-i-1:nlim]*np.flip(resol,0)))/AF[nlim-i-2,nlim-i-2]\n",
    "        resol.append(x_i)\n",
    "    \n",
    "    return np.flip(resol,0)"
   ]
  },
  {
   "cell_type": "markdown",
   "metadata": {
    "deletable": false,
    "editable": false,
    "nbgrader": {
     "cell_type": "markdown",
     "checksum": "ccee4e01ac7e94c0b1796941909ab2ff",
     "grade": false,
     "grade_id": "cell-f16cfec13b4b8e6d",
     "locked": true,
     "schema_version": 3,
     "solution": false,
     "task": false
    }
   },
   "source": [
    "Novamente, testando que está tudo ok:"
   ]
  },
  {
   "cell_type": "code",
   "execution_count": 11,
   "metadata": {
    "deletable": false,
    "editable": false,
    "nbgrader": {
     "cell_type": "code",
     "checksum": "7dac64bdba2f3825279dff7bbb8c2ca4",
     "grade": true,
     "grade_id": "cell-650646e7e05ea882",
     "locked": true,
     "points": 1,
     "schema_version": 3,
     "solution": false,
     "task": false
    }
   },
   "outputs": [],
   "source": [
    "np.random.seed(3)\n",
    "\n",
    "M = np.vander(np.arange(11, dtype=np.float64), increasing=True)\n",
    "b = np.random.rand(11)\n",
    "x1 = solve_pivot_lines(M,b)\n",
    "\n",
    "b1 = M @ x1\n",
    "assert b1[0] == b[0]\n",
    "assert np.isclose(b1[10], b[10])\n",
    "assert np.linalg.norm(b1 - b) < 1e-8"
   ]
  },
  {
   "cell_type": "code",
   "execution_count": 12,
   "metadata": {
    "deletable": false,
    "editable": false,
    "nbgrader": {
     "cell_type": "code",
     "checksum": "8efb318f1c08afc0a143045a38e4bd58",
     "grade": true,
     "grade_id": "cell-557591b41d0e3e5e",
     "locked": true,
     "points": 2,
     "schema_version": 3,
     "solution": false,
     "task": false
    }
   },
   "outputs": [],
   "source": [
    "np.random.seed(4)\n",
    "\n",
    "M = np.vander(np.arange(51, dtype=np.float64), increasing=True)\n",
    "b = np.random.rand(51)\n",
    "x1 = solve_pivot_lines(M,b)\n",
    "\n",
    "b1 = M @ x1\n",
    "assert b1[0] == b[0]\n",
    "assert np.allclose(b1, b, atol=30.0)\n",
    "assert np.linalg.norm(b - b1) > 10"
   ]
  },
  {
   "cell_type": "markdown",
   "metadata": {},
   "source": [
    "Estes testes são (ligeiramente) diferentes dos testes para `solve`, que não realizava permutação de linhas.\n",
    "Explique porque estas mudanças\n",
    "1. são necessárias; e\n",
    "2. fazem sentido."
   ]
  },
  {
   "cell_type": "markdown",
   "metadata": {
    "deletable": false,
    "nbgrader": {
     "cell_type": "markdown",
     "checksum": "fc1114db1ae5696a302ad9dbac66fd55",
     "grade": true,
     "grade_id": "cell-5b53a1d7058d6b59",
     "locked": false,
     "points": 2,
     "schema_version": 3,
     "solution": true,
     "task": false
    }
   },
   "source": [
    "YOUR ANSWER HERE"
   ]
  },
  {
   "cell_type": "markdown",
   "metadata": {
    "deletable": false,
    "editable": false,
    "nbgrader": {
     "cell_type": "markdown",
     "checksum": "3f0af21be8ecad040acc0efbb12218a9",
     "grade": false,
     "grade_id": "cell-75b82c94b56dcad7",
     "locked": true,
     "schema_version": 3,
     "solution": false,
     "task": false
    }
   },
   "source": [
    "### Mais gráficos\n",
    "\n",
    "Repita a análise, com 100 sistemas $51 \\times 51$."
   ]
  },
  {
   "cell_type": "code",
   "execution_count": 13,
   "metadata": {
    "deletable": false,
    "nbgrader": {
     "cell_type": "code",
     "checksum": "4074f141b31c19c3172d49b6297fe111",
     "grade": true,
     "grade_id": "cell-3db98bb9a25aa421",
     "locked": false,
     "points": 1,
     "schema_version": 3,
     "solution": true,
     "task": false
    }
   },
   "outputs": [
    {
     "name": "stdout",
     "output_type": "stream",
     "text": [
      "Wall time: 678 ms\n"
     ]
    }
   ],
   "source": [
    "%%time\n",
    "\n",
    "\n",
    "\n",
    "num_sys = 100\n",
    "num_m = 51\n",
    "\n",
    "\n",
    "M_pivot = np.vander(range(num_m), increasing=True).astype(np.float64)\n",
    "acc_err_pivot = np.zeros(num_m)\n",
    "max_err_pivot = np.zeros(num_m)\n",
    "min_err_pivot = np.ones(num_m) * np.inf\n",
    "\n",
    "mtx_err_pivot = np.zeros((num_m,num_sys))\n",
    "\n",
    "for sistema in range(num_sys):\n",
    "    \n",
    "    np.random.seed(sistema)\n",
    "    b_true_pivot = np.random.rand(num_m)\n",
    "    x_solve_pivot = solve_pivot_lines(M_pivot,b_true_pivot)\n",
    "    b_solve_pivot = M @ x_solve_pivot\n",
    "    \n",
    "    for i in range(num_m):\n",
    "        aux= np.zeros(num_m)\n",
    "        err_aij_pivot = (np.abs(b_solve_pivot[i]-b_true_pivot[i]))\n",
    "        mtx_err_pivot[i,sistema] = err_aij_pivot\n",
    "\n",
    "\n",
    "for linha in range(num_m):\n",
    "    mtx_linha_pivot = mtx_err_pivot[linha:linha+1]\n",
    "    acc_err_pivot[linha] = mtx_linha_pivot.mean()\n",
    "    max_err_pivot[linha] = mtx_linha_pivot.max()\n",
    "    min_err_pivot[linha] = mtx_linha_pivot.min()\n",
    "    "
   ]
  },
  {
   "cell_type": "code",
   "execution_count": 14,
   "metadata": {
    "deletable": false,
    "nbgrader": {
     "cell_type": "code",
     "checksum": "e668bf934ff707ff20d508bc6dd81769",
     "grade": false,
     "grade_id": "cell-684b133a34edddfe",
     "locked": false,
     "schema_version": 3,
     "solution": true,
     "task": false
    }
   },
   "outputs": [
    {
     "data": {
      "image/png": "[encoded data removed]",
      "text/plain": [
       "<Figure size 1080x576 with 1 Axes>"
      ]
     },
     "metadata": {
      "needs_background": "light"
     },
     "output_type": "display_data"
    }
   ],
   "source": [
    "plt.figure(figsize=(15,8))\n",
    "ax = plt.gca()\n",
    "ax.semilogy(acc_err_pivot,label=\"Erro Médio\");\n",
    "ax.semilogy(max_err_pivot,label=\"Erro Máximo\");\n",
    "ax.semilogy(min_err_pivot,label=\"Erro Mínimo\");\n",
    "ax.tick_params(labelsize=12)\n",
    "ax.set_title(f\"Erros nos {num_m} coeficientes com permutação de linhas \",fontdict={'fontsize':15})\n",
    "ax.set_xlabel(\"Coeficientes\")\n",
    "ax.set_ylabel(\"Erro Absoluto\")\n",
    "ax.legend();"
   ]
  },
  {
   "cell_type": "code",
   "execution_count": 15,
   "metadata": {
    "deletable": false,
    "editable": false,
    "nbgrader": {
     "cell_type": "code",
     "checksum": "9cb87d861c464ed65a5baa7a01675181",
     "grade": true,
     "grade_id": "cell-19d5d08ca9ebf172",
     "locked": true,
     "points": 1,
     "schema_version": 3,
     "solution": false,
     "task": false
    }
   },
   "outputs": [],
   "source": [
    "assert ax.title.get_text() != \"\"\n",
    "assert len(ax.lines) == 3\n",
    "assert len(ax.get_legend().get_texts()) == 3"
   ]
  },
  {
   "cell_type": "code",
   "execution_count": 16,
   "metadata": {
    "deletable": false,
    "editable": false,
    "nbgrader": {
     "cell_type": "code",
     "checksum": "4692c70716e3cc5a71c78dc550d38e54",
     "grade": false,
     "grade_id": "cell-0014735fb6472b1a",
     "locked": true,
     "schema_version": 3,
     "solution": false,
     "task": false
    }
   },
   "outputs": [],
   "source": [
    "ax = None"
   ]
  },
  {
   "cell_type": "markdown",
   "metadata": {},
   "source": [
    "## Questão 3: Quantidade de trocas de linhas\n",
    "\n",
    "Agora, adapte seu código de eliminação para contar (e apenas contar) o número de permutações de linhas efetuadas.\n",
    "Observe que esta quantidade é independente do valor de $b$."
   ]
  },
  {
   "cell_type": "code",
   "execution_count": 17,
   "metadata": {
    "deletable": false,
    "nbgrader": {
     "cell_type": "code",
     "checksum": "d282fabe052088b11bb6da6ee221b7c5",
     "grade": false,
     "grade_id": "cell-b2c2ace3569995d2",
     "locked": false,
     "schema_version": 3,
     "solution": true,
     "task": false
    }
   },
   "outputs": [],
   "source": [
    "def count_row_xchg(A):\n",
    "    \"\"\"Conta o número de permutações de linhas efetuadas para resolver o sistema  Ax = b\"\"\"\n",
    "    nlim = len(A)\n",
    "\n",
    "    AF = np.array(A,dtype=np.float64)\n",
    "        \n",
    "    \n",
    "    \n",
    "    \n",
    "    \n",
    "    count = 0\n",
    "    for i in range(nlim):\n",
    "        max_col = np.max(np.abs(AF[i:nlim,i]))\n",
    "        if max_col != np.abs(AF[i,i]):\n",
    "            col = list(np.abs(AF[i:nlim+1,i]))\n",
    "            linha_a = np.copy(AF[i:i+1, :])\n",
    "            indice = col.index(max_col)+i\n",
    "            AF[i:i+1] = np.copy(AF[indice:indice+1, : ])\n",
    "            AF[indice:indice+1] = linha_a\n",
    "            count += 1\n",
    "        \n",
    "        for k in range(1+i,nlim):\n",
    "            coef = (AF[k,i]/AF[i,i])\n",
    "            AF[k:k+1] = AF[k:k+1] - AF[i:i+1]*coef\n",
    "    \n",
    "    return count"
   ]
  },
  {
   "cell_type": "code",
   "execution_count": 18,
   "metadata": {
    "deletable": false,
    "editable": false,
    "nbgrader": {
     "cell_type": "code",
     "checksum": "a9b33912e30900b861a93fb44e922e2b",
     "grade": true,
     "grade_id": "cell-49f18517a9cfe0f0",
     "locked": true,
     "points": 1,
     "schema_version": 3,
     "solution": false,
     "task": false
    }
   },
   "outputs": [],
   "source": [
    "M = np.vander(np.arange(11, dtype=np.float64), increasing=True)\n",
    "assert count_row_xchg(M) == 7\n",
    "\n",
    "M = np.vander(np.arange(51, dtype=np.float64), increasing=True)\n",
    "assert count_row_xchg(M) == 44"
   ]
  },
  {
   "cell_type": "markdown",
   "metadata": {
    "deletable": false,
    "editable": false,
    "nbgrader": {
     "cell_type": "markdown",
     "checksum": "1a2efe99d6572f557bdafa497256d593",
     "grade": false,
     "grade_id": "cell-43b1f344d204069c",
     "locked": true,
     "schema_version": 3,
     "solution": false,
     "task": false
    }
   },
   "source": [
    "Quantas permutações de linha são realizadas\n",
    "- para as matrizes de Vandermonde assimétricas\n",
    "- para as matrizes de Vandermonde simétricas\n",
    "- para matrizes gaussianas\n",
    "\n",
    "em função de $n$?\n",
    "\n",
    "Faça um gráfico."
   ]
  },
  {
   "cell_type": "code",
   "execution_count": 19,
   "metadata": {
    "deletable": false,
    "nbgrader": {
     "cell_type": "code",
     "checksum": "acd39a0eb455e46a4a800432398c916d",
     "grade": true,
     "grade_id": "cell-683c2bee2671cff0",
     "locked": false,
     "points": 2,
     "schema_version": 3,
     "solution": true,
     "task": false
    }
   },
   "outputs": [
    {
     "name": "stdout",
     "output_type": "stream",
     "text": [
      "Wall time: 106 ms\n"
     ]
    }
   ],
   "source": [
    "%%time\n",
    "\n",
    "#Matriz Gaussiana\n",
    "\n",
    "\n",
    "Count_Gauss = [] \n",
    "for n in range(2,51):\n",
    "    \n",
    "    Mtx_Gauss = np.random.randn(n,n)\n",
    "    Count_Gauss.append(count_row_xchg(Mtx_Gauss))\n",
    "    "
   ]
  },
  {
   "cell_type": "code",
   "execution_count": 20,
   "metadata": {
    "deletable": false,
    "nbgrader": {
     "cell_type": "code",
     "checksum": "f7412491858a7c3f54b046731db78fa4",
     "grade": true,
     "grade_id": "cell-cf5aaff6857dc91a",
     "locked": false,
     "points": 2,
     "schema_version": 3,
     "solution": true,
     "task": false
    }
   },
   "outputs": [
    {
     "data": {
      "image/png": "[encoded data removed]",
      "text/plain": [
       "<Figure size 1080x576 with 1 Axes>"
      ]
     },
     "metadata": {
      "needs_background": "light"
     },
     "output_type": "display_data"
    }
   ],
   "source": [
    "plt.figure(figsize=(15,8))\n",
    "ax = plt.gca()\n",
    "ax.plot(Count_Gauss,label=\"Matriz Gaussiana\");\n",
    "#ax.semilogy(max_err_pivot,label=\"Erro Máximo\");\n",
    "#ax.semilogy(min_err_pivot,label=\"Erro Mínimo\");\n",
    "ax.tick_params(labelsize=12)\n",
    "ax.set_title(f\"Número permutações de linha\",fontdict={'fontsize':15})\n",
    "ax.set_xlabel(\"Permutaçoes\")\n",
    "ax.set_ylabel(\"Tamanho n da Matrix\")\n",
    "ax.legend();"
   ]
  },
  {
   "cell_type": "markdown",
   "metadata": {},
   "source": [
    "O que você percebe?"
   ]
  },
  {
   "cell_type": "markdown",
   "metadata": {
    "deletable": false,
    "nbgrader": {
     "cell_type": "markdown",
     "checksum": "352405bd9ed3f38a96fa12e69f258d6e",
     "grade": true,
     "grade_id": "cell-5e54264a8adc649a",
     "locked": false,
     "points": 2,
     "schema_version": 3,
     "solution": true,
     "task": false
    }
   },
   "source": [
    "YOUR ANSWER HERE"
   ]
  },
  {
   "cell_type": "markdown",
   "metadata": {
    "deletable": false,
    "editable": false,
    "nbgrader": {
     "cell_type": "markdown",
     "checksum": "870b4aacc52fced9ffad4de7aa2f9e65",
     "grade": false,
     "grade_id": "cell-9f598bbdc16d13c1",
     "locked": true,
     "schema_version": 3,
     "solution": false,
     "task": false
    }
   },
   "source": [
    "## Questão 4 (Bônus): comparando com o `numpy`\n",
    "\n",
    "Faça o gráfico dos erros para o `np.linalg.solve`.  Como este se comporta, em comparação com o método de troca de linhas?"
   ]
  },
  {
   "cell_type": "code",
   "execution_count": 21,
   "metadata": {
    "deletable": false,
    "nbgrader": {
     "cell_type": "code",
     "checksum": "6869037756a8fc375f8d6ebc6e4217cd",
     "grade": true,
     "grade_id": "cell-a538e7f9049ac3d1",
     "locked": false,
     "points": 1,
     "schema_version": 3,
     "solution": true,
     "task": false
    }
   },
   "outputs": [
    {
     "ename": "NotImplementedError",
     "evalue": "",
     "output_type": "error",
     "traceback": [
      "\u001b[1;31m---------------------------------------------------------------------------\u001b[0m",
      "\u001b[1;31mNotImplementedError\u001b[0m                       Traceback (most recent call last)",
      "\u001b[1;32m<ipython-input-21-15b94d1fa268>\u001b[0m in \u001b[0;36m<module>\u001b[1;34m\u001b[0m\n\u001b[0;32m      1\u001b[0m \u001b[1;31m# YOUR CODE HERE\u001b[0m\u001b[1;33m\u001b[0m\u001b[1;33m\u001b[0m\u001b[1;33m\u001b[0m\u001b[0m\n\u001b[1;32m----> 2\u001b[1;33m \u001b[1;32mraise\u001b[0m \u001b[0mNotImplementedError\u001b[0m\u001b[1;33m(\u001b[0m\u001b[1;33m)\u001b[0m\u001b[1;33m\u001b[0m\u001b[1;33m\u001b[0m\u001b[0m\n\u001b[0m",
      "\u001b[1;31mNotImplementedError\u001b[0m: "
     ]
    }
   ],
   "source": [
    "# YOUR CODE HERE\n",
    "raise NotImplementedError()"
   ]
  },
  {
   "cell_type": "markdown",
   "metadata": {
    "deletable": false,
    "nbgrader": {
     "cell_type": "markdown",
     "checksum": "ce08e3dfd9db404eb6204b4594e7aa72",
     "grade": true,
     "grade_id": "cell-8c700f21651a47e8",
     "locked": false,
     "points": 1,
     "schema_version": 3,
     "solution": true,
     "task": false
    }
   },
   "source": [
    "YOUR ANSWER HERE"
   ]
  }
 ],
 "metadata": {
  "kernelspec": {
   "display_name": "Python 3",
   "language": "python",
   "name": "python3"
  },
  "language_info": {
   "codemirror_mode": {
    "name": "ipython",
    "version": 3
   },
   "file_extension": ".py",
   "mimetype": "text/x-python",
   "name": "python",
   "nbconvert_exporter": "python",
   "pygments_lexer": "ipython3",
   "version": "3.8.3"
  }
 },
 "nbformat": 4,
 "nbformat_minor": 4
}
