{
 "cells": [
  {
   "cell_type": "markdown",
   "metadata": {},
   "source": [
    "![CC-BY-SA](https://mirrors.creativecommons.org/presskit/buttons/88x31/svg/by-sa.svg)\n",
    "\n",
    "\n",
    "This notebook was created by [Bernardo Freitas Paulo da Costa](http://www.im.ufrj.br/bernardofpc),\n",
    "and Pedro Angelo Medeiros Fonini\n",
    "and is licensed under Creative Commons BY-SA."
   ]
  },
  {
   "cell_type": "markdown",
   "metadata": {},
   "source": [
    "Antes de enviar este Teste, verifique que tudo está funcionando como esperado.\n",
    "Por exemplo, **rode o código inteiro, do zero**.\n",
    "Para isso, vá no menu, escolha _Kernel_, depois _Restart & Run All_.\n",
    "\n",
    "Verifique, também, que você respondeu todas as questões:\n",
    "* as questões de código têm `YOUR CODE HERE` (e você pode apagar o `raise NotImplemented` ao incluir sua resposta)\n",
    "* as questões discursivas têm \"YOUR ANSWER HERE\"."
   ]
  },
  {
   "cell_type": "markdown",
   "metadata": {},
   "source": [
    "---"
   ]
  },
  {
   "cell_type": "code",
   "execution_count": null,
   "metadata": {
    "deletable": false,
    "editable": false,
    "nbgrader": {
     "cell_type": "code",
     "checksum": "1db763a8b13a5d9dbd0ad4bc0f3113ee",
     "grade": false,
     "grade_id": "cell-5b008ca46d420384",
     "locked": true,
     "schema_version": 3,
     "solution": false,
     "task": false
    }
   },
   "outputs": [],
   "source": [
    "import numpy as np\n",
    "import matplotlib.pyplot as plt"
   ]
  },
  {
   "cell_type": "markdown",
   "metadata": {
    "deletable": false,
    "editable": false,
    "nbgrader": {
     "cell_type": "markdown",
     "checksum": "f30a2b04c084f1391b018d6ab2bc1f68",
     "grade": false,
     "grade_id": "cell-ad35d320fd47a0e5",
     "locked": true,
     "schema_version": 3,
     "solution": false,
     "task": false
    }
   },
   "source": [
    "# Pivôs e eliminação\n",
    "\n",
    "## Questão 1: Eliminação pura\n",
    "\n",
    "Comece escrevendo um código de resolução de sistemas lineares que não permuta linhas nem colunas"
   ]
  },
  {
   "cell_type": "code",
   "execution_count": null,
   "metadata": {
    "deletable": false,
    "nbgrader": {
     "cell_type": "code",
     "checksum": "ab6fa8eeabc75a499f3e26d9ff9fe5b3",
     "grade": false,
     "grade_id": "cell-8ab9502eef2d7f63",
     "locked": false,
     "schema_version": 3,
     "solution": true,
     "task": false
    }
   },
   "outputs": [],
   "source": [
    "def solve(A,b):\n",
    "    \"\"\"Resolve o sistema  Ax = b,  sem reordenar linhas ou colunas\"\"\"\n",
    "    # YOUR CODE HERE\n",
    "    raise NotImplementedError()"
   ]
  },
  {
   "cell_type": "markdown",
   "metadata": {
    "deletable": false,
    "editable": false,
    "nbgrader": {
     "cell_type": "markdown",
     "checksum": "7862ce4c3a20495f5979216303f7faf2",
     "grade": false,
     "grade_id": "cell-94b552ef73ead442",
     "locked": true,
     "schema_version": 3,
     "solution": false,
     "task": false
    }
   },
   "source": [
    "Vejamos que está funcionando, dando resultados semelhantes ao que vimos em aula:"
   ]
  },
  {
   "cell_type": "code",
   "execution_count": null,
   "metadata": {
    "deletable": false,
    "editable": false,
    "nbgrader": {
     "cell_type": "code",
     "checksum": "7da9651c287259ed1d46ee34203d6368",
     "grade": true,
     "grade_id": "cell-9b94f2918665549f",
     "locked": true,
     "points": 1,
     "schema_version": 3,
     "solution": false,
     "task": false
    }
   },
   "outputs": [],
   "source": [
    "np.random.seed(1)\n",
    "\n",
    "M = np.vander(np.arange(11, dtype=np.float64), increasing=True)\n",
    "b = np.random.rand(11)\n",
    "x1 = solve(M,b)\n",
    "\n",
    "b1 = M @ x1\n",
    "assert b1[0] == b[0]\n",
    "assert np.isclose(b1[10], b[10])\n",
    "assert np.linalg.norm(b1 - b) < 1e-8"
   ]
  },
  {
   "cell_type": "code",
   "execution_count": null,
   "metadata": {
    "deletable": false,
    "editable": false,
    "nbgrader": {
     "cell_type": "code",
     "checksum": "834b9772b2b35043676a977e2571018e",
     "grade": true,
     "grade_id": "cell-3417e6a20b89b026",
     "locked": true,
     "points": 1,
     "schema_version": 3,
     "solution": false,
     "task": false
    }
   },
   "outputs": [],
   "source": [
    "np.random.seed(2)\n",
    "\n",
    "M = np.vander(np.arange(51, dtype=np.float64), increasing=True)\n",
    "b = np.random.rand(51)\n",
    "x1 = solve(M,b)\n",
    "\n",
    "b1 = M @ x1\n",
    "assert b1[0] == b[0]\n",
    "assert np.isclose(b1[4], b[4])\n",
    "assert np.abs(b1[-3] - b[-3]) > 1e10"
   ]
  },
  {
   "cell_type": "markdown",
   "metadata": {
    "deletable": false,
    "editable": false,
    "nbgrader": {
     "cell_type": "markdown",
     "checksum": "8d4ee6ffe184a184dd7a8909685e14fd",
     "grade": false,
     "grade_id": "cell-ea386b2c1f4daddf",
     "locked": true,
     "schema_version": 3,
     "solution": false,
     "task": false
    }
   },
   "source": [
    "Agora, resolva 100 sistemas $51 \\times 51$, com a mesma matriz, mas com diferentes valores de $b$.\n",
    "Mostre, num mesmo gráfico,\n",
    "* o erro absoluto médio\n",
    "* o menor erro absoluto\n",
    "* o maior erro absoluto\n",
    "\n",
    "para cada equação do sistema $Ax = b$."
   ]
  },
  {
   "cell_type": "code",
   "execution_count": null,
   "metadata": {
    "deletable": false,
    "nbgrader": {
     "cell_type": "code",
     "checksum": "59afdfe550bb5b3ba99d036556faaa16",
     "grade": true,
     "grade_id": "cell-f5de6da4457033f6",
     "locked": false,
     "points": 2,
     "schema_version": 3,
     "solution": true,
     "task": false
    }
   },
   "outputs": [],
   "source": [
    "%%time \n",
    "\n",
    "M = np.vander(np.arange(51, dtype=np.float64), increasing=True)\n",
    "\n",
    "acc_err = np.zeros(51)\n",
    "max_err = np.zeros(51)\n",
    "min_err = np.ones(51) * np.inf\n",
    "\n",
    "# Contas aqui\n",
    "# YOUR CODE HERE\n",
    "raise NotImplementedError()"
   ]
  },
  {
   "cell_type": "code",
   "execution_count": null,
   "metadata": {
    "deletable": false,
    "nbgrader": {
     "cell_type": "code",
     "checksum": "fbf08595205fb013a27ef61ebfaac474",
     "grade": false,
     "grade_id": "cell-e2678b900b30ae42",
     "locked": false,
     "schema_version": 3,
     "solution": true,
     "task": false
    }
   },
   "outputs": [],
   "source": [
    "# Gráfico aqui\n",
    "# YOUR CODE HERE\n",
    "raise NotImplementedError()\n",
    "ax = plt.gca()"
   ]
  },
  {
   "cell_type": "code",
   "execution_count": null,
   "metadata": {
    "deletable": false,
    "editable": false,
    "nbgrader": {
     "cell_type": "code",
     "checksum": "a7d88942c8b390abb2d1fab2ad3ccfeb",
     "grade": true,
     "grade_id": "cell-e5ade88c7f096239",
     "locked": true,
     "points": 2,
     "schema_version": 3,
     "solution": false,
     "task": false
    }
   },
   "outputs": [],
   "source": [
    "assert ax.title.get_text() != \"\"\n",
    "assert len(ax.lines) == 3\n",
    "assert len(ax.get_legend().get_texts()) == 3"
   ]
  },
  {
   "cell_type": "code",
   "execution_count": null,
   "metadata": {
    "deletable": false,
    "editable": false,
    "nbgrader": {
     "cell_type": "code",
     "checksum": "8dc1222dfc034ad4b43ada191137560e",
     "grade": false,
     "grade_id": "cell-f4fb3a61d3a4fb62",
     "locked": true,
     "schema_version": 3,
     "solution": false,
     "task": false
    }
   },
   "outputs": [],
   "source": [
    "ax = None"
   ]
  },
  {
   "cell_type": "markdown",
   "metadata": {
    "deletable": false,
    "editable": false,
    "nbgrader": {
     "cell_type": "markdown",
     "checksum": "7a4a79dcf5f623e1d041101f0b87ad3c",
     "grade": false,
     "grade_id": "cell-637c81b78d877440",
     "locked": true,
     "schema_version": 3,
     "solution": false,
     "task": false
    }
   },
   "source": [
    "O que você observa?"
   ]
  },
  {
   "cell_type": "markdown",
   "metadata": {
    "deletable": false,
    "nbgrader": {
     "cell_type": "markdown",
     "checksum": "f19f369ad5c14ae48de85ab4d9228cfc",
     "grade": true,
     "grade_id": "cell-a2546d12eb80b65f",
     "locked": false,
     "points": 1,
     "schema_version": 3,
     "solution": true,
     "task": false
    }
   },
   "source": [
    "YOUR ANSWER HERE"
   ]
  },
  {
   "cell_type": "markdown",
   "metadata": {
    "deletable": false,
    "editable": false,
    "nbgrader": {
     "cell_type": "markdown",
     "checksum": "9903fcb3394da389f680a475baff84ab",
     "grade": false,
     "grade_id": "cell-00ad698bbd50e7f8",
     "locked": true,
     "schema_version": 3,
     "solution": false,
     "task": false
    }
   },
   "source": [
    "## Questão 2: Permutando linhas\n",
    "\n",
    "Re-escreva o código de eliminação para encontrar, a cada coluna, a linha que tem o maior pivô (em valor absoluto).\n",
    "\n",
    "Observações:\n",
    "* Não será necessário alterar a parte de substituição;\n",
    "* Mas lembre-se de também alterar as linhas de `b`.\n",
    "* E cuidado ao mudar as linhas de uma matriz: use `np.copy` para copiar linhas, e `[:]` para substituir todos os valores de um array."
   ]
  },
  {
   "cell_type": "code",
   "execution_count": null,
   "metadata": {
    "deletable": false,
    "nbgrader": {
     "cell_type": "code",
     "checksum": "0ec34ba4d25ba2bab0e29434b94a3c95",
     "grade": false,
     "grade_id": "cell-bedecb50e9d3b6ab",
     "locked": false,
     "schema_version": 3,
     "solution": true,
     "task": false
    }
   },
   "outputs": [],
   "source": [
    "def solve_pivot_lines(A,b):\n",
    "    \"\"\"Resolve o sistema  Ax = b,  reordenando apenas linhas, se necessário.\"\"\"\n",
    "    # YOUR CODE HERE\n",
    "    raise NotImplementedError()"
   ]
  },
  {
   "cell_type": "markdown",
   "metadata": {
    "deletable": false,
    "editable": false,
    "nbgrader": {
     "cell_type": "markdown",
     "checksum": "ccee4e01ac7e94c0b1796941909ab2ff",
     "grade": false,
     "grade_id": "cell-f16cfec13b4b8e6d",
     "locked": true,
     "schema_version": 3,
     "solution": false,
     "task": false
    }
   },
   "source": [
    "Novamente, testando que está tudo ok:"
   ]
  },
  {
   "cell_type": "code",
   "execution_count": null,
   "metadata": {
    "deletable": false,
    "editable": false,
    "nbgrader": {
     "cell_type": "code",
     "checksum": "7dac64bdba2f3825279dff7bbb8c2ca4",
     "grade": true,
     "grade_id": "cell-650646e7e05ea882",
     "locked": true,
     "points": 1,
     "schema_version": 3,
     "solution": false,
     "task": false
    }
   },
   "outputs": [],
   "source": [
    "np.random.seed(3)\n",
    "\n",
    "M = np.vander(np.arange(11, dtype=np.float64), increasing=True)\n",
    "b = np.random.rand(11)\n",
    "x1 = solve_pivot_lines(M,b)\n",
    "\n",
    "b1 = M @ x1\n",
    "assert b1[0] == b[0]\n",
    "assert np.isclose(b1[10], b[10])\n",
    "assert np.linalg.norm(b1 - b) < 1e-8"
   ]
  },
  {
   "cell_type": "code",
   "execution_count": null,
   "metadata": {
    "deletable": false,
    "editable": false,
    "nbgrader": {
     "cell_type": "code",
     "checksum": "8efb318f1c08afc0a143045a38e4bd58",
     "grade": true,
     "grade_id": "cell-557591b41d0e3e5e",
     "locked": true,
     "points": 2,
     "schema_version": 3,
     "solution": false,
     "task": false
    }
   },
   "outputs": [],
   "source": [
    "np.random.seed(4)\n",
    "\n",
    "M = np.vander(np.arange(51, dtype=np.float64), increasing=True)\n",
    "b = np.random.rand(51)\n",
    "x1 = solve_pivot_lines(M,b)\n",
    "\n",
    "b1 = M @ x1\n",
    "assert b1[0] == b[0]\n",
    "assert np.allclose(b1, b, atol=30.0)\n",
    "assert np.linalg.norm(b - b1) > 10"
   ]
  },
  {
   "cell_type": "markdown",
   "metadata": {},
   "source": [
    "Estes testes são (ligeiramente) diferentes dos testes para `solve`, que não realizava permutação de linhas.\n",
    "Explique porque estas mudanças\n",
    "1. são necessárias; e\n",
    "2. fazem sentido."
   ]
  },
  {
   "cell_type": "markdown",
   "metadata": {
    "deletable": false,
    "nbgrader": {
     "cell_type": "markdown",
     "checksum": "fc1114db1ae5696a302ad9dbac66fd55",
     "grade": true,
     "grade_id": "cell-5b53a1d7058d6b59",
     "locked": false,
     "points": 2,
     "schema_version": 3,
     "solution": true,
     "task": false
    }
   },
   "source": [
    "YOUR ANSWER HERE"
   ]
  },
  {
   "cell_type": "markdown",
   "metadata": {
    "deletable": false,
    "editable": false,
    "nbgrader": {
     "cell_type": "markdown",
     "checksum": "3f0af21be8ecad040acc0efbb12218a9",
     "grade": false,
     "grade_id": "cell-75b82c94b56dcad7",
     "locked": true,
     "schema_version": 3,
     "solution": false,
     "task": false
    }
   },
   "source": [
    "### Mais gráficos\n",
    "\n",
    "Repita a análise, com 100 sistemas $51 \\times 51$."
   ]
  },
  {
   "cell_type": "code",
   "execution_count": null,
   "metadata": {
    "deletable": false,
    "nbgrader": {
     "cell_type": "code",
     "checksum": "4074f141b31c19c3172d49b6297fe111",
     "grade": true,
     "grade_id": "cell-3db98bb9a25aa421",
     "locked": false,
     "points": 1,
     "schema_version": 3,
     "solution": true,
     "task": false
    }
   },
   "outputs": [],
   "source": [
    "%%time\n",
    "\n",
    "M = np.vander(range(51), increasing=True).astype(np.float64)\n",
    "\n",
    "acc_err_pivot = np.zeros(51)\n",
    "max_err_pivot = np.zeros(51)\n",
    "min_err_pivot = np.ones(51) * np.inf\n",
    "\n",
    "# Contas aqui\n",
    "# YOUR CODE HERE\n",
    "raise NotImplementedError()"
   ]
  },
  {
   "cell_type": "code",
   "execution_count": null,
   "metadata": {
    "deletable": false,
    "nbgrader": {
     "cell_type": "code",
     "checksum": "e668bf934ff707ff20d508bc6dd81769",
     "grade": false,
     "grade_id": "cell-684b133a34edddfe",
     "locked": false,
     "schema_version": 3,
     "solution": true,
     "task": false
    }
   },
   "outputs": [],
   "source": [
    "# Gráfico aqui\n",
    "# YOUR CODE HERE\n",
    "raise NotImplementedError()\n",
    "ax = plt.gca()"
   ]
  },
  {
   "cell_type": "code",
   "execution_count": null,
   "metadata": {
    "deletable": false,
    "editable": false,
    "nbgrader": {
     "cell_type": "code",
     "checksum": "9cb87d861c464ed65a5baa7a01675181",
     "grade": true,
     "grade_id": "cell-19d5d08ca9ebf172",
     "locked": true,
     "points": 1,
     "schema_version": 3,
     "solution": false,
     "task": false
    }
   },
   "outputs": [],
   "source": [
    "assert ax.title.get_text() != \"\"\n",
    "assert len(ax.lines) == 3\n",
    "assert len(ax.get_legend().get_texts()) == 3"
   ]
  },
  {
   "cell_type": "code",
   "execution_count": null,
   "metadata": {
    "deletable": false,
    "editable": false,
    "nbgrader": {
     "cell_type": "code",
     "checksum": "4692c70716e3cc5a71c78dc550d38e54",
     "grade": false,
     "grade_id": "cell-0014735fb6472b1a",
     "locked": true,
     "schema_version": 3,
     "solution": false,
     "task": false
    }
   },
   "outputs": [],
   "source": [
    "ax = None"
   ]
  },
  {
   "cell_type": "markdown",
   "metadata": {},
   "source": [
    "## Questão 3: Quantidade de trocas de linhas\n",
    "\n",
    "Agora, adapte seu código de eliminação para contar (e apenas contar) o número de permutações de linhas efetuadas.\n",
    "Observe que esta quantidade é independente do valor de $b$."
   ]
  },
  {
   "cell_type": "code",
   "execution_count": null,
   "metadata": {
    "deletable": false,
    "nbgrader": {
     "cell_type": "code",
     "checksum": "d282fabe052088b11bb6da6ee221b7c5",
     "grade": false,
     "grade_id": "cell-b2c2ace3569995d2",
     "locked": false,
     "schema_version": 3,
     "solution": true,
     "task": false
    }
   },
   "outputs": [],
   "source": [
    "def count_row_xchg(A):\n",
    "    \"\"\"Conta o número de permutações de linhas efetuadas para resolver o sistema  Ax = b\"\"\"\n",
    "    # YOUR CODE HERE\n",
    "    raise NotImplementedError()"
   ]
  },
  {
   "cell_type": "code",
   "execution_count": null,
   "metadata": {
    "deletable": false,
    "editable": false,
    "nbgrader": {
     "cell_type": "code",
     "checksum": "a9b33912e30900b861a93fb44e922e2b",
     "grade": true,
     "grade_id": "cell-49f18517a9cfe0f0",
     "locked": true,
     "points": 1,
     "schema_version": 3,
     "solution": false,
     "task": false
    }
   },
   "outputs": [],
   "source": [
    "M = np.vander(np.arange(11, dtype=np.float64), increasing=True)\n",
    "assert count_row_xchg(M) == 7\n",
    "\n",
    "M = np.vander(np.arange(51, dtype=np.float64), increasing=True)\n",
    "assert count_row_xchg(M) == 44"
   ]
  },
  {
   "cell_type": "markdown",
   "metadata": {
    "deletable": false,
    "editable": false,
    "nbgrader": {
     "cell_type": "markdown",
     "checksum": "1a2efe99d6572f557bdafa497256d593",
     "grade": false,
     "grade_id": "cell-43b1f344d204069c",
     "locked": true,
     "schema_version": 3,
     "solution": false,
     "task": false
    }
   },
   "source": [
    "Quantas permutações de linha são realizadas\n",
    "- para as matrizes de Vandermonde assimétricas\n",
    "- para as matrizes de Vandermonde simétricas\n",
    "- para matrizes gaussianas\n",
    "\n",
    "em função de $n$?\n",
    "\n",
    "Faça um gráfico."
   ]
  },
  {
   "cell_type": "code",
   "execution_count": null,
   "metadata": {
    "deletable": false,
    "nbgrader": {
     "cell_type": "code",
     "checksum": "acd39a0eb455e46a4a800432398c916d",
     "grade": true,
     "grade_id": "cell-683c2bee2671cff0",
     "locked": false,
     "points": 2,
     "schema_version": 3,
     "solution": true,
     "task": false
    }
   },
   "outputs": [],
   "source": [
    "%%time\n",
    "\n",
    "# Contas\n",
    "# YOUR CODE HERE\n",
    "raise NotImplementedError()"
   ]
  },
  {
   "cell_type": "code",
   "execution_count": null,
   "metadata": {
    "deletable": false,
    "nbgrader": {
     "cell_type": "code",
     "checksum": "f7412491858a7c3f54b046731db78fa4",
     "grade": true,
     "grade_id": "cell-cf5aaff6857dc91a",
     "locked": false,
     "points": 2,
     "schema_version": 3,
     "solution": true,
     "task": false
    }
   },
   "outputs": [],
   "source": [
    "# YOUR CODE HERE\n",
    "raise NotImplementedError()"
   ]
  },
  {
   "cell_type": "markdown",
   "metadata": {},
   "source": [
    "O que você percebe?"
   ]
  },
  {
   "cell_type": "markdown",
   "metadata": {
    "deletable": false,
    "nbgrader": {
     "cell_type": "markdown",
     "checksum": "352405bd9ed3f38a96fa12e69f258d6e",
     "grade": true,
     "grade_id": "cell-5e54264a8adc649a",
     "locked": false,
     "points": 2,
     "schema_version": 3,
     "solution": true,
     "task": false
    }
   },
   "source": [
    "YOUR ANSWER HERE"
   ]
  },
  {
   "cell_type": "markdown",
   "metadata": {
    "deletable": false,
    "editable": false,
    "nbgrader": {
     "cell_type": "markdown",
     "checksum": "870b4aacc52fced9ffad4de7aa2f9e65",
     "grade": false,
     "grade_id": "cell-9f598bbdc16d13c1",
     "locked": true,
     "schema_version": 3,
     "solution": false,
     "task": false
    }
   },
   "source": [
    "## Questão 4 (Bônus): comparando com o `numpy`\n",
    "\n",
    "Faça o gráfico dos erros para o `np.linalg.solve`.  Como este se comporta, em comparação com o método de troca de linhas?"
   ]
  },
  {
   "cell_type": "code",
   "execution_count": null,
   "metadata": {
    "deletable": false,
    "nbgrader": {
     "cell_type": "code",
     "checksum": "6869037756a8fc375f8d6ebc6e4217cd",
     "grade": true,
     "grade_id": "cell-a538e7f9049ac3d1",
     "locked": false,
     "points": 1,
     "schema_version": 3,
     "solution": true,
     "task": false
    }
   },
   "outputs": [],
   "source": [
    "# YOUR CODE HERE\n",
    "raise NotImplementedError()"
   ]
  },
  {
   "cell_type": "markdown",
   "metadata": {
    "deletable": false,
    "nbgrader": {
     "cell_type": "markdown",
     "checksum": "ce08e3dfd9db404eb6204b4594e7aa72",
     "grade": true,
     "grade_id": "cell-8c700f21651a47e8",
     "locked": false,
     "points": 1,
     "schema_version": 3,
     "solution": true,
     "task": false
    }
   },
   "source": [
    "YOUR ANSWER HERE"
   ]
  }
 ],
 "metadata": {
  "kernelspec": {
   "display_name": "Python 3",
   "language": "python",
   "name": "python3"
  },
  "language_info": {
   "codemirror_mode": {
    "name": "ipython",
    "version": 3
   },
   "file_extension": ".py",
   "mimetype": "text/x-python",
   "name": "python",
   "nbconvert_exporter": "python",
   "pygments_lexer": "ipython3",
   "version": "3.8.3"
  }
 },
 "nbformat": 4,
 "nbformat_minor": 4
}
