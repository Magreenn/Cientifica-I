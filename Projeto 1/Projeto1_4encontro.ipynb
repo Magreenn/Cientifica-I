{
 "cells": [
  {
   "cell_type": "markdown",
   "metadata": {},
   "source": [
    "![CC-BY-SA](https://mirrors.creativecommons.org/presskit/buttons/88x31/svg/by-sa.svg)\n",
    "\n",
    "\n",
    "This notebook was created by [Bernardo Freitas Paulo da Costa](http://www.im.ufrj.br/bernardofpc),\n",
    "and Pedro Angelo Medeiros Fonini\n",
    "and is licensed under Creative Commons BY-SA."
   ]
  },
  {
   "cell_type": "markdown",
   "metadata": {},
   "source": [
    "Antes de enviar este Teste, verifique que tudo está funcionando como esperado.\n",
    "Por exemplo, **rode o código inteiro, do zero**.\n",
    "Para isso, vá no menu, escolha _Kernel_, depois _Restart & Run All_.\n",
    "\n",
    "Verifique, também, que você respondeu todas as questões:\n",
    "* as questões de código têm `YOUR CODE HERE` (e você pode apagar o `raise NotImplemented` ao incluir sua resposta)\n",
    "* as questões discursivas têm \"YOUR ANSWER HERE\"."
   ]
  },
  {
   "cell_type": "markdown",
   "metadata": {},
   "source": [
    "---"
   ]
  },
  {
   "cell_type": "markdown",
   "metadata": {
    "deletable": false,
    "editable": false,
    "nbgrader": {
     "cell_type": "markdown",
     "checksum": "3403b023324ddd2546a79682a94b1158",
     "grade": false,
     "grade_id": "cell-e50d0d3e85ac6adf",
     "locked": true,
     "schema_version": 3,
     "solution": false
    }
   },
   "source": [
    "# Método da secante com extremidades de sinais opostos\n",
    "\n",
    "O método da secante é extremamente eficiente para encontrar raízes de uma função,\n",
    "devido à velocidade de convergência e simplicidade.\n",
    "Entretanto, assim como no caso do método de Newton, não há garantias de que ele convirja.\n",
    "\n",
    "Entretanto, adaptar a idéia do método da bisseção para a secante\n",
    "não dá uma performance tão boa, já que a convergência é apenas linear:\n",
    "na _Regula Falsi_, uma das extremidades permanece fixa a partir de um certo ponto do algoritmo.\n",
    "Pior ainda, dependendo de onde esta extremidade estiver, a velocidade de convergência\n",
    "pode ser menor do que a do método da bisseção!\n",
    "\n",
    "O objetivo deste projeto é estudar algoritmos usando secantes:\n",
    "\n",
    "1. O algoritmo original da secante,\n",
    "2. A implementação da _Regula Falsi_, que mantém extremidades com sinais diferentes;\n",
    "3. O método \"de Illinois\", uma variante mais eficiente."
   ]
  },
  {
   "cell_type": "code",
   "execution_count": 1,
   "metadata": {
    "deletable": false,
    "editable": false,
    "nbgrader": {
     "cell_type": "code",
     "checksum": "e72966e4432e2841e5afa1f9b38941ee",
     "grade": false,
     "grade_id": "cell-3a0d19938392e616",
     "locked": true,
     "schema_version": 3,
     "solution": false,
     "task": false
    }
   },
   "outputs": [],
   "source": [
    "import numpy as np\n",
    "import matplotlib.pyplot as plt"
   ]
  },
  {
   "cell_type": "markdown",
   "metadata": {
    "deletable": false,
    "editable": false,
    "nbgrader": {
     "cell_type": "markdown",
     "checksum": "6b7c933f959c2e7f4410deedbec61096",
     "grade": false,
     "grade_id": "cell-e979f738f7408037",
     "locked": true,
     "schema_version": 3,
     "solution": false,
     "task": false
    }
   },
   "source": [
    "## A bisseção\n",
    "\n",
    "Como vamos trabalhar com métodos de intervalos,\n",
    "é bastante natural incluir a bisseção junto à comparação.\n",
    "\n",
    "A implementação abaixo, recursiva, usa variáveis auxiliares (`fa`, `fb`, por exemplo)\n",
    "para evitar calcular $f(a)$ mais de uma vez ao longo do algoritmo.\n",
    "Além disso, estas variáveis \"a mais\" serão úteis para a secante e o método de Illinois."
   ]
  },
  {
   "cell_type": "code",
   "execution_count": 2,
   "metadata": {
    "deletable": false,
    "editable": false,
    "nbgrader": {
     "cell_type": "code",
     "checksum": "21fe77d6d9ac718ad32adb63ebac678e",
     "grade": false,
     "grade_id": "cell-70f22ef4a2c74489",
     "locked": true,
     "schema_version": 3,
     "solution": false,
     "task": false
    }
   },
   "outputs": [],
   "source": [
    "def bissecao(f,a,b,xtol=1e-8):\n",
    "    \"\"\" Método da bisseção para a função  f  no intervalo  [a,b].\n",
    "\n",
    "        Retorna um número  z,  que garantimos não estar mais longe da raiz do que  xtol,\n",
    "        e as listas de extremidades esquerda e direita produzidas ao longo do algoritmo.\n",
    "    \"\"\"\n",
    "    # Validando a entrada:\n",
    "    fa = f(a)\n",
    "    fb = f(b)\n",
    "    assert(fa*fb < 0)\n",
    "    \n",
    "    # Estrutura recursiva básica\n",
    "    def dividir(a,b,fa,fb):\n",
    "        m = (a+b)/2\n",
    "        # Garantia de erro absoluto \n",
    "        if abs(m-a)/2 < xtol:\n",
    "            return m,[a],[b]\n",
    "        fm = f(m)\n",
    "        if fm == 0:\n",
    "            return m,[a],[b]\n",
    "\n",
    "        if fa*fm < 0:\n",
    "            z,l,r = dividir(a,m,fa,fm)\n",
    "        else:\n",
    "            z,l,r = dividir(m,b,fm,fb)\n",
    "        return z, [a]+l,[b]+r\n",
    "    \n",
    "    z,l,r = dividir(a,b,fa,fb)\n",
    "    return z, np.array(l), np.array(r)"
   ]
  },
  {
   "cell_type": "markdown",
   "metadata": {},
   "source": [
    "## Parte I: O método da secante\n",
    "\n",
    "O método da secante parte de um intervalo $[a,b]$ para o intervalo $[b,s]$,\n",
    "onde $s$ é a raiz da _secante_ ao gráfico de $f$ no intervalo $[a,b]$,\n",
    "ou seja, o ponto $(s,0)$ é a interseção da reta determinada por $(a, f(a))$ e $(b, f(b))$."
   ]
  },
  {
   "cell_type": "markdown",
   "metadata": {},
   "source": [
    "### 1. Cálculo do passo\n",
    "\n",
    "Determine $z$, em função de $a$, $b$, $f(a)$ e $f(b)$."
   ]
  },
  {
   "cell_type": "markdown",
   "metadata": {
    "deletable": false,
    "nbgrader": {
     "cell_type": "markdown",
     "checksum": "e6f84f4df44fff2e892241c713d6d25c",
     "grade": true,
     "grade_id": "passo_sec",
     "locked": false,
     "points": 2,
     "schema_version": 3,
     "solution": true
    }
   },
   "source": [
    "Sendo uma reta na forma\n",
    "$$r(x) = mx + n$$\n",
    "\n",
    "$$\\begin{cases} mb + n = f(b)\\\\\n",
    "ma + n = f(a)\\\\\n",
    "\\end{cases}$$\n",
    "\n",
    "Calculando\n",
    "\n",
    "$$m(b-a) = f(b) - f(a)$$\n",
    "$$m = \\frac{f(b) - f(a)}{b-a}$$\n",
    "\n",
    "Substituindo na primeira equação\n",
    "\n",
    "$$n = f(b) - b\\left(\\frac{f(b) - f(a)}{b-a}\\right)$$\n",
    "\n",
    "Então, a raiz, quando $f(z) = 0$, será \n",
    "\n",
    "$$mz + n = 0$$\n",
    "\n",
    "$$ z = - \\frac{\\left(f(b) - b\\left(\\frac{f(b) - f(a)}{b-a}\\right)\\right)}{\\frac{f(b) - f(a)}{b-a}}$$\n",
    "\n",
    "Multiplicando por $\\frac{(b-a)}{(b-a)}$ \n",
    "\n",
    "\n",
    "$$z = - \\frac{f(b).(b-a) - b.(f(b) - f(a))}{f(b) - f(a)}$$\n",
    "\n",
    "$$z = - \\frac{b.f(b) - a.f(b) - b.f(b) + b.f(a))}{f(b) - f(a)}$$\n",
    "\n",
    "$$z = \\frac{a.f(b) - b.f(a))}{f(b) - f(a)}$$\n"
   ]
  },
  {
   "cell_type": "markdown",
   "metadata": {},
   "source": [
    "Verifique que a fórmula é **simétrica** em $a$ e $b$\n",
    "(trocando também $f(a)$ por $f(b)$)"
   ]
  },
  {
   "cell_type": "markdown",
   "metadata": {
    "deletable": false,
    "nbgrader": {
     "cell_type": "markdown",
     "checksum": "ad3dc28d6166de662a53f255af812aef",
     "grade": true,
     "grade_id": "passo_sim",
     "locked": false,
     "points": 1,
     "schema_version": 3,
     "solution": true
    }
   },
   "source": [
    "Checando a Simetria\n",
    "$$r(x) = mx + n$$\n",
    "\n",
    "$$\\begin{cases} ma + n = f(a)\\\\\n",
    "mb + n = f(b)\\\\\n",
    "\\end{cases}$$\n",
    "\n",
    "Calculando\n",
    "\n",
    "$$m(a-b) = f(a) - f(b)$$\n",
    "$$m = \\frac{f(a) - f(b)}{a-b}$$\n",
    "\n",
    "Substituindo na primeira equação\n",
    "\n",
    "$$n = f(a) - a\\left(\\frac{f(a) - f(b)}{a-b}\\right)$$\n",
    "\n",
    "Então, a raiz, quando $f(z) = 0$, será \n",
    "\n",
    "$$mz + n = 0$$\n",
    "\n",
    "$$ z = - \\frac{\\left(f(a) - a\\left(\\frac{f(a) - f(b)}{a-b}\\right)\\right)}{\\frac{f(a) - f(b)}{a-b}}$$\n",
    "\n",
    "Multiplicando por $\\frac{(a-b)}{(a-b)}$ \n",
    "\n",
    "\n",
    "$$z = - \\frac{f(a).(a-b) - a.(f(a) - f(b))}{f(a) - f(b)}$$\n",
    "\n",
    "$$x = - \\frac{a.f(a) - b.f(a) - a.f(a) + a.f(b))}{f(a) - f(b)}$$\n",
    "\n",
    "$$x = \\frac{b.f(a) - a.f(b))}{f(a) - f(b)}$$\n"
   ]
  },
  {
   "cell_type": "markdown",
   "metadata": {},
   "source": [
    "### 2. Programação\n",
    "\n",
    "Implemente o método da secante, modificando a função de bisseção acima.\n",
    "Ao contrário da bisseção, o método da secante não precisa de sinais opostos,\n",
    "e portanto dispensa alguns testes -\n",
    "entretanto, também não garantimos a convergência,\n",
    "então teremos que introduzir, como no método de Newton, critérios de parada\n",
    "em termos do tamanho do passo e do número máximo de iteração,\n",
    "sem _garantia_ de convergência.\n",
    "\n",
    "Observe que, depois de passar do intervalo $[a,b]$ para $[b,s]$,\n",
    "a \"iteração seguinte\" deve passar para $[s,t]$,\n",
    "onde $t$ é a raiz da secante definida no intervalo $[b,s]$,\n",
    "e assim por diante.\n",
    "Desta forma, e para simplificar o código,\n",
    "o \"intervalo\" $[a,b]$ (e todos os outros seguintes)\n",
    "deve ser entendido de forma \"não-orientada\".\n",
    "Assim, as extremidades \"esquerda\" e \"direita\" não correspondem sempre a $a$ e $b$, respectivamente!"
   ]
  },
  {
   "cell_type": "code",
   "execution_count": 3,
   "metadata": {
    "deletable": false,
    "nbgrader": {
     "cell_type": "code",
     "checksum": "ca2607d703d5d98aaa2bd71ea6c862c2",
     "grade": false,
     "grade_id": "cell-5e084cf5e5eed020",
     "locked": false,
     "schema_version": 3,
     "solution": true,
     "task": false
    }
   },
   "outputs": [],
   "source": [
    "def secante(f,a,b, xtol=1e-8, maxiter=100):\n",
    "    \"\"\" Método da secante para a função  f  no intervalo  [a,b].\n",
    "\n",
    "        Retorna um número  z  e as listas de extremidades esquerda(l) e direita(r) produzidas ao longo do algoritmo,\n",
    "        que pára quando o último passo é menor do que  xtol, ou depois de  maxiter  iterações.\n",
    "    \"\"\"\n",
    "    fa = f(a)\n",
    "    fb = f(b)\n",
    "    m=0\n",
    "    i=0\n",
    "    l=[]\n",
    "    r=[]\n",
    "    while abs(b-a)>xtol:\n",
    "        if i>=maxiter:\n",
    "            raise \"Você atingiu o número máximo de iterações\"\n",
    "        z = (a*f(b)-b*f(a))/(f(b)-f(a))\n",
    "        a=b\n",
    "        b=z\n",
    "        i+=1\n",
    "        if a < b:\n",
    "            l.append(a)\n",
    "            r.append(b)\n",
    "        else:\n",
    "            l.append(b)\n",
    "            r.append(a)\n",
    "    z=b\n",
    "    return z, np.array(l), np.array(r)"
   ]
  },
  {
   "cell_type": "markdown",
   "metadata": {},
   "source": [
    "As caixas a segiur contém testes do seu método"
   ]
  },
  {
   "cell_type": "code",
   "execution_count": 4,
   "metadata": {
    "deletable": false,
    "editable": false,
    "nbgrader": {
     "cell_type": "code",
     "checksum": "a0a6f0142666d9954ff0ea27e7a23e88",
     "grade": true,
     "grade_id": "sec_teste1",
     "locked": true,
     "points": 1,
     "schema_version": 3,
     "solution": false
    }
   },
   "outputs": [],
   "source": [
    "z,_,_ = secante(np.sin,2,4)\n",
    "assert( abs(z-np.pi) < 1e-8 )"
   ]
  },
  {
   "cell_type": "code",
   "execution_count": 5,
   "metadata": {
    "deletable": false,
    "editable": false,
    "nbgrader": {
     "cell_type": "code",
     "checksum": "5a0048e2562a4259ac0a491f918ec218",
     "grade": true,
     "grade_id": "sec_teste3",
     "locked": true,
     "points": 2,
     "schema_version": 3,
     "solution": false
    }
   },
   "outputs": [],
   "source": [
    "# Esse teste é mais sério para a tolerância\n",
    "def f(x):\n",
    "    return 35*x**2 - x - 1\n",
    "z,_,_ = secante(f,0,2,xtol=1e-12)\n",
    "assert ( abs(z - (np.sqrt(141)+1)/70)  < 1e-12 )"
   ]
  },
  {
   "cell_type": "code",
   "execution_count": 6,
   "metadata": {
    "deletable": false,
    "editable": false,
    "nbgrader": {
     "cell_type": "code",
     "checksum": "4e75688ce6c9c56df949a2311c7f9c2f",
     "grade": true,
     "grade_id": "sec_teste4",
     "locked": true,
     "points": 2,
     "schema_version": 3,
     "solution": false
    }
   },
   "outputs": [],
   "source": [
    "# Esse teste é mais sério para $f(z) = 0$\n",
    "z,l,r = secante(np.cos,0,2,xtol=1e-16)\n",
    "assert (abs(z-np.pi/2) < 1e-16)"
   ]
  },
  {
   "cell_type": "markdown",
   "metadata": {},
   "source": [
    "### 3. Um gráfico\n",
    "\n",
    "A vantagem de retornar ambas extremidades do intervalo é que podemos fazer o gráfico do erro em função\n",
    "do número de chamadas à função pedindo apenas uma tolerância suficientemente pequena.\n",
    "\n",
    "\n",
    "Considere a função $f(x) = \\sin(x)$ no intervalo $[0,1]$.\n",
    "Faça o gráfico do tamanho do intervalo do método da secante em função do número de passos.\n",
    "Note que o tamanho do intervalo é uma estimativa do erro do método independente do valor real da raiz.\n",
    "Faça no mesmo eixo o gráfico do tamanho do intervalo da bisseção.\n",
    "\n",
    "Pense bem nas escalas que você vai escolher."
   ]
  },
  {
   "cell_type": "code",
   "execution_count": 7,
   "metadata": {},
   "outputs": [
    {
     "data": {
      "text/plain": [
       "(3.141592653589793,\n",
       " array([3.09152808, 3.09152808, 3.14159036, 3.14159036, 3.14159265]),\n",
       " array([4.        , 3.14787496, 3.14787496, 3.14159265, 3.14159265]))"
      ]
     },
     "execution_count": 7,
     "metadata": {},
     "output_type": "execute_result"
    }
   ],
   "source": [
    "secante(np.sin,2,4)"
   ]
  },
  {
   "cell_type": "code",
   "execution_count": 8,
   "metadata": {
    "deletable": false,
    "nbgrader": {
     "cell_type": "code",
     "checksum": "a40ceab0ea44d0ae0d8c5e958dce4b8c",
     "grade": true,
     "grade_id": "sec_graph1",
     "locked": false,
     "points": 3,
     "schema_version": 3,
     "solution": true
    }
   },
   "outputs": [
    {
     "data": {
      "image/png": "[encoded data removed]",
      "text/plain": [
       "<Figure size 432x288 with 1 Axes>"
      ]
     },
     "metadata": {
      "needs_background": "light"
     },
     "output_type": "display_data"
    }
   ],
   "source": [
    "z,l,r = secante(np.sin,2,4)\n",
    "a,b,c = bissecao(np.sin,2,4) \n",
    "x1 = np.arange(len(l))+1\n",
    "x2 = np.arange(len(b))+1\n",
    "y1 = r-l\n",
    "y2 = c-b\n",
    "plt.semilogy(x1,y1,marker=\".\",label=\"Secante\")\n",
    "plt.semilogy(x2,y2,marker=\".\",label=\"Bisseção\")\n",
    "plt.title('Encontrando uma raiz de $\\sin(x)$ em $[2,4]$')\n",
    "plt.xlabel(\"N° passos\")\n",
    "plt.ylabel(\"Tamanho do Intervalo\")\n",
    "plt.legend()\n",
    "plt.grid();"
   ]
  },
  {
   "cell_type": "markdown",
   "metadata": {},
   "source": [
    "### 4. Secante e Newton\n",
    "\n",
    "Veja que o tamanho do intervalo tende bastante rápido a zero.\n",
    "Uma explicação para isso é que a secante, quando intervalo fica pequeno, também é uma boa aproximação da derivada.\n",
    "Que outras similaridades e diferenças há entre o método da secante e o método de Newton?"
   ]
  },
  {
   "cell_type": "markdown",
   "metadata": {
    "deletable": false,
    "nbgrader": {
     "cell_type": "markdown",
     "checksum": "eadf017cd37fb392ae6ba4a7e213a5d5",
     "grade": true,
     "grade_id": "cell-af6da1a1253952e3",
     "locked": false,
     "points": 2,
     "schema_version": 3,
     "solution": true
    }
   },
   "source": [
    "Algumas similaridades se dão nos critérios de convergência dos dois métodos, já que não são garantidos as convergências, porém o metodo da secante, além de divergir quando o metodo de newton diverge, ela pode divergir quando  $f(x_{k})\\approx f(x_{k-1})$ acontecer."
   ]
  },
  {
   "cell_type": "markdown",
   "metadata": {},
   "source": [
    "## Parte II: A _Regula Falsi_\n",
    "\n",
    "A _Regula Falsi_ parte de um intervalo $[a,b]$ onde a função $f$ tem sinais opostos\n",
    "para o intervalo $[a,z]$ ou $[z,b]$, de modo a manter o sinal oposto,\n",
    "o que garante que há uma raiz dentro do intervalo como no método da bisseção.\n",
    "A diferença é que $z$ não é o ponto médio,\n",
    "mas a interseção da reta determinada por $(a, f(a))$ e $(b, f(b))$,\n",
    "como no caso do método da secante."
   ]
  },
  {
   "cell_type": "markdown",
   "metadata": {},
   "source": [
    "Para implementar a _Regula Falsi_, desejamos modificar o mínimo possível a função da bisseção acima.\n",
    "Antes de escrever o código, vamos ver duas coisas."
   ]
  },
  {
   "cell_type": "markdown",
   "metadata": {},
   "source": [
    "### 5. Estimativa de erro da raiz\n",
    "\n",
    "Dados um intervalo $[a,b]$ e o ponto $z$ obtido pelo método da secante,\n",
    "determine o maior erro possível entre $z$ e uma raiz da função.\n",
    "\n",
    "Explique como mudar o teste de saída da função que depende de `tol`."
   ]
  },
  {
   "cell_type": "markdown",
   "metadata": {
    "deletable": false,
    "nbgrader": {
     "cell_type": "markdown",
     "checksum": "7f8d4fb47d7c44b403e57adf9cd27cd7",
     "grade": true,
     "grade_id": "regfalsi_tol",
     "locked": false,
     "points": 3,
     "schema_version": 3,
     "solution": true
    }
   },
   "source": [
    "O maior erro possível entre z e uma raíz é $|b-a| < tol$\n",
    "\n",
    "Devemos mudar o criterio para que retornemos uma sáida quando o tamanho do intervalo $(z-a)$ ou $(z-b)$ seja menor que a tolerância para o intervalo que contiver a raiz."
   ]
  },
  {
   "cell_type": "markdown",
   "metadata": {},
   "source": [
    "### 6. Estimativas de $f(z)$.\n",
    "\n",
    "- Suponha que $f(z) = 0$ e que o método _não testasse_ `f(z) == 0`. O que aconteceria na iteração seguinte?\n",
    "- Diga porquê é **melhor** testar esta outra condição em vez de `f(z) == 0`. Dica: calcule `sin(pi)`.\n",
    "\n",
    "Por razões de simetria, é mais razoável implementar o teste com `a` e `b`."
   ]
  },
  {
   "cell_type": "markdown",
   "metadata": {
    "deletable": false,
    "nbgrader": {
     "cell_type": "markdown",
     "checksum": "19718f9a4bd91daa7aceb0954d82dd47",
     "grade": true,
     "grade_id": "regfalsi_zero",
     "locked": false,
     "points": 5,
     "schema_version": 3,
     "solution": true
    }
   },
   "source": [
    "Na iteração seguinte ele iria mudar o intervalo para $(z,b)$ e o melhor a se fazer é testar se $|f(a)|< tol $ ou $|f(b)|<tol$"
   ]
  },
  {
   "cell_type": "code",
   "execution_count": 9,
   "metadata": {},
   "outputs": [
    {
     "name": "stdout",
     "output_type": "stream",
     "text": [
      "b\n"
     ]
    }
   ],
   "source": [
    "if 0*2<0:\n",
    "    print (\"a\")\n",
    "else:\n",
    "    print (\"b\")"
   ]
  },
  {
   "cell_type": "code",
   "execution_count": 10,
   "metadata": {},
   "outputs": [
    {
     "data": {
      "text/plain": [
       "False"
      ]
     },
     "execution_count": 10,
     "metadata": {},
     "output_type": "execute_result"
    }
   ],
   "source": [
    "np.sin(np.pi) == 0"
   ]
  },
  {
   "cell_type": "markdown",
   "metadata": {},
   "source": [
    "### 7. Implementando a _Regula Falsi_\n",
    "\n",
    "Agora sim, adapte o código da bisseção para a _Regula Falsi_,\n",
    "incluindo as modificações indicadas acima."
   ]
  },
  {
   "cell_type": "code",
   "execution_count": 11,
   "metadata": {
    "deletable": false,
    "nbgrader": {
     "cell_type": "code",
     "checksum": "d5fc3c647420ffcc2b10940125a47381",
     "grade": false,
     "grade_id": "regfalsi",
     "locked": false,
     "schema_version": 3,
     "solution": true
    }
   },
   "outputs": [],
   "source": [
    "def regula_falsi(f,a,b,xtol=1e-8):\n",
    "    # Validando a entrada:\n",
    "    fa = f(a)\n",
    "    fb = f(b)\n",
    "    assert(fa*fb < 0)\n",
    "    \n",
    "    # Estrutura recursiva básica\n",
    "    def dividir(a,b,fa,fb):\n",
    "        z = (a*fb-b*fa)/(fb-fa)\n",
    "        fz = f(z)\n",
    "        # Garantia de f(z) != 0\n",
    "        if abs(z-((z*fb-b*fz)/(fb-fz))) == 0:\n",
    "            return z,[a],[b]\n",
    "        # Garantia de erro absoluto \n",
    "\n",
    "        if fa*fz < 0:\n",
    "            if abs(z-a)/2 < xtol:\n",
    "                z=(a+z)/2\n",
    "                return z,[a],[b]\n",
    "            s,l,r = dividir(a,z,fa,fz)\n",
    "        else:\n",
    "            if abs(z-b)/2 < xtol:\n",
    "                z=(b+z)/2\n",
    "                return z,[a],[b]\n",
    "            s,l,r = dividir(z,b,fz,fb)\n",
    "        return s, [a]+l,[b]+r\n",
    "    \n",
    "    s,l,r = dividir(a,b,fa,fb)\n",
    "    return s, np.array(l), np.array(r)"
   ]
  },
  {
   "cell_type": "code",
   "execution_count": 12,
   "metadata": {},
   "outputs": [
    {
     "data": {
      "text/plain": [
       "(array([2.        , 3.09152808, 3.09152808, 3.14159036, 3.14159036]),\n",
       " array([4.        , 4.        , 3.14787496, 3.14787496, 3.14159265]))"
      ]
     },
     "execution_count": 12,
     "metadata": {},
     "output_type": "execute_result"
    }
   ],
   "source": [
    "# Teste aqui se a sua função está funcionando.\n",
    "z,l,r = regula_falsi(np.sin,2,4)\n",
    "l,r"
   ]
  },
  {
   "cell_type": "markdown",
   "metadata": {},
   "source": [
    "As quatro caixas a segiur contém testes do seu método"
   ]
  },
  {
   "cell_type": "code",
   "execution_count": 13,
   "metadata": {
    "deletable": false,
    "editable": false,
    "nbgrader": {
     "cell_type": "code",
     "checksum": "abd9408650348d95fc0e492a47cdaeaa",
     "grade": true,
     "grade_id": "regfalsi_teste1",
     "locked": true,
     "points": 1,
     "schema_version": 3,
     "solution": false
    }
   },
   "outputs": [],
   "source": [
    "z,_,_ = regula_falsi(np.sin,2,4)\n",
    "assert( abs(z-np.pi) < 1e-8 )"
   ]
  },
  {
   "cell_type": "code",
   "execution_count": 14,
   "metadata": {
    "deletable": false,
    "editable": false,
    "nbgrader": {
     "cell_type": "code",
     "checksum": "e8730f48871a6c47efb7b8f88879ab81",
     "grade": true,
     "grade_id": "regfalsi_teste2",
     "locked": true,
     "points": 1,
     "schema_version": 3,
     "solution": false
    }
   },
   "outputs": [],
   "source": [
    "z,_,_ = regula_falsi(np.cos,0,4)\n",
    "assert( abs(z-np.pi/2) < 1e-8 )"
   ]
  },
  {
   "cell_type": "code",
   "execution_count": 15,
   "metadata": {
    "deletable": false,
    "editable": false,
    "nbgrader": {
     "cell_type": "code",
     "checksum": "1008c5783e716d94442107ff597c27ea",
     "grade": true,
     "grade_id": "regfalsi_teste3",
     "locked": true,
     "points": 2,
     "schema_version": 3,
     "solution": false
    }
   },
   "outputs": [],
   "source": [
    "# Esse teste é mais sério para a tolerância\n",
    "def f(x):\n",
    "    return 35*x**2 - x - 1\n",
    "z,_,_ = regula_falsi(f,0,2,xtol=1e-12)\n",
    "assert ( abs(z - (np.sqrt(141)+1)/70)  < 1e-12 )"
   ]
  },
  {
   "cell_type": "code",
   "execution_count": 16,
   "metadata": {
    "deletable": false,
    "editable": false,
    "nbgrader": {
     "cell_type": "code",
     "checksum": "514a9385f2d9892098e38129a12bc886",
     "grade": true,
     "grade_id": "regfalsi_teste4",
     "locked": true,
     "points": 2,
     "schema_version": 3,
     "solution": false
    }
   },
   "outputs": [],
   "source": [
    "# Esse teste é mais sério para $f(z) = 0$\n",
    "z,l,r = regula_falsi(np.cos,0,2,xtol=1e-16)\n",
    "assert (abs(z-np.pi/2) < 1e-16)"
   ]
  },
  {
   "cell_type": "markdown",
   "metadata": {},
   "source": [
    "### 8. Um gráfico\n",
    "\n",
    "A vantagem de retornar ambas extremidades do intervalo é que podemos fazer o gráfico do erro em função\n",
    "do número de chamadas à função pedindo apenas uma tolerância suficientemente pequena.\n",
    "\n",
    "\n",
    "Considere a função $f(x) = \\sin(x)$ no intervalo $[0,1]$.\n",
    "Faça o gráfico do tamanho do intervalo da _regula falsi_ em função do número de passos.\n",
    "Note que o tamanho do intervalo é uma estimativa do erro do método independente do valor real da raiz.\n",
    "Faça no mesmo eixo o gráfico do tamanho do intervalo da bisseção.\n",
    "\n",
    "Pense bem nas escalas que você vai escolher."
   ]
  },
  {
   "cell_type": "code",
   "execution_count": 17,
   "metadata": {
    "deletable": false,
    "nbgrader": {
     "cell_type": "code",
     "checksum": "284ff0b709dadb8b151480318dfd421f",
     "grade": true,
     "grade_id": "regfalsi_graph1",
     "locked": false,
     "points": 3,
     "schema_version": 3,
     "solution": true
    }
   },
   "outputs": [
    {
     "data": {
      "image/png": "[encoded data removed]",
      "text/plain": [
       "<Figure size 432x288 with 1 Axes>"
      ]
     },
     "metadata": {
      "needs_background": "light"
     },
     "output_type": "display_data"
    }
   ],
   "source": [
    "z,l,r = regula_falsi(np.sin,2,4)\n",
    "w,e,d = bissecao(np.sin,2,4)\n",
    "x1=np.arange(len(l))+1\n",
    "x2=np.arange(len(e))+1\n",
    "y1=r-l\n",
    "y2=d-e\n",
    "plt.semilogy(x1,y1,marker=\".\",label=\"Regula Falsi\")\n",
    "plt.semilogy(x2,y2,marker=\".\",label=\"Bisseção\")\n",
    "plt.xlabel(\"N° passos\")\n",
    "plt.ylabel(\"Tamanho do Intervalo\")\n",
    "plt.title('Encontrando uma raiz de $\\sin(x)$ em $[2,4]$')\n",
    "plt.legend()\n",
    "plt.grid();"
   ]
  },
  {
   "cell_type": "code",
   "execution_count": 18,
   "metadata": {},
   "outputs": [
    {
     "data": {
      "image/png": "[encoded data removed]",
      "text/plain": [
       "<Figure size 432x288 with 1 Axes>"
      ]
     },
     "metadata": {
      "needs_background": "light"
     },
     "output_type": "display_data"
    }
   ],
   "source": [
    "#teste1\n",
    "z,l,r = regula_falsi(np.sin,2,4)\n",
    "a,b,c = secante(np.sin,2,4)\n",
    "w,e,d = bissecao(np.sin,2,4)\n",
    "x1=np.arange(len(l))+1\n",
    "x2=np.arange(len(e))+1\n",
    "x3=np.arange(len(b))+1\n",
    "y1=r-l\n",
    "y2=d-e\n",
    "y3=c-b\n",
    "plt.semilogy(x1,y1,marker=\".\",label=\"Regula Falsi\")\n",
    "plt.semilogy(x2,y2,marker=\".\",label=\"Bisseção\")\n",
    "plt.semilogy(x3,y3,marker=\".\",label=\"Secante\")\n",
    "plt.xlabel(\"N° passos\")\n",
    "plt.ylabel(\"Tamanho do Intervalo\")\n",
    "plt.title('Encontrando uma raiz de $\\sin(x)$ em $[2,4]$')\n",
    "plt.legend()\n",
    "plt.grid();"
   ]
  },
  {
   "cell_type": "code",
   "execution_count": 19,
   "metadata": {},
   "outputs": [
    {
     "data": {
      "image/png": "[encoded data removed]",
      "text/plain": [
       "<Figure size 432x288 with 1 Axes>"
      ]
     },
     "metadata": {
      "needs_background": "light"
     },
     "output_type": "display_data"
    }
   ],
   "source": [
    "#teste2\n",
    "z,l,r = regula_falsi(np.sin,2,4)\n",
    "x1=np.arange(len(l))+1\n",
    "y1=r-l\n",
    "plt.semilogy(x1,y1,marker=\".\",label=\"Regula Falsi para sen(x)\")\n",
    "plt.xlabel(\"N° passos\")\n",
    "plt.ylabel(\"Tamanho do Intervalo\")\n",
    "plt.title('Encontrando uma raiz de $\\sin(x)$ em $[2,4]$')\n",
    "plt.legend()\n",
    "plt.grid();"
   ]
  },
  {
   "cell_type": "markdown",
   "metadata": {},
   "source": [
    "### 9. Uma outra função\n",
    "\n",
    "Agora, faça o gráfico para a função $g(x) = \\sin(x) - 0.5$ também no intervalo $[0,1]$.\n",
    "O que você vê de diferente?"
   ]
  },
  {
   "cell_type": "code",
   "execution_count": 20,
   "metadata": {
    "deletable": false,
    "nbgrader": {
     "cell_type": "code",
     "checksum": "c60e36c6d2d21447b03eca9319bb4e08",
     "grade": true,
     "grade_id": "regfalsi_graph2",
     "locked": false,
     "points": 3,
     "schema_version": 3,
     "solution": true
    }
   },
   "outputs": [
    {
     "data": {
      "image/png": "[encoded data removed]",
      "text/plain": [
       "<Figure size 432x288 with 1 Axes>"
      ]
     },
     "metadata": {
      "needs_background": "light"
     },
     "output_type": "display_data"
    }
   ],
   "source": [
    "def g(x):\n",
    "    return np.sin(x) - 0.5\n",
    "z,l,r = regula_falsi(g,2,4)\n",
    "a,b,c = bissecao(g,2,4)\n",
    "x1=np.arange(len(l))+1\n",
    "y1=r-l\n",
    "x2=np.arange(len(b))+1\n",
    "y2=c-b\n",
    "#Eixos\n",
    "plt.title('Uma raiz de $g(x)$')\n",
    "plt.xlabel(\"N° passos\")\n",
    "plt.ylabel(\"Tamanho do Intervalo\")\n",
    "#plot\n",
    "plt.semilogy(x1,y1,marker=\".\",label=\"Regula Falsi para g(x)\")\n",
    "plt.semilogy(x2,y2,marker=\".\",label=\"Bisseção para g(x)\")\n",
    "plt.legend()\n",
    "plt.grid();"
   ]
  },
  {
   "cell_type": "markdown",
   "metadata": {},
   "source": [
    "Explique o que aconteceu neste caso de diferente."
   ]
  },
  {
   "cell_type": "markdown",
   "metadata": {
    "deletable": false,
    "nbgrader": {
     "cell_type": "markdown",
     "checksum": "b0b618ae34ea789222fc30d411e97a63",
     "grade": true,
     "grade_id": "regfalsi_coments",
     "locked": false,
     "points": 3,
     "schema_version": 3,
     "solution": true
    }
   },
   "source": [
    "A diferença está no fato de que,neste caso, a Regula Falsi ficou presa e não conseguiu dividir o ao fazer as iterações mas mesmo assim conseguiu retornar um valor suficientemente próximo da respostas."
   ]
  },
  {
   "cell_type": "markdown",
   "metadata": {},
   "source": [
    "## Parte III: O método \"de Illinois\"\n",
    "\n",
    "Para evitar \"_ficar preso_\" de um lado da concavidade da função,\n",
    "uma das idéias mais antigas (diz-se inventada pelo grupo da Universidade de Illinois no início dos anos 50)\n",
    "é **dividir por dois** o valor de $f(a)$ (ou $f(b)$) quando a extremidade correspondente não mudar durante duas iterações consecutivas.\n",
    "Assim, o algoritmo passa a ser:\n",
    "\n",
    "- Calcule `(z,fz)` a partir de `(a,fa)` e `(b,fb)` como no método da secante,\n",
    "- Substitua o par `(x,fx)` que tem o mesmo sinal de `fx` por `(z,fz)` como no método da bisseção,\n",
    "- Se a extremidade restante - digamos `y` - já era uma extremidade na etapa anterior, substitua `(y,fy)` por `(y,fy/2)`."
   ]
  },
  {
   "cell_type": "markdown",
   "metadata": {},
   "source": [
    "### 10. Implemente esta modificação no código da `regula falsi`.\n",
    "Embora exista uma solução com um truque, o mais simples é adicionar um argumento a `dividir`\n",
    "para marcar qual ponto veio da iteração anterior."
   ]
  },
  {
   "cell_type": "code",
   "execution_count": 21,
   "metadata": {
    "deletable": false,
    "nbgrader": {
     "cell_type": "code",
     "checksum": "59cdcc4fad6c824a6afd8d72f8b5d2fd",
     "grade": false,
     "grade_id": "illinois",
     "locked": false,
     "schema_version": 3,
     "solution": true
    }
   },
   "outputs": [],
   "source": [
    "def illinois(f,a,b,xtol=1e-8):\n",
    "    # Validando a entrada:\n",
    "    fa = f(a)\n",
    "    fb = f(b)\n",
    "    assert(fa*fb < 0)\n",
    "    # Estrutura recursiva básica\n",
    "    def dividir(a,b,fa,fb,anterior=None):\n",
    "        z = (a*fb-b*fa)/(fb-fa)\n",
    "        # Garantia de f(z) != 0\n",
    "        if abs(z-((z*f(b)-b*f(z))/(f(b)-f(z)))) == 0:\n",
    "            return z,[a],[b]\n",
    "        # Garantia de erro absoluto \n",
    "        fz = f(z)\n",
    "        if fa*fz < 0:\n",
    "            if abs(z-a)/2 < xtol:\n",
    "                z=(a+z)/2\n",
    "                return z,[a],[b]\n",
    "            if a == anterior:\n",
    "                fa=fa/2\n",
    "            s,l,r = dividir(a,z,fa,fz,a)\n",
    "        else:\n",
    "            if abs(z-b)/2 < xtol:\n",
    "                z=(b+z)/2\n",
    "                return z,[a],[b]\n",
    "            if b == anterior:\n",
    "                fb=fb/2\n",
    "            s,l,r = dividir(z,b,fz,fb,b)\n",
    "        return s, [a]+l,[b]+r\n",
    "    \n",
    "    s,l,r = dividir(a,b,fa,fb)\n",
    "    return s, np.array(l), np.array(r)"
   ]
  },
  {
   "cell_type": "markdown",
   "metadata": {},
   "source": [
    "A seguir, quatro testes análogos ao da _regula falsi_, mas agora para o método de Illinois."
   ]
  },
  {
   "cell_type": "code",
   "execution_count": 22,
   "metadata": {
    "deletable": false,
    "editable": false,
    "nbgrader": {
     "cell_type": "code",
     "checksum": "32e199c8f1c7d846fdcb168fbf71be8f",
     "grade": true,
     "grade_id": "illinois_teste1",
     "locked": true,
     "points": 1,
     "schema_version": 3,
     "solution": false
    }
   },
   "outputs": [],
   "source": [
    "z,_,_ = illinois(np.sin,2,4)\n",
    "assert( abs(z-np.pi) < 1e-8 )"
   ]
  },
  {
   "cell_type": "code",
   "execution_count": 23,
   "metadata": {
    "deletable": false,
    "editable": false,
    "nbgrader": {
     "cell_type": "code",
     "checksum": "cca0ecb94dab7dc5db9cc68c65e6539b",
     "grade": true,
     "grade_id": "illinois_teste2",
     "locked": true,
     "points": 1,
     "schema_version": 3,
     "solution": false
    }
   },
   "outputs": [],
   "source": [
    "z,_,_ = illinois(np.cos,0,4)\n",
    "assert( abs(z-np.pi/2) < 1e-8 )"
   ]
  },
  {
   "cell_type": "code",
   "execution_count": 24,
   "metadata": {
    "deletable": false,
    "editable": false,
    "nbgrader": {
     "cell_type": "code",
     "checksum": "2373678314dd908f52bd5ff7e4322ce1",
     "grade": true,
     "grade_id": "illinois_teste3",
     "locked": true,
     "points": 2,
     "schema_version": 3,
     "solution": false
    }
   },
   "outputs": [],
   "source": [
    "# Esse teste é mais sério para a tolerância\n",
    "def f(x):\n",
    "    return 35*x**2 - x - 1\n",
    "z,_,_ = illinois(f,0,2,xtol=1e-12)\n",
    "assert ( abs(z - (np.sqrt(141)+1)/70)  < 1e-12 )"
   ]
  },
  {
   "cell_type": "code",
   "execution_count": 25,
   "metadata": {
    "deletable": false,
    "editable": false,
    "nbgrader": {
     "cell_type": "code",
     "checksum": "8dbd08ed5dbb60651cd877befcf9e4c0",
     "grade": true,
     "grade_id": "illinois_teste4",
     "locked": true,
     "points": 1,
     "schema_version": 3,
     "solution": false
    }
   },
   "outputs": [],
   "source": [
    "# Esse teste é mais sério para $f(z) = 0$\n",
    "z,l,r = illinois(np.cos,0,2,xtol=1e-16)\n",
    "assert (abs(z-np.pi/2) < 1e-16)"
   ]
  },
  {
   "cell_type": "markdown",
   "metadata": {},
   "source": [
    "### 11. Mais um gráfico\n",
    "\n",
    "Aproveite a função $g$ acima para ver que o método de Illinois não tem o mesmo problema que a _regula falsi_:\n",
    "faça em um mesmo eixo os gráficos do tamanho do intervalo para ambos os métodos. (Não precisa da bisseção)"
   ]
  },
  {
   "cell_type": "code",
   "execution_count": 26,
   "metadata": {
    "deletable": false,
    "nbgrader": {
     "cell_type": "code",
     "checksum": "b2a30a4df76322c89bc311f33b5e78dd",
     "grade": true,
     "grade_id": "regfalsi_vs_illinois",
     "locked": false,
     "points": 3,
     "schema_version": 3,
     "solution": true
    }
   },
   "outputs": [
    {
     "data": {
      "image/png": "[encoded data removed]",
      "text/plain": [
       "<Figure size 432x288 with 1 Axes>"
      ]
     },
     "metadata": {
      "needs_background": "light"
     },
     "output_type": "display_data"
    }
   ],
   "source": [
    "def g(x): return np.sin(x) - .5\n",
    "z,l,r = regula_falsi(g,2,4)\n",
    "w,e,d = illinois(g,2,4)\n",
    "x1=np.arange(len(l))+1\n",
    "x2=np.arange(len(e))+1\n",
    "y1=r-l\n",
    "y2=d-e\n",
    "plt.semilogy(x1,y1,marker=\".\",label=\"Regula Falsi\")\n",
    "plt.semilogy(x2,y2,marker=\".\",label=\"Illinois\")\n",
    "plt.xlabel(\"N° passos\")\n",
    "plt.ylabel(\"Tamanho do Intervalo\")\n",
    "plt.title('Comparando dois métodos para $\\sin(x) - 0.5$')\n",
    "plt.legend()\n",
    "plt.grid()"
   ]
  },
  {
   "cell_type": "markdown",
   "metadata": {},
   "source": [
    "## Parte IV: Análise do método de Illinois\n",
    "\n",
    "Esta parte final faz a análise numérica do método de Illinois,\n",
    "para demonstrar a sua eficiência."
   ]
  },
  {
   "cell_type": "markdown",
   "metadata": {},
   "source": [
    "### 12. Entendendo as iterações do método de Illinois\n",
    "\n",
    "Suponha que $f(x) = Cx^2 + Dx$ com ambos $C$ e $D$ positivos.\n",
    "Suponha também que o método de Illinois está no intervalo $[a,b]$, com $a < 0 < b$ e $f(a) < 0 < f(b)$.\n",
    "\n",
    "- Mostre que $z < 0$.\n",
    "- Mostre que isso implica que somente a extremidade superior pode ficar parada.\n",
    "\n",
    "Observação: Se quiser, escreva $a = -x$ para acertar os sinais."
   ]
  },
  {
   "cell_type": "markdown",
   "metadata": {
    "deletable": false,
    "nbgrader": {
     "cell_type": "markdown",
     "checksum": "a33883c068caa539662a995ca1e0440b",
     "grade": true,
     "grade_id": "illinois_fix",
     "locked": false,
     "points": 3,
     "schema_version": 3,
     "solution": true
    }
   },
   "source": [
    "Parte 1:\n",
    "\n",
    "$z = \\frac{a.f(b) - b.f(a)}{f(b) - f(a)}$\n",
    "\n",
    "Substituindo $f(b)$ e $f(a)$ no numerador.\n",
    "\n",
    "$z = \\frac{a.(C.b^{2} + D.b) - b.(C.a^{2} + D.a)}{f(b) - f(a)}$\n",
    "\n",
    "$z = \\frac{C.a.b^{2} + D.a.b - C.a^{2}.b + D.a.b}{f(b) - f(a)}$\n",
    "\n",
    "$z = \\frac{C.a.b^{2} - C.a^{2}.b}{f(b) - f(a)}$\n",
    "\n",
    "$z = \\frac{C.a.b.(b-a)}{f(b) - f(a)}$\n",
    "\n",
    "\n",
    "Veremos o sinal do numerador e do denominador, seguindo as informações dadas sobre os sinais no enunciado.\n",
    "\n",
    "$C.a.b < 0$\n",
    "\n",
    "$(b-a) > 0$\n",
    "\n",
    "Então o númerador é negativo.\n",
    "\n",
    "O denominador, \n",
    "\n",
    "$f(b) - f(a)>0$\n",
    "\n",
    "Logo, $z < 0$ "
   ]
  },
  {
   "cell_type": "markdown",
   "metadata": {},
   "source": [
    "Parte 2:\n",
    "\n",
    "Primeiro vamos calcular os zeros da função. \n",
    "\n",
    "$Cx^{2} + Dx = 0$\n",
    "\n",
    "$x.(Cx + D) = 0$\n",
    "\n",
    "$x{1} = 0$\n",
    "\n",
    "$Cx{2} + D = 0$\n",
    "\n",
    "$x_{2} = - \\frac{D}{C}$\n",
    "\n",
    "Como $C$ é posivito, a concavidade é para cima, e todos os números entre os zeros da função representam os pontos onde a função é negativa. Assim, sabendo que $f(a)<0$, concluimos que $-\\frac{D}{C} < a < 0$. \n",
    "\n",
    "Outra informação que já provamos é que $z<0$, então, como $z$ pertence ao intervalo $[a,b]$, sabemos que $a < z < 0$. Logo, $z$ também está entre os zeros da função, então $f(z) < 0$. \n",
    "\n",
    "Relembrando os passos do algoritmo, devemos substituir $z$ por $a$ ou $b$, conforme qual desses tem a função com mesmo sinal. Como $f(a)$ e $f(z)<0$, substituiremos, para próxima iterção, o intervalo $[z,b]$. Portanto, $b$, a extremidade superior, continuará parada."
   ]
  },
  {
   "cell_type": "markdown",
   "metadata": {},
   "source": [
    "### 13. O passo modificado de Illinois\n",
    "\n",
    "Vamos mostrar que o \"passo modificado\" implica em alterar a extremidade superior do intervalo.\n",
    "Para simplificar um pouco as contas,\n",
    "daqui em diante, suponha que $C = D = 1$, e $-1/3 < a < 0 < b < 1/3$.\n",
    "\n",
    "Mostre os três fatos a seguir:\n",
    "\n",
    "1. Nessas condições, $\\lvert z\\rvert < \\lvert ab \\rvert$.\n",
    "\n",
    "2. O ponto $(b, f(b)/2)$ está abaixo da reta tangente a $f$ no ponto $(z, f(z))$. (Não substitua o valor de $z$: basta usar a estimativa acima e que $0 < b < 1/3$)\n",
    "\n",
    "3. Enfim, conclua que a interseção da reta ligando $(z, f(z))$ e $(b, f(b)/2)$ com o eixo $X$ é positiva."
   ]
  },
  {
   "cell_type": "markdown",
   "metadata": {
    "deletable": false,
    "nbgrader": {
     "cell_type": "markdown",
     "checksum": "36e3bd896971fe022cc5b1fc198997f4",
     "grade": true,
     "grade_id": "illinois_tangent",
     "locked": false,
     "points": 4,
     "schema_version": 3,
     "solution": true
    }
   },
   "source": [
    "Parte 1. \n",
    "Considerando que:\n",
    "\n",
    "$|a| < |b|$\n",
    "\n",
    "Vamos as contas.\n",
    "\n",
    "$z = \\frac{a.f(b) - b.f(a)}{f(b) - f(a)}$\n",
    "\n",
    "Transformando a função f,\n",
    "\n",
    "$z = \\frac{a.b^{2} + a.b - a^{2}b - ab}{b^{2} + b - a^{2} - a}$\n",
    "\n",
    "$z = \\frac{a.b(b-a)}{(b^{2} - a^{2}) + (b-a)}$\n",
    "\n",
    "$z = \\frac{a.b(b-a)}{(b-a).( b + a + 1)}$\n",
    "\n",
    "$z = a.b.\\frac{1}{b+a+1}$ \n",
    "\n",
    "$z = a.b.\\frac{1}{b+a+1}$\n",
    "\n",
    "Como $|a|<|b|$,\n",
    "\n",
    "$b + a > 0$\n",
    "\n",
    "Então,\n",
    "\n",
    "$b + a + 1 > 1$ \n",
    "\n",
    "$\\frac{1}{b+a+1} < 1$\n",
    "\n",
    "$z = a.b.\\frac{1}{b+a+1}$\n",
    "\n",
    "Logo,\n",
    "\n",
    "$|z| < |a.b|$"
   ]
  },
  {
   "cell_type": "markdown",
   "metadata": {},
   "source": [
    "Parte 2\n",
    "\n",
    "Tangente ao ponto $(z,f(z))$ é $f'(z)$\n",
    "\n",
    "\n",
    "$f'(z) = 2z + 1$ \n",
    "\n",
    "Agora basta provar que $\\frac{fb}{2} < z + 1$ \n",
    "\n",
    "Para isso, vamos analisar valores possíveis para $b$ e $f(b)$ segundo o enunciado\n",
    "\n",
    "$b < 1/3$\n",
    "\n",
    "$f(b) < 4/9$\n",
    "\n",
    "$\\frac{fb}{2} < 2/9$\n",
    "\n",
    "Então nosso objetivo é provar que\n",
    "$\\frac{2}{9} < 2z + 1$ \n",
    "\n",
    "Para isso vamos avaliar os valores possíveis para $z$, logo, valores possíveis para $2z + 1$. Começando com o fato provado anteriormente que $z<0$. Segundo notar que o método de Illinois garante uma raiz dentro do intervalo. Dito isso, $a < z < b$. Então, com tudo que temos, podemos concluir que:\n",
    "\n",
    "$-\\frac{1}{3} < a < z < 0 $\n",
    "\n",
    "$-\\frac{1}{3} < z < 0$\n",
    "\n",
    "Então, \n",
    "\n",
    "$2.\\left(-\\frac{1}{3}\\right) + 1 < 2z + 1 < 1$\n",
    "\n",
    "$\\frac{1}{3} < 2z + 1 < 0$\n",
    "\n",
    "Substituindo o mínimo possível, a fim de provar que $\\frac{f(b)}{2} < 2z+1$\n",
    "\n",
    "$\\frac{2}{9} < \\frac{1}{3}$\n",
    "\n",
    "O que é verdade, como queríamos demonstrar."
   ]
  },
  {
   "cell_type": "markdown",
   "metadata": {},
   "source": [
    "Parte 3\n",
    "\n",
    "Trata-se de fazer o próximo passo do Algoritmo de Illinois. Porém com $a = z$ e $f(b) = \\frac{f(b)}{2}$\n",
    "\n",
    "$z{1} = \\frac{z.\\frac{fb}{2} - b.f(z)}{\\frac{f(b)} - f(z)}$\n",
    "\n",
    "z = b²z/2 + bz/2  - b.z² - bz  /  fb - fz\n",
    "\n",
    "$z{1} = \\frac{\\frac{b^{2}z + bz}{2} - b.z^{2} - bz}{f(b) - f(z)}$\n",
    "\n",
    "z' = b²z -2bz² - bz/2\n",
    "\n",
    "$z{1} = \\frac{\\frac{b^{2}z - 2bz^{2} - bz}{2}}{f(b)-f(z)}$\n",
    "\n",
    "z' = bz.(b -2z - 1) / (b² - 2z²) + (b - 2z)\n",
    "\n",
    "$z{1} = \\frac{\\frac{bz(b-2z-1}{2}}{b^{2} + b - 2z^{2} - 2z}$\n",
    "\n",
    "Agora analisar o sinal, tanto do numerador quanto do denominador, para os valores extremos de $b$ e $z$\n",
    "\n",
    "Primeiro, como já provado, $|z| < |a.b|$\n",
    "\n",
    "$|z| < \\frac{1}{9}$\n",
    "\n",
    "Como z é negativo,\n",
    "\n",
    "$-\\frac{1}{9} < z < 0$\n",
    "\n",
    "Voltando as as contas, veremos o númerador.\n",
    "\n",
    "$b > 0$, $z < 0$ $\\implies bz<0$\n",
    "\n",
    "$(b - 2z - 1)$\n",
    "\n",
    "$(b +2.|z| - 1) < \\frac{1}{3} + \\frac{2}{9} - 1 < -\\frac{4}{9}$\n",
    "\n",
    "Logo, como é negativo, o númerador é um produto de números negativos, assim, um número positivo.\n",
    "\n",
    "Já o denominador é menor do que \n",
    "\n",
    "$\\frac{1}{9} + \\frac{1}{3} - \\frac{2}{81} - \\frac{2}{9}$\n",
    "\n",
    "$\\frac{9 + 27 - 2 - 18}{81} > 0$\n",
    "\n",
    "Logo, o denominador também é positivo. Assim, $z_{1}$ é o quociente de dois números positivos, que é positivo."
   ]
  },
  {
   "cell_type": "markdown",
   "metadata": {},
   "source": [
    "### 14. O \"período\" do método de Illinois\n",
    "\n",
    "Com isso, é possível concluir que o método de Illinois, quando suficientemente perto das raízes,\n",
    "tem o seguinte comportamento:\n",
    "\n",
    "1. Uma iteração produz um $z < 0$ de módulo menor do que $b$;\n",
    "2. A iteração seguinte produz outro $z < 0$, e portanto também abaixa o valor de `fb`;\n",
    "3. A terceira iteração produz um valor $z > 0$, e daí em diante esse ciclo se repete."
   ]
  },
  {
   "cell_type": "markdown",
   "metadata": {
    "deletable": false,
    "nbgrader": {
     "cell_type": "markdown",
     "checksum": "d9f7df403011800bc63b9c20c024c340",
     "grade": true,
     "grade_id": "illinois_period",
     "locked": false,
     "points": 3,
     "schema_version": 3,
     "solution": true
    }
   },
   "source": [
    " "
   ]
  },
  {
   "cell_type": "markdown",
   "metadata": {},
   "source": [
    "### 15. Primeira estimativa de velocidade\n",
    "\n",
    "Agora, se $b$ e $a$ são pequenos, mostre que $z \\sim ab$.\n",
    "Este comportamento \"quadrático\" é o que torna o método da secante rápido."
   ]
  },
  {
   "cell_type": "markdown",
   "metadata": {
    "deletable": false,
    "nbgrader": {
     "cell_type": "markdown",
     "checksum": "c3fcebfb6a098569a53708bafc247927",
     "grade": true,
     "grade_id": "illinois_step",
     "locked": false,
     "points": 2,
     "schema_version": 3,
     "solution": true
    }
   },
   "source": [
    "Vamos as contas,\n",
    "\n",
    "$z = \\frac{a.b^{2} + a.b - a^{2}b - ab}{b^{2} + b - a^{2} - a}$\n",
    "\n",
    "$z = \\frac{a.b(b-a)}{(b^{2} - a^{2}) + (b-a)}$\n",
    "\n",
    "$z = \\frac{a.b(b-a)}{(b-a).( b + a + 1)}$\n",
    "\n",
    "$z = a.b.\\frac{1}{b+a+1}$ \n",
    "\n",
    "$z = a.b.\\frac{1}{b+a+1}$\n",
    "\n",
    "Quando a e b são pequenos, \n",
    "\n",
    "$a + b + 1 \\approx 1$\n",
    "\n",
    "Então,\n",
    "\n",
    "$z \\approx \\frac{a.b}{1}$\n",
    "\n",
    "$z \\approx a.b$\n"
   ]
  },
  {
   "cell_type": "markdown",
   "metadata": {},
   "source": [
    "Também é possível mostrar que, após efetuarmos um \"passo modificado\",\n",
    "a iteração seguinte gera uma nova extremidade superior de módulo aproximadamente igual ao da extremidade inferior.\n",
    "Assim, temos que em três passos saímos do intervalo $[a,b]$ para aproximadamente $[-a^2 b, a^2b]$.\n",
    "\n",
    "Portanto, se começarmos de um intervalo $[-x,x]$, em três passos estaremos aproximadamente no intervalo $[-x^3,x^3]$."
   ]
  },
  {
   "cell_type": "markdown",
   "metadata": {},
   "source": [
    "### 16. Estimando a velocidade de convergência\n",
    "\n",
    "- Suponha que no $n$-ésimo passo estamos no intervalo $[-x_n, x_n]$. Tome logaritmos, e deduza uma relação de recorrência aproximada entre $x_n$ e $x_{n+3}$.\n",
    "- Se começamos em $[-x_0, x_0]$, qual é o tamanho (aproximado) do intervalo que atingimos em $3n$ passos?\n",
    "- Conclua que o método de Illinois é super-linear."
   ]
  },
  {
   "cell_type": "markdown",
   "metadata": {},
   "source": [
    "Parte 1\n",
    "\n",
    "$$[-x_{n}, x_{n}]$$\n",
    "\n",
    "$${x_{n+1}} = \\frac{-x_{n} f(x_{n}) - x_{n} f(-x_{n})}{f(x_{n})- f(-x_{n})}$$\n",
    "\n",
    "Em 3 passos:\n",
    "\n",
    "$$[-{x_{n}}^{3}, {x_{n}}^{3}]$$\n",
    "\n",
    "\n",
    "$$x_{n+3} = \\frac{- {x_{n}}^{3} f({x_{n}}^{3})-{x_{n}}^{3} f({x_{n}}^{3})}{f({x_{n}}^{3}) - f(-{x_{n}^{3})}}$$"
   ]
  },
  {
   "cell_type": "markdown",
   "metadata": {
    "deletable": false,
    "nbgrader": {
     "cell_type": "markdown",
     "checksum": "9fffb25b4625575e3d66fe0d967cc790",
     "grade": true,
     "grade_id": "illinois_speed",
     "locked": false,
     "points": 4,
     "schema_version": 3,
     "solution": true
    }
   },
   "source": [
    "$$[-x^{3n}, x^{3n}]$$\n",
    "\n",
    "Tamanho do intervalo $\\approx 2x^{3n}$"
   ]
  }
 ],
 "metadata": {
  "@webio": {
   "lastCommId": null,
   "lastKernelId": null
  },
  "hide_input": false,
  "kernelspec": {
   "display_name": "Python 3",
   "language": "python",
   "name": "python3"
  },
  "language_info": {
   "codemirror_mode": {
    "name": "ipython",
    "version": 3
   },
   "file_extension": ".py",
   "mimetype": "text/x-python",
   "name": "python",
   "nbconvert_exporter": "python",
   "pygments_lexer": "ipython3",
   "version": "3.8.3"
  }
 },
 "nbformat": 4,
 "nbformat_minor": 1
}
