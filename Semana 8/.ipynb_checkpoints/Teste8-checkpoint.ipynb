{
 "cells": [
  {
   "cell_type": "markdown",
   "metadata": {},
   "source": [
    "![CC-BY-SA](https://mirrors.creativecommons.org/presskit/buttons/88x31/svg/by-sa.svg)\n",
    "\n",
    "\n",
    "This notebook was created by [Bernardo Freitas Paulo da Costa](http://www.im.ufrj.br/bernardofpc),\n",
    "and Pedro Angelo Medeiros Fonini\n",
    "and is licensed under Creative Commons BY-SA."
   ]
  },
  {
   "cell_type": "markdown",
   "metadata": {},
   "source": [
    "Antes de enviar este Teste, verifique que tudo está funcionando como esperado.\n",
    "Por exemplo, **rode o código inteiro, do zero**.\n",
    "Para isso, vá no menu, escolha _Kernel_, depois _Restart & Run All_.\n",
    "\n",
    "Verifique, também, que você respondeu todas as questões:\n",
    "* as questões de código têm `YOUR CODE HERE` (e você pode apagar o `raise NotImplemented` ao incluir sua resposta)\n",
    "* as questões discursivas têm \"YOUR ANSWER HERE\"."
   ]
  },
  {
   "cell_type": "markdown",
   "metadata": {},
   "source": [
    "---"
   ]
  },
  {
   "cell_type": "code",
   "execution_count": 1,
   "metadata": {
    "deletable": false,
    "editable": false,
    "nbgrader": {
     "cell_type": "code",
     "checksum": "780b7cadd87bedda8bd99092917b2de0",
     "grade": false,
     "grade_id": "cell-64b5ea24d8da863f",
     "locked": true,
     "schema_version": 3,
     "solution": false,
     "task": false
    }
   },
   "outputs": [],
   "source": [
    "import numpy as np\n",
    "import matplotlib.pyplot as plt"
   ]
  },
  {
   "cell_type": "code",
   "execution_count": 2,
   "metadata": {
    "deletable": false,
    "editable": false,
    "nbgrader": {
     "cell_type": "code",
     "checksum": "4b678da33e7f2ed51af950c65482bd98",
     "grade": false,
     "grade_id": "cell-15868058ce737faf",
     "locked": true,
     "schema_version": 3,
     "solution": false,
     "task": false
    }
   },
   "outputs": [],
   "source": [
    "# Para fazer todas as combinações de tamanho fixo de uma lista\n",
    "from itertools import combinations"
   ]
  },
  {
   "cell_type": "markdown",
   "metadata": {
    "deletable": false,
    "editable": false,
    "nbgrader": {
     "cell_type": "markdown",
     "checksum": "431c18423c6cfc1cc9239b3c3ca91d93",
     "grade": false,
     "grade_id": "cell-0231db64f5ff2aaf",
     "locked": true,
     "schema_version": 3,
     "solution": false,
     "task": false
    }
   },
   "source": [
    "# Encontrando regressores\n",
    "\n",
    "Neste teste, vamos \"encontrar agulhas num palheiro\":\n",
    "dados os pontos $(x_i, w_i)$, e um conjunto de funções $\\phi_j$,\n",
    "queremos encontrar os coeficientes $a_j$ para a regressão\n",
    "\n",
    "$$ w_i \\sim \\sum_{j=1}^J a_j \\phi_j(x_i). $$\n",
    "\n",
    "A diferença é que o conjunto $\\{\\phi_j\\}$ tem muitas funções,\n",
    "e daí usar diretamente uma regressão não seria satisfatório."
   ]
  },
  {
   "cell_type": "markdown",
   "metadata": {},
   "source": [
    "### Escreva uma função que faz regressão linear no formato do modelo acima"
   ]
  },
  {
   "cell_type": "code",
   "execution_count": 3,
   "metadata": {
    "deletable": false,
    "nbgrader": {
     "cell_type": "code",
     "checksum": "85f44d8b632f7af231125842a695c1b1",
     "grade": false,
     "grade_id": "cell-3ba774c6adc1ce45",
     "locked": false,
     "schema_version": 3,
     "solution": true,
     "task": false
    }
   },
   "outputs": [],
   "source": [
    "def regress(xs, ws, phis):\n",
    "    \"\"\"Regressão linear dos pontos  (xs,ys)  para a base de funções dada pela lista  phis.\"\"\"\n",
    "    matriz = phis[0](xs)\n",
    "    for k in range(1,len(phis)):\n",
    "        matriz = np.column_stack((matriz,phis[k](xs)))\n",
    "    coefs,*_ = np.linalg.lstsq(matriz,ws,rcond=None)\n",
    "    return coefs\n",
    "    \n",
    "def regress_with_error(xs, ws, phis):\n",
    "    \"\"\"Regressão linear dos pontos  (xs,ys)  para a base de funções dada pela lista  phis,\n",
    "    retornando os coeficientes e o erro da regressão.\"\"\"\n",
    "    matriz = phis[0](xs)\n",
    "    for k in range(1,len(phis)):\n",
    "        matriz = np.column_stack((matriz,phis[k](xs)))\n",
    "    coefs,resi,_,_ = np.linalg.lstsq(matriz,ws,rcond=None)\n",
    "    return coefs,resi"
   ]
  },
  {
   "cell_type": "markdown",
   "metadata": {
    "deletable": false,
    "editable": false,
    "nbgrader": {
     "cell_type": "markdown",
     "checksum": "bca2978f82565125c9e1cc3acf2f4d5b",
     "grade": false,
     "grade_id": "cell-b56fc91b4975d7aa",
     "locked": true,
     "schema_version": 3,
     "solution": false,
     "task": false
    }
   },
   "source": [
    "## Dados"
   ]
  },
  {
   "cell_type": "code",
   "execution_count": 4,
   "metadata": {
    "deletable": false,
    "editable": false,
    "nbgrader": {
     "cell_type": "code",
     "checksum": "8ba68746c7b3dc10f7fe1d48adcb217b",
     "grade": false,
     "grade_id": "cell-526d8d098cd43807",
     "locked": true,
     "schema_version": 3,
     "solution": false,
     "task": false
    }
   },
   "outputs": [],
   "source": [
    "xs = np.linspace(-1,4, num=31)\n",
    "ws = [ 2.3878312997930564, 1.155719237816545,    0.8304521376105308,  0.214854643069387,   0.6728092133806185,\n",
    "      -0.6280275654328286, 1.377924705686592,    1.1167241027129722,  2.344350908627618,   2.561444862667869,\n",
    "       3.043330261390043,  0.7760803883397547,   0.2665848037665528, -0.8241488666459598, -0.7210502793271428,\n",
    "      -1.390249808068572, -0.20641373647700376,  0.5808680348262225,  1.944189557940707,   2.9016628727766918,\n",
    "       2.70801610206377,   3.890210372418954,    3.889547340008677,   3.533625237717624,   3.053154568048924,\n",
    "       1.2893557188865823, 0.07298255483249554, -1.6033295792649078, -2.130291144426305,  -1.7387666939149622,\n",
    "      -1.3048246939322563\n",
    "     ]"
   ]
  },
  {
   "cell_type": "markdown",
   "metadata": {
    "deletable": false,
    "editable": false,
    "nbgrader": {
     "cell_type": "markdown",
     "checksum": "60a94fbcd17a9a0361c8492f18e8d8d9",
     "grade": false,
     "grade_id": "cell-c751a83504995996",
     "locked": true,
     "schema_version": 3,
     "solution": false,
     "task": false
    }
   },
   "source": [
    "## Uma base de funções trigonométricas\n",
    "\n",
    "Vamos tentar ajustar um modelo com senos e cossenos para os dados $(x_i, w_i)$"
   ]
  },
  {
   "cell_type": "code",
   "execution_count": 5,
   "metadata": {
    "deletable": false,
    "editable": false,
    "nbgrader": {
     "cell_type": "code",
     "checksum": "4d4e975ee4ac1e30dd11f843d0357ff3",
     "grade": false,
     "grade_id": "cell-d31a98f567c4ef44",
     "locked": true,
     "schema_version": 3,
     "solution": false,
     "task": false
    }
   },
   "outputs": [],
   "source": [
    "trigs = [lambda x, k=k: np.sin(k*x) for k in range(1,8)] + [lambda x, k=k: np.cos(k*x) for k in range(8)]"
   ]
  },
  {
   "cell_type": "markdown",
   "metadata": {
    "deletable": false,
    "editable": false,
    "nbgrader": {
     "cell_type": "markdown",
     "checksum": "639b8a10acdeac8c8174dccfef26a90c",
     "grade": false,
     "grade_id": "cell-fcb5dfedcabe9f61",
     "locked": true,
     "schema_version": 3,
     "solution": false,
     "task": false
    }
   },
   "source": [
    "## Questão 1: Regressão com todas as funções da base\n",
    "\n",
    "Suponha que você pode usar todas as funções da base `trigs`.\n",
    "Calcule os coeficientes da regressão correspondentes aos dados `xs, ws`."
   ]
  },
  {
   "cell_type": "code",
   "execution_count": 6,
   "metadata": {
    "deletable": false,
    "editable": false,
    "nbgrader": {
     "cell_type": "code",
     "checksum": "14d4ffed7affb66deb644eab9664694e",
     "grade": true,
     "grade_id": "cell-4f7e9883378a5617",
     "locked": true,
     "points": 1,
     "schema_version": 3,
     "solution": false,
     "task": false
    }
   },
   "outputs": [],
   "source": [
    "coefs = regress(xs, ws, trigs)\n",
    "assert len(coefs) == len(trigs)"
   ]
  },
  {
   "cell_type": "markdown",
   "metadata": {
    "deletable": false,
    "editable": false,
    "nbgrader": {
     "cell_type": "markdown",
     "checksum": "45225450a07cd53ea1ff10b4c1e63437",
     "grade": false,
     "grade_id": "cell-5b8971e77ec1ecc0",
     "locked": true,
     "schema_version": 3,
     "solution": false,
     "task": false
    }
   },
   "source": [
    "Agora, faça um gráfico dos coeficientes, do maior para o menor (em valor absoluto)."
   ]
  },
  {
   "cell_type": "code",
   "execution_count": 7,
   "metadata": {},
   "outputs": [],
   "source": [
    "#Definindo funções Úteis\n",
    "def find_indices(lista,N):\n",
    "    sorteada = np.sort(lista)[0:N]\n",
    "    indices = [lista.tolist().index(k) for k in sorteada[0:N]]\n",
    "    return sorteada,indices\n",
    "def find_bases(indices):\n",
    "    \"\"\"Retorna as  N bases de phi em ordem crescente\"\"\"\n",
    "    bases=[]\n",
    "    for k in indices:\n",
    "        if type(k) == int:\n",
    "            if k <= 6:\n",
    "                bases.append(f\"Sin({k+1}x)\")\n",
    "            else:\n",
    "                bases.append(f\"Cos({k-7}x)\")\n",
    "        else:\n",
    "            j=[]\n",
    "            for i in k:\n",
    "                if i <= 6:\n",
    "                    j.append(f\"Sin({i+1})\")\n",
    "                else:\n",
    "                    j.append(f\"Cos({i-7})\")\n",
    "            bases.append(j)\n",
    "    return bases"
   ]
  },
  {
   "cell_type": "code",
   "execution_count": 8,
   "metadata": {
    "deletable": false,
    "nbgrader": {
     "cell_type": "code",
     "checksum": "b963b851a2adc1b5834ba124d9b1eabd",
     "grade": true,
     "grade_id": "cell-79a959213f629afd",
     "locked": false,
     "points": 2,
     "schema_version": 3,
     "solution": true,
     "task": false
    },
    "scrolled": true
   },
   "outputs": [
    {
     "data": {
      "image/png": "[encoded data removed]",
      "text/plain": [
       "<Figure size 1080x360 with 1 Axes>"
      ]
     },
     "metadata": {
      "needs_background": "light"
     },
     "output_type": "display_data"
    }
   ],
   "source": [
    "#Dados\n",
    "coef = np.abs(regress(xs, ws, trigs))\n",
    "y1 , indices1 = find_indices(coef,len(coef))\n",
    "x1 = find_bases(indices1)\n",
    "#plot\n",
    "plt.figure(figsize=(15,5))\n",
    "plt.plot(np.arange(len(y1)),y1,marker=\".\")\n",
    "#Eixos\n",
    "plt.xlabel(\"Bases $\\phi_j$\")\n",
    "plt.ylabel(\"|Coeficientes $a_j$|\")\n",
    "plt.xticks(np.arange(len(y1)),x1)\n",
    "plt.title(\"Módulo dos Coeficientes das Bases de $\\phi_j$\")\n",
    "plt.grid();\n",
    "ax = plt.gca()\n",
    "ax.invert_xaxis()"
   ]
  },
  {
   "cell_type": "markdown",
   "metadata": {
    "deletable": false,
    "editable": false,
    "nbgrader": {
     "cell_type": "markdown",
     "checksum": "ed9ff1f1277eb98592d7f5e47270a59c",
     "grade": false,
     "grade_id": "cell-490329887bd86cb5",
     "locked": true,
     "schema_version": 3,
     "solution": false,
     "task": false
    }
   },
   "source": [
    "Quais são as funções com maior peso para explicar os dados `xs, ws`?\n",
    "\n",
    "(Se preciso, rode código na primeira caixa, e depois explique / complete em texto a seguir)"
   ]
  },
  {
   "cell_type": "code",
   "execution_count": 9,
   "metadata": {
    "deletable": false,
    "nbgrader": {
     "cell_type": "code",
     "checksum": "5252b3a980c7bcef83104a57b88a108e",
     "grade": true,
     "grade_id": "cell-c2992e00eef38995",
     "locked": false,
     "points": 1,
     "schema_version": 3,
     "solution": true,
     "task": false
    },
    "scrolled": false
   },
   "outputs": [
    {
     "name": "stdout",
     "output_type": "stream",
     "text": [
      "As Funções com peso mais significativo são:('Sin(3x)', 'Cos(0x)', 'Sin(2x)')\n"
     ]
    }
   ],
   "source": [
    "print(f'As Funções com peso mais significativo são:{x1[::-1][0],x1[::-1][1],x1[::-1][2]}')"
   ]
  },
  {
   "cell_type": "markdown",
   "metadata": {
    "deletable": false,
    "nbgrader": {
     "cell_type": "markdown",
     "checksum": "f1243ba0530c7682500cf3626762c823",
     "grade": true,
     "grade_id": "cell-bf4cbae1dc3e2d1a",
     "locked": false,
     "points": 1,
     "schema_version": 3,
     "solution": true,
     "task": false
    }
   },
   "source": []
  },
  {
   "cell_type": "markdown",
   "metadata": {
    "deletable": false,
    "editable": false,
    "nbgrader": {
     "cell_type": "markdown",
     "checksum": "67f985d9e4cb1d5c2708b7cfabaec6e4",
     "grade": false,
     "grade_id": "cell-73f78511065039a8",
     "locked": true,
     "schema_version": 3,
     "solution": false,
     "task": false
    }
   },
   "source": [
    "### Regressão nos 3 maiores\n",
    "\n",
    "Agora, use as três funções da base que possuem os maiores coeficientes,\n",
    "\n",
    "e calcule os coeficientes da regressão apenas nesse sub-espaço de dimensão 3."
   ]
  },
  {
   "cell_type": "code",
   "execution_count": 10,
   "metadata": {
    "deletable": false,
    "nbgrader": {
     "cell_type": "code",
     "checksum": "542d3ccd543f88c674eb522e063cb7dc",
     "grade": true,
     "grade_id": "cell-c048dc47f909991d",
     "locked": false,
     "points": 2,
     "schema_version": 3,
     "solution": true,
     "task": false
    }
   },
   "outputs": [
    {
     "name": "stdout",
     "output_type": "stream",
     "text": [
      "Coeficientes = [ 2.03341432  1.19848924 -1.18054086]  Norma² do vetor resíduo = [7.09976465]\n"
     ]
    }
   ],
   "source": [
    "# Dê sua resposta, por exemplo, como coefs_3 = ...\n",
    "trigs_3=[lambda x: np.sin(3*x)] + [lambda x: np.cos(0*x)] + [lambda x: np.sin(2*x)]\n",
    "coefs_3,errs_3=regress_with_error(xs,ws,trigs_3)\n",
    "print(f'Coeficientes = {coefs_3}',f' Norma² do vetor resíduo = {errs_3}')"
   ]
  },
  {
   "cell_type": "markdown",
   "metadata": {
    "deletable": false,
    "editable": false,
    "nbgrader": {
     "cell_type": "markdown",
     "checksum": "afc782128875633abf31174bd1709326",
     "grade": false,
     "grade_id": "cell-67f6cdf7b7a4b054",
     "locked": true,
     "schema_version": 3,
     "solution": false,
     "task": false
    }
   },
   "source": [
    "Quão diferentes são estes coeficientes dos que você achou usando todas as funções?\n",
    "\n",
    "(Novamente, faça contas, e depois comente)"
   ]
  },
  {
   "cell_type": "code",
   "execution_count": 11,
   "metadata": {
    "deletable": false,
    "nbgrader": {
     "cell_type": "code",
     "checksum": "8c46d2d261e6303ecb6f9f6e7d031167",
     "grade": true,
     "grade_id": "cell-1a5ef6c82c99979f",
     "locked": false,
     "points": 1,
     "schema_version": 3,
     "solution": true,
     "task": false
    },
    "scrolled": false
   },
   "outputs": [
    {
     "name": "stdout",
     "output_type": "stream",
     "text": [
      "Coeficientes com 03 bases: a1 = 2.0334143209, a2 = 1.1984892433, a3 = -1.1805408642\n",
      "Coeficientes com 15 bases: a1 = 2.2644590070, a2 = 1.3325973141, a3 = -1.2887979588\n",
      "Erro relativo:             erro = 10.20%    , erro = 10.06%    , erro = 8.40%\n"
     ]
    }
   ],
   "source": [
    "coefs_max = [coefs[2],coefs[7],coefs[1]]\n",
    "err_rel = [np.abs((coefs_3[k]-coefs_max[k])/coefs_max[k]) for k in range(3)]\n",
    "porcentagem = [err_rel[k]*100 for k in range(3)]\n",
    "print(f'Coeficientes com 03 bases: a1 = {coefs_3[0]:.10f}, a2 = {coefs_3[1]:.10f}, a3 = {coefs_3[2]:.10f}')\n",
    "print(f'Coeficientes com 15 bases: a1 = {coefs_max[0]:.10f}, a2 = {coefs_max[1]:.10f}, a3 = {coefs_max[2]:.10f}')\n",
    "print(f'Erro relativo:{\"\":12} erro = {porcentagem[0]:.2f}% {\"\":3}, erro = {porcentagem[1]:.2f}% {\"\":3}, erro = {porcentagem[2]:.2f}%')"
   ]
  },
  {
   "cell_type": "markdown",
   "metadata": {
    "deletable": false,
    "nbgrader": {
     "cell_type": "markdown",
     "checksum": "78df7d41fb48f2c28f13754524128026",
     "grade": true,
     "grade_id": "cell-72e6b32a10572aeb",
     "locked": false,
     "points": 1,
     "schema_version": 3,
     "solution": true,
     "task": false
    }
   },
   "source": [
    "São relativamente pouco diferentes, mas devido a suas proximidades bem parecidadas podemos dizer que a base de 3 funções aproxima bem os 3 coeficientes de regressão e que o salto de 3 para 15 bases causa um aumento de precisão nesses coeficientes em torno de 10%."
   ]
  },
  {
   "cell_type": "markdown",
   "metadata": {
    "deletable": false,
    "editable": false,
    "nbgrader": {
     "cell_type": "markdown",
     "checksum": "6c11158d2cab078e5a3e9db8d69109c8",
     "grade": false,
     "grade_id": "cell-76c5f9a46831ab7e",
     "locked": true,
     "schema_version": 3,
     "solution": false,
     "task": false
    }
   },
   "source": [
    "## Questão 2: Sub-bases\n",
    "\n",
    "Agora, encontre os coeficientes $a_j^I$ e os erros $\\epsilon_j^I$ para todas as possíveis escolhas $I$\n",
    "de 4 funções dentre as do conjunto $\\{\\phi_j\\}$."
   ]
  },
  {
   "cell_type": "code",
   "execution_count": 12,
   "metadata": {
    "deletable": false,
    "nbgrader": {
     "cell_type": "code",
     "checksum": "47e9b61da6b40601f4d92718a1da0769",
     "grade": true,
     "grade_id": "cell-ed53e0e9657be0ad",
     "locked": false,
     "points": 1,
     "schema_version": 3,
     "solution": true,
     "task": false
    }
   },
   "outputs": [
    {
     "name": "stdout",
     "output_type": "stream",
     "text": [
      "Wall time: 362 ms\n"
     ]
    }
   ],
   "source": [
    "%%time\n",
    "phis_4 = list(combinations(trigs,4))\n",
    "coef_4 = [regress_with_error(xs, ws, phis)[0] for phis in phis_4]\n",
    "errs_4 = [regress_with_error(xs, ws, phis)[1] for phis in phis_4]\n",
    "errs_4 = np.array(errs_4)"
   ]
  },
  {
   "cell_type": "markdown",
   "metadata": {
    "deletable": false,
    "editable": false,
    "nbgrader": {
     "cell_type": "markdown",
     "checksum": "f36187af6a595070ab52d75ea03575be",
     "grade": false,
     "grade_id": "cell-cefc789a7de35a89",
     "locked": true,
     "schema_version": 3,
     "solution": false,
     "task": false
    }
   },
   "source": [
    "Quais são as 10 combinações de funções que produzem os menores erros?\n",
    "Quais são os erros correspondentes?"
   ]
  },
  {
   "cell_type": "code",
   "execution_count": 13,
   "metadata": {
    "deletable": false,
    "nbgrader": {
     "cell_type": "code",
     "checksum": "25058b88a520f2e46319508c68581574",
     "grade": true,
     "grade_id": "cell-469bbaf90a2eada3",
     "locked": false,
     "points": 2,
     "schema_version": 3,
     "solution": true,
     "task": false
    },
    "scrolled": false
   },
   "outputs": [
    {
     "name": "stdout",
     "output_type": "stream",
     "text": [
      "A   1º combinação de função é ['Sin(2)', 'Sin(3)', 'Cos(0)', 'Cos(5)'] que tem a Norma² do vetor resíduo = 4.3407390059\n",
      "A   2º combinação de função é ['Sin(2)', 'Sin(3)', 'Cos(0)', 'Cos(3)'] que tem a Norma² do vetor resíduo = 6.6337439910\n",
      "A   3º combinação de função é ['Sin(2)', 'Sin(3)', 'Sin(4)', 'Cos(0)'] que tem a Norma² do vetor resíduo = 6.7039026098\n",
      "A   4º combinação de função é ['Sin(2)', 'Sin(3)', 'Sin(6)', 'Cos(0)'] que tem a Norma² do vetor resíduo = 6.8737518109\n",
      "A   5º combinação de função é ['Sin(2)', 'Sin(3)', 'Sin(5)', 'Cos(0)'] que tem a Norma² do vetor resíduo = 6.9106861399\n",
      "A   6º combinação de função é ['Sin(2)', 'Sin(3)', 'Cos(0)', 'Cos(7)'] que tem a Norma² do vetor resíduo = 6.9347696139\n",
      "A   7º combinação de função é ['Sin(2)', 'Sin(3)', 'Sin(7)', 'Cos(0)'] que tem a Norma² do vetor resíduo = 7.0779004196\n",
      "A   8º combinação de função é ['Sin(1)', 'Sin(2)', 'Sin(3)', 'Cos(0)'] que tem a Norma² do vetor resíduo = 7.0791969006\n",
      "A   9º combinação de função é ['Sin(2)', 'Sin(3)', 'Cos(0)', 'Cos(4)'] que tem a Norma² do vetor resíduo = 7.0849168122\n",
      "A  10º combinação de função é ['Sin(2)', 'Sin(3)', 'Cos(0)', 'Cos(6)'] que tem a Norma² do vetor resíduo = 7.0860425348\n"
     ]
    }
   ],
   "source": [
    "errs_4T = errs_4.ravel()\n",
    "sorteada_4, Inds_4 = find_indices(errs_4T,10)  \n",
    "generica_4 = list(combinations(range(15),4))\n",
    "indices_base_4 = np.array([generica_4[k] for k in Inds_4])\n",
    "base_4 = find_bases(indices_base_4)\n",
    "for i in range(10):\n",
    "    print(f\"A {i+1: 3d}º combinação de função é {base_4[i]} que tem a Norma² do vetor resíduo = {sorteada_4[i]:.10f}\")"
   ]
  },
  {
   "cell_type": "markdown",
   "metadata": {
    "deletable": false,
    "editable": false,
    "nbgrader": {
     "cell_type": "markdown",
     "checksum": "7e8ff72778fbad2d94def992e94d7158",
     "grade": false,
     "grade_id": "cell-2032fc1e46d2eea2",
     "locked": true,
     "schema_version": 3,
     "solution": false,
     "task": false
    }
   },
   "source": [
    "Estes erros sugerem que uma base é \"muito melhor\" do que as outras?\n",
    "Porquê?"
   ]
  },
  {
   "cell_type": "markdown",
   "metadata": {
    "deletable": false,
    "nbgrader": {
     "cell_type": "markdown",
     "checksum": "65077c8c6504d7276d808ba0b3ccc3f5",
     "grade": true,
     "grade_id": "cell-a02f765d9a4f11cf",
     "locked": false,
     "points": 2,
     "schema_version": 3,
     "solution": true,
     "task": false
    }
   },
   "source": [
    "Podemos ver que o \"erro\" da primeira base tem uma diferença de mesma ordem de grandeza para a segunda e que todas as outras bases tem diferenças de no máximo 1 ordem de grandeza abaixo(enquanto o primeiro tem erros na unidade os outros tem erros decimais) o que sugere que a primeira base da lista acima é \"muito melhor\" do que as outras já que ela é a que tem, sem dúvidas, o menor \"erro\"."
   ]
  },
  {
   "cell_type": "markdown",
   "metadata": {
    "deletable": false,
    "editable": false,
    "nbgrader": {
     "cell_type": "markdown",
     "checksum": "3eb5bf927c980220fea74d2f3d52382e",
     "grade": false,
     "grade_id": "cell-1c2d090dc53303c8",
     "locked": true,
     "schema_version": 3,
     "solution": false,
     "task": false
    }
   },
   "source": [
    "## Questão 3: Comparando\n",
    "\n",
    "Dê, abaixo, uma função que retorna a função correspondente aos coeficientes e à base escolhida."
   ]
  },
  {
   "cell_type": "code",
   "execution_count": 14,
   "metadata": {
    "deletable": false,
    "nbgrader": {
     "cell_type": "code",
     "checksum": "e707994a7ceff2483aec7e993dcc25d1",
     "grade": false,
     "grade_id": "cell-a32f0d736a39d33e",
     "locked": false,
     "schema_version": 3,
     "solution": true,
     "task": false
    }
   },
   "outputs": [],
   "source": [
    "def reconstruct(coefs, base):\n",
    "    def aux(x):\n",
    "        b=np.array([base[i](x) for i in range(len(base))])\n",
    "        func=np.sum(coefs*b.T,axis=1)\n",
    "        return func\n",
    "    return aux"
   ]
  },
  {
   "cell_type": "code",
   "execution_count": 15,
   "metadata": {
    "deletable": false,
    "editable": false,
    "nbgrader": {
     "cell_type": "code",
     "checksum": "81189b01236682af10aa02a3fa998820",
     "grade": true,
     "grade_id": "cell-0596e43596137804",
     "locked": true,
     "points": 2,
     "schema_version": 3,
     "solution": false,
     "task": false
    }
   },
   "outputs": [],
   "source": [
    "f = reconstruct([1.1, -0.5], [np.exp, trigs[3]])\n",
    "ts = np.linspace(0,1)\n",
    "ys = f(ts)\n",
    "assert len(ys) == len(ts)\n",
    "assert ys[0] == 1.1\n",
    "assert ys[-1] == 3.368511258958914"
   ]
  },
  {
   "cell_type": "markdown",
   "metadata": {},
   "source": [
    "Faça, abaixo, um gráfico comparando\n",
    "- os dados\n",
    "- a solução `coefs` correspondente à base completa\n",
    "- a solução com a base de tamanho 3 dos maiores coeficientes\n",
    "- a solução com a \"melhor base\" de tamanho 4"
   ]
  },
  {
   "cell_type": "code",
   "execution_count": 16,
   "metadata": {
    "deletable": false,
    "nbgrader": {
     "cell_type": "code",
     "checksum": "76f3dee84e0f6cbc745a2330f2321e28",
     "grade": true,
     "grade_id": "cell-cebf853d6b5b7e60",
     "locked": false,
     "points": 3,
     "schema_version": 3,
     "solution": true,
     "task": false
    }
   },
   "outputs": [
    {
     "data": {
      "image/png": "[encoded data removed]",
      "text/plain": [
       "<Figure size 1080x360 with 1 Axes>"
      ]
     },
     "metadata": {
      "needs_background": "light"
     },
     "output_type": "display_data"
    }
   ],
   "source": [
    "xs1 = np.linspace(-1,4, num=100)\n",
    "#Função Original\n",
    "plt.figure(figsize=(15,5))\n",
    "plt.plot(xs,ws,label=\"Função Original\",marker=\".\")\n",
    "\n",
    "#Função Com 15 bases\n",
    "coefs_c = regress(xs, ws, trigs)\n",
    "base_c = [trigs[i] for i in range(len(coefs))]\n",
    "f_c = reconstruct(coefs_c,base_c)\n",
    "plt.plot(xs1,f_c(xs1),label=\"Regressão com base completa\")\n",
    "\n",
    "#Função Com 3 bases\n",
    "coefs_3 = regress(xs, ws, trigs_3)\n",
    "base_3 = trigs_3\n",
    "f_3 = reconstruct(coefs_3,base_3)\n",
    "plt.plot(xs1,f_3(xs1),label=\"Regressão com 3 bases\")\n",
    "\n",
    "#Função Com 4 bases\n",
    "coefs_4 = coef_4[406]\n",
    "base_4 = phis_4[406]\n",
    "f_4 = reconstruct(coefs_4,base_4)\n",
    "plt.plot(xs1,f_4(xs1),label=\"Regressão com 4 bases\")\n",
    "\n",
    "#Eixos\n",
    "plt.title(\"Solução das regreções com diferentes bases\")\n",
    "plt.xlabel(\"$x$\")\n",
    "plt.ylabel(\"$y$\")\n",
    "plt.legend(loc=\"lower left\")\n",
    "plt.axhline(color=\"black\")\n",
    "plt.axvline(color=\"black\")\n",
    "plt.grid();\n"
   ]
  },
  {
   "cell_type": "markdown",
   "metadata": {},
   "source": [
    "O que você observa?"
   ]
  },
  {
   "cell_type": "markdown",
   "metadata": {
    "deletable": false,
    "nbgrader": {
     "cell_type": "markdown",
     "checksum": "d8c2ffcc02db5b9cc1ddddef7e2ee6e4",
     "grade": true,
     "grade_id": "cell-ef4aafa4c891305c",
     "locked": false,
     "points": 2,
     "schema_version": 3,
     "solution": true,
     "task": false
    }
   },
   "source": [
    "Podemos ver que há sim uma siginficativa melhora em aproximar uma função ao comportamento dos pontos da função original ao se aumentar o número de bases da regressão. Podemos ver tambem que a diferença vai diminuindo, ou seja, a solução com 4 bases não tem uma diferença tão visual em comparação com a solução com bases completas, o que faz sentido já que o ganho de precisão não deveria mudar completamente o comportamento já que os coeficientes dessas novas bases não tem um impacto significativo como visto na questão 1."
   ]
  },
  {
   "cell_type": "markdown",
   "metadata": {
    "deletable": false,
    "editable": false,
    "nbgrader": {
     "cell_type": "markdown",
     "checksum": "65256d64cb1900ee4e08a0cb797058e3",
     "grade": false,
     "grade_id": "cell-0f424341b7df4cf3",
     "locked": true,
     "schema_version": 3,
     "solution": false,
     "task": false
    }
   },
   "source": [
    "### Bônus: E se tivéssemos incluído um grau de liberdade a mais?\n",
    "\n",
    "Repita a análise anterior, agora percorrendo todas as combinações de 5 funções para a base.\n",
    "O que você observa?"
   ]
  },
  {
   "cell_type": "code",
   "execution_count": 17,
   "metadata": {
    "deletable": false,
    "nbgrader": {
     "cell_type": "code",
     "checksum": "e3bc212fa3c551dcbba9cc141859d8f1",
     "grade": true,
     "grade_id": "cell-3c11a856dfb76190",
     "locked": false,
     "points": 1,
     "schema_version": 3,
     "solution": true,
     "task": false
    }
   },
   "outputs": [
    {
     "name": "stdout",
     "output_type": "stream",
     "text": [
      "Wall time: 962 ms\n"
     ]
    }
   ],
   "source": [
    "%%time\n",
    "\n",
    "# Cálculos das C(15,5) regressões\n",
    "phis_5 = list(combinations(trigs,5))\n",
    "coef_5 = [regress_with_error(xs, ws, phis)[0] for phis in phis_5]\n",
    "errs_5 = [regress_with_error(xs, ws, phis)[1] for phis in phis_5]\n",
    "errs_5 = np.array(errs_5)\n"
   ]
  },
  {
   "cell_type": "code",
   "execution_count": 18,
   "metadata": {
    "deletable": false,
    "nbgrader": {
     "cell_type": "code",
     "checksum": "e8a4df36984927d6d7d12c04583fa991",
     "grade": true,
     "grade_id": "cell-0904f1e657051342",
     "locked": false,
     "points": 1,
     "schema_version": 3,
     "solution": true,
     "task": false
    },
    "scrolled": true
   },
   "outputs": [
    {
     "name": "stdout",
     "output_type": "stream",
     "text": [
      "A   1º combinação de função é ['Sin(2)', 'Sin(3)', 'Sin(5)', 'Cos(0)', 'Cos(5)'] que tem a Norma² do vetor resíduo = 4.11326154\n",
      "A   2º combinação de função é ['Sin(2)', 'Sin(3)', 'Cos(0)', 'Cos(3)', 'Cos(5)'] que tem a Norma² do vetor resíduo = 4.26908470\n",
      "A   3º combinação de função é ['Sin(1)', 'Sin(2)', 'Sin(3)', 'Cos(0)', 'Cos(5)'] que tem a Norma² do vetor resíduo = 4.29984213\n",
      "A   4º combinação de função é ['Sin(2)', 'Sin(3)', 'Sin(4)', 'Cos(0)', 'Cos(5)'] que tem a Norma² do vetor resíduo = 4.31559463\n",
      "A   5º combinação de função é ['Sin(2)', 'Sin(3)', 'Cos(0)', 'Cos(1)', 'Cos(5)'] que tem a Norma² do vetor resíduo = 4.32185761\n",
      "A   6º combinação de função é ['Sin(2)', 'Sin(3)', 'Cos(0)', 'Cos(5)', 'Cos(7)'] que tem a Norma² do vetor resíduo = 4.32675396\n",
      "A   7º combinação de função é ['Sin(2)', 'Sin(3)', 'Sin(7)', 'Cos(0)', 'Cos(5)'] que tem a Norma² do vetor resíduo = 4.32766429\n",
      "A   8º combinação de função é ['Sin(2)', 'Sin(3)', 'Cos(0)', 'Cos(4)', 'Cos(5)'] que tem a Norma² do vetor resíduo = 4.33143310\n",
      "A   9º combinação de função é ['Sin(2)', 'Sin(3)', 'Sin(6)', 'Cos(0)', 'Cos(5)'] que tem a Norma² do vetor resíduo = 4.33225348\n",
      "A  10º combinação de função é ['Sin(2)', 'Sin(3)', 'Cos(0)', 'Cos(5)', 'Cos(6)'] que tem a Norma² do vetor resíduo = 4.33556373\n"
     ]
    }
   ],
   "source": [
    "# Análise\n",
    "errs_5T = errs_5.ravel()\n",
    "sorteada_5, Inds_5 = find_indices(errs_5T,10)  \n",
    "generica_5 = list(combinations(range(15),5))\n",
    "indices_base_5 = np.array([generica_5[k] for k in Inds_5])\n",
    "base_5 = find_bases(indices_base_5)\n",
    "for i in range(10):\n",
    "    print(f\"A {i+1: 3d}º combinação de função é {base_5[i]} que tem a Norma² do vetor resíduo = {sorteada_5[i]:.8f}\")"
   ]
  },
  {
   "cell_type": "code",
   "execution_count": 19,
   "metadata": {},
   "outputs": [
    {
     "data": {
      "image/png": "[encoded data removed]",
      "text/plain": [
       "<Figure size 1080x360 with 1 Axes>"
      ]
     },
     "metadata": {
      "needs_background": "light"
     },
     "output_type": "display_data"
    }
   ],
   "source": [
    "xs1 = np.linspace(-1,4, num=100)\n",
    "#Função Original\n",
    "plt.figure(figsize=(15,5))\n",
    "plt.plot(xs,ws,label=\"Função Original\",marker=\".\")\n",
    "\n",
    "#Função Com 15 bases\n",
    "coefs_c = regress(xs, ws, trigs)\n",
    "base_c = [trigs[i] for i in range(len(coefs))]\n",
    "f_c = reconstruct(coefs_c,base_c)\n",
    "plt.plot(xs1,f_c(xs1),label=\"Regressão com base completa\")\n",
    "\n",
    "#Função Com 4 bases\n",
    "coefs_4 = coef_4[406]\n",
    "base_4 = phis_4[406]\n",
    "f_4 = reconstruct(coefs_4,base_4)\n",
    "plt.plot(xs1,f_4(xs1),label=\"Regressão com 4 bases\")\n",
    "\n",
    "#Função Com 5 bases\n",
    "coefs_5 = coef_5[1077]\n",
    "base_5 = phis_5[1077]\n",
    "f_5 = reconstruct(coefs_5,base_5)\n",
    "plt.plot(xs1,f_5(xs1),label=\"Regressão com 5 bases\")\n",
    "\n",
    "#Eixos\n",
    "plt.title(\"Solução das regreções com diferentes bases\")\n",
    "plt.xlabel(\"$x$\")\n",
    "plt.ylabel(\"$y$\")\n",
    "plt.legend()\n",
    "plt.axhline(color=\"black\")\n",
    "plt.axvline(color=\"black\")\n",
    "plt.grid();\n"
   ]
  },
  {
   "cell_type": "markdown",
   "metadata": {
    "deletable": false,
    "editable": false,
    "nbgrader": {
     "cell_type": "markdown",
     "checksum": "6be8d81217723c97533ea025aab002c5",
     "grade": false,
     "grade_id": "cell-e28dcdae88ee0678",
     "locked": true,
     "schema_version": 3,
     "solution": false,
     "task": false
    }
   },
   "source": [
    "Comente abaixo"
   ]
  },
  {
   "cell_type": "markdown",
   "metadata": {
    "deletable": false,
    "nbgrader": {
     "cell_type": "markdown",
     "checksum": "246cb8e3ab67520fdbf555f23be2ead7",
     "grade": true,
     "grade_id": "cell-7596266346917c18",
     "locked": false,
     "points": 1,
     "schema_version": 3,
     "solution": true,
     "task": false
    }
   },
   "source": [
    "Podemos ver que a solução confirma nossa suposição de que aumentando a base a aproximação melhora porem devemos tambem observar que o ganho de precisão se torna cada vez menor para um aumento de complexidade da solução de regressão e um aumento de tempo e exforço computacional. Devemos então avaliar se é realmente necessário aumentar as bases para melhorar a precisão ou se já estamos fazendo um \"overfit\" da solução, o que devemos evitar. "
   ]
  }
 ],
 "metadata": {
  "kernelspec": {
   "display_name": "Python 3",
   "language": "python",
   "name": "python3"
  },
  "language_info": {
   "codemirror_mode": {
    "name": "ipython",
    "version": 3
   },
   "file_extension": ".py",
   "mimetype": "text/x-python",
   "name": "python",
   "nbconvert_exporter": "python",
   "pygments_lexer": "ipython3",
   "version": "3.8.3"
  }
 },
 "nbformat": 4,
 "nbformat_minor": 4
}
