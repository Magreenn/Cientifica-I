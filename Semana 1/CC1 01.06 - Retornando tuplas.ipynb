{
 "cells": [
  {
   "cell_type": "markdown",
   "metadata": {},
   "source": [
    "# Funções com mais de um valor de retorno"
   ]
  },
  {
   "cell_type": "code",
   "execution_count": 1,
   "metadata": {},
   "outputs": [],
   "source": [
    "def passo_da_bissecao(f, a, b):\n",
    "    \"\"\"Retorna o novo intervalo após uma etapa de bisseção da função f,\n",
    "    da forma (a,m) ou (m,b) segundo em qual seja possível garantir uma raiz de f.\"\"\"\n",
    "    m = (a+b)/2\n",
    "    if f(m)*f(a) < 0:\n",
    "        return a, m\n",
    "    else:\n",
    "        return m, b"
   ]
  },
  {
   "cell_type": "code",
   "execution_count": 2,
   "metadata": {},
   "outputs": [],
   "source": [
    "from numpy import sin"
   ]
  },
  {
   "cell_type": "code",
   "execution_count": 3,
   "metadata": {},
   "outputs": [
    {
     "data": {
      "text/plain": [
       "(5, 6.5)"
      ]
     },
     "execution_count": 3,
     "metadata": {},
     "output_type": "execute_result"
    }
   ],
   "source": [
    "passo_da_bissecao(sin, 5, 8)"
   ]
  },
  {
   "cell_type": "code",
   "execution_count": 4,
   "metadata": {},
   "outputs": [],
   "source": [
    "novo_a, novo_b = passo_da_bissecao(sin, 5, 8)"
   ]
  },
  {
   "cell_type": "code",
   "execution_count": 5,
   "metadata": {},
   "outputs": [
    {
     "data": {
      "text/plain": [
       "6.5"
      ]
     },
     "execution_count": 5,
     "metadata": {},
     "output_type": "execute_result"
    }
   ],
   "source": [
    "novo_b"
   ]
  },
  {
   "cell_type": "markdown",
   "metadata": {},
   "source": [
    "### Q: Incorporar o \"passo\" dentro da bisseção que fizemos"
   ]
  },
  {
   "cell_type": "code",
   "execution_count": 60,
   "metadata": {},
   "outputs": [],
   "source": [
    "def Bissecao(f,a,b,e):\n",
    "    while abs((a-b)/2) > e:\n",
    "        a, b = passo_da_bissecao(f,a,b)\n",
    "    return f\"Raiz: {(a+b)/2} , erro: {abs((a-b)/2)}\"\n",
    "    print(f\"Raiz: {(a+b)/2} , erro: {abs((a-b)/2)}\")"
   ]
  },
  {
   "cell_type": "code",
   "execution_count": 61,
   "metadata": {},
   "outputs": [],
   "source": [
    "def g(x): return x**2 - 2"
   ]
  },
  {
   "cell_type": "code",
   "execution_count": 62,
   "metadata": {},
   "outputs": [
    {
     "data": {
      "text/plain": [
       "'Raiz: 1.4142141342163086 , erro: 9.5367431640625e-07'"
      ]
     },
     "execution_count": 62,
     "metadata": {},
     "output_type": "execute_result"
    }
   ],
   "source": [
    "Bissecao(g,0,4,1e-6)"
   ]
  },
  {
   "cell_type": "code",
   "execution_count": 63,
   "metadata": {},
   "outputs": [],
   "source": [
    "def Bissecao2(f,a,b,e):\n",
    "    while abs((a-b)/2) > e:\n",
    "        a, b = passo_da_bissecao(f,a,b)\n",
    "    print(f\"Raiz: {(a+b)/2} , erro: {abs((a-b)/2)}\")"
   ]
  },
  {
   "cell_type": "code",
   "execution_count": 64,
   "metadata": {},
   "outputs": [
    {
     "name": "stdout",
     "output_type": "stream",
     "text": [
      "Raiz: 1.4142141342163086 , erro: 9.5367431640625e-07\n"
     ]
    }
   ],
   "source": [
    "Bissecao2(g,0,4,1e-6)"
   ]
  },
  {
   "cell_type": "markdown",
   "metadata": {},
   "source": [
    "### Q: Retornar uma lista de extremidades dos intervalos construídos"
   ]
  },
  {
   "cell_type": "code",
   "execution_count": null,
   "metadata": {},
   "outputs": [],
   "source": []
  }
 ],
 "metadata": {
  "hide_input": false,
  "kernelspec": {
   "display_name": "Python 3",
   "language": "python",
   "name": "python3"
  },
  "language_info": {
   "codemirror_mode": {
    "name": "ipython",
    "version": 3
   },
   "file_extension": ".py",
   "mimetype": "text/x-python",
   "name": "python",
   "nbconvert_exporter": "python",
   "pygments_lexer": "ipython3",
   "version": "3.8.3"
  }
 },
 "nbformat": 4,
 "nbformat_minor": 4
}
