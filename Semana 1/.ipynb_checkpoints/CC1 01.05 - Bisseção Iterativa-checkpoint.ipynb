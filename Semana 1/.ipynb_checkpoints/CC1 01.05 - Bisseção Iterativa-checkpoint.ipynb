{
 "cells": [
  {
   "cell_type": "markdown",
   "metadata": {},
   "source": [
    "# Implementando a bisseção"
   ]
  },
  {
   "cell_type": "markdown",
   "metadata": {},
   "source": [
    "## Critérios de Parada\n",
    "\n",
    "* Tolerância em $x$: tamanho do intervalo ser pequeno o suficiente"
   ]
  },
  {
   "cell_type": "markdown",
   "metadata": {},
   "source": [
    "## Bisseção recursiva"
   ]
  },
  {
   "cell_type": "code",
   "execution_count": 2,
   "metadata": {},
   "outputs": [],
   "source": [
    "def bissecao(f, a, b, xtol=1e-8):\n",
    "    \"\"\"Encontra uma raíz de  f  no intervalo  [a,b].\"\"\"\n",
    "    m = (a+b)/2\n",
    "    # Para quando o intervalo estiver pequeno demais!\n",
    "    if abs(b-a) < xtol:\n",
    "        return m\n",
    "\n",
    "    # testar o sinal de f(m) com o sinal de f(a) e f(b)\n",
    "    # Obs: f(m) e f(a) têm sinais opostos: f(m)*f(a) < 0\n",
    "    if f(m)*f(a) < 0:\n",
    "        # nova bisseção deve continuar no intervalo [a,m]\n",
    "        return bissecao(f, a, m, xtol)\n",
    "    else:\n",
    "        return bissecao(f, m, b, xtol)"
   ]
  },
  {
   "cell_type": "markdown",
   "metadata": {},
   "source": [
    "## Bisseção iterativa"
   ]
  },
  {
   "cell_type": "code",
   "execution_count": 1,
   "metadata": {},
   "outputs": [],
   "source": [
    "def bissecao_iter(f, a, b, xtol=1e-8):\n",
    "    \"\"\"Encontra uma raíz de  f  no intervalo  [a,b].\"\"\"\n",
    "    # Para quando o intervalo estiver pequeno demais!\n",
    "    while abs(b-a) >= xtol:\n",
    "        # Dividir o intervalo em dois e continuar no intervalo certo!\n",
    "        m = (a+b)/2\n",
    "        # testar o sinal de f(m) com o sinal de f(a) e f(b)\n",
    "        # Obs: f(m) e f(a) têm sinais opostos: f(m)*f(a) < 0\n",
    "        if f(m)*f(a) < 0:\n",
    "            b = m\n",
    "        else:\n",
    "            a = m\n",
    "    # O intervalo está pequeno o suficiente\n",
    "    return (a+b)/2"
   ]
  },
  {
   "cell_type": "markdown",
   "metadata": {},
   "source": [
    "Observação: o significado de $[a,b]$ muda dentro do `while`"
   ]
  },
  {
   "cell_type": "markdown",
   "metadata": {},
   "source": [
    "## Testes"
   ]
  },
  {
   "cell_type": "code",
   "execution_count": 3,
   "metadata": {},
   "outputs": [],
   "source": [
    "def f(x): return x**2 - 2"
   ]
  },
  {
   "cell_type": "code",
   "execution_count": 6,
   "metadata": {},
   "outputs": [
    {
     "data": {
      "text/plain": [
       "1.414213564246893"
      ]
     },
     "execution_count": 6,
     "metadata": {},
     "output_type": "execute_result"
    }
   ],
   "source": [
    "r = bissecao(f, 0, 2)\n",
    "r"
   ]
  },
  {
   "cell_type": "code",
   "execution_count": 7,
   "metadata": {},
   "outputs": [
    {
     "data": {
      "text/plain": [
       "2.000000005299901"
      ]
     },
     "execution_count": 7,
     "metadata": {},
     "output_type": "execute_result"
    }
   ],
   "source": [
    "r**2"
   ]
  },
  {
   "cell_type": "code",
   "execution_count": 8,
   "metadata": {},
   "outputs": [
    {
     "data": {
      "text/plain": [
       "1.414213564246893"
      ]
     },
     "execution_count": 8,
     "metadata": {},
     "output_type": "execute_result"
    }
   ],
   "source": [
    "r = bissecao_iter(f, 0, 2)\n",
    "r"
   ]
  },
  {
   "cell_type": "code",
   "execution_count": 9,
   "metadata": {},
   "outputs": [
    {
     "data": {
      "text/plain": [
       "2.000000005299901"
      ]
     },
     "execution_count": 9,
     "metadata": {},
     "output_type": "execute_result"
    }
   ],
   "source": [
    "r**2"
   ]
  },
  {
   "cell_type": "code",
   "execution_count": 10,
   "metadata": {},
   "outputs": [
    {
     "data": {
      "text/plain": [
       "1.414213562372879"
      ]
     },
     "execution_count": 10,
     "metadata": {},
     "output_type": "execute_result"
    }
   ],
   "source": [
    "r = bissecao(f, 0, 2, xtol=1e-12)\n",
    "r"
   ]
  },
  {
   "cell_type": "code",
   "execution_count": 11,
   "metadata": {},
   "outputs": [
    {
     "data": {
      "text/plain": [
       "1.9999999999993892"
      ]
     },
     "execution_count": 11,
     "metadata": {},
     "output_type": "execute_result"
    }
   ],
   "source": [
    "r**2"
   ]
  },
  {
   "cell_type": "code",
   "execution_count": 12,
   "metadata": {},
   "outputs": [
    {
     "data": {
      "text/plain": [
       "1.414213562372879"
      ]
     },
     "execution_count": 12,
     "metadata": {},
     "output_type": "execute_result"
    }
   ],
   "source": [
    "r = bissecao_iter(f, 0, 2, xtol=1e-12)\n",
    "r"
   ]
  },
  {
   "cell_type": "code",
   "execution_count": 13,
   "metadata": {},
   "outputs": [
    {
     "data": {
      "text/plain": [
       "1.9999999999993892"
      ]
     },
     "execution_count": 13,
     "metadata": {},
     "output_type": "execute_result"
    }
   ],
   "source": [
    "r**2"
   ]
  },
  {
   "cell_type": "code",
   "execution_count": null,
   "metadata": {},
   "outputs": [],
   "source": []
  }
 ],
 "metadata": {
  "hide_input": false,
  "kernelspec": {
   "display_name": "Python 3",
   "language": "python",
   "name": "python3"
  },
  "language_info": {
   "codemirror_mode": {
    "name": "ipython",
    "version": 3
   },
   "file_extension": ".py",
   "mimetype": "text/x-python",
   "name": "python",
   "nbconvert_exporter": "python",
   "pygments_lexer": "ipython3",
   "version": "3.8.3"
  }
 },
 "nbformat": 4,
 "nbformat_minor": 4
}
