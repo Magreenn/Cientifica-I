{
 "cells": [
  {
   "cell_type": "markdown",
   "metadata": {},
   "source": [
    "![CC-BY-SA](https://mirrors.creativecommons.org/presskit/buttons/88x31/svg/by-sa.svg)\n",
    "\n",
    "\n",
    "This notebook was created by [Bernardo Freitas Paulo da Costa](http://www.im.ufrj.br/bernardofpc),\n",
    "and Pedro Angelo Medeiros Fonini\n",
    "and is licensed under Creative Commons BY-SA."
   ]
  },
  {
   "cell_type": "markdown",
   "metadata": {},
   "source": [
    "Antes de enviar este Teste, verifique que tudo está funcionando como esperado.\n",
    "Por exemplo, **rode o código inteiro, do zero**.\n",
    "Para isso, vá no menu, escolha _Kernel_, depois _Restart & Run All_.\n",
    "\n",
    "Verifique, também, que você respondeu todas as questões:\n",
    "* as questões de código têm `YOUR CODE HERE` (e você pode apagar o `raise NotImplemented` ao incluir sua resposta)\n",
    "* as questões discursivas têm \"YOUR ANSWER HERE\"."
   ]
  },
  {
   "cell_type": "markdown",
   "metadata": {},
   "source": [
    "---"
   ]
  },
  {
   "cell_type": "code",
   "execution_count": 1,
   "metadata": {
    "deletable": false,
    "editable": false,
    "nbgrader": {
     "cell_type": "code",
     "checksum": "e87b8966aaf1c772bc10d320c16bcd20",
     "grade": false,
     "grade_id": "cell-dd2323e81a84855d",
     "locked": true,
     "schema_version": 3,
     "solution": false
    }
   },
   "outputs": [],
   "source": [
    "import numpy as np"
   ]
  },
  {
   "cell_type": "markdown",
   "metadata": {
    "deletable": false,
    "editable": false,
    "nbgrader": {
     "cell_type": "markdown",
     "checksum": "5c6b54eb246b70e64e3e7ba42026bebe",
     "grade": false,
     "grade_id": "cell-1e0855c931b2753a",
     "locked": true,
     "schema_version": 3,
     "solution": false
    }
   },
   "source": [
    "# Teste 1: Bisseção"
   ]
  },
  {
   "cell_type": "markdown",
   "metadata": {
    "deletable": false,
    "editable": false,
    "nbgrader": {
     "cell_type": "markdown",
     "checksum": "dd6b0d8c2e091b17b9c72ef67c292e6e",
     "grade": false,
     "grade_id": "cell-e056045500ce7a08",
     "locked": true,
     "schema_version": 3,
     "solution": false
    }
   },
   "source": [
    "## Questão 1: Número de iterações da bisseção\n",
    "\n",
    "Generalize o algoritmo da bisseção _iterativa_ para retornar,\n",
    "além da (aproximação da) raiz, o número de bisseções (divisões por 2 do intervalo) feitas.\n",
    "\n",
    "Além disso, inclua dois critérios de parada: `xtol` e `ytol`.\n",
    "O algoritmo termina quando:\n",
    "- seja possível garantir que o erro (absoluto) da resposta (\"em $x$\") seja menor do que `xtol`; OU\n",
    "- quando encontra-se um ponto $p$ tal que $y = f(p)$ (o \"erro em $y$\") seja menor do que ou igual a `ytol`."
   ]
  },
  {
   "cell_type": "code",
   "execution_count": 2,
   "metadata": {
    "deletable": false,
    "nbgrader": {
     "cell_type": "code",
     "checksum": "7a0620a7e040f5013423b3151649e2ff",
     "grade": false,
     "grade_id": "cell-9c2f0bf1fe48da91",
     "locked": false,
     "schema_version": 3,
     "solution": true
    }
   },
   "outputs": [],
   "source": [
    "def bissecao(f, a, b, xtol=1e-8, ytol=1e-8):\n",
    "    niters=0\n",
    "    while abs((a-b)/2)>=xtol and abs(f((a+b)/2))>ytol:\n",
    "        m = (a+b)/2\n",
    "        if f(m)*f(a)<0:\n",
    "            b = m\n",
    "        else:\n",
    "            a = m\n",
    "        niters+=1\n",
    "    return (a+b)/2, niters"
   ]
  },
  {
   "cell_type": "markdown",
   "metadata": {
    "deletable": false,
    "editable": false,
    "nbgrader": {
     "cell_type": "markdown",
     "checksum": "b05b8a088d7b4a7a5b1b4c14842afe8a",
     "grade": false,
     "grade_id": "cell-4bc0b2fe13ea3505",
     "locked": true,
     "schema_version": 3,
     "solution": false
    }
   },
   "source": [
    "### 1.1: Testando com $\\sqrt2$:"
   ]
  },
  {
   "cell_type": "code",
   "execution_count": 3,
   "metadata": {
    "deletable": false,
    "editable": false,
    "nbgrader": {
     "cell_type": "code",
     "checksum": "51b6351c2c3f19b43a47df7cfac414b7",
     "grade": false,
     "grade_id": "cell-eccc81378a276c60",
     "locked": true,
     "schema_version": 3,
     "solution": false
    }
   },
   "outputs": [],
   "source": [
    "def p2(x): return x**2 - 2"
   ]
  },
  {
   "cell_type": "code",
   "execution_count": 4,
   "metadata": {
    "scrolled": true
   },
   "outputs": [
    {
     "data": {
      "text/plain": [
       "(1.4142135605216026, 27)"
      ]
     },
     "execution_count": 4,
     "metadata": {},
     "output_type": "execute_result"
    }
   ],
   "source": [
    "bissecao(p2,0,2)"
   ]
  },
  {
   "cell_type": "code",
   "execution_count": 5,
   "metadata": {
    "deletable": false,
    "editable": false,
    "nbgrader": {
     "cell_type": "code",
     "checksum": "cbab19beda7b09973b36e958b3665c55",
     "grade": true,
     "grade_id": "cell-6216e0119f2a0e78",
     "locked": true,
     "points": 1,
     "schema_version": 3,
     "solution": false
    }
   },
   "outputs": [],
   "source": [
    "raiz, niters = bissecao(p2, 0, 2)\n",
    "assert abs(raiz - np.sqrt(2)) < 1e-8\n",
    "assert 25 <= niters <= 30"
   ]
  },
  {
   "cell_type": "code",
   "execution_count": 6,
   "metadata": {},
   "outputs": [
    {
     "data": {
      "text/plain": [
       "(1.4150390625, 10)"
      ]
     },
     "execution_count": 6,
     "metadata": {},
     "output_type": "execute_result"
    }
   ],
   "source": [
    "bissecao(p2,0,2,xtol=1e-3)"
   ]
  },
  {
   "cell_type": "code",
   "execution_count": 7,
   "metadata": {
    "deletable": false,
    "editable": false,
    "nbgrader": {
     "cell_type": "code",
     "checksum": "bee96873493dddf4c66cb4de288f376a",
     "grade": true,
     "grade_id": "cell-caee585cfc6b637f",
     "locked": true,
     "points": 1,
     "schema_version": 3,
     "solution": false
    }
   },
   "outputs": [],
   "source": [
    "raiz, niters = bissecao(p2, 0, 2, xtol=1e-3)\n",
    "assert abs(raiz - np.sqrt(2)) < 1e-3\n",
    "assert 9 <= niters <= 11"
   ]
  },
  {
   "cell_type": "code",
   "execution_count": 8,
   "metadata": {},
   "outputs": [
    {
     "data": {
      "text/plain": [
       "(1.4140625, 7)"
      ]
     },
     "execution_count": 8,
     "metadata": {},
     "output_type": "execute_result"
    }
   ],
   "source": [
    "bissecao(p2, 0, 2, ytol=1e-3)"
   ]
  },
  {
   "cell_type": "code",
   "execution_count": 9,
   "metadata": {
    "deletable": false,
    "editable": false,
    "nbgrader": {
     "cell_type": "code",
     "checksum": "4fe9fab4189807b78ed016c08b0acc33",
     "grade": true,
     "grade_id": "cell-ed17d59cca42278d",
     "locked": true,
     "points": 1,
     "schema_version": 3,
     "solution": false
    }
   },
   "outputs": [],
   "source": [
    "raiz, niters = bissecao(p2, 0, 2, ytol=1e-3)\n",
    "assert abs(raiz**2 - 2) < 1e-3\n",
    "assert 5 <= niters <= 10"
   ]
  },
  {
   "cell_type": "code",
   "execution_count": 10,
   "metadata": {
    "deletable": false,
    "editable": false,
    "nbgrader": {
     "cell_type": "code",
     "checksum": "0002ccbb18e1c4d6b6c8735547738d97",
     "grade": true,
     "grade_id": "cell-f5d73d084a9eb5e6",
     "locked": true,
     "points": 1,
     "schema_version": 3,
     "solution": false
    }
   },
   "outputs": [],
   "source": [
    "raiz, niters = bissecao(p2, 0, 2, ytol=1e-4)\n",
    "assert abs(raiz**2 - 2) < 1e-4\n",
    "assert 10 <= niters <= 15"
   ]
  },
  {
   "cell_type": "code",
   "execution_count": null,
   "metadata": {
    "deletable": false,
    "editable": false,
    "nbgrader": {
     "cell_type": "code",
     "checksum": "3de0ca8c1bb3668c6c04df4d9e1cdc09",
     "grade": true,
     "grade_id": "cell-19379484bc5a3adf",
     "locked": true,
     "points": 1,
     "schema_version": 3,
     "solution": false
    }
   },
   "outputs": [],
   "source": []
  },
  {
   "cell_type": "markdown",
   "metadata": {
    "deletable": false,
    "editable": false,
    "nbgrader": {
     "cell_type": "markdown",
     "checksum": "e237df5bfcdab121969197ec961e5777",
     "grade": false,
     "grade_id": "cell-397bcb0e31bd7a88",
     "locked": true,
     "schema_version": 3,
     "solution": false
    }
   },
   "source": [
    "### 1.2: Tolerância, número de iterações, respostas, ...\n",
    "\n",
    "Observe o seguinte código:"
   ]
  },
  {
   "cell_type": "code",
   "execution_count": 11,
   "metadata": {
    "deletable": false,
    "editable": false,
    "nbgrader": {
     "cell_type": "code",
     "checksum": "df0bcc69bd4bb8f2fb1c0914c2fa7514",
     "grade": false,
     "grade_id": "cell-d0133a6251ec551b",
     "locked": true,
     "schema_version": 3,
     "solution": false
    }
   },
   "outputs": [
    {
     "name": "stdout",
     "output_type": "stream",
     "text": [
      "xtol = 1.0e-08 --> raiz = 1.4142135605, #iter =  27\n",
      "xtol = 1.0e-07 --> raiz = 1.4142135978, #iter =  24\n",
      "xtol = 1.0e-06 --> raiz = 1.4142141342, #iter =  20\n",
      "xtol = 1.0e-05 --> raiz = 1.4142074585, #iter =  17\n",
      "xtol = 1.0e-04 --> raiz = 1.4142456055, #iter =  14\n",
      "xtol = 1.0e-03 --> raiz = 1.4150390625, #iter =  10\n",
      "xtol = 1.0e-02 --> raiz = 1.4140625000, #iter =   7\n",
      "xtol = 1.0e-01 --> raiz = 1.4375000000, #iter =   4\n",
      "xtol = 1.0e+00 --> raiz = 1.5000000000, #iter =   1\n"
     ]
    }
   ],
   "source": [
    "for err in np.logspace(-8, 0, num=9):\n",
    "    r, n = bissecao(p2, 0, 2, xtol=err)\n",
    "    print(f\"xtol = {err:.1e} --> raiz = {r:.10f}, #iter = {n:3d}\")"
   ]
  },
  {
   "cell_type": "markdown",
   "metadata": {
    "deletable": false,
    "editable": false,
    "nbgrader": {
     "cell_type": "markdown",
     "checksum": "4157bbfbe4a8159ac018f1b9d95eb386",
     "grade": false,
     "grade_id": "cell-f75b784b20217fc4",
     "locked": true,
     "schema_version": 3,
     "solution": false
    }
   },
   "source": [
    "Comente"
   ]
  },
  {
   "cell_type": "markdown",
   "metadata": {
    "deletable": false,
    "nbgrader": {
     "cell_type": "markdown",
     "checksum": "88cab8741d5527fb3b02e489d7796d20",
     "grade": true,
     "grade_id": "cell-856d87a71e8f8ec5",
     "locked": false,
     "points": 2,
     "schema_version": 3,
     "solution": true
    }
   },
   "source": [
    "Podemos ver que ao aumentar a tolerancia do erro, ou seja, ao permitir que o erro seja maior, a precisão da raiz diminui e o número de iterações também."
   ]
  },
  {
   "cell_type": "markdown",
   "metadata": {
    "deletable": false,
    "editable": false,
    "nbgrader": {
     "cell_type": "markdown",
     "checksum": "6f8ab86cbd80291db1801295c60ad961",
     "grade": false,
     "grade_id": "cell-9d3f635159d23a38",
     "locked": true,
     "schema_version": 3,
     "solution": false
    }
   },
   "source": [
    "Como seria o equivalente para o erro em $y$?"
   ]
  },
  {
   "cell_type": "code",
   "execution_count": 12,
   "metadata": {
    "deletable": false,
    "nbgrader": {
     "cell_type": "code",
     "checksum": "dfc7173467a6ed337ed9db0bf4ff083e",
     "grade": true,
     "grade_id": "cell-c6d45f6ca0f539e4",
     "locked": false,
     "points": 1,
     "schema_version": 3,
     "solution": true
    }
   },
   "outputs": [
    {
     "name": "stdout",
     "output_type": "stream",
     "text": [
      "xtol = 1.0e-08 --> raiz = 1.4142135605, #iter =  27\n",
      "xtol = 1.0e-07 --> raiz = 1.4142135382, #iter =  23\n",
      "xtol = 1.0e-06 --> raiz = 1.4142136574, #iter =  21\n",
      "xtol = 1.0e-05 --> raiz = 1.4142150879, #iter =  15\n",
      "xtol = 1.0e-04 --> raiz = 1.4141845703, #iter =  13\n",
      "xtol = 1.0e-03 --> raiz = 1.4140625000, #iter =   7\n",
      "xtol = 1.0e-02 --> raiz = 1.4140625000, #iter =   7\n",
      "xtol = 1.0e-01 --> raiz = 1.4375000000, #iter =   4\n",
      "xtol = 1.0e+00 --> raiz = 1.0000000000, #iter =   0\n"
     ]
    }
   ],
   "source": [
    "for err in np.logspace(-8, 0, num=9):\n",
    "    r, n = bissecao(p2, 0, 2, ytol=err)\n",
    "    print(f\"xtol = {err:.1e} --> raiz = {r:.10f}, #iter = {n:3d}\")"
   ]
  },
  {
   "cell_type": "markdown",
   "metadata": {
    "deletable": false,
    "editable": false,
    "nbgrader": {
     "cell_type": "markdown",
     "checksum": "549fb08bec45f9a979921f470a14815d",
     "grade": false,
     "grade_id": "cell-e3437e8aecddbf1a",
     "locked": true,
     "schema_version": 3,
     "solution": false
    }
   },
   "source": [
    "Comente, também."
   ]
  },
  {
   "cell_type": "markdown",
   "metadata": {
    "deletable": false,
    "nbgrader": {
     "cell_type": "markdown",
     "checksum": "5b802ed0637d0e06acc6783edb7b126a",
     "grade": true,
     "grade_id": "cell-b7931432898e9741",
     "locked": false,
     "points": 2,
     "schema_version": 3,
     "solution": true
    }
   },
   "source": [
    "Podemos ver novamente a mesma tendência porem o número de iterações diminúi ainda mais para esse caso muito provavelmente devido ao comportamento da função."
   ]
  },
  {
   "cell_type": "markdown",
   "metadata": {
    "deletable": false,
    "editable": false,
    "nbgrader": {
     "cell_type": "markdown",
     "checksum": "be5621b73807c1e20178bd77951e4ffa",
     "grade": false,
     "grade_id": "cell-9a0e771c79ceedc5",
     "locked": true,
     "schema_version": 3,
     "solution": false
    }
   },
   "source": [
    "### 1.3: Agora, um polinômio um pouco mais complicado:"
   ]
  },
  {
   "cell_type": "code",
   "execution_count": 13,
   "metadata": {
    "deletable": false,
    "editable": false,
    "nbgrader": {
     "cell_type": "code",
     "checksum": "4cf750914a01d54db4797f2af08d7bdb",
     "grade": false,
     "grade_id": "cell-1648a7ece91eb5a0",
     "locked": true,
     "schema_version": 3,
     "solution": false
    }
   },
   "outputs": [],
   "source": [
    "def p4(x): return x**4 - 3*x + 1"
   ]
  },
  {
   "cell_type": "code",
   "execution_count": 14,
   "metadata": {
    "deletable": false,
    "editable": false,
    "nbgrader": {
     "cell_type": "code",
     "checksum": "a6cd18c1d29bc95285c3c310e353779f",
     "grade": true,
     "grade_id": "cell-b8f933e77c525f69",
     "locked": true,
     "points": 1,
     "schema_version": 3,
     "solution": false
    }
   },
   "outputs": [],
   "source": [
    "r1, n1 = bissecao(p4, 0, 1)\n",
    "assert p4(r1) < 1e-6"
   ]
  },
  {
   "cell_type": "code",
   "execution_count": 15,
   "metadata": {
    "deletable": false,
    "editable": false,
    "nbgrader": {
     "cell_type": "code",
     "checksum": "f6cb5dec42376fa8fb161d893eafc9c3",
     "grade": true,
     "grade_id": "cell-fab8ee9c8e55f544",
     "locked": true,
     "points": 1,
     "schema_version": 3,
     "solution": false
    }
   },
   "outputs": [],
   "source": [
    "r2, n2 = bissecao(p4, 1, 2)\n",
    "assert n1 == n2\n",
    "assert p4(r2) < 1e-6"
   ]
  },
  {
   "cell_type": "code",
   "execution_count": 16,
   "metadata": {
    "deletable": false,
    "editable": false,
    "nbgrader": {
     "cell_type": "code",
     "checksum": "520dd41d26ff5ad96dc90598474b1185",
     "grade": true,
     "grade_id": "cell-faf0c1fe3a384747",
     "locked": true,
     "points": 1,
     "schema_version": 3,
     "solution": false
    }
   },
   "outputs": [],
   "source": [
    "r3, n3 = bissecao(p4, 1, 3)\n",
    "assert n3 == n2+1\n",
    "assert r3 == r2"
   ]
  },
  {
   "cell_type": "code",
   "execution_count": null,
   "metadata": {
    "deletable": false,
    "editable": false,
    "nbgrader": {
     "cell_type": "code",
     "checksum": "0badef98b5d2da7d52778ebf772a74fb",
     "grade": true,
     "grade_id": "cell-1ec4a98add6ac67a",
     "locked": true,
     "points": 1,
     "schema_version": 3,
     "solution": false
    }
   },
   "outputs": [],
   "source": []
  },
  {
   "cell_type": "markdown",
   "metadata": {
    "deletable": false,
    "editable": false,
    "nbgrader": {
     "cell_type": "markdown",
     "checksum": "5bfbd0a0787b6cf69c665894a96bb2a4",
     "grade": false,
     "grade_id": "cell-a09b1d0329a48c03",
     "locked": true,
     "schema_version": 3,
     "solution": false
    }
   },
   "source": [
    "### 1.4: Bônus\n",
    "\n",
    "Como você faria para calcular a soma e o produto das outras duas raízes de $p_4$?"
   ]
  },
  {
   "cell_type": "code",
   "execution_count": null,
   "metadata": {
    "deletable": false,
    "nbgrader": {
     "cell_type": "code",
     "checksum": "adf3f55dd47836ddd4e28d7733b33268",
     "grade": true,
     "grade_id": "cell-2c00a397608b6786",
     "locked": false,
     "points": 2,
     "schema_version": 3,
     "solution": true
    }
   },
   "outputs": [],
   "source": []
  },
  {
   "cell_type": "markdown",
   "metadata": {
    "deletable": false,
    "editable": false,
    "nbgrader": {
     "cell_type": "markdown",
     "checksum": "66a99030102cad6f4ffb73becdb2c360",
     "grade": false,
     "grade_id": "cell-1e7654f06fd9a11f",
     "locked": true,
     "schema_version": 3,
     "solution": false
    }
   },
   "source": [
    "## Questão 2: Função inversa\n",
    "\n",
    "Nesta questão, vamos implementar uma função inversa, o arco seno, pelo método da bisseção.\n",
    "\n",
    "A ideia é relativamente simples: sabemos que o arco seno de qualquer ângulo está no intervalo $[-\\pi/2, \\pi/2]$,\n",
    "e que a função seno é crescente neste intervalo.\n",
    "\n",
    "Para encontrarmos uma raiz de $\\sin(x) = y_0$, com $y_0$ dado,\n",
    "devemos construir uma função _auxiliar_ `aux(x)` cuja raiz desejamos calcular pelo método da bisseção.\n",
    "Implemente a função `arcoseno(y)`, incluindo os argumentos de tolerância para passar para o método da bisseção."
   ]
  },
  {
   "cell_type": "code",
   "execution_count": 17,
   "metadata": {
    "deletable": false,
    "nbgrader": {
     "cell_type": "code",
     "checksum": "bfdfc1f0db3c127879380fb6c9cf6b57",
     "grade": false,
     "grade_id": "cell-98320234f374ba85",
     "locked": false,
     "schema_version": 3,
     "solution": true
    }
   },
   "outputs": [],
   "source": [
    "def arcoseno(y, xtol=1e-8, ytol=1e-8):\n",
    "    def aux(x): return np.sin(x)-y\n",
    "    return bissecao(aux,-np.pi/2,np.pi/2,xtol,ytol)"
   ]
  },
  {
   "cell_type": "code",
   "execution_count": 18,
   "metadata": {},
   "outputs": [
    {
     "data": {
      "text/plain": [
       "(0.523598767796069, 26)"
      ]
     },
     "execution_count": 18,
     "metadata": {},
     "output_type": "execute_result"
    }
   ],
   "source": [
    "arcoseno(1/2)"
   ]
  },
  {
   "cell_type": "markdown",
   "metadata": {
    "deletable": false,
    "editable": false,
    "nbgrader": {
     "cell_type": "markdown",
     "checksum": "c3b2ff7c0eeedeae2a5bcf9b99464ca3",
     "grade": false,
     "grade_id": "cell-9e22d46166c2a827",
     "locked": true,
     "schema_version": 3,
     "solution": false
    }
   },
   "source": [
    "### 2.1: Testes rápidos"
   ]
  },
  {
   "cell_type": "code",
   "execution_count": 19,
   "metadata": {
    "deletable": false,
    "editable": false,
    "nbgrader": {
     "cell_type": "code",
     "checksum": "442d415ccc1e55a3ef93d253d8bf4610",
     "grade": true,
     "grade_id": "cell-44f6df893329ee62",
     "locked": true,
     "points": 0,
     "schema_version": 3,
     "solution": false
    }
   },
   "outputs": [],
   "source": [
    "r, n = arcoseno(1/2)\n",
    "assert abs(np.sin(r) - 1/2) < 1e-8\n",
    "assert 25 <= n <= 30"
   ]
  },
  {
   "cell_type": "code",
   "execution_count": 20,
   "metadata": {},
   "outputs": [
    {
     "data": {
      "text/plain": [
       "(1.5707004529956536, 14)"
      ]
     },
     "execution_count": 20,
     "metadata": {},
     "output_type": "execute_result"
    }
   ],
   "source": [
    "arcoseno(1)"
   ]
  },
  {
   "cell_type": "code",
   "execution_count": 21,
   "metadata": {
    "deletable": false,
    "editable": false,
    "nbgrader": {
     "cell_type": "code",
     "checksum": "c01a35ec54a929340b5024b159043f38",
     "grade": true,
     "grade_id": "cell-283d03b9cff34bc9",
     "locked": true,
     "points": 0,
     "schema_version": 3,
     "solution": false
    }
   },
   "outputs": [],
   "source": [
    "r, n = arcoseno(0.999)\n",
    "assert abs(np.sin(r) - 0.999) < 1e-8\n",
    "assert 10 <= n <= 20"
   ]
  },
  {
   "cell_type": "markdown",
   "metadata": {
    "deletable": false,
    "editable": false,
    "nbgrader": {
     "cell_type": "markdown",
     "checksum": "a0a519cca871fa79d242ef2a82f7a1e7",
     "grade": false,
     "grade_id": "cell-9a978eb2cd02f34d",
     "locked": true,
     "schema_version": 3,
     "solution": false
    }
   },
   "source": [
    "Como explicar a variação do número de iterações acima?"
   ]
  },
  {
   "cell_type": "markdown",
   "metadata": {
    "deletable": false,
    "nbgrader": {
     "cell_type": "markdown",
     "checksum": "cd85e3729ddd5fcf10eccf85d67af9a8",
     "grade": true,
     "grade_id": "cell-576d1cfb9243dc18",
     "locked": false,
     "points": 2,
     "schema_version": 3,
     "solution": true
    }
   },
   "source": [
    "Pode ser explicado pois como o meio do intervalo de -pi/2 e pi/2 é 0 e sen(0) é 1 então a bisseção chega muito próximo da resposta muito rápido, comparado a outra."
   ]
  },
  {
   "cell_type": "markdown",
   "metadata": {
    "deletable": false,
    "editable": false,
    "nbgrader": {
     "cell_type": "markdown",
     "checksum": "e26f29583647d07b2fc65393c21a4e78",
     "grade": false,
     "grade_id": "cell-d25f9e008ce59bb4",
     "locked": true,
     "schema_version": 3,
     "solution": false
    }
   },
   "source": [
    "### Programando uma função inversa universal\n",
    "\n",
    "O procedimento que fizemos para o seno pode ser generalizado\n",
    "para inverter qualquer função contínua monótona num intervalo $[a,b]$."
   ]
  },
  {
   "cell_type": "code",
   "execution_count": 22,
   "metadata": {
    "deletable": false,
    "nbgrader": {
     "cell_type": "code",
     "checksum": "07be9996dd0de43dc1b21d00ea9013ae",
     "grade": false,
     "grade_id": "cell-b082ae8bf3c15203",
     "locked": false,
     "schema_version": 3,
     "solution": true
    }
   },
   "outputs": [],
   "source": [
    "def inversa(f, y, a=0, b=1, xtol=1e-8, ytol=1e-8):\n",
    "    \"\"\"Retorna uma aproximação da solução  x  de  f(x) = y no intervalo [a,b].\"\"\"\n",
    "    def aux(x): return f(x)-y\n",
    "    return bissecao(aux,a,b,xtol,ytol)"
   ]
  },
  {
   "cell_type": "code",
   "execution_count": 23,
   "metadata": {
    "deletable": false,
    "editable": false,
    "nbgrader": {
     "cell_type": "code",
     "checksum": "1bc4083c488dcc998106f306eedded4b",
     "grade": true,
     "grade_id": "cell-6315167a64a46646",
     "locked": true,
     "points": 1,
     "schema_version": 3,
     "solution": false
    }
   },
   "outputs": [],
   "source": [
    "r, n = inversa(np.cos, 1/2, a=0, b=np.pi)\n",
    "assert abs(np.cos(r) - 1/2) < 1e-8\n",
    "assert 25 <= n <= 30"
   ]
  },
  {
   "cell_type": "code",
   "execution_count": 24,
   "metadata": {
    "deletable": false,
    "editable": false,
    "nbgrader": {
     "cell_type": "code",
     "checksum": "4a28fb5ef8b8e40a49ce7a4c497931df",
     "grade": false,
     "grade_id": "cell-5fa1b2bd699d1dbb",
     "locked": true,
     "schema_version": 3,
     "solution": false
    }
   },
   "outputs": [],
   "source": [
    "def f5(x): return x**5 + x + 1"
   ]
  },
  {
   "cell_type": "code",
   "execution_count": 25,
   "metadata": {
    "deletable": false,
    "editable": false,
    "nbgrader": {
     "cell_type": "code",
     "checksum": "85286aeba65a9b37efd7345f2d6d715c",
     "grade": true,
     "grade_id": "cell-cf3670493a5b3d8d",
     "locked": true,
     "points": 1,
     "schema_version": 3,
     "solution": false
    }
   },
   "outputs": [],
   "source": [
    "r, n = inversa(f5, 1/2, a=-1, b=1)\n",
    "assert abs(f5(r) - 1/2) < 1e-8\n",
    "assert 25 <= n <= 30"
   ]
  },
  {
   "cell_type": "code",
   "execution_count": 26,
   "metadata": {
    "deletable": false,
    "editable": false,
    "nbgrader": {
     "cell_type": "code",
     "checksum": "2d120644f26e8c7c8695b24ce8d084a3",
     "grade": true,
     "grade_id": "cell-86f691970033c169",
     "locked": true,
     "points": 1,
     "schema_version": 3,
     "solution": false
    }
   },
   "outputs": [],
   "source": [
    "r, n = inversa(f5, 4, a=-1, b=6)\n",
    "assert abs(f5(r) - 4) < 1e-7\n",
    "assert 25 <= n <= 30"
   ]
  },
  {
   "cell_type": "markdown",
   "metadata": {
    "deletable": false,
    "editable": false,
    "nbgrader": {
     "cell_type": "markdown",
     "checksum": "8d59dde7803b932c37465f2d1c7984c2",
     "grade": false,
     "grade_id": "cell-25a2f56395b0fda0",
     "locked": true,
     "schema_version": 3,
     "solution": false
    }
   },
   "source": [
    "### 2.3: Retornando a função inversa\n",
    "\n",
    "Agora, escreva a função `inv(f, a, b)` que retorna a função inversa de $f$ no intervalo $[a,b]$.\n",
    "Você pode supor que (quem chamar `inv` vai garantir que) $f$ seja monótona neste intervalo."
   ]
  },
  {
   "cell_type": "code",
   "execution_count": 27,
   "metadata": {
    "deletable": false,
    "nbgrader": {
     "cell_type": "code",
     "checksum": "1c225bdc526521abf8d6b63d846d4ad9",
     "grade": false,
     "grade_id": "cell-0faf3256b8c34e85",
     "locked": false,
     "schema_version": 3,
     "solution": true
    }
   },
   "outputs": [],
   "source": [
    "def inv(f, a=0, b=1, xtol=1e-8, ytol=1e-8):\n",
    "    \"\"\"Retorna a função inversa de  f  no intervalo [a,b].\n",
    "    A função inversa é garantida apenas para valores de  y  entre  f(a) e f(b).\"\"\"\n",
    "    def y0(y):\n",
    "        return inversa(f, y, a, b, xtol, ytol)[0]\n",
    "    return y0"
   ]
  },
  {
   "cell_type": "code",
   "execution_count": 28,
   "metadata": {},
   "outputs": [
    {
     "data": {
      "text/plain": [
       "0.5000000000008221"
      ]
     },
     "execution_count": 28,
     "metadata": {},
     "output_type": "execute_result"
    }
   ],
   "source": [
    "acos = inv(np.cos, 3*np.pi, 4*np.pi, xtol=1e-12, ytol=1e-12)\n",
    "r = acos(0.5)\n",
    "np.cos(r)"
   ]
  },
  {
   "cell_type": "code",
   "execution_count": 29,
   "metadata": {
    "deletable": false,
    "editable": false,
    "nbgrader": {
     "cell_type": "code",
     "checksum": "b24213cd222a29fc2b9c33c0ae0bd1c8",
     "grade": true,
     "grade_id": "cell-013c35404c6a69b8",
     "locked": true,
     "points": 1,
     "schema_version": 3,
     "solution": false
    }
   },
   "outputs": [],
   "source": [
    "acos = inv(np.cos, 3*np.pi, 4*np.pi, xtol=1e-12, ytol=1e-12)\n",
    "r = acos(0.5)\n",
    "assert abs(np.cos(r) - 0.5) <= 1e-12"
   ]
  },
  {
   "cell_type": "code",
   "execution_count": 30,
   "metadata": {
    "deletable": false,
    "editable": false,
    "nbgrader": {
     "cell_type": "code",
     "checksum": "d74dfb0693b15253d1f34265e24f5811",
     "grade": true,
     "grade_id": "cell-99bb51fcb9dde95d",
     "locked": true,
     "points": 1,
     "schema_version": 3,
     "solution": false
    }
   },
   "outputs": [],
   "source": [
    "r = acos(0)\n",
    "assert abs(np.cos(r)) <= 1e-12\n",
    "assert abs(r - 7*np.pi/2) <= 1e-11"
   ]
  },
  {
   "cell_type": "code",
   "execution_count": 31,
   "metadata": {
    "deletable": false,
    "editable": false,
    "nbgrader": {
     "cell_type": "code",
     "checksum": "bed9000ad4c3dd3c321a94abbcddcea5",
     "grade": true,
     "grade_id": "cell-bf7aaaa0cfed0694",
     "locked": true,
     "points": 2,
     "schema_version": 3,
     "solution": false
    }
   },
   "outputs": [],
   "source": [
    "inv_f5 = inv(f5, 0, 10, xtol=1e-14, ytol=1e-14)\n",
    "ys = [2,3,4,5,6]\n",
    "xs = [inv_f5(y) for y in ys]\n",
    "for x,y in zip(xs,ys):\n",
    "    assert np.abs(f5(x) - y) < 1e-13"
   ]
  },
  {
   "cell_type": "markdown",
   "metadata": {
    "deletable": false,
    "editable": false,
    "nbgrader": {
     "cell_type": "markdown",
     "checksum": "e518457b56b082d49a568759c74e3148",
     "grade": false,
     "grade_id": "cell-8e04168e8878f7e2",
     "locked": true,
     "schema_version": 3,
     "solution": false
    }
   },
   "source": [
    "## Questão 3: Bisseção em listas ordenadas\n",
    "\n",
    "Se desejamos encontrar um número em uma lista, podemos percorrer cada um de seus índices\n",
    "até achar o número, e retornamos o índice correspondente.\n",
    "\n",
    "Mas, se a lista `l` possui números em ordem crescente,\n",
    "é possível usar uma variante da bisseção para encontrar este índice.\n",
    "Observe que agora desejamos retornar um número **inteiro**,\n",
    "e que índices para listas sempre devem ser inteiros, portanto:\n",
    "- cuidado ao escolher o \"ponto médio\"\n",
    "- mas o critério de parada é \"quando achar o índice\"."
   ]
  },
  {
   "cell_type": "markdown",
   "metadata": {
    "deletable": false,
    "editable": false,
    "nbgrader": {
     "cell_type": "markdown",
     "checksum": "4ccbcfeb406afce26d9cf5e8360292c9",
     "grade": false,
     "grade_id": "cell-609f4de7a0313ef1",
     "locked": true,
     "schema_version": 3,
     "solution": false
    }
   },
   "source": [
    "### 3.1: Encontrando um número"
   ]
  },
  {
   "cell_type": "code",
   "execution_count": 32,
   "metadata": {
    "deletable": false,
    "nbgrader": {
     "cell_type": "code",
     "checksum": "81a574b9662c2578b11a5a497c30d650",
     "grade": false,
     "grade_id": "cell-8c9f49b0ba8b5d04",
     "locked": false,
     "schema_version": 3,
     "solution": true
    }
   },
   "outputs": [],
   "source": [
    "def bissect_list(l, v):\n",
    "    \"\"\"Índice  k  na lista  l , crescente, tal que l[k] = v.  None caso não exista.\"\"\"\n",
    "    n = len(l)\n",
    "    a = 0\n",
    "    if len(l) == 0 :\n",
    "        return None\n",
    "    if v not in l:\n",
    "        return None\n",
    "    while abs(n-a)>=2:\n",
    "        if (n+a)%2 == 0:\n",
    "            m = int((n+a)/2)\n",
    "            if l[m]>v:\n",
    "                n=m\n",
    "            elif l[m]<v:\n",
    "                a=m\n",
    "            else:\n",
    "                return m\n",
    "        else:\n",
    "            m = int((n+a-1)/2)\n",
    "            if l[m]>v:\n",
    "                n=m\n",
    "            elif l[m]<v:\n",
    "                a=m\n",
    "            else:\n",
    "                return m\n",
    "    if l[a] == v:\n",
    "        return a\n",
    "    else:\n",
    "        return n\n",
    "        "
   ]
  },
  {
   "cell_type": "code",
   "execution_count": 33,
   "metadata": {
    "deletable": false,
    "editable": false,
    "nbgrader": {
     "cell_type": "code",
     "checksum": "4d7025407097f1a7b7726118260bf7f1",
     "grade": true,
     "grade_id": "cell-d0e135df902b3955",
     "locked": true,
     "points": 1,
     "schema_version": 3,
     "solution": false
    }
   },
   "outputs": [],
   "source": [
    "assert bissect_list([], 42) is None"
   ]
  },
  {
   "cell_type": "code",
   "execution_count": 34,
   "metadata": {
    "deletable": false,
    "editable": false,
    "nbgrader": {
     "cell_type": "code",
     "checksum": "efd0c486012ca63623762b3b525362d5",
     "grade": true,
     "grade_id": "cell-aa0a59b135a65159",
     "locked": true,
     "points": 1,
     "schema_version": 3,
     "solution": false
    }
   },
   "outputs": [],
   "source": [
    "l = [4]\n",
    "assert bissect_list(l, 4) == 0"
   ]
  },
  {
   "cell_type": "code",
   "execution_count": 35,
   "metadata": {
    "deletable": false,
    "editable": false,
    "nbgrader": {
     "cell_type": "code",
     "checksum": "be743190e7cdbbcfcbbcb4e4115cfd5e",
     "grade": true,
     "grade_id": "cell-ba03109833002639",
     "locked": true,
     "points": 1,
     "schema_version": 3,
     "solution": false
    }
   },
   "outputs": [],
   "source": [
    "assert bissect_list(l, 5) is None"
   ]
  },
  {
   "cell_type": "code",
   "execution_count": 36,
   "metadata": {
    "deletable": false,
    "editable": false,
    "nbgrader": {
     "cell_type": "code",
     "checksum": "53234ae95fc595eb98be3a3fd1dc5c28",
     "grade": true,
     "grade_id": "cell-84b5ba3a3384d223",
     "locked": true,
     "points": 1,
     "schema_version": 3,
     "solution": false
    }
   },
   "outputs": [],
   "source": [
    "l = [1,3,6,10,15,21,28]\n",
    "for i,v in enumerate(l):\n",
    "    idx = bissect_list(l, v)\n",
    "    assert idx == i, f\"v={v}, i={i}, idx={idx}\""
   ]
  },
  {
   "cell_type": "markdown",
   "metadata": {
    "deletable": false,
    "editable": false,
    "nbgrader": {
     "cell_type": "markdown",
     "checksum": "b808f64f37aec5c186d9e66245113493",
     "grade": false,
     "grade_id": "cell-4a161dbc4eccf1d8",
     "locked": true,
     "schema_version": 3,
     "solution": false
    }
   },
   "source": [
    "### 3.2: Encontrando o primeiro valor maior ou igual ao número dado\n",
    "\n",
    "Escreva uma nova bisseção, agora para encontrar o primeiro índice `k` tal que\n",
    "`l[k] >= v`."
   ]
  },
  {
   "cell_type": "code",
   "execution_count": 37,
   "metadata": {
    "deletable": false,
    "nbgrader": {
     "cell_type": "code",
     "checksum": "5fbbbd958029fce605965cef5ab6e50e",
     "grade": false,
     "grade_id": "cell-e442fe23480d4b8d",
     "locked": false,
     "schema_version": 3,
     "solution": true
    }
   },
   "outputs": [],
   "source": [
    "def bissect_geq(l, v):\n",
    "    \"\"\"First index  k  on an increasing list  l  such that  l[k] >= v.\n",
    "    Returns  len(l)  if  l[-1] < v.\"\"\"\n",
    "    n = len(l)-1\n",
    "    a = 0\n",
    "    r = 0\n",
    "    if len(l) == 0 :\n",
    "        return None\n",
    "    if  l[-1] < v:\n",
    "        return len(l)\n",
    "    if l[a] >= v:\n",
    "        return a\n",
    "    if l[n] == v:\n",
    "        return n\n",
    "    while abs(n-a)>=2:\n",
    "        if (n+a)%2 == 0:\n",
    "            m = int((n+a)/2)\n",
    "            if l[m]>v:\n",
    "                n=m\n",
    "                r=m\n",
    "            elif l[m]<v:\n",
    "                a=m\n",
    "            else:\n",
    "                return m\n",
    "        else:\n",
    "            m1 = int((n+a-1)/2)\n",
    "            m2 = int((n+a+1)/2)\n",
    "            if l[m1] == v:\n",
    "                return m1\n",
    "            elif l[m2]==v:\n",
    "                return m2\n",
    "            elif l[m2]<v:\n",
    "                a=m2\n",
    "            else:\n",
    "                n=m1\n",
    "                r=m2\n",
    "    return r"
   ]
  },
  {
   "cell_type": "code",
   "execution_count": 38,
   "metadata": {
    "deletable": false,
    "editable": false,
    "nbgrader": {
     "cell_type": "code",
     "checksum": "eb61c69652e1bd76b314fff7aaf9afe8",
     "grade": true,
     "grade_id": "cell-8d0e1c185171dbce",
     "locked": true,
     "points": 1,
     "schema_version": 3,
     "solution": false
    }
   },
   "outputs": [],
   "source": [
    "l = [1,3,6,10,15,21,28,35,36]\n",
    "assert bissect_geq(l, 12) == 4"
   ]
  },
  {
   "cell_type": "code",
   "execution_count": 39,
   "metadata": {
    "deletable": false,
    "editable": false,
    "nbgrader": {
     "cell_type": "code",
     "checksum": "3b990f549b420e933642c22ab863f7de",
     "grade": true,
     "grade_id": "cell-d78ee0a4881484f1",
     "locked": true,
     "points": 2,
     "schema_version": 3,
     "solution": false
    }
   },
   "outputs": [],
   "source": [
    "for v in range(50):\n",
    "    idx = bissect_geq(l, v)\n",
    "    if idx < len(l):\n",
    "        assert l[idx] >= v, f\"idx={idx}, v={v}, l[idx]={l[idx]}\"\n",
    "    if idx > 0:\n",
    "        assert l[idx-1] < v, f\"idx={idx}, v={v}, l[idx-1]={l[idx-1]}\""
   ]
  },
  {
   "cell_type": "code",
   "execution_count": null,
   "metadata": {},
   "outputs": [],
   "source": []
  }
 ],
 "metadata": {
  "@webio": {
   "lastCommId": null,
   "lastKernelId": null
  },
  "hide_input": false,
  "kernelspec": {
   "display_name": "Python 3",
   "language": "python",
   "name": "python3"
  },
  "language_info": {
   "codemirror_mode": {
    "name": "ipython",
    "version": 3
   },
   "file_extension": ".py",
   "mimetype": "text/x-python",
   "name": "python",
   "nbconvert_exporter": "python",
   "pygments_lexer": "ipython3",
   "version": "3.8.3"
  }
 },
 "nbformat": 4,
 "nbformat_minor": 4
}
